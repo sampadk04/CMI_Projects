{
 "cells": [
  {
   "cell_type": "markdown",
   "metadata": {},
   "source": [
    "# ADA EndSem P3\n",
    "\n",
    "- Sampad Kumar Kar\n",
    "- MCS202215"
   ]
  },
  {
   "cell_type": "markdown",
   "metadata": {},
   "source": []
  },
  {
   "cell_type": "markdown",
   "metadata": {},
   "source": [
    "# 0. Imports"
   ]
  },
  {
   "cell_type": "code",
   "execution_count": 20,
   "metadata": {},
   "outputs": [],
   "source": [
    "import os, sys\n",
    "import pandas as pd\n",
    "import numpy as np\n",
    "\n",
    "# for plotting\n",
    "import matplotlib.pyplot as plt\n",
    "import seaborn as sns"
   ]
  },
  {
   "cell_type": "code",
   "execution_count": 6,
   "metadata": {},
   "outputs": [],
   "source": [
    "# ignore warnings\n",
    "import warnings\n",
    "warnings.filterwarnings('ignore')"
   ]
  },
  {
   "cell_type": "markdown",
   "metadata": {},
   "source": [
    "# 1. Data Loading and Cleaning\n",
    "\n",
    "The dataset has been fragmented into multiple regions in `.txt` format. We merge them into a single `dataframe` first."
   ]
  },
  {
   "cell_type": "code",
   "execution_count": 7,
   "metadata": {},
   "outputs": [
    {
     "name": "stdout",
     "output_type": "stream",
     "text": [
      "['chicago.txt', 'los_angeles.txt', 'features.txt', 'new_york.txt', 'README', 'washington_dc.txt', 'atlanta.txt', 'boston.txt', 'new_orleans.txt', 'san_francisco.txt']\n"
     ]
    }
   ],
   "source": [
    "data_dir_path = os.path.join('data', 'raw', 'data')\n",
    "\n",
    "# list all the files in the data directory\n",
    "print(os.listdir(data_dir_path))"
   ]
  },
  {
   "cell_type": "code",
   "execution_count": 8,
   "metadata": {},
   "outputs": [],
   "source": [
    "# select the city_files\n",
    "city_files = ['chicago.txt', 'los_angeles.txt', 'new_york.txt', 'washington_dc.txt', 'atlanta.txt', 'boston.txt', 'new_orleans.txt', 'san_francisco.txt']"
   ]
  },
  {
   "cell_type": "code",
   "execution_count": 9,
   "metadata": {},
   "outputs": [
    {
     "data": {
      "text/html": [
       "<div>\n",
       "<style scoped>\n",
       "    .dataframe tbody tr th:only-of-type {\n",
       "        vertical-align: middle;\n",
       "    }\n",
       "\n",
       "    .dataframe tbody tr th {\n",
       "        vertical-align: top;\n",
       "    }\n",
       "\n",
       "    .dataframe thead th {\n",
       "        text-align: right;\n",
       "    }\n",
       "</style>\n",
       "<table border=\"1\" class=\"dataframe\">\n",
       "  <thead>\n",
       "    <tr style=\"text-align: right;\">\n",
       "      <th></th>\n",
       "      <th>Region</th>\n",
       "      <th>level_1</th>\n",
       "      <th>rest_id</th>\n",
       "      <th>rest_name</th>\n",
       "      <th>rest_features</th>\n",
       "    </tr>\n",
       "  </thead>\n",
       "  <tbody>\n",
       "    <tr>\n",
       "      <th>0</th>\n",
       "      <td>chicago</td>\n",
       "      <td>0</td>\n",
       "      <td>0000000</td>\n",
       "      <td>Moti Mahal</td>\n",
       "      <td>214 035 149 021 117 075 204 051 163</td>\n",
       "    </tr>\n",
       "    <tr>\n",
       "      <th>1</th>\n",
       "      <td>chicago</td>\n",
       "      <td>1</td>\n",
       "      <td>0000001</td>\n",
       "      <td>Village</td>\n",
       "      <td>026 249 174 004 132 249 198 191 192 125 075 20...</td>\n",
       "    </tr>\n",
       "    <tr>\n",
       "      <th>2</th>\n",
       "      <td>chicago</td>\n",
       "      <td>2</td>\n",
       "      <td>0000002</td>\n",
       "      <td>Millrose Brewing Company</td>\n",
       "      <td>137 249 194 215 213 174 249 191 192 008 075 20...</td>\n",
       "    </tr>\n",
       "    <tr>\n",
       "      <th>3</th>\n",
       "      <td>chicago</td>\n",
       "      <td>3</td>\n",
       "      <td>0000003</td>\n",
       "      <td>Dover Straits</td>\n",
       "      <td>137 190 174 249 212 075 205 053 165</td>\n",
       "    </tr>\n",
       "    <tr>\n",
       "      <th>4</th>\n",
       "      <td>chicago</td>\n",
       "      <td>4</td>\n",
       "      <td>0000004</td>\n",
       "      <td>Eat Your Hearts Out</td>\n",
       "      <td>214 249 249 197 111 025 025 112 075 205 053 164</td>\n",
       "    </tr>\n",
       "    <tr>\n",
       "      <th>...</th>\n",
       "      <td>...</td>\n",
       "      <td>...</td>\n",
       "      <td>...</td>\n",
       "      <td>...</td>\n",
       "      <td>...</td>\n",
       "    </tr>\n",
       "    <tr>\n",
       "      <th>4155</th>\n",
       "      <td>san_francisco</td>\n",
       "      <td>409</td>\n",
       "      <td>0000409</td>\n",
       "      <td>Carrara's</td>\n",
       "      <td>123 075 204 053 163</td>\n",
       "    </tr>\n",
       "    <tr>\n",
       "      <th>4156</th>\n",
       "      <td>san_francisco</td>\n",
       "      <td>410</td>\n",
       "      <td>0000410</td>\n",
       "      <td>THE LARK CREEK INN</td>\n",
       "      <td>100 080 253 099 231 250 200 189 191 192 063 11...</td>\n",
       "    </tr>\n",
       "    <tr>\n",
       "      <th>4157</th>\n",
       "      <td>san_francisco</td>\n",
       "      <td>411</td>\n",
       "      <td>0000411</td>\n",
       "      <td>Bonta</td>\n",
       "      <td>231 250 123 124 076 205 053 166</td>\n",
       "    </tr>\n",
       "    <tr>\n",
       "      <th>4158</th>\n",
       "      <td>san_francisco</td>\n",
       "      <td>412</td>\n",
       "      <td>0000412</td>\n",
       "      <td>Phnom Penh</td>\n",
       "      <td>253 250 036 032 076 205 052 164</td>\n",
       "    </tr>\n",
       "    <tr>\n",
       "      <th>4159</th>\n",
       "      <td>san_francisco</td>\n",
       "      <td>413</td>\n",
       "      <td>0000413</td>\n",
       "      <td>Le Domino</td>\n",
       "      <td>136 200 193 102 191 192 092 093 095 076 206 05...</td>\n",
       "    </tr>\n",
       "  </tbody>\n",
       "</table>\n",
       "<p>4160 rows × 5 columns</p>\n",
       "</div>"
      ],
      "text/plain": [
       "             Region  level_1  rest_id                 rest_name  \\\n",
       "0           chicago        0  0000000                Moti Mahal   \n",
       "1           chicago        1  0000001                   Village   \n",
       "2           chicago        2  0000002  Millrose Brewing Company   \n",
       "3           chicago        3  0000003             Dover Straits   \n",
       "4           chicago        4  0000004       Eat Your Hearts Out   \n",
       "...             ...      ...      ...                       ...   \n",
       "4155  san_francisco      409  0000409                 Carrara's   \n",
       "4156  san_francisco      410  0000410        THE LARK CREEK INN   \n",
       "4157  san_francisco      411  0000411                     Bonta   \n",
       "4158  san_francisco      412  0000412                Phnom Penh   \n",
       "4159  san_francisco      413  0000413                 Le Domino   \n",
       "\n",
       "                                          rest_features  \n",
       "0                   214 035 149 021 117 075 204 051 163  \n",
       "1     026 249 174 004 132 249 198 191 192 125 075 20...  \n",
       "2     137 249 194 215 213 174 249 191 192 008 075 20...  \n",
       "3                   137 190 174 249 212 075 205 053 165  \n",
       "4       214 249 249 197 111 025 025 112 075 205 053 164  \n",
       "...                                                 ...  \n",
       "4155                                123 075 204 053 163  \n",
       "4156  100 080 253 099 231 250 200 189 191 192 063 11...  \n",
       "4157                    231 250 123 124 076 205 053 166  \n",
       "4158                    253 250 036 032 076 205 052 164  \n",
       "4159  136 200 193 102 191 192 092 093 095 076 206 05...  \n",
       "\n",
       "[4160 rows x 5 columns]"
      ]
     },
     "execution_count": 9,
     "metadata": {},
     "output_type": "execute_result"
    }
   ],
   "source": [
    "# select the columns to be used\n",
    "cols = ['rest_id', 'rest_name', 'rest_features']\n",
    "\n",
    "# create an empty dataframe\n",
    "city_dfs = {\n",
    "    city_file.split('.')[0]: pd.DataFrame(\n",
    "        [line.strip().split('\\t') for line in open(os.path.join(data_dir_path, city_file), 'r')],\n",
    "        columns=cols\n",
    "    )\n",
    "    for city_file in city_files\n",
    "}\n",
    "\n",
    "# Using list comprehension to unpack the city_dfs dictionary into individual dataframes\n",
    "df_atlanta, df_boston, df_chicago, df_los_angeles, df_new_orleans, df_new_york, df_san_francisco, df_washington_dc = [city_dfs[city] for city in city_dfs]\n",
    "\n",
    "# Concatenating all the dataframes into one\n",
    "df = pd.concat(city_dfs.values(), keys=city_dfs.keys(), names=['Region']).reset_index()\n",
    "\n",
    "df"
   ]
  },
  {
   "cell_type": "markdown",
   "metadata": {},
   "source": [
    "# 2. Recommender System using Jaccard Similarity"
   ]
  },
  {
   "cell_type": "markdown",
   "metadata": {},
   "source": [
    "## 2.1 Jaccard Similarity\n",
    "\n",
    "Since, each restaurant has a corresponding *bag* of features, we can think of them as sets. Then, we can use the Jaccard Similarity to find the similarity between two restaurants.\n",
    "\n",
    "The jacard similarity between two sets $A$ and $B$ is defined as:\n",
    "\n",
    "$$\n",
    "J(A, B) = \\frac{|A \\cap B|}{|A \\cup B|}\n",
    "$$\n",
    "\n",
    "\n"
   ]
  },
  {
   "cell_type": "code",
   "execution_count": 1,
   "metadata": {},
   "outputs": [],
   "source": [
    "# we write a helper function which takes in a string containing the features (which are 3 digit codes, can be thought as integers) separated by a space and returns a set of the codes (integers)\n",
    "\n",
    "def get_features(feature_string):\n",
    "    return set(map(int, feature_string.split()))"
   ]
  },
  {
   "cell_type": "code",
   "execution_count": 19,
   "metadata": {},
   "outputs": [],
   "source": [
    "# define a helper function that takes in 2 sets and returns the jaccard similarity score\n",
    "def jaccard_similarity(set1, set2):\n",
    "    if len(set1.union(set2)) == 0:\n",
    "        return 0\n",
    "    return len(set1.intersection(set2)) / len(set1.union(set2))"
   ]
  },
  {
   "cell_type": "code",
   "execution_count": 24,
   "metadata": {},
   "outputs": [],
   "source": [
    "# helper function to recommend similar restaurants based on region\n",
    "\n",
    "def recommend_similar_restaurant(restaurant_id, region, top_n=5):\n",
    "    # get the index of the restaurant\n",
    "    restaurant_idx = df[(df['Region'] == region) & (df['rest_id'] == restaurant_id)].index[0]\n",
    "    # get the features of the restaurant\n",
    "    restaurant_features = get_features(df.iloc[restaurant_idx]['rest_features'])\n",
    "\n",
    "    # get the features of all the restaurants in the region\n",
    "    region_features = df[df['Region'] == region]['rest_features'].apply(get_features)\n",
    "\n",
    "    # calculate the jaccard similarity of the restaurant with all the restaurants in the region\n",
    "    jaccard_similarities = region_features.apply(lambda x: jaccard_similarity(restaurant_features, x))\n",
    "\n",
    "    # get the top n similar restaurants\n",
    "    similar_restaurants = jaccard_similarities.sort_values(ascending=False)[1:top_n+1]\n",
    "\n",
    "    # get the restaurant ids of the similar restaurants\n",
    "    similar_restaurant_ids = df.iloc[similar_restaurants.index]['rest_id'].values\n",
    "\n",
    "    # get the restaurant names of the similar restaurants\n",
    "    similar_restaurant_names = df.iloc[similar_restaurants.index]['rest_name'].values\n",
    "\n",
    "    # return a dataframe containing the restaurant ids and names\n",
    "    return pd.DataFrame({'Restaurant ID': similar_restaurant_ids, 'Restaurant Names': similar_restaurant_names})"
   ]
  },
  {
   "cell_type": "markdown",
   "metadata": {},
   "source": [
    "## 2.1 Recommender System\n",
    "\n",
    "We try our recommender system on some sample restaurants."
   ]
  },
  {
   "cell_type": "code",
   "execution_count": 25,
   "metadata": {},
   "outputs": [
    {
     "name": "stdout",
     "output_type": "stream",
     "text": [
      "  Restaurant ID Restaurant Names\n",
      "0       0000664   Standard India\n",
      "1       0000237    Gandhi Indian\n",
      "2       0000435          Hi Howe\n",
      "3       0000520         Hashalom\n",
      "4       0000261    Old Jerusalem\n"
     ]
    }
   ],
   "source": [
    "restaurant_id = '0000000'\n",
    "region = 'chicago'\n",
    "\n",
    "similar_restaurants = recommend_similar_restaurant(restaurant_id, region, top_n=5)\n",
    "print(similar_restaurants)"
   ]
  },
  {
   "cell_type": "code",
   "execution_count": 26,
   "metadata": {},
   "outputs": [
    {
     "name": "stdout",
     "output_type": "stream",
     "text": [
      "  Restaurant ID       Restaurant Names\n",
      "0       0000040                 Rico's\n",
      "1       0000198          Mill Race Inn\n",
      "2       0000239  Spavone's Seven Hills\n",
      "3       0000545               Como Inn\n",
      "4       0000450             Bravissimo\n"
     ]
    }
   ],
   "source": [
    "restaurant_id = '0000001'\n",
    "region = 'chicago'\n",
    "\n",
    "similar_restaurants = recommend_similar_restaurant(restaurant_id, region, top_n=5)\n",
    "print(similar_restaurants)"
   ]
  },
  {
   "cell_type": "code",
   "execution_count": 27,
   "metadata": {},
   "outputs": [
    {
     "name": "stdout",
     "output_type": "stream",
     "text": [
      "  Restaurant ID    Restaurant Names\n",
      "0       0000413  Outback Steakhouse\n",
      "1       0000281  Barn of Barrington\n",
      "2       0000198       Mill Race Inn\n",
      "3       0000146      Southgate Cafe\n",
      "4       0000053               Bones\n"
     ]
    }
   ],
   "source": [
    "restaurant_id = '0000002'\n",
    "region = 'chicago'\n",
    "\n",
    "similar_restaurants = recommend_similar_restaurant(restaurant_id, region, top_n=5)\n",
    "print(similar_restaurants)"
   ]
  },
  {
   "cell_type": "code",
   "execution_count": 28,
   "metadata": {},
   "outputs": [
    {
     "name": "stdout",
     "output_type": "stream",
     "text": [
      "  Restaurant ID           Restaurant Names\n",
      "0       0000335  Don's Fishmarket & Tavern\n",
      "1       0000506                   Pomodoro\n",
      "2       0000024          Timbers Charhouse\n",
      "3       0000177               Ceiling Zero\n",
      "4       0000038           Shaw's Deerfield\n"
     ]
    }
   ],
   "source": [
    "restaurant_id = '0000003'\n",
    "region = 'chicago'\n",
    "\n",
    "similar_restaurants = recommend_similar_restaurant(restaurant_id, region, top_n=5)\n",
    "print(similar_restaurants)"
   ]
  },
  {
   "cell_type": "code",
   "execution_count": 29,
   "metadata": {},
   "outputs": [
    {
     "name": "stdout",
     "output_type": "stream",
     "text": [
      "  Restaurant ID Restaurant Names\n",
      "0       0000119           Jane's\n",
      "1       0000342      Basta Pasta\n",
      "2       0000273       Bertucci's\n",
      "3       0000414       Wild Onion\n",
      "4       0000613          Frida's\n"
     ]
    }
   ],
   "source": [
    "restaurant_id = '0000004'\n",
    "region = 'chicago'\n",
    "\n",
    "similar_restaurants = recommend_similar_restaurant(restaurant_id, region, top_n=5)\n",
    "print(similar_restaurants)"
   ]
  },
  {
   "cell_type": "markdown",
   "metadata": {},
   "source": [
    "So, our reccommender system works as expected."
   ]
  }
 ],
 "metadata": {
  "kernelspec": {
   "display_name": "dev_env",
   "language": "python",
   "name": "python3"
  },
  "language_info": {
   "codemirror_mode": {
    "name": "ipython",
    "version": 3
   },
   "file_extension": ".py",
   "mimetype": "text/x-python",
   "name": "python",
   "nbconvert_exporter": "python",
   "pygments_lexer": "ipython3",
   "version": "3.9.6"
  }
 },
 "nbformat": 4,
 "nbformat_minor": 2
}
