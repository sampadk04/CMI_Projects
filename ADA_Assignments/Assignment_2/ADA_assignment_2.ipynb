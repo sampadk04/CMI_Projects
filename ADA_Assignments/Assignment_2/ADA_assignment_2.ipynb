{
 "cells": [
  {
   "cell_type": "markdown",
   "metadata": {},
   "source": [
    "# ADA Assignment 2\n",
    "\n",
    "- Sampad Kumar Kar\n",
    "- MCS202215"
   ]
  },
  {
   "cell_type": "markdown",
   "metadata": {},
   "source": [
    "# 0. Imports"
   ]
  },
  {
   "cell_type": "code",
   "execution_count": 48,
   "metadata": {},
   "outputs": [],
   "source": [
    "# for file handling\n",
    "import os, sys\n",
    "\n",
    "# for data manipulation\n",
    "import pandas as pd\n",
    "import numpy as np\n",
    "\n",
    "# for data visualization\n",
    "import matplotlib.pyplot as plt\n",
    "import seaborn as sns\n",
    "\n",
    "# sklearn imports\n",
    "from sklearn.linear_model import LinearRegression\n",
    "from sklearn.metrics import mean_squared_error, r2_score"
   ]
  },
  {
   "cell_type": "markdown",
   "metadata": {},
   "source": [
    "# 1. Data Loading"
   ]
  },
  {
   "cell_type": "code",
   "execution_count": 21,
   "metadata": {},
   "outputs": [],
   "source": [
    "# .xlxs sheets converted to .csv file\n",
    "\n",
    "data_path_1 = os.path.join('data', 'raw', 'Fablink-cleanedup_Fab1001-401.csv')\n",
    "data_path_2 = os.path.join('data', 'raw', 'Fablink-cleanedup_Fab1002-401.csv')\n",
    "\n",
    "df1 = pd.read_csv(data_path_1)\n",
    "df2 = pd.read_csv(data_path_2)"
   ]
  },
  {
   "cell_type": "markdown",
   "metadata": {},
   "source": [
    "# 2. `df1`"
   ]
  },
  {
   "cell_type": "code",
   "execution_count": 12,
   "metadata": {},
   "outputs": [
    {
     "data": {
      "text/html": [
       "<div>\n",
       "<style scoped>\n",
       "    .dataframe tbody tr th:only-of-type {\n",
       "        vertical-align: middle;\n",
       "    }\n",
       "\n",
       "    .dataframe tbody tr th {\n",
       "        vertical-align: top;\n",
       "    }\n",
       "\n",
       "    .dataframe thead th {\n",
       "        text-align: right;\n",
       "    }\n",
       "</style>\n",
       "<table border=\"1\" class=\"dataframe\">\n",
       "  <thead>\n",
       "    <tr style=\"text-align: right;\">\n",
       "      <th></th>\n",
       "      <th>source_node</th>\n",
       "      <th>source_port</th>\n",
       "      <th>source_type</th>\n",
       "      <th>operSpeed</th>\n",
       "      <th>destination_node</th>\n",
       "      <th>destination_port</th>\n",
       "      <th>destination_type</th>\n",
       "      <th>octets</th>\n",
       "      <th>lastOctetval</th>\n",
       "      <th>Octet-diff</th>\n",
       "      <th>Utilization</th>\n",
       "      <th>datetime</th>\n",
       "    </tr>\n",
       "  </thead>\n",
       "  <tbody>\n",
       "    <tr>\n",
       "      <th>0</th>\n",
       "      <td>1001</td>\n",
       "      <td>1/1</td>\n",
       "      <td>spine</td>\n",
       "      <td>40G</td>\n",
       "      <td>401</td>\n",
       "      <td>1/49</td>\n",
       "      <td>leaf</td>\n",
       "      <td>864504425592799</td>\n",
       "      <td>859365645174667</td>\n",
       "      <td>5138780418132</td>\n",
       "      <td>453.77</td>\n",
       "      <td>13/5/2022</td>\n",
       "    </tr>\n",
       "    <tr>\n",
       "      <th>1</th>\n",
       "      <td>1001</td>\n",
       "      <td>1/1</td>\n",
       "      <td>spine</td>\n",
       "      <td>40G</td>\n",
       "      <td>401</td>\n",
       "      <td>1/49</td>\n",
       "      <td>leaf</td>\n",
       "      <td>869309684178755</td>\n",
       "      <td>864504425592799</td>\n",
       "      <td>4805258585956</td>\n",
       "      <td>424.32</td>\n",
       "      <td>14/5/2022</td>\n",
       "    </tr>\n",
       "    <tr>\n",
       "      <th>2</th>\n",
       "      <td>1001</td>\n",
       "      <td>1/1</td>\n",
       "      <td>spine</td>\n",
       "      <td>40G</td>\n",
       "      <td>401</td>\n",
       "      <td>1/49</td>\n",
       "      <td>leaf</td>\n",
       "      <td>874373310562711</td>\n",
       "      <td>869309684178755</td>\n",
       "      <td>5063626383956</td>\n",
       "      <td>447.13</td>\n",
       "      <td>15/5/2022</td>\n",
       "    </tr>\n",
       "    <tr>\n",
       "      <th>3</th>\n",
       "      <td>1001</td>\n",
       "      <td>1/1</td>\n",
       "      <td>spine</td>\n",
       "      <td>40G</td>\n",
       "      <td>401</td>\n",
       "      <td>1/49</td>\n",
       "      <td>leaf</td>\n",
       "      <td>879933845908609</td>\n",
       "      <td>874373310562711</td>\n",
       "      <td>5560535345898</td>\n",
       "      <td>491.01</td>\n",
       "      <td>16/5/2022</td>\n",
       "    </tr>\n",
       "    <tr>\n",
       "      <th>4</th>\n",
       "      <td>1001</td>\n",
       "      <td>1/1</td>\n",
       "      <td>spine</td>\n",
       "      <td>40G</td>\n",
       "      <td>401</td>\n",
       "      <td>1/49</td>\n",
       "      <td>leaf</td>\n",
       "      <td>885694021578201</td>\n",
       "      <td>879933845908609</td>\n",
       "      <td>5760175669592</td>\n",
       "      <td>508.64</td>\n",
       "      <td>17/5/2022</td>\n",
       "    </tr>\n",
       "  </tbody>\n",
       "</table>\n",
       "</div>"
      ],
      "text/plain": [
       "   source_node source_port source_type operSpeed  destination_node  \\\n",
       "0         1001        1/1        spine       40G               401   \n",
       "1         1001        1/1        spine       40G               401   \n",
       "2         1001        1/1        spine       40G               401   \n",
       "3         1001        1/1        spine       40G               401   \n",
       "4         1001        1/1        spine       40G               401   \n",
       "\n",
       "  destination_port destination_type           octets     lastOctetval  \\\n",
       "0            1/49              leaf  864504425592799  859365645174667   \n",
       "1            1/49              leaf  869309684178755  864504425592799   \n",
       "2            1/49              leaf  874373310562711  869309684178755   \n",
       "3            1/49              leaf  879933845908609  874373310562711   \n",
       "4            1/49              leaf  885694021578201  879933845908609   \n",
       "\n",
       "      Octet-diff  Utilization   datetime  \n",
       "0  5138780418132       453.77  13/5/2022  \n",
       "1  4805258585956       424.32  14/5/2022  \n",
       "2  5063626383956       447.13  15/5/2022  \n",
       "3  5560535345898       491.01  16/5/2022  \n",
       "4  5760175669592       508.64  17/5/2022  "
      ]
     },
     "execution_count": 12,
     "metadata": {},
     "output_type": "execute_result"
    }
   ],
   "source": [
    "df1.head()"
   ]
  },
  {
   "cell_type": "code",
   "execution_count": 14,
   "metadata": {},
   "outputs": [
    {
     "name": "stdout",
     "output_type": "stream",
     "text": [
      "The shape of the data is:  (70, 12)\n"
     ]
    }
   ],
   "source": [
    "print(\"The shape of the data is: \", df1.shape)"
   ]
  },
  {
   "cell_type": "code",
   "execution_count": 16,
   "metadata": {},
   "outputs": [
    {
     "data": {
      "text/plain": [
       "Index(['source_node', 'source_port', 'source_type', 'operSpeed',\n",
       "       'destination_node', 'destination_port', 'destination_type', 'octets',\n",
       "       'lastOctetval', 'Octet-diff', 'Utilization', 'datetime'],\n",
       "      dtype='object')"
      ]
     },
     "execution_count": 16,
     "metadata": {},
     "output_type": "execute_result"
    }
   ],
   "source": [
    "df1.columns"
   ]
  },
  {
   "cell_type": "code",
   "execution_count": 22,
   "metadata": {},
   "outputs": [
    {
     "name": "stderr",
     "output_type": "stream",
     "text": [
      "/var/folders/xr/w_ff5mfj28v5_lpz552bj4zm0000gn/T/ipykernel_3722/2438006576.py:7: UserWarning: Parsing dates in %d/%m/%Y format when dayfirst=False (the default) was specified. Pass `dayfirst=True` or specify a format to silence this warning.\n",
      "  df1['datetime'] = pd.to_datetime(df1['datetime'])\n"
     ]
    },
    {
     "data": {
      "text/html": [
       "<div>\n",
       "<style scoped>\n",
       "    .dataframe tbody tr th:only-of-type {\n",
       "        vertical-align: middle;\n",
       "    }\n",
       "\n",
       "    .dataframe tbody tr th {\n",
       "        vertical-align: top;\n",
       "    }\n",
       "\n",
       "    .dataframe thead th {\n",
       "        text-align: right;\n",
       "    }\n",
       "</style>\n",
       "<table border=\"1\" class=\"dataframe\">\n",
       "  <thead>\n",
       "    <tr style=\"text-align: right;\">\n",
       "      <th></th>\n",
       "      <th>datetime</th>\n",
       "      <th>Utilization</th>\n",
       "    </tr>\n",
       "  </thead>\n",
       "  <tbody>\n",
       "    <tr>\n",
       "      <th>0</th>\n",
       "      <td>2022-05-13</td>\n",
       "      <td>453.77</td>\n",
       "    </tr>\n",
       "    <tr>\n",
       "      <th>1</th>\n",
       "      <td>2022-05-14</td>\n",
       "      <td>424.32</td>\n",
       "    </tr>\n",
       "    <tr>\n",
       "      <th>2</th>\n",
       "      <td>2022-05-15</td>\n",
       "      <td>447.13</td>\n",
       "    </tr>\n",
       "    <tr>\n",
       "      <th>3</th>\n",
       "      <td>2022-05-16</td>\n",
       "      <td>491.01</td>\n",
       "    </tr>\n",
       "    <tr>\n",
       "      <th>4</th>\n",
       "      <td>2022-05-17</td>\n",
       "      <td>508.64</td>\n",
       "    </tr>\n",
       "  </tbody>\n",
       "</table>\n",
       "</div>"
      ],
      "text/plain": [
       "    datetime  Utilization\n",
       "0 2022-05-13       453.77\n",
       "1 2022-05-14       424.32\n",
       "2 2022-05-15       447.13\n",
       "3 2022-05-16       491.01\n",
       "4 2022-05-17       508.64"
      ]
     },
     "execution_count": 22,
     "metadata": {},
     "output_type": "execute_result"
    }
   ],
   "source": [
    "# filter out the dataframe to store only the required columns, i.e. 'datetime' and 'Utilization'\n",
    "\n",
    "df1 = df1[['datetime', 'Utilization']]\n",
    "\n",
    "# convert the 'datetime' column to datetime format\n",
    "df1['datetime'] = pd.to_datetime(df1['datetime'])\n",
    "\n",
    "df1.head()"
   ]
  },
  {
   "cell_type": "code",
   "execution_count": 30,
   "metadata": {},
   "outputs": [
    {
     "data": {
      "image/png": "[encoded data removed]",
      "text/plain": [
       "<Figure size 1500x800 with 1 Axes>"
      ]
     },
     "metadata": {},
     "output_type": "display_data"
    }
   ],
   "source": [
    "# we first plot the data in a scatter plot ('Utilization' vs 'datetime') to see the trend\n",
    "\n",
    "plt.figure(figsize=(15, 8))\n",
    "plt.scatter(df1['datetime'], df1['Utilization'])\n",
    "plt.xlabel('datetime')\n",
    "plt.ylabel('Utilization (Mbps)')\n",
    "plt.show()"
   ]
  },
  {
   "cell_type": "markdown",
   "metadata": {},
   "source": [
    "The data seems to have a linear trend, `Utilization` seems to be increasing linearly with time. We try to fit a linear regression model to the data by using the current day of the year as independent variable."
   ]
  },
  {
   "cell_type": "markdown",
   "metadata": {},
   "source": [
    "## 2.1 Preprocessing"
   ]
  },
  {
   "cell_type": "code",
   "execution_count": 31,
   "metadata": {},
   "outputs": [
    {
     "data": {
      "text/html": [
       "<div>\n",
       "<style scoped>\n",
       "    .dataframe tbody tr th:only-of-type {\n",
       "        vertical-align: middle;\n",
       "    }\n",
       "\n",
       "    .dataframe tbody tr th {\n",
       "        vertical-align: top;\n",
       "    }\n",
       "\n",
       "    .dataframe thead th {\n",
       "        text-align: right;\n",
       "    }\n",
       "</style>\n",
       "<table border=\"1\" class=\"dataframe\">\n",
       "  <thead>\n",
       "    <tr style=\"text-align: right;\">\n",
       "      <th></th>\n",
       "      <th>datetime</th>\n",
       "      <th>Utilization</th>\n",
       "      <th>doy</th>\n",
       "    </tr>\n",
       "  </thead>\n",
       "  <tbody>\n",
       "    <tr>\n",
       "      <th>0</th>\n",
       "      <td>2022-05-13</td>\n",
       "      <td>453.77</td>\n",
       "      <td>133</td>\n",
       "    </tr>\n",
       "    <tr>\n",
       "      <th>1</th>\n",
       "      <td>2022-05-14</td>\n",
       "      <td>424.32</td>\n",
       "      <td>134</td>\n",
       "    </tr>\n",
       "    <tr>\n",
       "      <th>2</th>\n",
       "      <td>2022-05-15</td>\n",
       "      <td>447.13</td>\n",
       "      <td>135</td>\n",
       "    </tr>\n",
       "    <tr>\n",
       "      <th>3</th>\n",
       "      <td>2022-05-16</td>\n",
       "      <td>491.01</td>\n",
       "      <td>136</td>\n",
       "    </tr>\n",
       "    <tr>\n",
       "      <th>4</th>\n",
       "      <td>2022-05-17</td>\n",
       "      <td>508.64</td>\n",
       "      <td>137</td>\n",
       "    </tr>\n",
       "  </tbody>\n",
       "</table>\n",
       "</div>"
      ],
      "text/plain": [
       "    datetime  Utilization  doy\n",
       "0 2022-05-13       453.77  133\n",
       "1 2022-05-14       424.32  134\n",
       "2 2022-05-15       447.13  135\n",
       "3 2022-05-16       491.01  136\n",
       "4 2022-05-17       508.64  137"
      ]
     },
     "execution_count": 31,
     "metadata": {},
     "output_type": "execute_result"
    }
   ],
   "source": [
    "# add a new column 'doy' to represent the day of the year corresponding to the 'datetime' column\n",
    "\n",
    "df1['doy'] = df1['datetime'].dt.dayofyear\n",
    "\n",
    "df1.head()"
   ]
  },
  {
   "cell_type": "markdown",
   "metadata": {},
   "source": [
    "Since, we are fitting a simple Linear Regression Model, scaling is unnecessary. So, we directly move on to fit the model."
   ]
  },
  {
   "cell_type": "markdown",
   "metadata": {},
   "source": [
    "## 2.2 Linear Regression"
   ]
  },
  {
   "cell_type": "code",
   "execution_count": 43,
   "metadata": {},
   "outputs": [
    {
     "data": {
      "text/html": [
       "<style>#sk-container-id-2 {color: black;background-color: white;}#sk-container-id-2 pre{padding: 0;}#sk-container-id-2 div.sk-toggleable {background-color: white;}#sk-container-id-2 label.sk-toggleable__label {cursor: pointer;display: block;width: 100%;margin-bottom: 0;padding: 0.3em;box-sizing: border-box;text-align: center;}#sk-container-id-2 label.sk-toggleable__label-arrow:before {content: \"▸\";float: left;margin-right: 0.25em;color: #696969;}#sk-container-id-2 label.sk-toggleable__label-arrow:hover:before {color: black;}#sk-container-id-2 div.sk-estimator:hover label.sk-toggleable__label-arrow:before {color: black;}#sk-container-id-2 div.sk-toggleable__content {max-height: 0;max-width: 0;overflow: hidden;text-align: left;background-color: #f0f8ff;}#sk-container-id-2 div.sk-toggleable__content pre {margin: 0.2em;color: black;border-radius: 0.25em;background-color: #f0f8ff;}#sk-container-id-2 input.sk-toggleable__control:checked~div.sk-toggleable__content {max-height: 200px;max-width: 100%;overflow: auto;}#sk-container-id-2 input.sk-toggleable__control:checked~label.sk-toggleable__label-arrow:before {content: \"▾\";}#sk-container-id-2 div.sk-estimator input.sk-toggleable__control:checked~label.sk-toggleable__label {background-color: #d4ebff;}#sk-container-id-2 div.sk-label input.sk-toggleable__control:checked~label.sk-toggleable__label {background-color: #d4ebff;}#sk-container-id-2 input.sk-hidden--visually {border: 0;clip: rect(1px 1px 1px 1px);clip: rect(1px, 1px, 1px, 1px);height: 1px;margin: -1px;overflow: hidden;padding: 0;position: absolute;width: 1px;}#sk-container-id-2 div.sk-estimator {font-family: monospace;background-color: #f0f8ff;border: 1px dotted black;border-radius: 0.25em;box-sizing: border-box;margin-bottom: 0.5em;}#sk-container-id-2 div.sk-estimator:hover {background-color: #d4ebff;}#sk-container-id-2 div.sk-parallel-item::after {content: \"\";width: 100%;border-bottom: 1px solid gray;flex-grow: 1;}#sk-container-id-2 div.sk-label:hover label.sk-toggleable__label {background-color: #d4ebff;}#sk-container-id-2 div.sk-serial::before {content: \"\";position: absolute;border-left: 1px solid gray;box-sizing: border-box;top: 0;bottom: 0;left: 50%;z-index: 0;}#sk-container-id-2 div.sk-serial {display: flex;flex-direction: column;align-items: center;background-color: white;padding-right: 0.2em;padding-left: 0.2em;position: relative;}#sk-container-id-2 div.sk-item {position: relative;z-index: 1;}#sk-container-id-2 div.sk-parallel {display: flex;align-items: stretch;justify-content: center;background-color: white;position: relative;}#sk-container-id-2 div.sk-item::before, #sk-container-id-2 div.sk-parallel-item::before {content: \"\";position: absolute;border-left: 1px solid gray;box-sizing: border-box;top: 0;bottom: 0;left: 50%;z-index: -1;}#sk-container-id-2 div.sk-parallel-item {display: flex;flex-direction: column;z-index: 1;position: relative;background-color: white;}#sk-container-id-2 div.sk-parallel-item:first-child::after {align-self: flex-end;width: 50%;}#sk-container-id-2 div.sk-parallel-item:last-child::after {align-self: flex-start;width: 50%;}#sk-container-id-2 div.sk-parallel-item:only-child::after {width: 0;}#sk-container-id-2 div.sk-dashed-wrapped {border: 1px dashed gray;margin: 0 0.4em 0.5em 0.4em;box-sizing: border-box;padding-bottom: 0.4em;background-color: white;}#sk-container-id-2 div.sk-label label {font-family: monospace;font-weight: bold;display: inline-block;line-height: 1.2em;}#sk-container-id-2 div.sk-label-container {text-align: center;}#sk-container-id-2 div.sk-container {/* jupyter's `normalize.less` sets `[hidden] { display: none; }` but bootstrap.min.css set `[hidden] { display: none !important; }` so we also need the `!important` here to be able to override the default hidden behavior on the sphinx rendered scikit-learn.org. See: https://github.com/scikit-learn/scikit-learn/issues/21755 */display: inline-block !important;position: relative;}#sk-container-id-2 div.sk-text-repr-fallback {display: none;}</style><div id=\"sk-container-id-2\" class=\"sk-top-container\"><div class=\"sk-text-repr-fallback\"><pre>LinearRegression()</pre><b>In a Jupyter environment, please rerun this cell to show the HTML representation or trust the notebook. <br />On GitHub, the HTML representation is unable to render, please try loading this page with nbviewer.org.</b></div><div class=\"sk-container\" hidden><div class=\"sk-item\"><div class=\"sk-estimator sk-toggleable\"><input class=\"sk-toggleable__control sk-hidden--visually\" id=\"sk-estimator-id-2\" type=\"checkbox\" checked><label for=\"sk-estimator-id-2\" class=\"sk-toggleable__label sk-toggleable__label-arrow\">LinearRegression</label><div class=\"sk-toggleable__content\"><pre>LinearRegression()</pre></div></div></div></div></div>"
      ],
      "text/plain": [
       "LinearRegression()"
      ]
     },
     "execution_count": 43,
     "metadata": {},
     "output_type": "execute_result"
    }
   ],
   "source": [
    "model_1 = LinearRegression()\n",
    "\n",
    "# fit the model on the data\n",
    "model_1.fit(df1[['doy']], df1['Utilization'])"
   ]
  },
  {
   "cell_type": "code",
   "execution_count": 41,
   "metadata": {},
   "outputs": [
    {
     "name": "stdout",
     "output_type": "stream",
     "text": [
      "The coefficient of the model is:  3.8781432728837326\n",
      "The intercept of the model is:  91.85555233725074\n"
     ]
    }
   ],
   "source": [
    "# print the coefficients and intercept of the model\n",
    "\n",
    "print(\"The coefficient of the model is: \", model_1.coef_.item())\n",
    "print(\"The intercept of the model is: \", model_1.intercept_)"
   ]
  },
  {
   "cell_type": "markdown",
   "metadata": {},
   "source": [
    "## 2.3 Results"
   ]
  },
  {
   "cell_type": "code",
   "execution_count": 50,
   "metadata": {},
   "outputs": [
    {
     "name": "stdout",
     "output_type": "stream",
     "text": [
      "The R2 Score of the model is:  0.5667070936176999\n",
      "The MSE of the model is:  4963.4293075154\n",
      "The RMSE of the model is:  70.45160968718459\n"
     ]
    }
   ],
   "source": [
    "# print the R2 Score, MSE and RMSE of the model\n",
    "\n",
    "y_true_1 = df1['Utilization']\n",
    "y_pred_1 = model_1.predict(df1[['doy']])\n",
    "\n",
    "print(\"The R2 Score of the model is: \", r2_score(y_true_1, y_pred_1))\n",
    "print(\"The MSE of the model is: \", mean_squared_error(y_true_1, y_pred_1))\n",
    "print(\"The RMSE of the model is: \", mean_squared_error(y_true_1, y_pred_1, squared=False))"
   ]
  },
  {
   "cell_type": "code",
   "execution_count": 51,
   "metadata": {},
   "outputs": [
    {
     "data": {
      "image/png": "[encoded data removed]",
      "text/plain": [
       "<Figure size 1500x800 with 1 Axes>"
      ]
     },
     "metadata": {},
     "output_type": "display_data"
    }
   ],
   "source": [
    "# plot the scatter plot of the data and the regression line\n",
    "\n",
    "plt.figure(figsize=(15, 8))\n",
    "plt.scatter(df1['doy'], df1['Utilization'])\n",
    "plt.plot(df1['doy'], y_pred_1, color='red')\n",
    "plt.xlabel('doy')\n",
    "plt.ylabel('Utilization (Mbps)')\n",
    "plt.show()"
   ]
  },
  {
   "cell_type": "markdown",
   "metadata": {},
   "source": [
    "# 3. `df2`"
   ]
  },
  {
   "cell_type": "code",
   "execution_count": 13,
   "metadata": {},
   "outputs": [
    {
     "data": {
      "text/html": [
       "<div>\n",
       "<style scoped>\n",
       "    .dataframe tbody tr th:only-of-type {\n",
       "        vertical-align: middle;\n",
       "    }\n",
       "\n",
       "    .dataframe tbody tr th {\n",
       "        vertical-align: top;\n",
       "    }\n",
       "\n",
       "    .dataframe thead th {\n",
       "        text-align: right;\n",
       "    }\n",
       "</style>\n",
       "<table border=\"1\" class=\"dataframe\">\n",
       "  <thead>\n",
       "    <tr style=\"text-align: right;\">\n",
       "      <th></th>\n",
       "      <th>source_node</th>\n",
       "      <th>source_port</th>\n",
       "      <th>source_type</th>\n",
       "      <th>operSpeed</th>\n",
       "      <th>destination_node</th>\n",
       "      <th>destination_port</th>\n",
       "      <th>destination_type</th>\n",
       "      <th>octets</th>\n",
       "      <th>lastOctetval</th>\n",
       "      <th>Octet-diff</th>\n",
       "      <th>Utilization</th>\n",
       "      <th>datetime</th>\n",
       "    </tr>\n",
       "  </thead>\n",
       "  <tbody>\n",
       "    <tr>\n",
       "      <th>0</th>\n",
       "      <td>1002</td>\n",
       "      <td>1/1</td>\n",
       "      <td>spine</td>\n",
       "      <td>40G</td>\n",
       "      <td>401</td>\n",
       "      <td>1/50</td>\n",
       "      <td>leaf</td>\n",
       "      <td>1294836545844880</td>\n",
       "      <td>1288534668453790</td>\n",
       "      <td>6301877391082</td>\n",
       "      <td>556.48</td>\n",
       "      <td>2022-05-13 19:07:34</td>\n",
       "    </tr>\n",
       "    <tr>\n",
       "      <th>1</th>\n",
       "      <td>1002</td>\n",
       "      <td>1/1</td>\n",
       "      <td>spine</td>\n",
       "      <td>40G</td>\n",
       "      <td>401</td>\n",
       "      <td>1/50</td>\n",
       "      <td>leaf</td>\n",
       "      <td>1300783379663990</td>\n",
       "      <td>1294836545844880</td>\n",
       "      <td>5946833819112</td>\n",
       "      <td>525.12</td>\n",
       "      <td>2022-05-14 19:07:27</td>\n",
       "    </tr>\n",
       "    <tr>\n",
       "      <th>2</th>\n",
       "      <td>1002</td>\n",
       "      <td>1/1</td>\n",
       "      <td>spine</td>\n",
       "      <td>40G</td>\n",
       "      <td>401</td>\n",
       "      <td>1/50</td>\n",
       "      <td>leaf</td>\n",
       "      <td>1305281270436510</td>\n",
       "      <td>1300783379663990</td>\n",
       "      <td>4497890772520</td>\n",
       "      <td>397.18</td>\n",
       "      <td>2022-05-15 19:08:04</td>\n",
       "    </tr>\n",
       "    <tr>\n",
       "      <th>3</th>\n",
       "      <td>1002</td>\n",
       "      <td>1/1</td>\n",
       "      <td>spine</td>\n",
       "      <td>40G</td>\n",
       "      <td>401</td>\n",
       "      <td>1/50</td>\n",
       "      <td>leaf</td>\n",
       "      <td>1310806346359800</td>\n",
       "      <td>1305281270436510</td>\n",
       "      <td>5525075923292</td>\n",
       "      <td>487.88</td>\n",
       "      <td>2022-05-16 19:08:05</td>\n",
       "    </tr>\n",
       "    <tr>\n",
       "      <th>4</th>\n",
       "      <td>1002</td>\n",
       "      <td>1/1</td>\n",
       "      <td>spine</td>\n",
       "      <td>40G</td>\n",
       "      <td>401</td>\n",
       "      <td>1/50</td>\n",
       "      <td>leaf</td>\n",
       "      <td>1316036666713580</td>\n",
       "      <td>1310806346359800</td>\n",
       "      <td>5230320353784</td>\n",
       "      <td>461.85</td>\n",
       "      <td>2022-05-17 19:08:27</td>\n",
       "    </tr>\n",
       "  </tbody>\n",
       "</table>\n",
       "</div>"
      ],
      "text/plain": [
       "   source_node source_port source_type operSpeed  destination_node  \\\n",
       "0         1002        1/1        spine       40G               401   \n",
       "1         1002        1/1        spine       40G               401   \n",
       "2         1002        1/1        spine       40G               401   \n",
       "3         1002        1/1        spine       40G               401   \n",
       "4         1002        1/1        spine       40G               401   \n",
       "\n",
       "  destination_port destination_type            octets      lastOctetval  \\\n",
       "0            1/50              leaf  1294836545844880  1288534668453790   \n",
       "1            1/50              leaf  1300783379663990  1294836545844880   \n",
       "2            1/50              leaf  1305281270436510  1300783379663990   \n",
       "3            1/50              leaf  1310806346359800  1305281270436510   \n",
       "4            1/50              leaf  1316036666713580  1310806346359800   \n",
       "\n",
       "      Octet-diff  Utilization             datetime  \n",
       "0  6301877391082       556.48  2022-05-13 19:07:34  \n",
       "1  5946833819112       525.12  2022-05-14 19:07:27  \n",
       "2  4497890772520       397.18  2022-05-15 19:08:04  \n",
       "3  5525075923292       487.88  2022-05-16 19:08:05  \n",
       "4  5230320353784       461.85  2022-05-17 19:08:27  "
      ]
     },
     "execution_count": 13,
     "metadata": {},
     "output_type": "execute_result"
    }
   ],
   "source": [
    "df2.head()"
   ]
  },
  {
   "cell_type": "code",
   "execution_count": 15,
   "metadata": {},
   "outputs": [
    {
     "name": "stdout",
     "output_type": "stream",
     "text": [
      "The shape of the data is:  (70, 12)\n"
     ]
    }
   ],
   "source": [
    "print(\"The shape of the data is: \", df2.shape)"
   ]
  },
  {
   "cell_type": "code",
   "execution_count": 17,
   "metadata": {},
   "outputs": [
    {
     "data": {
      "text/plain": [
       "Index(['source_node', 'source_port', 'source_type', 'operSpeed',\n",
       "       'destination_node', 'destination_port', 'destination_type', 'octets',\n",
       "       'lastOctetval', 'Octet-diff', 'Utilization', 'datetime'],\n",
       "      dtype='object')"
      ]
     },
     "execution_count": 17,
     "metadata": {},
     "output_type": "execute_result"
    }
   ],
   "source": [
    "df2.columns"
   ]
  },
  {
   "cell_type": "code",
   "execution_count": 23,
   "metadata": {},
   "outputs": [
    {
     "data": {
      "text/html": [
       "<div>\n",
       "<style scoped>\n",
       "    .dataframe tbody tr th:only-of-type {\n",
       "        vertical-align: middle;\n",
       "    }\n",
       "\n",
       "    .dataframe tbody tr th {\n",
       "        vertical-align: top;\n",
       "    }\n",
       "\n",
       "    .dataframe thead th {\n",
       "        text-align: right;\n",
       "    }\n",
       "</style>\n",
       "<table border=\"1\" class=\"dataframe\">\n",
       "  <thead>\n",
       "    <tr style=\"text-align: right;\">\n",
       "      <th></th>\n",
       "      <th>datetime</th>\n",
       "      <th>Utilization</th>\n",
       "    </tr>\n",
       "  </thead>\n",
       "  <tbody>\n",
       "    <tr>\n",
       "      <th>0</th>\n",
       "      <td>2022-05-13 19:07:34</td>\n",
       "      <td>556.48</td>\n",
       "    </tr>\n",
       "    <tr>\n",
       "      <th>1</th>\n",
       "      <td>2022-05-14 19:07:27</td>\n",
       "      <td>525.12</td>\n",
       "    </tr>\n",
       "    <tr>\n",
       "      <th>2</th>\n",
       "      <td>2022-05-15 19:08:04</td>\n",
       "      <td>397.18</td>\n",
       "    </tr>\n",
       "    <tr>\n",
       "      <th>3</th>\n",
       "      <td>2022-05-16 19:08:05</td>\n",
       "      <td>487.88</td>\n",
       "    </tr>\n",
       "    <tr>\n",
       "      <th>4</th>\n",
       "      <td>2022-05-17 19:08:27</td>\n",
       "      <td>461.85</td>\n",
       "    </tr>\n",
       "  </tbody>\n",
       "</table>\n",
       "</div>"
      ],
      "text/plain": [
       "             datetime  Utilization\n",
       "0 2022-05-13 19:07:34       556.48\n",
       "1 2022-05-14 19:07:27       525.12\n",
       "2 2022-05-15 19:08:04       397.18\n",
       "3 2022-05-16 19:08:05       487.88\n",
       "4 2022-05-17 19:08:27       461.85"
      ]
     },
     "execution_count": 23,
     "metadata": {},
     "output_type": "execute_result"
    }
   ],
   "source": [
    "# filter out the dataframe to store only the required columns, i.e. 'datetime' and 'Utilization'\n",
    "\n",
    "df2 = df2[['datetime', 'Utilization']]\n",
    "\n",
    "# convert the 'datetime' column to datetime format\n",
    "df2['datetime'] = pd.to_datetime(df2['datetime'])\n",
    "\n",
    "df2.head()"
   ]
  },
  {
   "cell_type": "code",
   "execution_count": 52,
   "metadata": {},
   "outputs": [
    {
     "data": {
      "image/png": "[encoded data removed]",
      "text/plain": [
       "<Figure size 1500x800 with 1 Axes>"
      ]
     },
     "metadata": {},
     "output_type": "display_data"
    }
   ],
   "source": [
    "# we first plot the data in a scatter plot ('Utilization' vs 'datetime') to see the trend\n",
    "\n",
    "plt.figure(figsize=(15, 8))\n",
    "plt.scatter(df2['datetime'], df2['Utilization'])\n",
    "plt.xlabel('datetime')\n",
    "plt.ylabel('Utilization (Mbps)')\n",
    "plt.show()"
   ]
  },
  {
   "cell_type": "markdown",
   "metadata": {},
   "source": [
    "Again, the data seems to have a linear trend, `Utilization` seems to be increasing linearly with time. We try to fit a linear regression model to the data by using the current day of the year as independent variable."
   ]
  },
  {
   "cell_type": "markdown",
   "metadata": {},
   "source": [
    "## 3.1 Preprocessing"
   ]
  },
  {
   "cell_type": "code",
   "execution_count": 53,
   "metadata": {},
   "outputs": [
    {
     "data": {
      "text/html": [
       "<div>\n",
       "<style scoped>\n",
       "    .dataframe tbody tr th:only-of-type {\n",
       "        vertical-align: middle;\n",
       "    }\n",
       "\n",
       "    .dataframe tbody tr th {\n",
       "        vertical-align: top;\n",
       "    }\n",
       "\n",
       "    .dataframe thead th {\n",
       "        text-align: right;\n",
       "    }\n",
       "</style>\n",
       "<table border=\"1\" class=\"dataframe\">\n",
       "  <thead>\n",
       "    <tr style=\"text-align: right;\">\n",
       "      <th></th>\n",
       "      <th>datetime</th>\n",
       "      <th>Utilization</th>\n",
       "      <th>doy</th>\n",
       "    </tr>\n",
       "  </thead>\n",
       "  <tbody>\n",
       "    <tr>\n",
       "      <th>0</th>\n",
       "      <td>2022-05-13 19:07:34</td>\n",
       "      <td>556.48</td>\n",
       "      <td>133</td>\n",
       "    </tr>\n",
       "    <tr>\n",
       "      <th>1</th>\n",
       "      <td>2022-05-14 19:07:27</td>\n",
       "      <td>525.12</td>\n",
       "      <td>134</td>\n",
       "    </tr>\n",
       "    <tr>\n",
       "      <th>2</th>\n",
       "      <td>2022-05-15 19:08:04</td>\n",
       "      <td>397.18</td>\n",
       "      <td>135</td>\n",
       "    </tr>\n",
       "    <tr>\n",
       "      <th>3</th>\n",
       "      <td>2022-05-16 19:08:05</td>\n",
       "      <td>487.88</td>\n",
       "      <td>136</td>\n",
       "    </tr>\n",
       "    <tr>\n",
       "      <th>4</th>\n",
       "      <td>2022-05-17 19:08:27</td>\n",
       "      <td>461.85</td>\n",
       "      <td>137</td>\n",
       "    </tr>\n",
       "  </tbody>\n",
       "</table>\n",
       "</div>"
      ],
      "text/plain": [
       "             datetime  Utilization  doy\n",
       "0 2022-05-13 19:07:34       556.48  133\n",
       "1 2022-05-14 19:07:27       525.12  134\n",
       "2 2022-05-15 19:08:04       397.18  135\n",
       "3 2022-05-16 19:08:05       487.88  136\n",
       "4 2022-05-17 19:08:27       461.85  137"
      ]
     },
     "execution_count": 53,
     "metadata": {},
     "output_type": "execute_result"
    }
   ],
   "source": [
    "# add a new column 'doy' to represent the day of the year corresponding to the 'datetime' column\n",
    "\n",
    "df2['doy'] = df2['datetime'].dt.dayofyear\n",
    "\n",
    "df2.head()"
   ]
  },
  {
   "cell_type": "markdown",
   "metadata": {},
   "source": [
    "## 3.2 Linear Regression"
   ]
  },
  {
   "cell_type": "code",
   "execution_count": 54,
   "metadata": {},
   "outputs": [
    {
     "data": {
      "text/html": [
       "<style>#sk-container-id-3 {color: black;background-color: white;}#sk-container-id-3 pre{padding: 0;}#sk-container-id-3 div.sk-toggleable {background-color: white;}#sk-container-id-3 label.sk-toggleable__label {cursor: pointer;display: block;width: 100%;margin-bottom: 0;padding: 0.3em;box-sizing: border-box;text-align: center;}#sk-container-id-3 label.sk-toggleable__label-arrow:before {content: \"▸\";float: left;margin-right: 0.25em;color: #696969;}#sk-container-id-3 label.sk-toggleable__label-arrow:hover:before {color: black;}#sk-container-id-3 div.sk-estimator:hover label.sk-toggleable__label-arrow:before {color: black;}#sk-container-id-3 div.sk-toggleable__content {max-height: 0;max-width: 0;overflow: hidden;text-align: left;background-color: #f0f8ff;}#sk-container-id-3 div.sk-toggleable__content pre {margin: 0.2em;color: black;border-radius: 0.25em;background-color: #f0f8ff;}#sk-container-id-3 input.sk-toggleable__control:checked~div.sk-toggleable__content {max-height: 200px;max-width: 100%;overflow: auto;}#sk-container-id-3 input.sk-toggleable__control:checked~label.sk-toggleable__label-arrow:before {content: \"▾\";}#sk-container-id-3 div.sk-estimator input.sk-toggleable__control:checked~label.sk-toggleable__label {background-color: #d4ebff;}#sk-container-id-3 div.sk-label input.sk-toggleable__control:checked~label.sk-toggleable__label {background-color: #d4ebff;}#sk-container-id-3 input.sk-hidden--visually {border: 0;clip: rect(1px 1px 1px 1px);clip: rect(1px, 1px, 1px, 1px);height: 1px;margin: -1px;overflow: hidden;padding: 0;position: absolute;width: 1px;}#sk-container-id-3 div.sk-estimator {font-family: monospace;background-color: #f0f8ff;border: 1px dotted black;border-radius: 0.25em;box-sizing: border-box;margin-bottom: 0.5em;}#sk-container-id-3 div.sk-estimator:hover {background-color: #d4ebff;}#sk-container-id-3 div.sk-parallel-item::after {content: \"\";width: 100%;border-bottom: 1px solid gray;flex-grow: 1;}#sk-container-id-3 div.sk-label:hover label.sk-toggleable__label {background-color: #d4ebff;}#sk-container-id-3 div.sk-serial::before {content: \"\";position: absolute;border-left: 1px solid gray;box-sizing: border-box;top: 0;bottom: 0;left: 50%;z-index: 0;}#sk-container-id-3 div.sk-serial {display: flex;flex-direction: column;align-items: center;background-color: white;padding-right: 0.2em;padding-left: 0.2em;position: relative;}#sk-container-id-3 div.sk-item {position: relative;z-index: 1;}#sk-container-id-3 div.sk-parallel {display: flex;align-items: stretch;justify-content: center;background-color: white;position: relative;}#sk-container-id-3 div.sk-item::before, #sk-container-id-3 div.sk-parallel-item::before {content: \"\";position: absolute;border-left: 1px solid gray;box-sizing: border-box;top: 0;bottom: 0;left: 50%;z-index: -1;}#sk-container-id-3 div.sk-parallel-item {display: flex;flex-direction: column;z-index: 1;position: relative;background-color: white;}#sk-container-id-3 div.sk-parallel-item:first-child::after {align-self: flex-end;width: 50%;}#sk-container-id-3 div.sk-parallel-item:last-child::after {align-self: flex-start;width: 50%;}#sk-container-id-3 div.sk-parallel-item:only-child::after {width: 0;}#sk-container-id-3 div.sk-dashed-wrapped {border: 1px dashed gray;margin: 0 0.4em 0.5em 0.4em;box-sizing: border-box;padding-bottom: 0.4em;background-color: white;}#sk-container-id-3 div.sk-label label {font-family: monospace;font-weight: bold;display: inline-block;line-height: 1.2em;}#sk-container-id-3 div.sk-label-container {text-align: center;}#sk-container-id-3 div.sk-container {/* jupyter's `normalize.less` sets `[hidden] { display: none; }` but bootstrap.min.css set `[hidden] { display: none !important; }` so we also need the `!important` here to be able to override the default hidden behavior on the sphinx rendered scikit-learn.org. See: https://github.com/scikit-learn/scikit-learn/issues/21755 */display: inline-block !important;position: relative;}#sk-container-id-3 div.sk-text-repr-fallback {display: none;}</style><div id=\"sk-container-id-3\" class=\"sk-top-container\"><div class=\"sk-text-repr-fallback\"><pre>LinearRegression()</pre><b>In a Jupyter environment, please rerun this cell to show the HTML representation or trust the notebook. <br />On GitHub, the HTML representation is unable to render, please try loading this page with nbviewer.org.</b></div><div class=\"sk-container\" hidden><div class=\"sk-item\"><div class=\"sk-estimator sk-toggleable\"><input class=\"sk-toggleable__control sk-hidden--visually\" id=\"sk-estimator-id-3\" type=\"checkbox\" checked><label for=\"sk-estimator-id-3\" class=\"sk-toggleable__label sk-toggleable__label-arrow\">LinearRegression</label><div class=\"sk-toggleable__content\"><pre>LinearRegression()</pre></div></div></div></div></div>"
      ],
      "text/plain": [
       "LinearRegression()"
      ]
     },
     "execution_count": 54,
     "metadata": {},
     "output_type": "execute_result"
    }
   ],
   "source": [
    "model_2 = LinearRegression()\n",
    "\n",
    "# fit the model on the data\n",
    "model_2.fit(df2[['doy']], df2['Utilization'])"
   ]
  },
  {
   "cell_type": "code",
   "execution_count": 55,
   "metadata": {},
   "outputs": [
    {
     "name": "stdout",
     "output_type": "stream",
     "text": [
      "The coefficient of the model is:  4.2788890464944185\n",
      "The intercept of the model is:  16.531497230477157\n"
     ]
    }
   ],
   "source": [
    "# print the coefficients and intercept of the model\n",
    "\n",
    "print(\"The coefficient of the model is: \", model_2.coef_.item())\n",
    "print(\"The intercept of the model is: \", model_2.intercept_)"
   ]
  },
  {
   "cell_type": "markdown",
   "metadata": {},
   "source": [
    "## 3.3 Results"
   ]
  },
  {
   "cell_type": "code",
   "execution_count": 56,
   "metadata": {},
   "outputs": [
    {
     "name": "stdout",
     "output_type": "stream",
     "text": [
      "The R2 Score of the model is:  0.47150640445992176\n",
      "The MSE of the model is:  8857.790300111858\n",
      "The RMSE of the model is:  94.11583448130212\n"
     ]
    }
   ],
   "source": [
    "# print the R2 Score, MSE and RMSE of the model\n",
    "\n",
    "y_true_2 = df2['Utilization']\n",
    "y_pred_2 = model_2.predict(df2[['doy']])\n",
    "\n",
    "print(\"The R2 Score of the model is: \", r2_score(y_true_2, y_pred_2))\n",
    "print(\"The MSE of the model is: \", mean_squared_error(y_true_2, y_pred_2))\n",
    "print(\"The RMSE of the model is: \", mean_squared_error(y_true_2, y_pred_2, squared=False))"
   ]
  },
  {
   "cell_type": "code",
   "execution_count": 57,
   "metadata": {},
   "outputs": [
    {
     "data": {
      "image/png": "[encoded data removed]",
      "text/plain": [
       "<Figure size 1500x800 with 1 Axes>"
      ]
     },
     "metadata": {},
     "output_type": "display_data"
    }
   ],
   "source": [
    "# plot the scatter plot of the data and the regression line\n",
    "\n",
    "plt.figure(figsize=(15, 8))\n",
    "plt.scatter(df2['doy'], df2['Utilization'])\n",
    "plt.plot(df2['doy'], y_pred_2, color='red')\n",
    "plt.xlabel('doy')\n",
    "plt.ylabel('Utilization (Mbps)')\n",
    "plt.show()"
   ]
  }
 ],
 "metadata": {
  "kernelspec": {
   "display_name": "base_env",
   "language": "python",
   "name": "python3"
  },
  "language_info": {
   "codemirror_mode": {
    "name": "ipython",
    "version": 3
   },
   "file_extension": ".py",
   "mimetype": "text/x-python",
   "name": "python",
   "nbconvert_exporter": "python",
   "pygments_lexer": "ipython3",
   "version": "3.9.6"
  },
  "orig_nbformat": 4
 },
 "nbformat": 4,
 "nbformat_minor": 2
}
