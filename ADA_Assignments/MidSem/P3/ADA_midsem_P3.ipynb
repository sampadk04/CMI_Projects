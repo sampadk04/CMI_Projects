{
 "cells": [
  {
   "cell_type": "markdown",
   "metadata": {},
   "source": [
    "# ADA MidSem P3\n",
    "\n",
    "- Sampad Kumar Kar\n",
    "- MCS202215"
   ]
  },
  {
   "cell_type": "markdown",
   "metadata": {},
   "source": [
    "# 0. Imports"
   ]
  },
  {
   "cell_type": "code",
   "execution_count": 1,
   "metadata": {},
   "outputs": [],
   "source": [
    "import os, sys\n",
    "import pandas as pd\n",
    "import numpy as np\n",
    "\n",
    "\n",
    "# sklearn impots\n",
    "from sklearn.model_selection import train_test_split\n",
    "from sklearn.preprocessing import LabelEncoder, StandardScaler\n",
    "from sklearn.linear_model import LogisticRegression\n",
    "from sklearn.ensemble import RandomForestClassifier\n",
    "from sklearn.metrics import classification_report, confusion_matrix, accuracy_score, precision_score, recall_score, f1_score\n",
    "\n",
    "# for plotting\n",
    "import matplotlib.pyplot as plt\n",
    "import seaborn as sns"
   ]
  },
  {
   "cell_type": "code",
   "execution_count": 2,
   "metadata": {},
   "outputs": [],
   "source": [
    "# supress warnings\n",
    "import warnings\n",
    "warnings.filterwarnings('ignore')"
   ]
  },
  {
   "cell_type": "markdown",
   "metadata": {},
   "source": [
    "## 0.1 Some helper functions"
   ]
  },
  {
   "cell_type": "code",
   "execution_count": 3,
   "metadata": {},
   "outputs": [],
   "source": [
    "from pandas.api.types import is_datetime64_dtype, is_categorical_dtype\n",
    "\n",
    "# helper function to reduce memory usage by compressing datatype\n",
    "def reduce_mem_usage(df, use_float16=False):\n",
    "    \"\"\" \n",
    "    Iterate through all the columns of a dataframe and modify the data type to reduce memory usage.        \n",
    "    \"\"\"\n",
    "    start_mem = df.memory_usage().sum() / 1024**2\n",
    "    print('Memory usage of dataframe is {:.2f} MB'.format(start_mem))\n",
    "    \n",
    "    for col in df.columns:\n",
    "        if is_datetime64_dtype(df[col]) or is_categorical_dtype(df[col]):\n",
    "            # skip datetime type or categorical type\n",
    "            continue\n",
    "        col_type = df[col].dtype\n",
    "        \n",
    "        if col_type != object:\n",
    "            c_min = df[col].min()\n",
    "            c_max = df[col].max()\n",
    "            if str(col_type)[:3] == 'int':\n",
    "                if c_min > np.iinfo(np.int8).min and c_max < np.iinfo(np.int8).max:\n",
    "                    df[col] = df[col].astype(np.int8)\n",
    "                elif c_min > np.iinfo(np.int16).min and c_max < np.iinfo(np.int16).max:\n",
    "                    df[col] = df[col].astype(np.int16)\n",
    "                elif c_min > np.iinfo(np.int32).min and c_max < np.iinfo(np.int32).max:\n",
    "                    df[col] = df[col].astype(np.int32)\n",
    "                elif c_min > np.iinfo(np.int64).min and c_max < np.iinfo(np.int64).max:\n",
    "                    df[col] = df[col].astype(np.int64)  \n",
    "            else:\n",
    "                if use_float16 and c_min > np.finfo(np.float16).min and c_max < np.finfo(np.float16).max:\n",
    "                    df[col] = df[col].astype(np.float16)\n",
    "                elif c_min > np.finfo(np.float32).min and c_max < np.finfo(np.float32).max:\n",
    "                    df[col] = df[col].astype(np.float32)\n",
    "                else:\n",
    "                    df[col] = df[col].astype(np.float64)\n",
    "        else:\n",
    "            df[col] = df[col].astype('object')\n",
    "\n",
    "    end_mem = df.memory_usage().sum() / 1024**2\n",
    "    print('Memory usage after optimization is: {:.2f} MB'.format(end_mem))\n",
    "    print('Decreased by {:.1f}%'.format(100 * (start_mem - end_mem) / start_mem))\n",
    "    \n",
    "    return df"
   ]
  },
  {
   "cell_type": "markdown",
   "metadata": {},
   "source": [
    "# 1. Data Loading"
   ]
  },
  {
   "cell_type": "code",
   "execution_count": 4,
   "metadata": {},
   "outputs": [
    {
     "name": "stdout",
     "output_type": "stream",
     "text": [
      "CPU times: user 29.9 s, sys: 13.6 s, total: 43.5 s\n",
      "Wall time: 1min 13s\n"
     ]
    }
   ],
   "source": [
    "%%time\n",
    "\n",
    "data_path = os.path.join('data', 'raw', 'data_combined.csv')\n",
    "\n",
    "# read the csv file\n",
    "df = pd.read_csv(data_path)"
   ]
  },
  {
   "cell_type": "code",
   "execution_count": 31,
   "metadata": {},
   "outputs": [
    {
     "data": {
      "text/html": [
       "<div>\n",
       "<style scoped>\n",
       "    .dataframe tbody tr th:only-of-type {\n",
       "        vertical-align: middle;\n",
       "    }\n",
       "\n",
       "    .dataframe tbody tr th {\n",
       "        vertical-align: top;\n",
       "    }\n",
       "\n",
       "    .dataframe thead th {\n",
       "        text-align: right;\n",
       "    }\n",
       "</style>\n",
       "<table border=\"1\" class=\"dataframe\">\n",
       "  <thead>\n",
       "    <tr style=\"text-align: right;\">\n",
       "      <th></th>\n",
       "      <th>frame.number</th>\n",
       "      <th>_ws.col.Time</th>\n",
       "      <th>_ws.col.Source</th>\n",
       "      <th>_ws.col.Destination</th>\n",
       "      <th>_ws.col.Protocol</th>\n",
       "      <th>_ws.col.Length</th>\n",
       "    </tr>\n",
       "  </thead>\n",
       "  <tbody>\n",
       "    <tr>\n",
       "      <th>0</th>\n",
       "      <td>1</td>\n",
       "      <td>0.0</td>\n",
       "      <td>203.77.117.25</td>\n",
       "      <td>204.79.209.209</td>\n",
       "      <td>IPv4</td>\n",
       "      <td>90</td>\n",
       "    </tr>\n",
       "    <tr>\n",
       "      <th>1</th>\n",
       "      <td>2</td>\n",
       "      <td>0.000017</td>\n",
       "      <td>202.8.140.26</td>\n",
       "      <td>163.210.224.201</td>\n",
       "      <td>TCP</td>\n",
       "      <td>2962</td>\n",
       "    </tr>\n",
       "    <tr>\n",
       "      <th>2</th>\n",
       "      <td>3</td>\n",
       "      <td>0.000027</td>\n",
       "      <td>2404:37ef:c79a:f7d1:c07f:e03f:c037:c096</td>\n",
       "      <td>2001:8a30:7a1a:809d:cffc:d503:83ed:eb9</td>\n",
       "      <td>UDP</td>\n",
       "      <td>1292</td>\n",
       "    </tr>\n",
       "    <tr>\n",
       "      <th>3</th>\n",
       "      <td>4</td>\n",
       "      <td>0.000049</td>\n",
       "      <td>202.8.140.26</td>\n",
       "      <td>163.210.224.201</td>\n",
       "      <td>TCP</td>\n",
       "      <td>1514</td>\n",
       "    </tr>\n",
       "    <tr>\n",
       "      <th>4</th>\n",
       "      <td>5</td>\n",
       "      <td>0.00006</td>\n",
       "      <td>2404:37ef:c79a:f7d1:c07f:e03f:c037:c096</td>\n",
       "      <td>2001:8a30:7a1a:809d:cffc:d503:83ed:eb9</td>\n",
       "      <td>UDP</td>\n",
       "      <td>1292</td>\n",
       "    </tr>\n",
       "  </tbody>\n",
       "</table>\n",
       "</div>"
      ],
      "text/plain": [
       "  frame.number _ws.col.Time                           _ws.col.Source  \\\n",
       "0            1          0.0                            203.77.117.25   \n",
       "1            2     0.000017                             202.8.140.26   \n",
       "2            3     0.000027  2404:37ef:c79a:f7d1:c07f:e03f:c037:c096   \n",
       "3            4     0.000049                             202.8.140.26   \n",
       "4            5      0.00006  2404:37ef:c79a:f7d1:c07f:e03f:c037:c096   \n",
       "\n",
       "                      _ws.col.Destination _ws.col.Protocol _ws.col.Length  \n",
       "0                          204.79.209.209             IPv4             90  \n",
       "1                         163.210.224.201              TCP           2962  \n",
       "2  2001:8a30:7a1a:809d:cffc:d503:83ed:eb9              UDP           1292  \n",
       "3                         163.210.224.201              TCP           1514  \n",
       "4  2001:8a30:7a1a:809d:cffc:d503:83ed:eb9              UDP           1292  "
      ]
     },
     "execution_count": 31,
     "metadata": {},
     "output_type": "execute_result"
    }
   ],
   "source": [
    "# show the first 5 rows\n",
    "df.head()"
   ]
  },
  {
   "cell_type": "code",
   "execution_count": 5,
   "metadata": {},
   "outputs": [],
   "source": [
    "# drop the `frame.number` column\n",
    "df.drop(columns=['frame.number'], inplace=True)"
   ]
  },
  {
   "cell_type": "code",
   "execution_count": 33,
   "metadata": {},
   "outputs": [
    {
     "data": {
      "text/html": [
       "<div>\n",
       "<style scoped>\n",
       "    .dataframe tbody tr th:only-of-type {\n",
       "        vertical-align: middle;\n",
       "    }\n",
       "\n",
       "    .dataframe tbody tr th {\n",
       "        vertical-align: top;\n",
       "    }\n",
       "\n",
       "    .dataframe thead th {\n",
       "        text-align: right;\n",
       "    }\n",
       "</style>\n",
       "<table border=\"1\" class=\"dataframe\">\n",
       "  <thead>\n",
       "    <tr style=\"text-align: right;\">\n",
       "      <th></th>\n",
       "      <th>_ws.col.Time</th>\n",
       "      <th>_ws.col.Source</th>\n",
       "      <th>_ws.col.Destination</th>\n",
       "      <th>_ws.col.Protocol</th>\n",
       "      <th>_ws.col.Length</th>\n",
       "    </tr>\n",
       "  </thead>\n",
       "  <tbody>\n",
       "    <tr>\n",
       "      <th>0</th>\n",
       "      <td>0.0</td>\n",
       "      <td>203.77.117.25</td>\n",
       "      <td>204.79.209.209</td>\n",
       "      <td>IPv4</td>\n",
       "      <td>90</td>\n",
       "    </tr>\n",
       "    <tr>\n",
       "      <th>1</th>\n",
       "      <td>0.000017</td>\n",
       "      <td>202.8.140.26</td>\n",
       "      <td>163.210.224.201</td>\n",
       "      <td>TCP</td>\n",
       "      <td>2962</td>\n",
       "    </tr>\n",
       "    <tr>\n",
       "      <th>2</th>\n",
       "      <td>0.000027</td>\n",
       "      <td>2404:37ef:c79a:f7d1:c07f:e03f:c037:c096</td>\n",
       "      <td>2001:8a30:7a1a:809d:cffc:d503:83ed:eb9</td>\n",
       "      <td>UDP</td>\n",
       "      <td>1292</td>\n",
       "    </tr>\n",
       "    <tr>\n",
       "      <th>3</th>\n",
       "      <td>0.000049</td>\n",
       "      <td>202.8.140.26</td>\n",
       "      <td>163.210.224.201</td>\n",
       "      <td>TCP</td>\n",
       "      <td>1514</td>\n",
       "    </tr>\n",
       "    <tr>\n",
       "      <th>4</th>\n",
       "      <td>0.00006</td>\n",
       "      <td>2404:37ef:c79a:f7d1:c07f:e03f:c037:c096</td>\n",
       "      <td>2001:8a30:7a1a:809d:cffc:d503:83ed:eb9</td>\n",
       "      <td>UDP</td>\n",
       "      <td>1292</td>\n",
       "    </tr>\n",
       "  </tbody>\n",
       "</table>\n",
       "</div>"
      ],
      "text/plain": [
       "  _ws.col.Time                           _ws.col.Source  \\\n",
       "0          0.0                            203.77.117.25   \n",
       "1     0.000017                             202.8.140.26   \n",
       "2     0.000027  2404:37ef:c79a:f7d1:c07f:e03f:c037:c096   \n",
       "3     0.000049                             202.8.140.26   \n",
       "4      0.00006  2404:37ef:c79a:f7d1:c07f:e03f:c037:c096   \n",
       "\n",
       "                      _ws.col.Destination _ws.col.Protocol _ws.col.Length  \n",
       "0                          204.79.209.209             IPv4             90  \n",
       "1                         163.210.224.201              TCP           2962  \n",
       "2  2001:8a30:7a1a:809d:cffc:d503:83ed:eb9              UDP           1292  \n",
       "3                         163.210.224.201              TCP           1514  \n",
       "4  2001:8a30:7a1a:809d:cffc:d503:83ed:eb9              UDP           1292  "
      ]
     },
     "execution_count": 33,
     "metadata": {},
     "output_type": "execute_result"
    }
   ],
   "source": [
    "df.head()"
   ]
  },
  {
   "cell_type": "code",
   "execution_count": 35,
   "metadata": {},
   "outputs": [
    {
     "data": {
      "text/plain": [
       "Index(['_ws.col.Time', '_ws.col.Source', '_ws.col.Destination',\n",
       "       '_ws.col.Protocol', '_ws.col.Length'],\n",
       "      dtype='object')"
      ]
     },
     "execution_count": 35,
     "metadata": {},
     "output_type": "execute_result"
    }
   ],
   "source": [
    "# display the columns of the dataset\n",
    "df.columns"
   ]
  },
  {
   "cell_type": "markdown",
   "metadata": {},
   "source": [
    "We have 5 columns in our dataset. Here are the desriptions of each column:\n",
    "- **_ws.col.Time:** Represents the timestamp or time at which the network event was captured.\n",
    "- **_ws.col.Source:** Represents the source IP address of the network event.\n",
    "- **_ws.col.Destination:** Represents the destination IP address of the network event.\n",
    "- **_ws.col.Protocol:** Represents the protocol used for the network event.\n",
    "- **_ws.col.Length:** Represents the length of the packet in the network event."
   ]
  },
  {
   "cell_type": "markdown",
   "metadata": {},
   "source": [
    "## 1.1 Changing data types of columns"
   ]
  },
  {
   "cell_type": "code",
   "execution_count": 6,
   "metadata": {},
   "outputs": [],
   "source": [
    "# change the datatype of '_ws.col.Time' column to datetime\n",
    "df['_ws.col.Time'] = pd.to_datetime(df['_ws.col.Time'], errors='coerce')\n",
    "\n",
    "# change the datatype of '_ws.col.Length' column to int\n",
    "df['_ws.col.Length'] = pd.to_numeric(df['_ws.col.Length'], errors='coerce')"
   ]
  },
  {
   "cell_type": "code",
   "execution_count": 39,
   "metadata": {},
   "outputs": [
    {
     "name": "stdout",
     "output_type": "stream",
     "text": [
      "<class 'pandas.core.frame.DataFrame'>\n",
      "RangeIndex: 69190037 entries, 0 to 69190036\n",
      "Data columns (total 5 columns):\n",
      " #   Column               Dtype         \n",
      "---  ------               -----         \n",
      " 0   _ws.col.Time         datetime64[ns]\n",
      " 1   _ws.col.Source       object        \n",
      " 2   _ws.col.Destination  object        \n",
      " 3   _ws.col.Protocol     object        \n",
      " 4   _ws.col.Length       float32       \n",
      "dtypes: datetime64[ns](1), float32(1), object(3)\n",
      "memory usage: 2.3+ GB\n"
     ]
    }
   ],
   "source": [
    "df.info()"
   ]
  },
  {
   "cell_type": "markdown",
   "metadata": {},
   "source": [
    "## 1.2 Handling Corrupted Data"
   ]
  },
  {
   "cell_type": "code",
   "execution_count": 40,
   "metadata": {},
   "outputs": [
    {
     "name": "stdout",
     "output_type": "stream",
     "text": [
      "NaN value counts\n",
      "_ws.col.Time           3538944\n",
      "_ws.col.Source               0\n",
      "_ws.col.Destination          0\n",
      "_ws.col.Protocol             0\n",
      "_ws.col.Length              27\n",
      "dtype: int64\n",
      "\n",
      "Inf value counts\n",
      "_ws.col.Time           0\n",
      "_ws.col.Source         0\n",
      "_ws.col.Destination    0\n",
      "_ws.col.Protocol       0\n",
      "_ws.col.Length         0\n",
      "dtype: int64\n"
     ]
    }
   ],
   "source": [
    "# check for missing values and inf values\n",
    "\n",
    "nan_counts = df.isna().sum()\n",
    "inf_counts = (df == np.inf).sum() + (df == -np.inf).sum()\n",
    "\n",
    "print('NaN value counts')\n",
    "print(nan_counts)\n",
    "\n",
    "print('\\nInf value counts')\n",
    "print(inf_counts)"
   ]
  },
  {
   "cell_type": "markdown",
   "metadata": {},
   "source": [
    "Since, the fraction of corrupted data is very small, we can simply drop the corrupted rows."
   ]
  },
  {
   "cell_type": "code",
   "execution_count": 7,
   "metadata": {},
   "outputs": [
    {
     "name": "stdout",
     "output_type": "stream",
     "text": [
      "Shape of the dataset before dropping the rows with missing values:  (69190037, 5)\n",
      "Shape of the dataset after dropping the rows with missing values:  (65651093, 5)\n"
     ]
    }
   ],
   "source": [
    "# print the shape of the dataset before dropping the rows with missing values\n",
    "print('Shape of the dataset before dropping the rows with missing values: ', df.shape)\n",
    "\n",
    "# drop the rows with missing values\n",
    "df.dropna(inplace=True)\n",
    "\n",
    "# print the shape of the dataset after dropping the rows with missing values\n",
    "print('Shape of the dataset after dropping the rows with missing values: ', df.shape)"
   ]
  },
  {
   "cell_type": "markdown",
   "metadata": {},
   "source": [
    "## 1.3 Column-wise Analysis"
   ]
  },
  {
   "cell_type": "code",
   "execution_count": 53,
   "metadata": {},
   "outputs": [
    {
     "data": {
      "text/plain": [
       "_ws.col.Source\n",
       "126.43.23.227                          5487291\n",
       "203.77.109.190                         2765078\n",
       "203.77.117.25                          2412561\n",
       "202.23.163.74                          1968450\n",
       "38.144.83.242                          1899081\n",
       "                                        ...   \n",
       "2a02:41b8:6a3:e3c3:b7:f807:396:c0f1          1\n",
       "186.91.159.233                               1\n",
       "62.32.29.213                                 1\n",
       "117.208.49.213                               1\n",
       "117.245.35.146                               1\n",
       "Name: count, Length: 175282, dtype: int64"
      ]
     },
     "execution_count": 53,
     "metadata": {},
     "output_type": "execute_result"
    }
   ],
   "source": [
    "# show the unique values and counts in the `_ws.col.Source` column\n",
    "df['_ws.col.Source'].value_counts()"
   ]
  },
  {
   "cell_type": "code",
   "execution_count": 54,
   "metadata": {},
   "outputs": [
    {
     "data": {
      "text/plain": [
       "_ws.col.Destination\n",
       "150.70.135.13      5653795\n",
       "203.77.109.190     5487857\n",
       "126.43.23.227      2764392\n",
       "203.77.123.169     2337738\n",
       "204.79.209.209     2258462\n",
       "                    ...   \n",
       "104.121.68.22            1\n",
       "104.105.199.235          1\n",
       "179.1.252.249            1\n",
       "40.57.117.177            1\n",
       "63.12.112.163            1\n",
       "Name: count, Length: 332993, dtype: int64"
      ]
     },
     "execution_count": 54,
     "metadata": {},
     "output_type": "execute_result"
    }
   ],
   "source": [
    "# show the unique values and counts in the `_ws.col.Destination` column\n",
    "df['_ws.col.Destination'].value_counts()"
   ]
  },
  {
   "cell_type": "code",
   "execution_count": 56,
   "metadata": {},
   "outputs": [
    {
     "data": {
      "text/plain": [
       "_ws.col.Protocol\n",
       "TCP                              44988991\n",
       "UDP                              10193508\n",
       "IPv4                              4459294\n",
       "ICMP                              2837014\n",
       "QUIC                              1886173\n",
       "DNS                               1082474\n",
       "ICMPv6                             134548\n",
       "MPTCP                               30293\n",
       "ESP                                 27157\n",
       "DTLSv1.2                             5897\n",
       "GQUIC                                4437\n",
       "DTLS 1.0 (OpenSSL pre 0.9.8f)         680\n",
       "DTLSv1.0                              264\n",
       "IPv6                                  162\n",
       "Elasticsearch                         101\n",
       "THRIFT                                 35\n",
       "MANOLITO                               25\n",
       "MPEG TS                                24\n",
       "ULP                                    10\n",
       "BT-DHT                                  3\n",
       "ARP                                     2\n",
       "ICEP                                    1\n",
       "Name: count, dtype: int64"
      ]
     },
     "execution_count": 56,
     "metadata": {},
     "output_type": "execute_result"
    }
   ],
   "source": [
    "# show the unique values and counts in the `_ws.col.Protocol` column\n",
    "df['_ws.col.Protocol'].value_counts()"
   ]
  },
  {
   "cell_type": "code",
   "execution_count": 57,
   "metadata": {},
   "outputs": [
    {
     "data": {
      "image/png": "[encoded data removed]",
      "text/plain": [
       "<Figure size 1000x1000 with 1 Axes>"
      ]
     },
     "metadata": {},
     "output_type": "display_data"
    }
   ],
   "source": [
    "# draw a pie chart for the `_ws.col.Protocol` column\n",
    "plt.figure(figsize=(10, 10))\n",
    "plt.pie(df['_ws.col.Protocol'].value_counts(), labels=df['_ws.col.Protocol'].value_counts().index, autopct='%1.1f%%')\n",
    "plt.title('Protocol Distribution')\n",
    "plt.show()"
   ]
  },
  {
   "cell_type": "code",
   "execution_count": 61,
   "metadata": {},
   "outputs": [
    {
     "data": {
      "image/png": "[encoded data removed]",
      "text/plain": [
       "<Figure size 3000x1000 with 1 Axes>"
      ]
     },
     "metadata": {},
     "output_type": "display_data"
    }
   ],
   "source": [
    "# draw a histogram for the `_ws.col.Protocol` column\n",
    "plt.figure(figsize=(30, 10))\n",
    "# make sure the counts are shown above the bars\n",
    "sns.countplot(x='_ws.col.Protocol', data=df, order=df['_ws.col.Protocol'].value_counts().index)\n",
    "plt.title('Protocol Distribution')\n",
    "plt.show()"
   ]
  },
  {
   "cell_type": "markdown",
   "metadata": {},
   "source": [
    "# 2. Data Summarization"
   ]
  },
  {
   "cell_type": "markdown",
   "metadata": {},
   "source": [
    "## 2.1 Total no. of flows.\n",
    "\n",
    "Each flow is determined by the 3-tuple of the following features:\n",
    "- `_ws.col.Source`\n",
    "- `_ws.col.Destination`\n",
    "- `_ws.col.Protocol`"
   ]
  },
  {
   "cell_type": "code",
   "execution_count": 42,
   "metadata": {},
   "outputs": [
    {
     "name": "stdout",
     "output_type": "stream",
     "text": [
      "Total no. of unique flows:  8536374\n"
     ]
    }
   ],
   "source": [
    "columns_of_interest = ['_ws.col.Source', '_ws.col.Destination', '_ws.col.Protocol']\n",
    "unique_flows = df[columns_of_interest].drop_duplicates()\n",
    "\n",
    "# extract the unique flows\n",
    "num_unique_flows = unique_flows.shape[0]\n",
    "print(\"Total no. of unique flows: \", num_unique_flows)"
   ]
  },
  {
   "cell_type": "markdown",
   "metadata": {},
   "source": [
    "## 2.2. Total duration of flows.\n",
    "\n",
    "For this, we initially group the data based on flows (by grouping w.r.t. the 3-tuple of the features mentioned above). Then, we find the difference between the maximum and minimum values of the `_ws.col.Time` feature for each group to determine the duration of each flow. Finally, we sum up the durations of all the flows to get the total duration of all the flows."
   ]
  },
  {
   "cell_type": "code",
   "execution_count": 48,
   "metadata": {},
   "outputs": [
    {
     "name": "stdout",
     "output_type": "stream",
     "text": [
      "Total duration of all the flows:  0.016976\n"
     ]
    }
   ],
   "source": [
    "flows = df.groupby(columns_of_interest)\n",
    "\n",
    "# find the total duration of each flow\n",
    "flow_duration = flows['_ws.col.Time'].apply(lambda x: x.max() - x.min())\n",
    "\n",
    "# find the total duration of all the flows (in seconds)\n",
    "total_duration = flow_duration.sum()\n",
    "print(\"Total duration of all the flows: \", total_duration.total_seconds())"
   ]
  },
  {
   "cell_type": "markdown",
   "metadata": {},
   "source": [
    "## 2.3 Total Packet Count\n",
    "\n",
    "This is just the total sum of the `_ws.col.Length` feature."
   ]
  },
  {
   "cell_type": "code",
   "execution_count": 51,
   "metadata": {},
   "outputs": [
    {
     "name": "stdout",
     "output_type": "stream",
     "text": [
      "Total no. of packets:  49499701248\n"
     ]
    }
   ],
   "source": [
    "# find the sum of 'ws.col.Length' column\n",
    "total_packet_count = df['_ws.col.Length'].sum()\n",
    "print(\"Total no. of packets: \", int(total_packet_count))"
   ]
  },
  {
   "cell_type": "markdown",
   "metadata": {},
   "source": [
    "# 3. Preprocessing"
   ]
  },
  {
   "cell_type": "code",
   "execution_count": 52,
   "metadata": {},
   "outputs": [
    {
     "data": {
      "text/html": [
       "<div>\n",
       "<style scoped>\n",
       "    .dataframe tbody tr th:only-of-type {\n",
       "        vertical-align: middle;\n",
       "    }\n",
       "\n",
       "    .dataframe tbody tr th {\n",
       "        vertical-align: top;\n",
       "    }\n",
       "\n",
       "    .dataframe thead th {\n",
       "        text-align: right;\n",
       "    }\n",
       "</style>\n",
       "<table border=\"1\" class=\"dataframe\">\n",
       "  <thead>\n",
       "    <tr style=\"text-align: right;\">\n",
       "      <th></th>\n",
       "      <th>_ws.col.Time</th>\n",
       "      <th>_ws.col.Length</th>\n",
       "    </tr>\n",
       "  </thead>\n",
       "  <tbody>\n",
       "    <tr>\n",
       "      <th>count</th>\n",
       "      <td>65651093</td>\n",
       "      <td>6.565109e+07</td>\n",
       "    </tr>\n",
       "    <tr>\n",
       "      <th>mean</th>\n",
       "      <td>1970-01-01 00:00:00.000000015</td>\n",
       "      <td>7.539814e+02</td>\n",
       "    </tr>\n",
       "    <tr>\n",
       "      <th>min</th>\n",
       "      <td>1970-01-01 00:00:00</td>\n",
       "      <td>5.400000e+01</td>\n",
       "    </tr>\n",
       "    <tr>\n",
       "      <th>25%</th>\n",
       "      <td>1970-01-01 00:00:00.000000008</td>\n",
       "      <td>6.600000e+01</td>\n",
       "    </tr>\n",
       "    <tr>\n",
       "      <th>50%</th>\n",
       "      <td>1970-01-01 00:00:00.000000016</td>\n",
       "      <td>1.480000e+02</td>\n",
       "    </tr>\n",
       "    <tr>\n",
       "      <th>75%</th>\n",
       "      <td>1970-01-01 00:00:00.000000023</td>\n",
       "      <td>1.358000e+03</td>\n",
       "    </tr>\n",
       "    <tr>\n",
       "      <th>max</th>\n",
       "      <td>1970-01-01 00:00:00.000000037</td>\n",
       "      <td>1.893000e+04</td>\n",
       "    </tr>\n",
       "    <tr>\n",
       "      <th>std</th>\n",
       "      <td>NaN</td>\n",
       "      <td>9.773135e+02</td>\n",
       "    </tr>\n",
       "  </tbody>\n",
       "</table>\n",
       "</div>"
      ],
      "text/plain": [
       "                        _ws.col.Time  _ws.col.Length\n",
       "count                       65651093    6.565109e+07\n",
       "mean   1970-01-01 00:00:00.000000015    7.539814e+02\n",
       "min              1970-01-01 00:00:00    5.400000e+01\n",
       "25%    1970-01-01 00:00:00.000000008    6.600000e+01\n",
       "50%    1970-01-01 00:00:00.000000016    1.480000e+02\n",
       "75%    1970-01-01 00:00:00.000000023    1.358000e+03\n",
       "max    1970-01-01 00:00:00.000000037    1.893000e+04\n",
       "std                              NaN    9.773135e+02"
      ]
     },
     "execution_count": 52,
     "metadata": {},
     "output_type": "execute_result"
    }
   ],
   "source": [
    "df.describe()"
   ]
  },
  {
   "cell_type": "markdown",
   "metadata": {},
   "source": [
    "## 3.1 Handling Categorical Variables"
   ]
  },
  {
   "cell_type": "markdown",
   "metadata": {},
   "source": [
    "### 3.1.1 Handling the Target Variable\n",
    "\n",
    "In this dataset, the target variable is the `_ws.col.Protocol` feature. Since, this is a categorical variable, we need to encode it into numerical values. We use the `LabelEncoder` class from the `sklearn.preprocessing` module to do this."
   ]
  },
  {
   "cell_type": "code",
   "execution_count": 62,
   "metadata": {},
   "outputs": [
    {
     "data": {
      "text/plain": [
       "array(['IPv4', 'TCP', 'UDP', 'DNS', 'ICMP', 'ICMPv6', 'QUIC', 'GQUIC',\n",
       "       'ESP', 'ULP', 'DTLSv1.2', 'MPTCP', 'DTLS 1.0 (OpenSSL pre 0.9.8f)',\n",
       "       'THRIFT', 'DTLSv1.0', 'MPEG TS', 'IPv6', 'Elasticsearch', 'BT-DHT',\n",
       "       'MANOLITO', 'ICEP', 'ARP'], dtype=object)"
      ]
     },
     "execution_count": 62,
     "metadata": {},
     "output_type": "execute_result"
    }
   ],
   "source": [
    "# check the unique values in the `_ws.col.Protocol` column\n",
    "df['_ws.col.Protocol'].unique()"
   ]
  },
  {
   "cell_type": "code",
   "execution_count": 8,
   "metadata": {},
   "outputs": [
    {
     "name": "stdout",
     "output_type": "stream",
     "text": [
      "{'TCP': 0, 'UDP': 1, 'IPv4': 2, 'ICMP': 3, 'QUIC': 4, 'DNS': 5, 'ICMPv6': 6, 'MPTCP': 7, 'ESP': 8, 'DTLSv1.2': 9, 'GQUIC': 10, 'DTLS 1.0 (OpenSSL pre 0.9.8f)': 11, 'DTLSv1.0': 12, 'IPv6': 13, 'Elasticsearch': 14, 'THRIFT': 15, 'MANOLITO': 16, 'MPEG TS': 17, 'ULP': 18, 'BT-DHT': 19, 'ARP': 20, 'ICEP': 21}\n"
     ]
    }
   ],
   "source": [
    "# create a dictionary to map the values\n",
    "protocol_map = {df['_ws.col.Protocol'].value_counts().index[i]: i for i in range(len(df['_ws.col.Protocol'].value_counts()))}\n",
    "\n",
    "# sort the dictionary based on ascending order of the values\n",
    "protocol_map = dict(sorted(protocol_map.items(), key=lambda item: item[1]))\n",
    "\n",
    "# show the protocol map\n",
    "print(protocol_map)"
   ]
  },
  {
   "cell_type": "code",
   "execution_count": 9,
   "metadata": {},
   "outputs": [
    {
     "data": {
      "text/plain": [
       "_ws.col.Protocol\n",
       "0     44988991\n",
       "1     10193508\n",
       "2      4459294\n",
       "3      2837014\n",
       "4      1886173\n",
       "5      1082474\n",
       "6       134548\n",
       "7        30293\n",
       "8        27157\n",
       "9         5897\n",
       "10        4437\n",
       "11         680\n",
       "12         264\n",
       "13         162\n",
       "14         101\n",
       "15          35\n",
       "16          25\n",
       "17          24\n",
       "18          10\n",
       "19           3\n",
       "20           2\n",
       "21           1\n",
       "Name: count, dtype: int64"
      ]
     },
     "execution_count": 9,
     "metadata": {},
     "output_type": "execute_result"
    }
   ],
   "source": [
    "# map the values in the `_ws.col.Protocol` column\n",
    "df['_ws.col.Protocol'] = df['_ws.col.Protocol'].map(protocol_map)\n",
    "\n",
    "# check the value counts in the `_ws.col.Protocol` column\n",
    "df['_ws.col.Protocol'].value_counts()"
   ]
  },
  {
   "cell_type": "code",
   "execution_count": 14,
   "metadata": {},
   "outputs": [
    {
     "name": "stdout",
     "output_type": "stream",
     "text": [
      "{0: 0, 1: 1, 2: 2, 3: 3, 4: 4, 5: 5, 6: 6, 7: 7, 8: 8, 9: 9, 10: 10, 11: 11, 12: 12, 13: 13, 14: 14, 15: 15, 16: 16, 17: 17, 18: 18, 19: 18, 20: 18, 21: 18}\n"
     ]
    }
   ],
   "source": [
    "# some class labels have very few samples (<20), we combine these classes into a single class\n",
    "# we create a dictionary to map the values\n",
    "new_protocol_map = {i:i for i in range(len(protocol_map))}\n",
    "\n",
    "# we update the new_protocol_map dictionary to reflect the changes\n",
    "# 19 -> 18, 20 -> 18, 21 -> 18\n",
    "\n",
    "new_protocol_map[19] = 18\n",
    "new_protocol_map[20] = 18\n",
    "new_protocol_map[21] = 18\n",
    "\n",
    "print(new_protocol_map)"
   ]
  },
  {
   "cell_type": "code",
   "execution_count": 16,
   "metadata": {},
   "outputs": [
    {
     "data": {
      "text/plain": [
       "_ws.col.Protocol\n",
       "0     44988991\n",
       "1     10193508\n",
       "2      4459294\n",
       "3      2837014\n",
       "4      1886173\n",
       "5      1082474\n",
       "6       134548\n",
       "7        30293\n",
       "8        27157\n",
       "9         5897\n",
       "10        4437\n",
       "11         680\n",
       "12         264\n",
       "13         162\n",
       "14         101\n",
       "15          35\n",
       "16          25\n",
       "17          24\n",
       "18          16\n",
       "Name: count, dtype: int64"
      ]
     },
     "execution_count": 16,
     "metadata": {},
     "output_type": "execute_result"
    }
   ],
   "source": [
    "# check the updated labelings\n",
    "# map the values in the `_ws.col.Protocol` column\n",
    "df['_ws.col.Protocol'] = df['_ws.col.Protocol'].map(new_protocol_map)\n",
    "\n",
    "# check the value counts in the `_ws.col.Protocol` column\n",
    "df['_ws.col.Protocol'].value_counts()"
   ]
  },
  {
   "cell_type": "markdown",
   "metadata": {},
   "source": [
    "### 3.2.2 Encoding Other Variables"
   ]
  },
  {
   "cell_type": "code",
   "execution_count": 17,
   "metadata": {},
   "outputs": [
    {
     "data": {
      "text/html": [
       "<div>\n",
       "<style scoped>\n",
       "    .dataframe tbody tr th:only-of-type {\n",
       "        vertical-align: middle;\n",
       "    }\n",
       "\n",
       "    .dataframe tbody tr th {\n",
       "        vertical-align: top;\n",
       "    }\n",
       "\n",
       "    .dataframe thead th {\n",
       "        text-align: right;\n",
       "    }\n",
       "</style>\n",
       "<table border=\"1\" class=\"dataframe\">\n",
       "  <thead>\n",
       "    <tr style=\"text-align: right;\">\n",
       "      <th></th>\n",
       "      <th>_ws.col.Time</th>\n",
       "      <th>_ws.col.Source</th>\n",
       "      <th>_ws.col.Destination</th>\n",
       "      <th>_ws.col.Protocol</th>\n",
       "      <th>_ws.col.Length</th>\n",
       "    </tr>\n",
       "  </thead>\n",
       "  <tbody>\n",
       "    <tr>\n",
       "      <th>0</th>\n",
       "      <td>1970-01-01</td>\n",
       "      <td>95665</td>\n",
       "      <td>298516</td>\n",
       "      <td>2</td>\n",
       "      <td>90.0</td>\n",
       "    </tr>\n",
       "    <tr>\n",
       "      <th>1</th>\n",
       "      <td>1970-01-01</td>\n",
       "      <td>94318</td>\n",
       "      <td>171355</td>\n",
       "      <td>0</td>\n",
       "      <td>2962.0</td>\n",
       "    </tr>\n",
       "    <tr>\n",
       "      <th>2</th>\n",
       "      <td>1970-01-01</td>\n",
       "      <td>116056</td>\n",
       "      <td>243111</td>\n",
       "      <td>1</td>\n",
       "      <td>1292.0</td>\n",
       "    </tr>\n",
       "    <tr>\n",
       "      <th>3</th>\n",
       "      <td>1970-01-01</td>\n",
       "      <td>94318</td>\n",
       "      <td>171355</td>\n",
       "      <td>0</td>\n",
       "      <td>1514.0</td>\n",
       "    </tr>\n",
       "    <tr>\n",
       "      <th>4</th>\n",
       "      <td>1970-01-01</td>\n",
       "      <td>116056</td>\n",
       "      <td>243111</td>\n",
       "      <td>1</td>\n",
       "      <td>1292.0</td>\n",
       "    </tr>\n",
       "  </tbody>\n",
       "</table>\n",
       "</div>"
      ],
      "text/plain": [
       "  _ws.col.Time  _ws.col.Source  _ws.col.Destination  _ws.col.Protocol  \\\n",
       "0   1970-01-01           95665               298516                 2   \n",
       "1   1970-01-01           94318               171355                 0   \n",
       "2   1970-01-01          116056               243111                 1   \n",
       "3   1970-01-01           94318               171355                 0   \n",
       "4   1970-01-01          116056               243111                 1   \n",
       "\n",
       "   _ws.col.Length  \n",
       "0            90.0  \n",
       "1          2962.0  \n",
       "2          1292.0  \n",
       "3          1514.0  \n",
       "4          1292.0  "
      ]
     },
     "execution_count": 17,
     "metadata": {},
     "output_type": "execute_result"
    }
   ],
   "source": [
    "le = LabelEncoder()\n",
    "\n",
    "categorical_columns = ['_ws.col.Source', '_ws.col.Destination']\n",
    "\n",
    "# iterate through the columns and encode them\n",
    "for col in categorical_columns:\n",
    "    df[col] = le.fit_transform(df[col])\n",
    "\n",
    "df.head()"
   ]
  },
  {
   "cell_type": "code",
   "execution_count": 18,
   "metadata": {},
   "outputs": [
    {
     "name": "stdout",
     "output_type": "stream",
     "text": [
      "Memory usage of dataframe is 3005.27 MB\n",
      "Memory usage after optimization is: 1815.68 MB\n",
      "Decreased by 39.6%\n"
     ]
    }
   ],
   "source": [
    "df = reduce_mem_usage(df)"
   ]
  },
  {
   "cell_type": "code",
   "execution_count": 8,
   "metadata": {},
   "outputs": [],
   "source": [
    "# save this dataframe to a csv file\n",
    "processed_data_path = os.path.join('data', 'processed', 'data_processed.csv')\n",
    "#df.to_csv(processed_data_path, index=False)"
   ]
  },
  {
   "cell_type": "code",
   "execution_count": 9,
   "metadata": {},
   "outputs": [
    {
     "data": {
      "text/html": [
       "<div>\n",
       "<style scoped>\n",
       "    .dataframe tbody tr th:only-of-type {\n",
       "        vertical-align: middle;\n",
       "    }\n",
       "\n",
       "    .dataframe tbody tr th {\n",
       "        vertical-align: top;\n",
       "    }\n",
       "\n",
       "    .dataframe thead th {\n",
       "        text-align: right;\n",
       "    }\n",
       "</style>\n",
       "<table border=\"1\" class=\"dataframe\">\n",
       "  <thead>\n",
       "    <tr style=\"text-align: right;\">\n",
       "      <th></th>\n",
       "      <th>_ws.col.Time</th>\n",
       "      <th>_ws.col.Source</th>\n",
       "      <th>_ws.col.Destination</th>\n",
       "      <th>_ws.col.Protocol</th>\n",
       "      <th>_ws.col.Length</th>\n",
       "    </tr>\n",
       "  </thead>\n",
       "  <tbody>\n",
       "    <tr>\n",
       "      <th>0</th>\n",
       "      <td>1970-01-01</td>\n",
       "      <td>95665</td>\n",
       "      <td>298516</td>\n",
       "      <td>2</td>\n",
       "      <td>90.0</td>\n",
       "    </tr>\n",
       "    <tr>\n",
       "      <th>1</th>\n",
       "      <td>1970-01-01</td>\n",
       "      <td>94318</td>\n",
       "      <td>171355</td>\n",
       "      <td>0</td>\n",
       "      <td>2962.0</td>\n",
       "    </tr>\n",
       "    <tr>\n",
       "      <th>2</th>\n",
       "      <td>1970-01-01</td>\n",
       "      <td>116056</td>\n",
       "      <td>243111</td>\n",
       "      <td>1</td>\n",
       "      <td>1292.0</td>\n",
       "    </tr>\n",
       "    <tr>\n",
       "      <th>3</th>\n",
       "      <td>1970-01-01</td>\n",
       "      <td>94318</td>\n",
       "      <td>171355</td>\n",
       "      <td>0</td>\n",
       "      <td>1514.0</td>\n",
       "    </tr>\n",
       "    <tr>\n",
       "      <th>4</th>\n",
       "      <td>1970-01-01</td>\n",
       "      <td>116056</td>\n",
       "      <td>243111</td>\n",
       "      <td>1</td>\n",
       "      <td>1292.0</td>\n",
       "    </tr>\n",
       "  </tbody>\n",
       "</table>\n",
       "</div>"
      ],
      "text/plain": [
       "  _ws.col.Time  _ws.col.Source  _ws.col.Destination  _ws.col.Protocol  \\\n",
       "0   1970-01-01           95665               298516                 2   \n",
       "1   1970-01-01           94318               171355                 0   \n",
       "2   1970-01-01          116056               243111                 1   \n",
       "3   1970-01-01           94318               171355                 0   \n",
       "4   1970-01-01          116056               243111                 1   \n",
       "\n",
       "   _ws.col.Length  \n",
       "0            90.0  \n",
       "1          2962.0  \n",
       "2          1292.0  \n",
       "3          1514.0  \n",
       "4          1292.0  "
      ]
     },
     "execution_count": 9,
     "metadata": {},
     "output_type": "execute_result"
    }
   ],
   "source": [
    "# read the processed data\n",
    "df = pd.read_csv(processed_data_path)\n",
    "df.head()"
   ]
  },
  {
   "cell_type": "code",
   "execution_count": 20,
   "metadata": {},
   "outputs": [
    {
     "name": "stdout",
     "output_type": "stream",
     "text": [
      "<class 'pandas.core.frame.DataFrame'>\n",
      "Index: 65651093 entries, 0 to 69190036\n",
      "Data columns (total 5 columns):\n",
      " #   Column               Dtype         \n",
      "---  ------               -----         \n",
      " 0   _ws.col.Time         datetime64[ns]\n",
      " 1   _ws.col.Source       int32         \n",
      " 2   _ws.col.Destination  int32         \n",
      " 3   _ws.col.Protocol     int8          \n",
      " 4   _ws.col.Length       float32       \n",
      "dtypes: datetime64[ns](1), float32(1), int32(2), int8(1)\n",
      "memory usage: 1.8 GB\n"
     ]
    }
   ],
   "source": [
    "df.info()"
   ]
  },
  {
   "cell_type": "markdown",
   "metadata": {},
   "source": [
    "## 3.3 Splitting Features and Target"
   ]
  },
  {
   "cell_type": "code",
   "execution_count": 23,
   "metadata": {},
   "outputs": [
    {
     "name": "stdout",
     "output_type": "stream",
     "text": [
      "Shape of features:  (65651093, 3)\n",
      "Shape of labels:  (65651093,)\n"
     ]
    }
   ],
   "source": [
    "# we split the data into features and labels\n",
    "features = df.drop(columns=['_ws.col.Time', '_ws.col.Protocol'], axis=1)\n",
    "labels = df['_ws.col.Protocol']\n",
    "\n",
    "# print the shape of features and labels\n",
    "print(\"Shape of features: \", features.shape)\n",
    "print(\"Shape of labels: \", labels.shape)"
   ]
  },
  {
   "cell_type": "markdown",
   "metadata": {},
   "source": [
    "We have encoded all the nominal columns using the `LabelEncoder`. Now, we need to use `StandardScaler` to scale the data."
   ]
  },
  {
   "cell_type": "code",
   "execution_count": 24,
   "metadata": {},
   "outputs": [],
   "source": [
    "# scale the features\n",
    "scaler = StandardScaler()\n",
    "features_scaled = scaler.fit_transform(features)"
   ]
  },
  {
   "cell_type": "markdown",
   "metadata": {},
   "source": [
    "## 3.4 Train-Test Split\n",
    "\n",
    "We split the data into training and testing sets using the `train_test_split` function from `sklearn.model_selection`. We use a `test_size` of `0.2` and use stratified sampling to ensure that the distribution of the target variable is the same in both the training and testing sets."
   ]
  },
  {
   "cell_type": "code",
   "execution_count": 25,
   "metadata": {},
   "outputs": [],
   "source": [
    "# stratified split of data into train and test sets\n",
    "X_train, X_test, y_train, y_test = train_test_split(features_scaled, labels, test_size=0.2, random_state=42, stratify=labels)"
   ]
  },
  {
   "cell_type": "code",
   "execution_count": 26,
   "metadata": {},
   "outputs": [
    {
     "name": "stdout",
     "output_type": "stream",
     "text": [
      "Shape of X_train:  (52520874, 3)\n",
      "Shape of y_train:  (52520874,)\n",
      "Shape of X_test:  (13130219, 3)\n",
      "Shape of y_test:  (13130219,)\n"
     ]
    }
   ],
   "source": [
    "# check the shape of train and test sets\n",
    "print(\"Shape of X_train: \", X_train.shape)\n",
    "print(\"Shape of y_train: \", y_train.shape)\n",
    "\n",
    "print(\"Shape of X_test: \", X_test.shape)\n",
    "print(\"Shape of y_test: \", y_test.shape)"
   ]
  },
  {
   "cell_type": "markdown",
   "metadata": {},
   "source": [
    "# 4. Model Fit and Evaluation (Predicting Traffic Class)"
   ]
  },
  {
   "cell_type": "markdown",
   "metadata": {},
   "source": [
    "## 4.1 Logistic Regression\n",
    "\n",
    "We fit a simple Logistic Regression model to the data. We use the `LogisticRegression` class from `sklearn.linear_model`. We use the `predict` method to predict the target variable for the test set."
   ]
  },
  {
   "cell_type": "code",
   "execution_count": 27,
   "metadata": {},
   "outputs": [
    {
     "name": "stdout",
     "output_type": "stream",
     "text": [
      "CPU times: user 1h 5min 33s, sys: 1h 13min 51s, total: 2h 19min 24s\n",
      "Wall time: 6h 31min 21s\n"
     ]
    },
    {
     "data": {
      "text/html": [
       "<style>#sk-container-id-1 {color: black;}#sk-container-id-1 pre{padding: 0;}#sk-container-id-1 div.sk-toggleable {background-color: white;}#sk-container-id-1 label.sk-toggleable__label {cursor: pointer;display: block;width: 100%;margin-bottom: 0;padding: 0.3em;box-sizing: border-box;text-align: center;}#sk-container-id-1 label.sk-toggleable__label-arrow:before {content: \"▸\";float: left;margin-right: 0.25em;color: #696969;}#sk-container-id-1 label.sk-toggleable__label-arrow:hover:before {color: black;}#sk-container-id-1 div.sk-estimator:hover label.sk-toggleable__label-arrow:before {color: black;}#sk-container-id-1 div.sk-toggleable__content {max-height: 0;max-width: 0;overflow: hidden;text-align: left;background-color: #f0f8ff;}#sk-container-id-1 div.sk-toggleable__content pre {margin: 0.2em;color: black;border-radius: 0.25em;background-color: #f0f8ff;}#sk-container-id-1 input.sk-toggleable__control:checked~div.sk-toggleable__content {max-height: 200px;max-width: 100%;overflow: auto;}#sk-container-id-1 input.sk-toggleable__control:checked~label.sk-toggleable__label-arrow:before {content: \"▾\";}#sk-container-id-1 div.sk-estimator input.sk-toggleable__control:checked~label.sk-toggleable__label {background-color: #d4ebff;}#sk-container-id-1 div.sk-label input.sk-toggleable__control:checked~label.sk-toggleable__label {background-color: #d4ebff;}#sk-container-id-1 input.sk-hidden--visually {border: 0;clip: rect(1px 1px 1px 1px);clip: rect(1px, 1px, 1px, 1px);height: 1px;margin: -1px;overflow: hidden;padding: 0;position: absolute;width: 1px;}#sk-container-id-1 div.sk-estimator {font-family: monospace;background-color: #f0f8ff;border: 1px dotted black;border-radius: 0.25em;box-sizing: border-box;margin-bottom: 0.5em;}#sk-container-id-1 div.sk-estimator:hover {background-color: #d4ebff;}#sk-container-id-1 div.sk-parallel-item::after {content: \"\";width: 100%;border-bottom: 1px solid gray;flex-grow: 1;}#sk-container-id-1 div.sk-label:hover label.sk-toggleable__label {background-color: #d4ebff;}#sk-container-id-1 div.sk-serial::before {content: \"\";position: absolute;border-left: 1px solid gray;box-sizing: border-box;top: 0;bottom: 0;left: 50%;z-index: 0;}#sk-container-id-1 div.sk-serial {display: flex;flex-direction: column;align-items: center;background-color: white;padding-right: 0.2em;padding-left: 0.2em;position: relative;}#sk-container-id-1 div.sk-item {position: relative;z-index: 1;}#sk-container-id-1 div.sk-parallel {display: flex;align-items: stretch;justify-content: center;background-color: white;position: relative;}#sk-container-id-1 div.sk-item::before, #sk-container-id-1 div.sk-parallel-item::before {content: \"\";position: absolute;border-left: 1px solid gray;box-sizing: border-box;top: 0;bottom: 0;left: 50%;z-index: -1;}#sk-container-id-1 div.sk-parallel-item {display: flex;flex-direction: column;z-index: 1;position: relative;background-color: white;}#sk-container-id-1 div.sk-parallel-item:first-child::after {align-self: flex-end;width: 50%;}#sk-container-id-1 div.sk-parallel-item:last-child::after {align-self: flex-start;width: 50%;}#sk-container-id-1 div.sk-parallel-item:only-child::after {width: 0;}#sk-container-id-1 div.sk-dashed-wrapped {border: 1px dashed gray;margin: 0 0.4em 0.5em 0.4em;box-sizing: border-box;padding-bottom: 0.4em;background-color: white;}#sk-container-id-1 div.sk-label label {font-family: monospace;font-weight: bold;display: inline-block;line-height: 1.2em;}#sk-container-id-1 div.sk-label-container {text-align: center;}#sk-container-id-1 div.sk-container {/* jupyter's `normalize.less` sets `[hidden] { display: none; }` but bootstrap.min.css set `[hidden] { display: none !important; }` so we also need the `!important` here to be able to override the default hidden behavior on the sphinx rendered scikit-learn.org. See: https://github.com/scikit-learn/scikit-learn/issues/21755 */display: inline-block !important;position: relative;}#sk-container-id-1 div.sk-text-repr-fallback {display: none;}</style><div id=\"sk-container-id-1\" class=\"sk-top-container\"><div class=\"sk-text-repr-fallback\"><pre>LogisticRegression()</pre><b>In a Jupyter environment, please rerun this cell to show the HTML representation or trust the notebook. <br />On GitHub, the HTML representation is unable to render, please try loading this page with nbviewer.org.</b></div><div class=\"sk-container\" hidden><div class=\"sk-item\"><div class=\"sk-estimator sk-toggleable\"><input class=\"sk-toggleable__control sk-hidden--visually\" id=\"sk-estimator-id-1\" type=\"checkbox\" checked><label for=\"sk-estimator-id-1\" class=\"sk-toggleable__label sk-toggleable__label-arrow\">LogisticRegression</label><div class=\"sk-toggleable__content\"><pre>LogisticRegression()</pre></div></div></div></div></div>"
      ],
      "text/plain": [
       "LogisticRegression()"
      ]
     },
     "execution_count": 27,
     "metadata": {},
     "output_type": "execute_result"
    }
   ],
   "source": [
    "%%time\n",
    "\n",
    "log_reg = LogisticRegression()\n",
    "\n",
    "# fit the model on train data\n",
    "log_reg.fit(X_train, y_train)"
   ]
  },
  {
   "cell_type": "code",
   "execution_count": 28,
   "metadata": {},
   "outputs": [
    {
     "data": {
      "text/plain": [
       "['models/log_reg.joblib']"
      ]
     },
     "execution_count": 28,
     "metadata": {},
     "output_type": "execute_result"
    }
   ],
   "source": [
    "from joblib import dump, load\n",
    "\n",
    "# save the model to disk\n",
    "log_reg_save_path = os.path.join('models', 'log_reg.joblib')\n",
    "#dump(log_reg, log_reg_save_path)"
   ]
  },
  {
   "cell_type": "code",
   "execution_count": null,
   "metadata": {},
   "outputs": [],
   "source": [
    "# load the model from disk\n",
    "log_reg = load(log_reg_save_path)"
   ]
  },
  {
   "cell_type": "code",
   "execution_count": null,
   "metadata": {},
   "outputs": [],
   "source": [
    "# predict on the test data\n",
    "y_test_pred_lr = log_reg.predict(X_test)"
   ]
  },
  {
   "cell_type": "markdown",
   "metadata": {},
   "source": [
    "## 4.2 Random Forest Classifier"
   ]
  },
  {
   "cell_type": "code",
   "execution_count": 7,
   "metadata": {},
   "outputs": [
    {
     "name": "stdout",
     "output_type": "stream",
     "text": [
      "CPU times: user 2h 10min 23s, sys: 2h 13min 25s, total: 4h 23min 48s\n",
      "Wall time: 13h 23min 13s\n"
     ]
    }
   ],
   "source": [
    "%%time\n",
    "\n",
    "rfc = RandomForestClassifier(n_estimators=50, n_jobs=-1, random_state=42)\n",
    "rfc.fit(X_train, y_train)"
   ]
  },
  {
   "cell_type": "code",
   "execution_count": null,
   "metadata": {},
   "outputs": [],
   "source": [
    "from joblib import dump, load\n",
    "\n",
    "# save the model to disk\n",
    "rfc_save_path = os.path.join('models', 'rfc.joblib')\n",
    "#dump(rfc, rfc_save_path)"
   ]
  },
  {
   "cell_type": "code",
   "execution_count": null,
   "metadata": {},
   "outputs": [],
   "source": [
    "# load the model from disk\n",
    "rfc = load(rfc_save_path)"
   ]
  },
  {
   "cell_type": "code",
   "execution_count": null,
   "metadata": {},
   "outputs": [],
   "source": [
    "# predict on the test data\n",
    "y_test_pred_rf = rfc.predict(X_test)"
   ]
  },
  {
   "cell_type": "markdown",
   "metadata": {},
   "source": [
    "## 4.3 Classification Report"
   ]
  },
  {
   "cell_type": "markdown",
   "metadata": {},
   "source": [
    "## 4.4 Accuracy Score"
   ]
  },
  {
   "cell_type": "code",
   "execution_count": 32,
   "metadata": {},
   "outputs": [
    {
     "name": "stdout",
     "output_type": "stream",
     "text": [
      "Accuracy score:  0.6852618375976821\n"
     ]
    }
   ],
   "source": [
    "# print the accuracy score of Logistic Regression model\n",
    "print(\"Accuracy score: \", accuracy_score(y_test, y_test_pred_lr))"
   ]
  },
  {
   "cell_type": "code",
   "execution_count": 13,
   "metadata": {},
   "outputs": [
    {
     "name": "stdout",
     "output_type": "stream",
     "text": [
      "Accuracy score:  0.971310814662338\n"
     ]
    }
   ],
   "source": [
    "# print the accuracy score of Random Forest Classifier model\n",
    "print(\"Accuracy score: \", accuracy_score(y_test, y_test_pred_rf))"
   ]
  },
  {
   "cell_type": "markdown",
   "metadata": {},
   "source": [
    "## 4.5 Precision Score"
   ]
  },
  {
   "cell_type": "code",
   "execution_count": 33,
   "metadata": {},
   "outputs": [
    {
     "name": "stdout",
     "output_type": "stream",
     "text": [
      "Weighted precision score:  0.4696029016946449\n"
     ]
    }
   ],
   "source": [
    "# print the weighted precision score of Logistic Regression model\n",
    "print(\"Weighted precision score: \", precision_score(y_test, y_test_pred_lr, average='weighted'))"
   ]
  },
  {
   "cell_type": "code",
   "execution_count": 14,
   "metadata": {},
   "outputs": [
    {
     "name": "stdout",
     "output_type": "stream",
     "text": [
      "Weighted precision score:  0.970200652643377\n"
     ]
    }
   ],
   "source": [
    "# print the weighted precision score of Random Forest Classifier model\n",
    "print(\"Weighted precision score: \", precision_score(y_test, y_test_pred_rf, average='weighted'))"
   ]
  },
  {
   "cell_type": "markdown",
   "metadata": {},
   "source": [
    "## 4.6 Recall Score"
   ]
  },
  {
   "cell_type": "code",
   "execution_count": 34,
   "metadata": {},
   "outputs": [
    {
     "name": "stdout",
     "output_type": "stream",
     "text": [
      "Weighted recall score:  0.6852618375976821\n"
     ]
    }
   ],
   "source": [
    "# print the weighted recall score of Logistic Regression model\n",
    "print(\"Weighted recall score: \", recall_score(y_test, y_test_pred_lr, average='weighted'))"
   ]
  },
  {
   "cell_type": "code",
   "execution_count": 16,
   "metadata": {},
   "outputs": [
    {
     "name": "stdout",
     "output_type": "stream",
     "text": [
      "Weighted recall score:  0.971054562747463\n"
     ]
    }
   ],
   "source": [
    "# print the weighted recall score of Random Forest Classifier model\n",
    "print(\"Weighted recall score: \", recall_score(y_test, y_test_pred_rf, average='weighted'))"
   ]
  },
  {
   "cell_type": "markdown",
   "metadata": {},
   "source": [
    "## 4.7 Conclusion\n",
    "\n",
    "We get the following scores for the Logistic Regression model:\n",
    "- Accuracy: `68.52 %`\n",
    "- Weighted Precision: `46.96 %`\n",
    "- Weighted Recall: `68.52 %`\n",
    "\n",
    "We get the following scores for the Random Forest Classifier model:\n",
    "- Accuracy: `97.13 %`\n",
    "- Weighted Precision: `97.02 %`\n",
    "- Weighted Recall: `99.10 %`\n",
    "\n",
    "Overall, the Random Forest Classifier model performs much better than the Logistic Regression model. This is because the Random Forest Classifier model is able to capture the non-linear relationships between the features and the target variable much better than the Logistic Regression model."
   ]
  }
 ],
 "metadata": {
  "kernelspec": {
   "display_name": "dev_env",
   "language": "python",
   "name": "python3"
  },
  "language_info": {
   "codemirror_mode": {
    "name": "ipython",
    "version": 3
   },
   "file_extension": ".py",
   "mimetype": "text/x-python",
   "name": "python",
   "nbconvert_exporter": "python",
   "pygments_lexer": "ipython3",
   "version": "3.9.6"
  }
 },
 "nbformat": 4,
 "nbformat_minor": 2
}
