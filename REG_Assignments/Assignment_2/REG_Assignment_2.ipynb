{
 "cells": [
  {
   "cell_type": "markdown",
   "metadata": {},
   "source": [
    "# REG Assignment 2\n",
    "\n",
    "- Sampad Kumar Kar\n",
    "- MCS202215\n",
    "- sampadk04@cmi.ac.in"
   ]
  },
  {
   "cell_type": "markdown",
   "metadata": {},
   "source": [
    "# P1\n",
    "\n",
    "[![image.png](https://i.postimg.cc/ZRVk330j/image.png)](https://postimg.cc/cgg5GvR8)\n",
    "\n",
    "## P1.1\n",
    "\n",
    "If the `Sepal.Length`` is `6.5 cm`, then based on the probability scores as obtained by the Logistic Regression model, `virginica` is the most likely class, with a probability score of around `0.6`.\n",
    "\n",
    "## P1.2\n",
    "\n",
    "Yes, `Sepal.Length` does indeed have an effect on the identification of the class `versicolor`. Based on the probability plots, we can observe that if the `Sepal.Length` lies approximately between `5.5` to `6`, the model predicts the class `versicolor` with a probability score of around `0.4`."
   ]
  },
  {
   "cell_type": "markdown",
   "metadata": {},
   "source": [
    "# P2\n",
    "\n",
    "The linear discriminant rule for class $k \\in \\{1,2\\}$ is presented as:\n",
    "$$ \\delta_{k} (x) = x^{T} \\Sigma^{-1} \\mu_{k} - \\frac{1}{2} \\mu_{k}^{-1} \\Sigma^{-1} \\mu_{k} + \\log(\\pi_{k}) $$\n",
    "\n",
    "We are also given the following summary statistics from two (independent) datasets:\n",
    "\n",
    "$ \\overline{X}_{1} = \\begin{pmatrix} 2 \\\\ 3 \\end{pmatrix} $, $ \\overline{X}_{2} = \\begin{pmatrix} 5 \\\\ 7 \\end{pmatrix} $ and $S = \\begin{pmatrix} 1 & 1 \\\\ 1 & 2 \\end{pmatrix} $.\n",
    "\n",
    "Also, $S^{-1} = \\begin{pmatrix} 2 & -1 \\\\ -1 & 1 \\end{pmatrix}$.\n",
    "\n",
    "Also, $n_1 = 20$ and $n_2 = 40$, which means that $\\pi_1 = \\frac{n_1}{n_1 + n_2} = \\frac{1}{3}$ and $\\pi_2 = \\frac{n_2}{n_1 + n_2} = \\frac{2}{3}$."
   ]
  },
  {
   "cell_type": "markdown",
   "metadata": {},
   "source": [
    "## P2.(i)\n",
    "\n",
    "We compute the linear discriminant function and use that to classify the data point $x = \\begin{pmatrix} 1 \\\\ 4 \\end{pmatrix}$ as either $\\pi_1$ or $\\pi_2$."
   ]
  },
  {
   "cell_type": "code",
   "execution_count": 4,
   "metadata": {
    "vscode": {
     "languageId": "r"
    }
   },
   "outputs": [],
   "source": [
    "# define the function to calculate the delta\n",
    "\n",
    "lda <- function(x, mu, sigma_inv, pi)\n",
    "{\n",
    "    delta <- t(x)%*%sigma_inv%*%mu - (0.5)%*%t(mu)%*%sigma_inv%*%mu + log(pi)\n",
    "    return(delta)\n",
    "}"
   ]
  },
  {
   "cell_type": "code",
   "execution_count": 6,
   "metadata": {
    "vscode": {
     "languageId": "r"
    }
   },
   "outputs": [],
   "source": [
    "# setting up the parameters and variables\n",
    "\n",
    "x <- c(1,4)\n",
    "\n",
    "mu_1 <- c(2,3)\n",
    "mu_2 <- c(5,7)\n",
    "\n",
    "sigma_inv <- matrix(c(2,-1,-1,1), ncol=2, nrow=2, byrow=TRUE)\n",
    "\n",
    "pi_1 <- 1/3\n",
    "pi_2 <- 2/3"
   ]
  },
  {
   "cell_type": "code",
   "execution_count": 7,
   "metadata": {
    "vscode": {
     "languageId": "r"
    }
   },
   "outputs": [
    {
     "name": "stdout",
     "output_type": "stream",
     "text": [
      "         [,1]\n",
      "[1,] 1.401388\n",
      "          [,1]\n",
      "[1,] -3.905465\n"
     ]
    }
   ],
   "source": [
    "# calculate delta for class 1 and class 2\n",
    "\n",
    "delta_1 = lda(x, mu_1, sigma_inv, pi_1)\n",
    "delta_2 = lda(x, mu_2, sigma_inv, pi_2)\n",
    "\n",
    "# print out the results\n",
    "print(delta_1)\n",
    "print(delta_2)"
   ]
  },
  {
   "cell_type": "markdown",
   "metadata": {},
   "source": [
    "So, we obtain the following results:\n",
    "- $\\delta_1 (x) = 1.401388$\n",
    "- $\\delta_2 (x) = -3.905465$\n",
    "\n",
    "Since, $\\delta_1 (x) > \\delta_2 (x)$, we can classify $x$ as $\\pi_1$."
   ]
  },
  {
   "cell_type": "markdown",
   "metadata": {},
   "source": [
    "## P2.(ii)\n",
    "\n",
    "Under the following assumptions, we can expect our methods to be reliable:\n",
    "- The data is normally distributed.\n",
    "- The covariance matrices are equal across all classes.\n",
    "- The observations are independent of each other."
   ]
  }
 ],
 "metadata": {
  "kernelspec": {
   "display_name": "R 4.3",
   "language": "R",
   "name": "ir43"
  },
  "language_info": {
   "codemirror_mode": "r",
   "file_extension": ".r",
   "mimetype": "text/x-r-source",
   "name": "R",
   "pygments_lexer": "r",
   "version": "4.3.2"
  }
 },
 "nbformat": 4,
 "nbformat_minor": 2
}
