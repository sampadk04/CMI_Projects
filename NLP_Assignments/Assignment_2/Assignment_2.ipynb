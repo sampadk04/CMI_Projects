{
 "cells": [
  {
   "attachments": {},
   "cell_type": "markdown",
   "metadata": {},
   "source": [
    "# Assignment 2\n",
    "\n",
    "- Sampad Kumar Kar\n",
    "- MCS202215"
   ]
  },
  {
   "attachments": {},
   "cell_type": "markdown",
   "metadata": {},
   "source": [
    "# 0. Imports"
   ]
  },
  {
   "cell_type": "code",
   "execution_count": 1,
   "metadata": {},
   "outputs": [],
   "source": [
    "# to handle files\n",
    "import json\n",
    "import os\n",
    "import glob\n",
    "\n",
    "# import regular expressions\n",
    "import re\n",
    "\n",
    "# pre-processing imports\n",
    "import numpy as np\n",
    "import pandas as pd\n",
    "\n",
    "# NLKT preprocessing imports\n",
    "import nltk\n",
    "from nltk import download\n",
    "from nltk.util import ngrams\n",
    "from nltk.corpus import stopwords\n",
    "from nltk.stem import WordNetLemmatizer\n",
    "from nltk.tokenize import sent_tokenize , word_tokenize, RegexpTokenizer, PunktSentenceTokenizer\n",
    "\n",
    "# for plotting\n",
    "import matplotlib.pyplot as plt\n",
    "\n",
    "from sklearn.manifold import TSNE\n",
    "from sklearn.decomposition import PCA\n",
    "from sklearn.preprocessing import normalize\n",
    "\n",
    "# to view loop progress\n",
    "from tqdm import tqdm\n",
    "\n",
    "# to generate random no.s\n",
    "import random\n",
    "\n",
    "# to save dictionary\n",
    "import pickle\n",
    "\n",
    "# import priority queue\n",
    "import heapq\n",
    "\n",
    "# to handle large matrices\n",
    "import h5py\n",
    "\n",
    "# default dict\n",
    "from collections import defaultdict\n",
    "\n",
    "# keep track of runtime\n",
    "from time import time"
   ]
  },
  {
   "cell_type": "code",
   "execution_count": 2,
   "metadata": {},
   "outputs": [
    {
     "name": "stderr",
     "output_type": "stream",
     "text": [
      "[nltk_data] Downloading package stopwords to\n",
      "[nltk_data]     /Users/sampadk04/nltk_data...\n",
      "[nltk_data]   Package stopwords is already up-to-date!\n",
      "[nltk_data] Downloading package words to /Users/sampadk04/nltk_data...\n",
      "[nltk_data]   Package words is already up-to-date!\n",
      "[nltk_data] Downloading package wordnet to\n",
      "[nltk_data]     /Users/sampadk04/nltk_data...\n",
      "[nltk_data]   Package wordnet is already up-to-date!\n",
      "[nltk_data] Downloading package punkt to /Users/sampadk04/nltk_data...\n",
      "[nltk_data]   Package punkt is already up-to-date!\n"
     ]
    },
    {
     "data": {
      "text/plain": [
       "True"
      ]
     },
     "execution_count": 2,
     "metadata": {},
     "output_type": "execute_result"
    }
   ],
   "source": [
    "# Download required NLTK data\n",
    "download('stopwords')\n",
    "download('words')\n",
    "download('wordnet')\n",
    "download('punkt')"
   ]
  },
  {
   "cell_type": "code",
   "execution_count": 2,
   "metadata": {},
   "outputs": [],
   "source": [
    "# extract the dictionary vocab\n",
    "words = set(nltk.corpus.words.words())\n",
    "wordnets = set(nltk.corpus.wordnet.words())\n",
    "dictionary_vocab = set(words.union(wordnets))\n",
    "\n",
    "# extarct the stop words\n",
    "stopwords_vocab = set(nltk.corpus.stopwords.words())"
   ]
  },
  {
   "attachments": {},
   "cell_type": "markdown",
   "metadata": {},
   "source": [
    "# 1. Extracting Corpus Vocabulary"
   ]
  },
  {
   "cell_type": "code",
   "execution_count": 2,
   "metadata": {},
   "outputs": [
    {
     "data": {
      "text/plain": [
       "'../data/my_corpus'"
      ]
     },
     "execution_count": 2,
     "metadata": {},
     "output_type": "execute_result"
    }
   ],
   "source": [
    "my_corpus_folder_path = os.path.join(os.pardir, 'data', 'my_corpus')\n",
    "my_corpus_folder_path"
   ]
  },
  {
   "cell_type": "code",
   "execution_count": 3,
   "metadata": {},
   "outputs": [
    {
     "data": {
      "text/plain": [
       "'../data/my_corpus/corpus_1.txt'"
      ]
     },
     "execution_count": 3,
     "metadata": {},
     "output_type": "execute_result"
    }
   ],
   "source": [
    "corpus_path = os.path.join(my_corpus_folder_path, 'corpus_1.txt')\n",
    "corpus_path"
   ]
  },
  {
   "cell_type": "code",
   "execution_count": 10,
   "metadata": {},
   "outputs": [],
   "source": [
    "def find_words_freq(corpus_path, freq_threshold = 10):\n",
    "    # initialize dictionary to store frequency count of the words\n",
    "    corpus_vocab_freq = dict()\n",
    "    paper_count = 0\n",
    "\n",
    "    corpus = open(corpus_path, 'r')\n",
    "    \n",
    "    # read the papers one after another and process\n",
    "    # Note: we consider sentence[:-1] to remove the '\\n' character\n",
    "    paper_data = corpus.readline()[:-1]\n",
    "\n",
    "    # run the loop till we reach the end of the document\n",
    "    while paper_data:\n",
    "        # tokenize the paper\n",
    "        paper_words = word_tokenize(paper_data)\n",
    "        # process word by word\n",
    "        for word in paper_words:\n",
    "            if word not in corpus_vocab_freq:\n",
    "                corpus_vocab_freq[word] = 1\n",
    "            else:\n",
    "                corpus_vocab_freq[word] += 1\n",
    "        \n",
    "        # read the next paper_data\n",
    "        paper_data = corpus.readline()[:-1]\n",
    "\n",
    "        # increase paper_count\n",
    "        paper_count += 1\n",
    "        # print info to keep track of progress\n",
    "        if paper_count%10000 == 0:\n",
    "            print(\"-\"*20)\n",
    "            print(f\"Document #: {paper_count}; Vocabulary Size: {len(corpus_vocab_freq)}\")\n",
    "\n",
    "    corpus.close()\n",
    "\n",
    "    # initialize set to store vocabulary of the corpus, to store words having frequency >= freq_threshold\n",
    "    corpus_vocab = set()\n",
    "    for word in corpus_vocab_freq:\n",
    "        if corpus_vocab_freq[word] >= freq_threshold:\n",
    "            corpus_vocab.add(word)\n",
    "\n",
    "    corpus_vocab = sorted(corpus_vocab)\n",
    "\n",
    "    return corpus_vocab, corpus_vocab_freq"
   ]
  },
  {
   "cell_type": "code",
   "execution_count": 4,
   "metadata": {},
   "outputs": [],
   "source": [
    "freq_threshold=20"
   ]
  },
  {
   "cell_type": "code",
   "execution_count": 17,
   "metadata": {},
   "outputs": [
    {
     "name": "stdout",
     "output_type": "stream",
     "text": [
      "--------------------\n",
      "Document #: 10000; Vocabulary Size: 47398\n",
      "--------------------\n",
      "Document #: 20000; Vocabulary Size: 56146\n",
      "--------------------\n",
      "Document #: 30000; Vocabulary Size: 61326\n",
      "--------------------\n",
      "Document #: 40000; Vocabulary Size: 65566\n",
      "--------------------\n",
      "Document #: 50000; Vocabulary Size: 68603\n",
      "\n",
      "Filtered Corpus Vocabulary Size: 32133\n"
     ]
    }
   ],
   "source": [
    "corpus_vocab, corpus_vocab_freq = find_words_freq(corpus_path, freq_threshold=freq_threshold)\n",
    "\n",
    "print(\"\\nFiltered Corpus Vocabulary Size:\", len(corpus_vocab))"
   ]
  },
  {
   "cell_type": "code",
   "execution_count": 18,
   "metadata": {},
   "outputs": [
    {
     "name": "stdout",
     "output_type": "stream",
     "text": [
      "32133\n"
     ]
    }
   ],
   "source": [
    "corpus_vocab = set()\n",
    "for word in corpus_vocab_freq:\n",
    "    if corpus_vocab_freq[word] >= freq_threshold:\n",
    "        corpus_vocab.add(word)\n",
    "\n",
    "corpus_vocab = sorted(corpus_vocab)\n",
    "print(len(corpus_vocab))"
   ]
  },
  {
   "attachments": {},
   "cell_type": "markdown",
   "metadata": {},
   "source": [
    "## 1.1 Saving and Loading Corpus Vocabulary"
   ]
  },
  {
   "cell_type": "code",
   "execution_count": 5,
   "metadata": {},
   "outputs": [
    {
     "data": {
      "text/plain": [
       "'corpus_vocabs/corpus_vocab_ft20.pickle'"
      ]
     },
     "execution_count": 5,
     "metadata": {},
     "output_type": "execute_result"
    }
   ],
   "source": [
    "corpus_vocab_path = os.path.join('corpus_vocabs', 'corpus_vocab_ft' + str(freq_threshold) + '.pickle')\n",
    "corpus_vocab_path"
   ]
  },
  {
   "cell_type": "code",
   "execution_count": 20,
   "metadata": {},
   "outputs": [],
   "source": [
    "# saving the corpus_vocab\n",
    "'''\n",
    "fh = open(corpus_vocab_path, \"wb\")\n",
    "pickle.dump(corpus_vocab, fh)\n",
    "fh.close()\n",
    "'''"
   ]
  },
  {
   "cell_type": "code",
   "execution_count": 6,
   "metadata": {},
   "outputs": [],
   "source": [
    "# loading the corpus_vocab\n",
    "fh = open(corpus_vocab_path, 'rb')\n",
    "corpus_vocab = pickle.load(fh)\n",
    "fh.close()"
   ]
  },
  {
   "attachments": {},
   "cell_type": "markdown",
   "metadata": {},
   "source": [
    "# 2.  Hyperspace Analogue to Language (HAL)"
   ]
  },
  {
   "cell_type": "code",
   "execution_count": 7,
   "metadata": {},
   "outputs": [],
   "source": [
    "def extract_corpus_tokens(corpus_path, corpus_vocab, batch_size=60000):\n",
    "    # extract vocab_count\n",
    "    corpus_vocab = sorted(corpus_vocab)\n",
    "    \n",
    "    # initialize corpus_tokens\n",
    "    corpus_tokens = []\n",
    "    \n",
    "    # keep track of time taken to tokenize corpus\n",
    "    st = time()\n",
    "    \n",
    "    corpus = open(corpus_path, 'r')\n",
    "    \n",
    "    # read the papers one after another and process\n",
    "    # Note: we consider sentence[:-1] to remove the '\\n' character\n",
    "    paper_data = corpus.readline()[:-1]\n",
    "\n",
    "    # to store the # of papers read from the corpus\n",
    "    paper_count = 1\n",
    "\n",
    "    # run the loop till we have read `batch_size` no. of documents or read all the documents from the whole corpus\n",
    "    while (paper_data) and (paper_count <= batch_size):\n",
    "        paper_tokens = word_tokenize(paper_data)\n",
    "        corpus_tokens.extend(paper_tokens)\n",
    "        \n",
    "        # read the next paper_data\n",
    "        paper_data = corpus.readline()[:-1]\n",
    "        \n",
    "        # increase paper count\n",
    "        paper_count += 1\n",
    "        # print info to keep track of progress\n",
    "        if paper_count%5000 == 0:\n",
    "            print(\"-\"*20)\n",
    "            print(f\"Document #: {paper_count}\")\n",
    "    \n",
    "        # close the filehandlers\n",
    "    corpus.close()\n",
    "\n",
    "    ed = time()\n",
    "    \n",
    "    print(\"\\nCorpus Successfully Tokenized! \\n\")\n",
    "\n",
    "    print(\"Time taken to tokenize:\", ed-st)\n",
    "\n",
    "    st = time()\n",
    "\n",
    "    # filter corpus\n",
    "    for i in tqdm(range(len(corpus_tokens))):\n",
    "        token = corpus_tokens[i]\n",
    "        if token not in corpus_vocab:\n",
    "            corpus_tokens[i] = ''\n",
    "\n",
    "    ed = time()\n",
    "\n",
    "    print(\"Time taken to filter tokens:\", ed-st)\n",
    "\n",
    "    return corpus_tokens"
   ]
  },
  {
   "cell_type": "code",
   "execution_count": 9,
   "metadata": {},
   "outputs": [
    {
     "name": "stdout",
     "output_type": "stream",
     "text": [
      "--------------------\n",
      "Document #: 5000\n",
      "--------------------\n",
      "Document #: 10000\n",
      "--------------------\n",
      "Document #: 15000\n",
      "--------------------\n",
      "Document #: 20000\n",
      "--------------------\n",
      "Document #: 25000\n",
      "--------------------\n",
      "Document #: 30000\n",
      "--------------------\n",
      "Document #: 35000\n",
      "--------------------\n",
      "Document #: 40000\n",
      "--------------------\n",
      "Document #: 45000\n",
      "--------------------\n",
      "Document #: 50000\n",
      "--------------------\n",
      "Document #: 55000\n",
      "\n",
      "Corpus Successfully Tokenized! \n",
      "\n",
      "Time taken to tokenize: 237.8611183166504\n"
     ]
    },
    {
     "name": "stderr",
     "output_type": "stream",
     "text": [
      "100%|██████████| 109423063/109423063 [5:27:12<00:00, 5573.69it/s]  "
     ]
    },
    {
     "name": "stdout",
     "output_type": "stream",
     "text": [
      "Time taken to filter tokens: 19632.097134828568\n"
     ]
    },
    {
     "name": "stderr",
     "output_type": "stream",
     "text": [
      "\n"
     ]
    }
   ],
   "source": [
    "corpus_tokens = extract_corpus_tokens(\n",
    "    corpus_path=corpus_path,\n",
    "    corpus_vocab=corpus_vocab\n",
    ")"
   ]
  },
  {
   "cell_type": "code",
   "execution_count": 10,
   "metadata": {},
   "outputs": [
    {
     "data": {
      "text/plain": [
       "'corpus_tokens/corpus_tokens.pickle'"
      ]
     },
     "execution_count": 10,
     "metadata": {},
     "output_type": "execute_result"
    }
   ],
   "source": [
    "corpus_tokens_path = os.path.join('corpus_tokens', 'corpus_tokens.pickle')\n",
    "corpus_tokens_path"
   ]
  },
  {
   "cell_type": "code",
   "execution_count": 11,
   "metadata": {},
   "outputs": [],
   "source": [
    "# saving the corpus_tokens\n",
    "'''\n",
    "fh = open(corpus_tokens_path, \"wb\")\n",
    "pickle.dump(corpus_tokens, fh)\n",
    "fh.close()\n",
    "'''"
   ]
  },
  {
   "cell_type": "code",
   "execution_count": null,
   "metadata": {},
   "outputs": [],
   "source": [
    "# loading the corpus_vocab\n",
    "fh = open(corpus_tokens_path, 'rb')\n",
    "corpus_tokens = pickle.load(fh)\n",
    "fh.close()"
   ]
  },
  {
   "cell_type": "code",
   "execution_count": 12,
   "metadata": {},
   "outputs": [],
   "source": [
    "def HAL(corpus_tokens, corpus_vocab, window_size=10):\n",
    "    # extract vocab_count\n",
    "    corpus_vocab = sorted(corpus_vocab)\n",
    "    vocab_count = len(corpus_vocab)\n",
    "\n",
    "    # initialize HAL_matrix\n",
    "    HAL_mat = np.zeros((vocab_count, vocab_count))\n",
    "\n",
    "    # map words in vocab to their indices\n",
    "    vocab_idx = dict((w,i) for i,w in enumerate(corpus_vocab))\n",
    "\n",
    "    # track time for the experiment\n",
    "    st = time()\n",
    "\n",
    "    for i in tqdm(range(window_size, len(corpus_tokens)-window_size)):\n",
    "        for j in range(1,window_size+1):\n",
    "            if corpus_tokens[i] and corpus_tokens[i+j]:\n",
    "                idx_i = vocab_idx[corpus_tokens[i]]\n",
    "                idx_ipj = vocab_idx[corpus_tokens[i+j]]\n",
    "                \n",
    "                # left to right update\n",
    "                HAL_mat[idx_i, idx_ipj] += j\n",
    "\n",
    "                # right to left update\n",
    "                HAL_mat[idx_ipj, idx_i] += j\n",
    "    \n",
    "    ed = time()\n",
    "\n",
    "    print(\"Time taken to update HAL Matrix:\", ed-st)\n",
    "\n",
    "    return HAL_mat"
   ]
  },
  {
   "cell_type": "code",
   "execution_count": 13,
   "metadata": {},
   "outputs": [
    {
     "name": "stderr",
     "output_type": "stream",
     "text": [
      "100%|██████████| 109423043/109423043 [17:11<00:00, 106089.53it/s]"
     ]
    },
    {
     "name": "stdout",
     "output_type": "stream",
     "text": [
      "Time taken to update HAL Matrix: 1031.4236688613892\n"
     ]
    },
    {
     "name": "stderr",
     "output_type": "stream",
     "text": [
      "\n"
     ]
    }
   ],
   "source": [
    "# we process the whole batch together\n",
    "\n",
    "HAL_mat = HAL(\n",
    "                corpus_tokens=corpus_tokens,\n",
    "                corpus_vocab=corpus_vocab,\n",
    "                window_size=10,\n",
    "            )"
   ]
  },
  {
   "cell_type": "code",
   "execution_count": 7,
   "metadata": {},
   "outputs": [
    {
     "data": {
      "text/plain": [
       "'hal_matrix/HAL.pickle'"
      ]
     },
     "execution_count": 7,
     "metadata": {},
     "output_type": "execute_result"
    }
   ],
   "source": [
    "hal_matrix_path = os.path.join('hal_matrix', 'HAL.pickle')\n",
    "hal_matrix_path"
   ]
  },
  {
   "cell_type": "code",
   "execution_count": 15,
   "metadata": {},
   "outputs": [],
   "source": [
    "# saving the HAL Matrix\n",
    "'''\n",
    "fh = open(hal_matrix_path, \"wb\")\n",
    "pickle.dump(HAL_mat, fh)\n",
    "fh.close()\n",
    "'''"
   ]
  },
  {
   "cell_type": "code",
   "execution_count": 8,
   "metadata": {},
   "outputs": [],
   "source": [
    "# loading the HAL Matrix\n",
    "fh = open(hal_matrix_path, 'rb')\n",
    "HAL_mat = pickle.load(fh)\n",
    "fh.close()"
   ]
  },
  {
   "cell_type": "code",
   "execution_count": 16,
   "metadata": {},
   "outputs": [],
   "source": [
    "def word_vec(word, corpus_vocab, HAL_mat):\n",
    "    if word not in corpus_vocab:\n",
    "        print(\"Word not found in Vocabulary!\")\n",
    "        return None\n",
    "    else:\n",
    "        # extract the corpus vocabulary index into a dictionary\n",
    "        vocab_idx = dict((w,i) for i,w in enumerate(corpus_vocab))\n",
    "\n",
    "        # extract index of the word\n",
    "        word_idx = vocab_idx[word]\n",
    "\n",
    "        # extract vector corresponding to the word\n",
    "        word_vec = HAL_mat[word_idx]\n",
    "        \n",
    "        return word_vec"
   ]
  },
  {
   "cell_type": "code",
   "execution_count": 18,
   "metadata": {},
   "outputs": [],
   "source": [
    "def k_closest_words(tag_word, k, corpus_vocab, HAL_mat):\n",
    "    if tag_word not in corpus_vocab:\n",
    "        print(\"Word not found in Vocabulary!\")\n",
    "    else:\n",
    "        vocab_count = len(corpus_vocab)\n",
    "        \n",
    "        # extract the corpus vocabulary index into a dictionary\n",
    "        vocab_idx = dict((w,i) for i,w in enumerate(corpus_vocab))\n",
    "        # extract the word_idx to word correspondence into a dictionary\n",
    "        idx_to_word = dict((i,w) for i,w in enumerate(corpus_vocab))\n",
    "\n",
    "        # extract index of the word\n",
    "        tag_word_idx = vocab_idx[tag_word]\n",
    "\n",
    "        # extract vector corresponding to the word\n",
    "        tag_word_vec = HAL_mat[tag_word_idx]\n",
    "        tag_word_vec_norm = np.linalg.norm(tag_word_vec)\n",
    "        if tag_word_vec_norm != 0:\n",
    "            tag_word_vec = tag_word_vec/tag_word_vec_norm\n",
    "\n",
    "\n",
    "        # initialize queue to hold distance\n",
    "        nearest_k_queue = []\n",
    "\n",
    "        for i in tqdm(range(vocab_count)):\n",
    "            word_vec = HAL_mat[i]\n",
    "            word_vec_norm = np.linalg.norm(word_vec)\n",
    "            if word_vec_norm != 0:\n",
    "                word_vec = word_vec/word_vec_norm\n",
    "\n",
    "            # calculate distance\n",
    "            word_dist = tag_word_vec-word_vec\n",
    "            \n",
    "\n",
    "            word_dist = np.linalg.norm(tag_word_vec-word_vec)\n",
    "\n",
    "            if len(nearest_k_queue) < k+1:\n",
    "                heapq.heappush(nearest_k_queue, (-word_dist, i))\n",
    "            else:\n",
    "                # extract the kth nearest distance from tag_word in the nearest_k_queue\n",
    "                kth_dist = - nearest_k_queue[0][0]\n",
    "\n",
    "                # update nearest_k_queue\n",
    "                if word_dist < kth_dist:\n",
    "                    heapq.heappop(nearest_k_queue)\n",
    "                    heapq.heappush(nearest_k_queue, (-word_dist, i))\n",
    "        \n",
    "\n",
    "        nearest_k_queue = list(sorted(nearest_k_queue, reverse=True))\n",
    "\n",
    "        print(\"Nearest \" + str(k) + \" words:\")\n",
    "        for (i, (neg_dist, word_idx)) in enumerate(nearest_k_queue):\n",
    "            nearest_k_queue[i] = -neg_dist, word_idx\n",
    "            # print nearest words\n",
    "            word = idx_to_word[word_idx]\n",
    "            print(word + \"               ||  Distance: \" + str(-neg_dist))\n",
    "        \n",
    "        return nearest_k_queue"
   ]
  },
  {
   "cell_type": "code",
   "execution_count": 12,
   "metadata": {},
   "outputs": [
    {
     "name": "stderr",
     "output_type": "stream",
     "text": [
      "100%|██████████| 32133/32133 [00:04<00:00, 7144.41it/s]"
     ]
    },
    {
     "name": "stdout",
     "output_type": "stream",
     "text": [
      "Nearest 5 words:\n",
      "covid               ||  Distance: 0.0\n",
      "ongoing               ||  Distance: 0.387042179672142\n",
      "urgent               ||  Distance: 0.4090130861973963\n",
      "severely               ||  Distance: 0.43000372286915733\n",
      "vigilant               ||  Distance: 0.44246018513104923\n",
      "urgency               ||  Distance: 0.4475025552750839\n"
     ]
    },
    {
     "name": "stderr",
     "output_type": "stream",
     "text": [
      "\n"
     ]
    }
   ],
   "source": [
    "_ = k_closest_words(\n",
    "    tag_word='covid',\n",
    "    k=5,\n",
    "    corpus_vocab=corpus_vocab,\n",
    "    HAL_mat=HAL_mat\n",
    ")"
   ]
  },
  {
   "cell_type": "code",
   "execution_count": 31,
   "metadata": {},
   "outputs": [
    {
     "name": "stderr",
     "output_type": "stream",
     "text": [
      "100%|██████████| 32133/32133 [00:04<00:00, 7013.61it/s]"
     ]
    },
    {
     "name": "stdout",
     "output_type": "stream",
     "text": [
      "Nearest 5 words:\n",
      "travel               ||  Distance: 0.0\n",
      "traveler               ||  Distance: 0.4878580340857557\n",
      "abroad               ||  Distance: 0.5191748683611999\n",
      "traveller               ||  Distance: 0.5466008619189272\n",
      "overseas               ||  Distance: 0.5585505284364755\n",
      "arrive               ||  Distance: 0.5716317081210442\n"
     ]
    },
    {
     "name": "stderr",
     "output_type": "stream",
     "text": [
      "\n"
     ]
    }
   ],
   "source": [
    "_ = k_closest_words(\n",
    "    tag_word='travel',\n",
    "    k=5,\n",
    "    corpus_vocab=corpus_vocab,\n",
    "    HAL_mat=HAL_mat\n",
    ")"
   ]
  },
  {
   "cell_type": "code",
   "execution_count": 31,
   "metadata": {},
   "outputs": [
    {
     "name": "stderr",
     "output_type": "stream",
     "text": [
      "100%|██████████| 32133/32133 [00:04<00:00, 6638.89it/s]"
     ]
    },
    {
     "name": "stdout",
     "output_type": "stream",
     "text": [
      "Nearest 5 words:\n",
      "country               ||  Distance: 0.0\n",
      "brazil               ||  Distance: 0.4421653388783842\n",
      "continent               ||  Distance: 0.4569634026232744\n",
      "territory               ||  Distance: 0.45781450240832666\n",
      "spain               ||  Distance: 0.4684622379216126\n",
      "italy               ||  Distance: 0.48327373595709844\n"
     ]
    },
    {
     "name": "stderr",
     "output_type": "stream",
     "text": [
      "\n"
     ]
    }
   ],
   "source": [
    "_ = k_closest_words(\n",
    "    tag_word='country',\n",
    "    k=5,\n",
    "    corpus_vocab=corpus_vocab,\n",
    "    HAL_mat=HAL_mat\n",
    ")"
   ]
  },
  {
   "cell_type": "code",
   "execution_count": 20,
   "metadata": {},
   "outputs": [
    {
     "name": "stderr",
     "output_type": "stream",
     "text": [
      "100%|██████████| 32133/32133 [00:06<00:00, 5354.78it/s]"
     ]
    },
    {
     "name": "stdout",
     "output_type": "stream",
     "text": [
      "Nearest 5 words:\n",
      "marijuana               ||  Distance: 0.0\n",
      "casual               ||  Distance: 0.8756763760570967\n",
      "report               ||  Distance: 0.8767095547734073\n",
      "case               ||  Distance: 0.8824562105345342\n",
      "notice               ||  Distance: 0.8877136745958124\n",
      "fourth               ||  Distance: 0.8889641336526068\n"
     ]
    },
    {
     "name": "stderr",
     "output_type": "stream",
     "text": [
      "\n"
     ]
    }
   ],
   "source": [
    "_ = k_closest_words(\n",
    "    tag_word='marijuana',\n",
    "    k=5,\n",
    "    corpus_vocab=corpus_vocab,\n",
    "    HAL_mat=HAL_mat\n",
    ")"
   ]
  },
  {
   "cell_type": "code",
   "execution_count": 21,
   "metadata": {},
   "outputs": [
    {
     "name": "stderr",
     "output_type": "stream",
     "text": [
      "100%|██████████| 32133/32133 [00:04<00:00, 6492.86it/s]"
     ]
    },
    {
     "name": "stdout",
     "output_type": "stream",
     "text": [
      "Nearest 5 words:\n",
      "disease               ||  Distance: 0.0\n",
      "underlie               ||  Distance: 0.34295891430426834\n",
      "afflict               ||  Distance: 0.3508218705383072\n",
      "preexist               ||  Distance: 0.38358701673546736\n",
      "chronic               ||  Distance: 0.3838702557965244\n",
      "morbidity               ||  Distance: 0.4071870008596056\n"
     ]
    },
    {
     "name": "stderr",
     "output_type": "stream",
     "text": [
      "\n"
     ]
    }
   ],
   "source": [
    "_ = k_closest_words(\n",
    "    tag_word='disease',\n",
    "    k=5,\n",
    "    corpus_vocab=corpus_vocab,\n",
    "    HAL_mat=HAL_mat\n",
    ")"
   ]
  },
  {
   "cell_type": "code",
   "execution_count": 22,
   "metadata": {},
   "outputs": [
    {
     "name": "stderr",
     "output_type": "stream",
     "text": [
      "100%|██████████| 32133/32133 [00:04<00:00, 6617.64it/s]"
     ]
    },
    {
     "name": "stdout",
     "output_type": "stream",
     "text": [
      "Nearest 5 words:\n",
      "hospital               ||  Distance: 0.0\n",
      "inpatient               ||  Distance: 0.31209979621604156\n",
      "admit               ||  Distance: 0.34378883977871627\n",
      "outpatient               ||  Distance: 0.369771786049285\n",
      "ambulatory               ||  Distance: 0.39317167243055545\n",
      "intensive               ||  Distance: 0.3982923711299015\n"
     ]
    },
    {
     "name": "stderr",
     "output_type": "stream",
     "text": [
      "\n"
     ]
    }
   ],
   "source": [
    "_ = k_closest_words(\n",
    "    tag_word='hospital',\n",
    "    k=5,\n",
    "    corpus_vocab=corpus_vocab,\n",
    "    HAL_mat=HAL_mat\n",
    ")"
   ]
  },
  {
   "attachments": {},
   "cell_type": "markdown",
   "metadata": {},
   "source": [
    "# 3. Visualizing Distances"
   ]
  },
  {
   "cell_type": "code",
   "execution_count": 14,
   "metadata": {},
   "outputs": [],
   "source": [
    "HAL_mat_scaled = HAL_mat/np.linalg.norm(HAL_mat)"
   ]
  },
  {
   "cell_type": "code",
   "execution_count": 15,
   "metadata": {},
   "outputs": [],
   "source": [
    "pca = PCA(n_components=200)\n",
    "HAL_mat_scaled_pca = pca.fit_transform(HAL_mat_scaled)"
   ]
  },
  {
   "cell_type": "code",
   "execution_count": 16,
   "metadata": {},
   "outputs": [
    {
     "data": {
      "text/plain": [
       "'hal_matrix/HAL_scaled_pca200.pickle'"
      ]
     },
     "execution_count": 16,
     "metadata": {},
     "output_type": "execute_result"
    }
   ],
   "source": [
    "hal_matrix_scaled_pca_path = os.path.join('hal_matrix', 'HAL_scaled_pca200.pickle')\n",
    "hal_matrix_scaled_pca_path"
   ]
  },
  {
   "cell_type": "code",
   "execution_count": 17,
   "metadata": {},
   "outputs": [],
   "source": [
    "# saving the HAL Matrix PCA\n",
    "'''\n",
    "fh = open(hal_matrix_scaled_pca_path, \"wb\")\n",
    "pickle.dump(HAL_mat_scaled_pca, fh)\n",
    "fh.close()\n",
    "'''"
   ]
  },
  {
   "cell_type": "code",
   "execution_count": null,
   "metadata": {},
   "outputs": [],
   "source": [
    "# loading the HAL Matrix PCA\n",
    "fh = open(hal_matrix_scaled_pca_path, 'rb')\n",
    "HAL_mat_scaled_pca = pickle.load(fh)\n",
    "fh.close()"
   ]
  },
  {
   "cell_type": "code",
   "execution_count": 24,
   "metadata": {},
   "outputs": [],
   "source": [
    "def plot_k_closest_words(tag_word, k, corpus_vocab, HAL_mat, HAL_mat_pca):\n",
    "    # extract the word_idx to word correspondence into a dictionary\n",
    "    idx_to_word = dict((i,w) for i,w in enumerate(corpus_vocab))\n",
    "    \n",
    "    # extract nearest k words\n",
    "    nearest_k_words = k_closest_words(tag_word, k, corpus_vocab, HAL_mat)\n",
    "    \n",
    "    # word_vec list\n",
    "    word_vecs = []\n",
    "    for (dist, word_idx) in nearest_k_words:\n",
    "        word_vec_pca = HAL_mat_pca[word_idx]\n",
    "        word_vecs.append(word_vec_pca)\n",
    "    \n",
    "    word_vecs = np.array(word_vecs)\n",
    "    word_vecs_embed = TSNE(n_components=2, perplexity=3).fit_transform(word_vecs)\n",
    "    x,y = word_vecs_embed[:,0], word_vecs_embed[:,1]\n",
    "\n",
    "    print(\"\")\n",
    "    plt.figure()\n",
    "    plt.scatter(x,y)\n",
    "    for (i, (_, word_idx)) in enumerate(nearest_k_words):\n",
    "        word = idx_to_word[word_idx]\n",
    "        plt.annotate(word, (x[i],y[i]))\n",
    "    plt.title(\"TNSE Plot\")\n",
    "    plt.show()    "
   ]
  },
  {
   "cell_type": "code",
   "execution_count": 25,
   "metadata": {},
   "outputs": [
    {
     "name": "stderr",
     "output_type": "stream",
     "text": [
      "100%|██████████| 32133/32133 [00:04<00:00, 6622.86it/s]\n"
     ]
    },
    {
     "name": "stdout",
     "output_type": "stream",
     "text": [
      "Nearest 10 words:\n",
      "covid               ||  Distance: 0.0\n",
      "ongoing               ||  Distance: 0.387042179672142\n",
      "urgent               ||  Distance: 0.4090130861973963\n",
      "severely               ||  Distance: 0.43000372286915733\n",
      "vigilant               ||  Distance: 0.44246018513104923\n",
      "urgency               ||  Distance: 0.4475025552750839\n",
      "anecdotal               ||  Distance: 0.4489786298120328\n",
      "pandemic               ||  Distance: 0.44929037267443434\n",
      "reassure               ||  Distance: 0.45012921646741216\n",
      "escalate               ||  Distance: 0.45194285990520977\n",
      "scarce               ||  Distance: 0.45524596124932304\n",
      "\n"
     ]
    },
    {
     "data": {
      "image/png": "[encoded data removed]",
      "text/plain": [
       "<Figure size 640x480 with 1 Axes>"
      ]
     },
     "metadata": {},
     "output_type": "display_data"
    }
   ],
   "source": [
    "plot_k_closest_words(\n",
    "    tag_word='covid',\n",
    "    k=10,\n",
    "    corpus_vocab=corpus_vocab,\n",
    "    HAL_mat=HAL_mat,\n",
    "    HAL_mat_pca=HAL_mat_scaled_pca\n",
    ")"
   ]
  },
  {
   "cell_type": "code",
   "execution_count": 27,
   "metadata": {},
   "outputs": [
    {
     "name": "stderr",
     "output_type": "stream",
     "text": [
      "100%|██████████| 32133/32133 [00:04<00:00, 6560.66it/s]\n"
     ]
    },
    {
     "name": "stdout",
     "output_type": "stream",
     "text": [
      "Nearest 10 words:\n",
      "travel               ||  Distance: 0.0\n",
      "traveler               ||  Distance: 0.4878580340857557\n",
      "abroad               ||  Distance: 0.5191748683611999\n",
      "traveller               ||  Distance: 0.5466008619189272\n",
      "overseas               ||  Distance: 0.5585505284364755\n",
      "arrive               ||  Distance: 0.5716317081210442\n",
      "impose               ||  Distance: 0.5832211736446828\n",
      "internationally               ||  Distance: 0.6004146503460965\n",
      "strict               ||  Distance: 0.6122943952989055\n",
      "close               ||  Distance: 0.6142165084950754\n",
      "spread               ||  Distance: 0.6179010404660625\n",
      "\n"
     ]
    },
    {
     "data": {
      "image/png": "[encoded data removed]",
      "text/plain": [
       "<Figure size 640x480 with 1 Axes>"
      ]
     },
     "metadata": {},
     "output_type": "display_data"
    }
   ],
   "source": [
    "plot_k_closest_words(\n",
    "    tag_word='travel',\n",
    "    k=10,\n",
    "    corpus_vocab=corpus_vocab,\n",
    "    HAL_mat=HAL_mat,\n",
    "    HAL_mat_pca=HAL_mat_scaled_pca\n",
    ")"
   ]
  },
  {
   "cell_type": "code",
   "execution_count": 32,
   "metadata": {},
   "outputs": [
    {
     "name": "stderr",
     "output_type": "stream",
     "text": [
      "100%|██████████| 32133/32133 [00:04<00:00, 6514.14it/s]\n"
     ]
    },
    {
     "name": "stdout",
     "output_type": "stream",
     "text": [
      "Nearest 10 words:\n",
      "country               ||  Distance: 0.0\n",
      "brazil               ||  Distance: 0.4421653388783842\n",
      "continent               ||  Distance: 0.4569634026232744\n",
      "territory               ||  Distance: 0.45781450240832666\n",
      "spain               ||  Distance: 0.4684622379216126\n",
      "italy               ||  Distance: 0.48327373595709844\n",
      "south               ||  Distance: 0.483960196093335\n",
      "world               ||  Distance: 0.48520427738453487\n",
      "internationally               ||  Distance: 0.4853225003654655\n",
      "pakistan               ||  Distance: 0.48669467170121394\n",
      "europe               ||  Distance: 0.4893458361672787\n",
      "\n"
     ]
    },
    {
     "data": {
      "image/png": "[encoded data removed]",
      "text/plain": [
       "<Figure size 640x480 with 1 Axes>"
      ]
     },
     "metadata": {},
     "output_type": "display_data"
    }
   ],
   "source": [
    "plot_k_closest_words(\n",
    "    tag_word='country',\n",
    "    k=10,\n",
    "    corpus_vocab=corpus_vocab,\n",
    "    HAL_mat=HAL_mat,\n",
    "    HAL_mat_pca=HAL_mat_scaled_pca\n",
    ")"
   ]
  },
  {
   "cell_type": "code",
   "execution_count": 28,
   "metadata": {},
   "outputs": [
    {
     "name": "stderr",
     "output_type": "stream",
     "text": [
      "100%|██████████| 32133/32133 [00:04<00:00, 6602.88it/s]\n"
     ]
    },
    {
     "name": "stdout",
     "output_type": "stream",
     "text": [
      "Nearest 10 words:\n",
      "marijuana               ||  Distance: 0.0\n",
      "casual               ||  Distance: 0.8756763760570967\n",
      "report               ||  Distance: 0.8767095547734073\n",
      "case               ||  Distance: 0.8824562105345342\n",
      "notice               ||  Distance: 0.8877136745958124\n",
      "fourth               ||  Distance: 0.8889641336526068\n",
      "deny               ||  Distance: 0.8923456330247792\n",
      "greater               ||  Distance: 0.8938345181238048\n",
      "note               ||  Distance: 0.8948281648401264\n",
      "proportion               ||  Distance: 0.8951716633784217\n",
      "fewer               ||  Distance: 0.8955052293849584\n",
      "\n"
     ]
    },
    {
     "data": {
      "image/png": "[encoded data removed]",
      "text/plain": [
       "<Figure size 640x480 with 1 Axes>"
      ]
     },
     "metadata": {},
     "output_type": "display_data"
    }
   ],
   "source": [
    "plot_k_closest_words(\n",
    "    tag_word='marijuana',\n",
    "    k=10,\n",
    "    corpus_vocab=corpus_vocab,\n",
    "    HAL_mat=HAL_mat,\n",
    "    HAL_mat_pca=HAL_mat_scaled_pca\n",
    ")"
   ]
  },
  {
   "cell_type": "code",
   "execution_count": 29,
   "metadata": {},
   "outputs": [
    {
     "name": "stderr",
     "output_type": "stream",
     "text": [
      "100%|██████████| 32133/32133 [00:04<00:00, 6538.11it/s]\n"
     ]
    },
    {
     "name": "stdout",
     "output_type": "stream",
     "text": [
      "Nearest 10 words:\n",
      "disease               ||  Distance: 0.0\n",
      "underlie               ||  Distance: 0.34295891430426834\n",
      "afflict               ||  Distance: 0.3508218705383072\n",
      "preexist               ||  Distance: 0.38358701673546736\n",
      "chronic               ||  Distance: 0.3838702557965244\n",
      "morbidity               ||  Distance: 0.4071870008596056\n",
      "infectious               ||  Distance: 0.4079327867188203\n",
      "progress               ||  Distance: 0.40985497684758243\n",
      "manifest               ||  Distance: 0.41669367616482633\n",
      "fatal               ||  Distance: 0.41848238073644806\n",
      "especially               ||  Distance: 0.42443952434682397\n",
      "\n"
     ]
    },
    {
     "data": {
      "image/png": "[encoded data removed]",
      "text/plain": [
       "<Figure size 640x480 with 1 Axes>"
      ]
     },
     "metadata": {},
     "output_type": "display_data"
    }
   ],
   "source": [
    "plot_k_closest_words(\n",
    "    tag_word='disease',\n",
    "    k=10,\n",
    "    corpus_vocab=corpus_vocab,\n",
    "    HAL_mat=HAL_mat,\n",
    "    HAL_mat_pca=HAL_mat_scaled_pca\n",
    ")"
   ]
  },
  {
   "cell_type": "code",
   "execution_count": 30,
   "metadata": {},
   "outputs": [
    {
     "name": "stderr",
     "output_type": "stream",
     "text": [
      "100%|██████████| 32133/32133 [00:04<00:00, 6607.69it/s]\n"
     ]
    },
    {
     "name": "stdout",
     "output_type": "stream",
     "text": [
      "Nearest 10 words:\n",
      "hospital               ||  Distance: 0.0\n",
      "inpatient               ||  Distance: 0.31209979621604156\n",
      "admit               ||  Distance: 0.34378883977871627\n",
      "outpatient               ||  Distance: 0.369771786049285\n",
      "ambulatory               ||  Distance: 0.39317167243055545\n",
      "intensive               ||  Distance: 0.3982923711299015\n",
      "tertiary               ||  Distance: 0.4010801448364555\n",
      "referral               ||  Distance: 0.4091421708366363\n",
      "department               ||  Distance: 0.4218822288942798\n",
      "admission               ||  Distance: 0.4229855774831047\n",
      "hospitalize               ||  Distance: 0.43470559156722643\n",
      "\n"
     ]
    },
    {
     "data": {
      "image/png": "[encoded data removed]",
      "text/plain": [
       "<Figure size 640x480 with 1 Axes>"
      ]
     },
     "metadata": {},
     "output_type": "display_data"
    }
   ],
   "source": [
    "plot_k_closest_words(\n",
    "    tag_word='hospital',\n",
    "    k=10,\n",
    "    corpus_vocab=corpus_vocab,\n",
    "    HAL_mat=HAL_mat,\n",
    "    HAL_mat_pca=HAL_mat_scaled_pca\n",
    ")"
   ]
  }
 ],
 "metadata": {
  "kernelspec": {
   "display_name": "base_env",
   "language": "python",
   "name": "python3"
  },
  "language_info": {
   "codemirror_mode": {
    "name": "ipython",
    "version": 3
   },
   "file_extension": ".py",
   "mimetype": "text/x-python",
   "name": "python",
   "nbconvert_exporter": "python",
   "pygments_lexer": "ipython3",
   "version": "3.9.6"
  },
  "orig_nbformat": 4,
  "vscode": {
   "interpreter": {
    "hash": "2395b043a5373adde0b52d24776553eeb7a0bda4cf211af66f470cac9504b9e5"
   }
  }
 },
 "nbformat": 4,
 "nbformat_minor": 2
}
