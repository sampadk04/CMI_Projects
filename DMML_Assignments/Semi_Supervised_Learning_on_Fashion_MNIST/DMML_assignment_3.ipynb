{
 "cells": [
  {
   "cell_type": "markdown",
   "metadata": {},
   "source": [
    "# Clustering for Semi-Supervised Learning on Fashion MNIST dataset\n",
    "\n",
    "by\n",
    "- Sampad Kumar Kar\n",
    "- Shankar Ram Vasudevan"
   ]
  },
  {
   "cell_type": "markdown",
   "metadata": {},
   "source": [
    "# The Dataset\n",
    "\n",
    "## Context\n",
    "\n",
    "Fashion-MNIST is a dataset of Zalando's article images—consisting of a training set of 60,000 examples and a test set of 10,000 examples. Each example is a 28x28 grayscale image, associated with a label from 10 classes. Zalando intends Fashion-MNIST to serve as a direct drop-in replacement for the original MNIST dataset for benchmarking machine learning algorithms. It shares the same image size and structure of training and testing splits.\n",
    "\n",
    "The original MNIST dataset contains a lot of handwritten digits. Members of the AI/ML/Data Science community love this dataset and use it as a benchmark to validate their algorithms. In fact, MNIST is often the first dataset researchers try. \"If it doesn't work on MNIST, it won't work at all\", they said. \"Well, if it does work on MNIST, it may still fail on others.\"\n",
    "\n",
    "Zalando seeks to replace the original MNIST dataset\n",
    "\n",
    "## Content\n",
    "\n",
    "Each image is 28 pixels in height and 28 pixels in width, for a total of 784 pixels in total. Each pixel has a single pixel-value associated with it, indicating the lightness or darkness of that pixel, with higher numbers meaning darker. This pixel-value is an integer between 0 and 255. The training and test data sets have 785 columns. The first column consists of the class labels (see above), and represents the article of clothing. The rest of the columns contain the pixel-values of the associated image.\n",
    "\n",
    "To locate a pixel on the image, suppose that we have decomposed x as x = i * 28 + j, where i and j are integers between 0 and 27. The pixel is located on row i and column j of a 28 x 28 matrix.\n",
    "For example, pixel31 indicates the pixel that is in the fourth column from the left, and the second row from the top, as in the ascii-diagram below.\n",
    "\n",
    "\n",
    "## Labels\n",
    "\n",
    "Each training and test example is assigned to one of the following labels:\n",
    "\n",
    "- `0` T-shirt/top\n",
    "- `1` Trouser\n",
    "- `2` Pullover\n",
    "- `3` Dress\n",
    "- `4` Coat\n",
    "- `5` Sandal\n",
    "- `6` Shirt\n",
    "- `7` Sneaker\n",
    "- `8` Bag\n",
    "- `9` Ankle boot\n",
    "\n",
    "\n",
    "## Dataset Summary\n",
    "\n",
    "- Each row is a separate image\n",
    "- Column `1` is the class label.\n",
    "- Remaining columns are pixel numbers (`784` total).\n",
    "- Each value is the darkness of the pixel (`1` to `255`)"
   ]
  },
  {
   "cell_type": "markdown",
   "metadata": {},
   "source": [
    "# Imports"
   ]
  },
  {
   "cell_type": "code",
   "execution_count": 3,
   "metadata": {},
   "outputs": [],
   "source": [
    "import numpy as np\n",
    "import pandas as pd\n",
    "import matplotlib.pyplot as plt\n",
    "import seaborn as sns\n",
    "\n",
    "%matplotlib inline\n",
    "\n",
    "import tensorflow as tf\n",
    "from tensorflow import keras\n",
    "\n",
    "from sklearn.cluster import KMeans\n",
    "from sklearn.metrics import accuracy_score, classification_report"
   ]
  },
  {
   "cell_type": "code",
   "execution_count": 4,
   "metadata": {},
   "outputs": [],
   "source": [
    "np.random.seed(42)\n",
    "tf.random.set_seed(42)"
   ]
  },
  {
   "cell_type": "code",
   "execution_count": 18,
   "metadata": {},
   "outputs": [
    {
     "name": "stdout",
     "output_type": "stream",
     "text": [
      "Tensorflow Version:  2.7.0\n",
      "Keras Version:  2.7.0\n"
     ]
    }
   ],
   "source": [
    "print(\"Tensorflow Version: \", tf.__version__)\n",
    "print(\"Keras Version: \", keras.__version__)"
   ]
  },
  {
   "cell_type": "markdown",
   "metadata": {},
   "source": [
    "# Loading the Dataset\n",
    "\n",
    "We first load and analyse the fashion MNIST dataset.\n",
    "\n",
    "Note: The dataset is already split into training and test sets for us."
   ]
  },
  {
   "cell_type": "code",
   "execution_count": 5,
   "metadata": {},
   "outputs": [],
   "source": [
    "fashion_mnist = keras.datasets.fashion_mnist\n",
    "(X_train_full, y_train_full), (X_test, y_test) = fashion_mnist.load_data()"
   ]
  },
  {
   "cell_type": "code",
   "execution_count": 4,
   "metadata": {},
   "outputs": [
    {
     "name": "stdout",
     "output_type": "stream",
     "text": [
      "(60000, 28, 28)\n",
      "(10000, 28, 28)\n"
     ]
    }
   ],
   "source": [
    "print(X_train_full.shape)\n",
    "print(X_test.shape)"
   ]
  },
  {
   "cell_type": "markdown",
   "metadata": {},
   "source": [
    "As we can see, the training set contains 60000 examples and the test set contains 10000 examples.\n",
    "\n",
    "Each example here represents a $28 \\times 28$ greyscale image."
   ]
  },
  {
   "cell_type": "code",
   "execution_count": 5,
   "metadata": {},
   "outputs": [
    {
     "data": {
      "text/plain": [
       "dtype('uint8')"
      ]
     },
     "execution_count": 5,
     "metadata": {},
     "output_type": "execute_result"
    }
   ],
   "source": [
    "X_train_full.dtype"
   ]
  },
  {
   "cell_type": "markdown",
   "metadata": {},
   "source": [
    "Each entry represents a pixel intensity, which is an integer between `0` to `255`.\n",
    "\n",
    "We now split the full training set into a validation set and (smaller) training set. We also scale the pixel intensities down to the `0-1` range and convert them into floats by dividing by `255`."
   ]
  },
  {
   "cell_type": "code",
   "execution_count": 6,
   "metadata": {},
   "outputs": [],
   "source": [
    "X_valid, X_train = X_train_full[:5000]/255., X_train_full[5000:]/255.\n",
    "y_valid, y_train = y_train_full[:5000], y_train_full[5000:]\n",
    "X_test = X_test/255."
   ]
  },
  {
   "cell_type": "markdown",
   "metadata": {},
   "source": [
    "Note that the labels are class IDs (represented as integers), from `0` to `9`."
   ]
  },
  {
   "cell_type": "code",
   "execution_count": 8,
   "metadata": {},
   "outputs": [
    {
     "data": {
      "text/plain": [
       "dtype('uint8')"
      ]
     },
     "execution_count": 8,
     "metadata": {},
     "output_type": "execute_result"
    }
   ],
   "source": [
    "y_train.dtype"
   ]
  },
  {
   "cell_type": "markdown",
   "metadata": {},
   "source": [
    "Here are the corresponding class names, which we store them in an array to use them."
   ]
  },
  {
   "cell_type": "code",
   "execution_count": 7,
   "metadata": {},
   "outputs": [],
   "source": [
    "class_names = [\"T-shirt/top\", \"Trouser\", \"Pullover\", \"Dress\", \"Coat\",\n",
    "               \"Sandal\", \"Shirt\", \"Sneaker\", \"Bag\", \"Ankle boot\"]"
   ]
  },
  {
   "cell_type": "markdown",
   "metadata": {},
   "source": [
    "# Data Visualization"
   ]
  },
  {
   "cell_type": "markdown",
   "metadata": {},
   "source": [
    "We pick a few images (images are already shuffled in the dataset) and display them with their respective labels."
   ]
  },
  {
   "cell_type": "code",
   "execution_count": 14,
   "metadata": {},
   "outputs": [
    {
     "data": {
      "image/png": "[encoded data removed]",
      "text/plain": [
       "<Figure size 720x720 with 16 Axes>"
      ]
     },
     "metadata": {
      "needs_background": "light"
     },
     "output_type": "display_data"
    }
   ],
   "source": [
    "num_images = 16 # We will display the first 9 images\n",
    "factor = int(np.sqrt(num_images))\n",
    "\n",
    "fig,ax = plt.subplots(nrows=factor, ncols=factor, figsize=(10,10))\n",
    "# We plot 'num_images' many images starting from the 'index = 0'\n",
    "index = 0\n",
    "for row in range(factor):\n",
    "    for col in range(factor):\n",
    "        ax[row,col].imshow(X_train[index], cmap='gray')\n",
    "        ax[row,col].set_title('Label: ' + class_names[y_train[index]])\n",
    "        ax[row,col].set_axis_off()\n",
    "        index += 1\n",
    "\n",
    "plt.show()"
   ]
  },
  {
   "cell_type": "markdown",
   "metadata": {},
   "source": [
    "If we closely observe, we can see that there are moderate variations in the appearance of the images (say, the first image, i.e. the image of `Coat`\n",
    "). These matrices are also close to sparse (that is, ther are lots of zeros (black pixels) in the matrix than non-zero pixels)."
   ]
  },
  {
   "cell_type": "markdown",
   "metadata": {},
   "source": [
    "Let's look at a single example first."
   ]
  },
  {
   "cell_type": "code",
   "execution_count": 13,
   "metadata": {},
   "outputs": [
    {
     "data": {
      "image/png": "[encoded data removed]",
      "text/plain": [
       "<Figure size 432x432 with 1 Axes>"
      ]
     },
     "metadata": {
      "needs_background": "light"
     },
     "output_type": "display_data"
    }
   ],
   "source": [
    "plt.figure(figsize=(6,6))\n",
    "index = 0\n",
    "plt.imshow(X_train[index], cmap='gray')\n",
    "plt.title('Label: ' + class_names[y_train[index]])\n",
    "plt.show()"
   ]
  },
  {
   "cell_type": "markdown",
   "metadata": {},
   "source": [
    "Before proceeding further, we need to check whether the dataset is balanced or imbalanced. We can do it by plotting the distribution of samples in each class."
   ]
  },
  {
   "cell_type": "code",
   "execution_count": 15,
   "metadata": {},
   "outputs": [
    {
     "data": {
      "image/png": "[encoded data removed]",
      "text/plain": [
       "<Figure size 576x288 with 1 Axes>"
      ]
     },
     "metadata": {
      "needs_background": "light"
     },
     "output_type": "display_data"
    }
   ],
   "source": [
    "plt.figure(figsize=(8,4))\n",
    "sns.histplot(data=y_train, binwidth=0.45, bins=11)\n",
    "plt.xticks(ticks=np.arange(10), labels=np.arange(10))\n",
    "plt.xlabel('Class')\n",
    "plt.title('Distribution of Samples')\n",
    "plt.show()"
   ]
  },
  {
   "cell_type": "markdown",
   "metadata": {},
   "source": [
    "The data seems pretty balanced, as each label is almost equally represented."
   ]
  },
  {
   "cell_type": "markdown",
   "metadata": {},
   "source": [
    "# Semi-Supervised Learning"
   ]
  },
  {
   "cell_type": "markdown",
   "metadata": {},
   "source": [
    "# Neural Network\n",
    "\n",
    "Before we start with any learning, we define the neural netwrok first. In this notebook, we start with a network with 4 layers-\n",
    "- First layer with $784$ nodes (which is the flattened version of the $28 \\times 28$ input)\n",
    "- $2$ hidden layers with $300$ and $100$ nodes respectively, with `relu` as the activation.\n",
    "- Lastly we have the output layer consisting of $10$ nodes corresponding the `10` possible labels, along with `softmax` activation."
   ]
  },
  {
   "cell_type": "code",
   "execution_count": 19,
   "metadata": {},
   "outputs": [
    {
     "name": "stdout",
     "output_type": "stream",
     "text": [
      "Metal device set to: Apple M1\n",
      "\n",
      "systemMemory: 8.00 GB\n",
      "maxCacheSize: 2.67 GB\n",
      "\n"
     ]
    },
    {
     "name": "stderr",
     "output_type": "stream",
     "text": [
      "2022-05-20 09:33:53.177906: I tensorflow/core/common_runtime/pluggable_device/pluggable_device_factory.cc:305] Could not identify NUMA node of platform GPU ID 0, defaulting to 0. Your kernel may not have been built with NUMA support.\n",
      "2022-05-20 09:33:53.179621: I tensorflow/core/common_runtime/pluggable_device/pluggable_device_factory.cc:271] Created TensorFlow device (/job:localhost/replica:0/task:0/device:GPU:0 with 0 MB memory) -> physical PluggableDevice (device: 0, name: METAL, pci bus id: <undefined>)\n"
     ]
    }
   ],
   "source": [
    "keras.backend.clear_session()\n",
    "\n",
    "model = keras.models.Sequential([\n",
    "    keras.layers.Flatten(input_shape=[28, 28]),\n",
    "    keras.layers.Dense(300, activation=\"relu\"),\n",
    "    keras.layers.Dense(100, activation=\"relu\"),\n",
    "    keras.layers.Dense(10, activation=\"softmax\")\n",
    "])"
   ]
  },
  {
   "cell_type": "code",
   "execution_count": 20,
   "metadata": {},
   "outputs": [
    {
     "name": "stdout",
     "output_type": "stream",
     "text": [
      "Model: \"sequential\"\n",
      "_________________________________________________________________\n",
      " Layer (type)                Output Shape              Param #   \n",
      "=================================================================\n",
      " flatten (Flatten)           (None, 784)               0         \n",
      "                                                                 \n",
      " dense (Dense)               (None, 300)               235500    \n",
      "                                                                 \n",
      " dense_1 (Dense)             (None, 100)               30100     \n",
      "                                                                 \n",
      " dense_2 (Dense)             (None, 10)                1010      \n",
      "                                                                 \n",
      "=================================================================\n",
      "Total params: 266,610\n",
      "Trainable params: 266,610\n",
      "Non-trainable params: 0\n",
      "_________________________________________________________________\n"
     ]
    }
   ],
   "source": [
    "model.summary()"
   ]
  },
  {
   "cell_type": "markdown",
   "metadata": {},
   "source": [
    "Let's analyse one of the hidden layers before the training begins. We will be analysing the first hidden layer of this network."
   ]
  },
  {
   "cell_type": "code",
   "execution_count": 22,
   "metadata": {},
   "outputs": [
    {
     "data": {
      "text/plain": [
       "'dense'"
      ]
     },
     "execution_count": 22,
     "metadata": {},
     "output_type": "execute_result"
    }
   ],
   "source": [
    "hidden_layer_1 = model.layers[1]\n",
    "hidden_layer_1.name"
   ]
  },
  {
   "cell_type": "code",
   "execution_count": 26,
   "metadata": {},
   "outputs": [
    {
     "name": "stdout",
     "output_type": "stream",
     "text": [
      "(784, 300)\n",
      "(300,)\n"
     ]
    }
   ],
   "source": [
    "weights, biases = hidden_layer_1.get_weights()\n",
    "print(weights.shape, biases.shape, sep='\\n')"
   ]
  },
  {
   "cell_type": "markdown",
   "metadata": {},
   "source": [
    "Let's define the loss function and evaluation metric for the model."
   ]
  },
  {
   "cell_type": "code",
   "execution_count": 27,
   "metadata": {},
   "outputs": [],
   "source": [
    "model.compile(loss=\"sparse_categorical_crossentropy\",\n",
    "              optimizer=\"sgd\",\n",
    "              metrics=[\"accuracy\"])"
   ]
  },
  {
   "cell_type": "markdown",
   "metadata": {},
   "source": [
    "## Semi-Supervised Strategy 1\n",
    "\n",
    "As our first strategy, we train our model on just $50$ labelled instances and try evaluating it's performance on the test set."
   ]
  },
  {
   "cell_type": "code",
   "execution_count": 28,
   "metadata": {},
   "outputs": [],
   "source": [
    "n_labels = 50"
   ]
  },
  {
   "cell_type": "markdown",
   "metadata": {},
   "source": [
    "As a first test, we train on $200$ epochs and plot the learning curve."
   ]
  },
  {
   "cell_type": "code",
   "execution_count": 29,
   "metadata": {},
   "outputs": [
    {
     "name": "stderr",
     "output_type": "stream",
     "text": [
      "2022-05-20 09:58:39.262450: W tensorflow/core/platform/profile_utils/cpu_utils.cc:128] Failed to get CPU frequency: 0 Hz\n"
     ]
    },
    {
     "name": "stdout",
     "output_type": "stream",
     "text": [
      "Epoch 1/200\n"
     ]
    },
    {
     "name": "stderr",
     "output_type": "stream",
     "text": [
      "2022-05-20 09:58:39.493336: I tensorflow/core/grappler/optimizers/custom_graph_optimizer_registry.cc:112] Plugin optimizer for device_type GPU is enabled.\n"
     ]
    },
    {
     "name": "stdout",
     "output_type": "stream",
     "text": [
      "2/2 [==============================] - ETA: 0s - loss: 2.3010 - accuracy: 0.0800"
     ]
    },
    {
     "name": "stderr",
     "output_type": "stream",
     "text": [
      "2022-05-20 09:58:42.709287: I tensorflow/core/grappler/optimizers/custom_graph_optimizer_registry.cc:112] Plugin optimizer for device_type GPU is enabled.\n"
     ]
    },
    {
     "name": "stdout",
     "output_type": "stream",
     "text": [
      "2/2 [==============================] - 4s 1s/step - loss: 2.3010 - accuracy: 0.0800 - val_loss: 2.3168 - val_accuracy: 0.0996\n",
      "Epoch 2/200\n",
      "2/2 [==============================] - 1s 594ms/step - loss: 2.2019 - accuracy: 0.1800 - val_loss: 2.2725 - val_accuracy: 0.1258\n",
      "Epoch 3/200\n",
      "2/2 [==============================] - 1s 588ms/step - loss: 2.1225 - accuracy: 0.1800 - val_loss: 2.2357 - val_accuracy: 0.1506\n",
      "Epoch 4/200\n",
      "2/2 [==============================] - 1s 635ms/step - loss: 2.0506 - accuracy: 0.2400 - val_loss: 2.2023 - val_accuracy: 0.1724\n",
      "Epoch 5/200\n",
      "2/2 [==============================] - 1s 612ms/step - loss: 1.9880 - accuracy: 0.3200 - val_loss: 2.1723 - val_accuracy: 0.2060\n",
      "Epoch 6/200\n",
      "2/2 [==============================] - 1s 588ms/step - loss: 1.9263 - accuracy: 0.3800 - val_loss: 2.1487 - val_accuracy: 0.2166\n",
      "Epoch 7/200\n",
      "2/2 [==============================] - 1s 584ms/step - loss: 1.8761 - accuracy: 0.3800 - val_loss: 2.1191 - val_accuracy: 0.2520\n",
      "Epoch 8/200\n",
      "2/2 [==============================] - 1s 589ms/step - loss: 1.8234 - accuracy: 0.4800 - val_loss: 2.0950 - val_accuracy: 0.2714\n",
      "Epoch 9/200\n",
      "2/2 [==============================] - 1s 590ms/step - loss: 1.7742 - accuracy: 0.5000 - val_loss: 2.0737 - val_accuracy: 0.2758\n",
      "Epoch 10/200\n",
      "2/2 [==============================] - 1s 593ms/step - loss: 1.7377 - accuracy: 0.5200 - val_loss: 2.0524 - val_accuracy: 0.2734\n",
      "Epoch 11/200\n",
      "2/2 [==============================] - 1s 632ms/step - loss: 1.6935 - accuracy: 0.5200 - val_loss: 2.0310 - val_accuracy: 0.2834\n",
      "Epoch 12/200\n",
      "2/2 [==============================] - 1s 584ms/step - loss: 1.6563 - accuracy: 0.5400 - val_loss: 2.0155 - val_accuracy: 0.2842\n",
      "Epoch 13/200\n",
      "2/2 [==============================] - 1s 585ms/step - loss: 1.6173 - accuracy: 0.5200 - val_loss: 1.9976 - val_accuracy: 0.2898\n",
      "Epoch 14/200\n",
      "2/2 [==============================] - 1s 597ms/step - loss: 1.5811 - accuracy: 0.5200 - val_loss: 1.9789 - val_accuracy: 0.2948\n",
      "Epoch 15/200\n",
      "2/2 [==============================] - 1s 591ms/step - loss: 1.5469 - accuracy: 0.5400 - val_loss: 1.9550 - val_accuracy: 0.2968\n",
      "Epoch 16/200\n",
      "2/2 [==============================] - 1s 584ms/step - loss: 1.5187 - accuracy: 0.5600 - val_loss: 1.9388 - val_accuracy: 0.2922\n",
      "Epoch 17/200\n",
      "2/2 [==============================] - 1s 587ms/step - loss: 1.4875 - accuracy: 0.5400 - val_loss: 1.9254 - val_accuracy: 0.2900\n",
      "Epoch 18/200\n",
      "2/2 [==============================] - 1s 581ms/step - loss: 1.4540 - accuracy: 0.5600 - val_loss: 1.9075 - val_accuracy: 0.3054\n",
      "Epoch 19/200\n",
      "2/2 [==============================] - 1s 583ms/step - loss: 1.4281 - accuracy: 0.5800 - val_loss: 1.8911 - val_accuracy: 0.3026\n",
      "Epoch 20/200\n",
      "2/2 [==============================] - 1s 582ms/step - loss: 1.3995 - accuracy: 0.5600 - val_loss: 1.8737 - val_accuracy: 0.3082\n",
      "Epoch 21/200\n",
      "2/2 [==============================] - 1s 583ms/step - loss: 1.3719 - accuracy: 0.5600 - val_loss: 1.8544 - val_accuracy: 0.3310\n",
      "Epoch 22/200\n",
      "2/2 [==============================] - 1s 576ms/step - loss: 1.3453 - accuracy: 0.5600 - val_loss: 1.8353 - val_accuracy: 0.3426\n",
      "Epoch 23/200\n",
      "2/2 [==============================] - 1s 613ms/step - loss: 1.3208 - accuracy: 0.6000 - val_loss: 1.8138 - val_accuracy: 0.3502\n",
      "Epoch 24/200\n",
      "2/2 [==============================] - 1s 680ms/step - loss: 1.2912 - accuracy: 0.6400 - val_loss: 1.8001 - val_accuracy: 0.3462\n",
      "Epoch 25/200\n",
      "2/2 [==============================] - 1s 624ms/step - loss: 1.2676 - accuracy: 0.6400 - val_loss: 1.7800 - val_accuracy: 0.3542\n",
      "Epoch 26/200\n",
      "2/2 [==============================] - 1s 585ms/step - loss: 1.2469 - accuracy: 0.7000 - val_loss: 1.7669 - val_accuracy: 0.3490\n",
      "Epoch 27/200\n",
      "2/2 [==============================] - 1s 579ms/step - loss: 1.2225 - accuracy: 0.6800 - val_loss: 1.7512 - val_accuracy: 0.3574\n",
      "Epoch 28/200\n",
      "2/2 [==============================] - 1s 583ms/step - loss: 1.2034 - accuracy: 0.7000 - val_loss: 1.7458 - val_accuracy: 0.3486\n",
      "Epoch 29/200\n",
      "2/2 [==============================] - 1s 583ms/step - loss: 1.1837 - accuracy: 0.6800 - val_loss: 1.7340 - val_accuracy: 0.3626\n",
      "Epoch 30/200\n",
      "2/2 [==============================] - 1s 585ms/step - loss: 1.1671 - accuracy: 0.6400 - val_loss: 1.7188 - val_accuracy: 0.3720\n",
      "Epoch 31/200\n",
      "2/2 [==============================] - 1s 585ms/step - loss: 1.1443 - accuracy: 0.7000 - val_loss: 1.7093 - val_accuracy: 0.3702\n",
      "Epoch 32/200\n",
      "2/2 [==============================] - 1s 583ms/step - loss: 1.1216 - accuracy: 0.7000 - val_loss: 1.6887 - val_accuracy: 0.3792\n",
      "Epoch 33/200\n",
      "2/2 [==============================] - 1s 582ms/step - loss: 1.1017 - accuracy: 0.7400 - val_loss: 1.6768 - val_accuracy: 0.3766\n",
      "Epoch 34/200\n",
      "2/2 [==============================] - 1s 598ms/step - loss: 1.0809 - accuracy: 0.7400 - val_loss: 1.6601 - val_accuracy: 0.3824\n",
      "Epoch 35/200\n",
      "2/2 [==============================] - 1s 572ms/step - loss: 1.0613 - accuracy: 0.7600 - val_loss: 1.6491 - val_accuracy: 0.3842\n",
      "Epoch 36/200\n",
      "2/2 [==============================] - 1s 580ms/step - loss: 1.0426 - accuracy: 0.7600 - val_loss: 1.6379 - val_accuracy: 0.3852\n",
      "Epoch 37/200\n",
      "2/2 [==============================] - 1s 594ms/step - loss: 1.0279 - accuracy: 0.7600 - val_loss: 1.6178 - val_accuracy: 0.3934\n",
      "Epoch 38/200\n",
      "2/2 [==============================] - 1s 582ms/step - loss: 1.0068 - accuracy: 0.8000 - val_loss: 1.6060 - val_accuracy: 0.3966\n",
      "Epoch 39/200\n",
      "2/2 [==============================] - 1s 584ms/step - loss: 0.9908 - accuracy: 0.8000 - val_loss: 1.5927 - val_accuracy: 0.4022\n",
      "Epoch 40/200\n",
      "2/2 [==============================] - 1s 583ms/step - loss: 0.9751 - accuracy: 0.8000 - val_loss: 1.5835 - val_accuracy: 0.3980\n",
      "Epoch 41/200\n",
      "2/2 [==============================] - 1s 588ms/step - loss: 0.9612 - accuracy: 0.7800 - val_loss: 1.5720 - val_accuracy: 0.4038\n",
      "Epoch 42/200\n",
      "2/2 [==============================] - 1s 588ms/step - loss: 0.9464 - accuracy: 0.8400 - val_loss: 1.5662 - val_accuracy: 0.4078\n",
      "Epoch 43/200\n",
      "2/2 [==============================] - 1s 580ms/step - loss: 0.9324 - accuracy: 0.8600 - val_loss: 1.5539 - val_accuracy: 0.4102\n",
      "Epoch 44/200\n",
      "2/2 [==============================] - 1s 584ms/step - loss: 0.9129 - accuracy: 0.8400 - val_loss: 1.5433 - val_accuracy: 0.4100\n",
      "Epoch 45/200\n",
      "2/2 [==============================] - 1s 577ms/step - loss: 0.9013 - accuracy: 0.8800 - val_loss: 1.5462 - val_accuracy: 0.4002\n",
      "Epoch 46/200\n",
      "2/2 [==============================] - 1s 577ms/step - loss: 0.8846 - accuracy: 0.8400 - val_loss: 1.5349 - val_accuracy: 0.4106\n",
      "Epoch 47/200\n",
      "2/2 [==============================] - 1s 609ms/step - loss: 0.8698 - accuracy: 0.8400 - val_loss: 1.5211 - val_accuracy: 0.4118\n",
      "Epoch 48/200\n",
      "2/2 [==============================] - 1s 582ms/step - loss: 0.8611 - accuracy: 0.8400 - val_loss: 1.5075 - val_accuracy: 0.4210\n",
      "Epoch 49/200\n",
      "2/2 [==============================] - 1s 580ms/step - loss: 0.8497 - accuracy: 0.8600 - val_loss: 1.4996 - val_accuracy: 0.4258\n",
      "Epoch 50/200\n",
      "2/2 [==============================] - 1s 584ms/step - loss: 0.8359 - accuracy: 0.8600 - val_loss: 1.4885 - val_accuracy: 0.4256\n",
      "Epoch 51/200\n",
      "2/2 [==============================] - 1s 580ms/step - loss: 0.8214 - accuracy: 0.8600 - val_loss: 1.4841 - val_accuracy: 0.4304\n",
      "Epoch 52/200\n",
      "2/2 [==============================] - 1s 587ms/step - loss: 0.8083 - accuracy: 0.8400 - val_loss: 1.4672 - val_accuracy: 0.4336\n",
      "Epoch 53/200\n",
      "2/2 [==============================] - 1s 584ms/step - loss: 0.7956 - accuracy: 0.8800 - val_loss: 1.4702 - val_accuracy: 0.4274\n",
      "Epoch 54/200\n",
      "2/2 [==============================] - 1s 579ms/step - loss: 0.7838 - accuracy: 0.8800 - val_loss: 1.4656 - val_accuracy: 0.4258\n",
      "Epoch 55/200\n",
      "2/2 [==============================] - 1s 580ms/step - loss: 0.7742 - accuracy: 0.8600 - val_loss: 1.4527 - val_accuracy: 0.4314\n",
      "Epoch 56/200\n",
      "2/2 [==============================] - 1s 583ms/step - loss: 0.7578 - accuracy: 0.8800 - val_loss: 1.4441 - val_accuracy: 0.4398\n",
      "Epoch 57/200\n",
      "2/2 [==============================] - 1s 576ms/step - loss: 0.7502 - accuracy: 0.9000 - val_loss: 1.4287 - val_accuracy: 0.4520\n",
      "Epoch 58/200\n",
      "2/2 [==============================] - 1s 576ms/step - loss: 0.7333 - accuracy: 0.9200 - val_loss: 1.4281 - val_accuracy: 0.4450\n",
      "Epoch 59/200\n",
      "2/2 [==============================] - 1s 577ms/step - loss: 0.7223 - accuracy: 0.9000 - val_loss: 1.4270 - val_accuracy: 0.4436\n",
      "Epoch 60/200\n",
      "2/2 [==============================] - 1s 581ms/step - loss: 0.7118 - accuracy: 0.9000 - val_loss: 1.4156 - val_accuracy: 0.4496\n",
      "Epoch 61/200\n",
      "2/2 [==============================] - 1s 582ms/step - loss: 0.7053 - accuracy: 0.9000 - val_loss: 1.4053 - val_accuracy: 0.4478\n",
      "Epoch 62/200\n",
      "2/2 [==============================] - 1s 578ms/step - loss: 0.6948 - accuracy: 0.9200 - val_loss: 1.4014 - val_accuracy: 0.4516\n",
      "Epoch 63/200\n",
      "2/2 [==============================] - 1s 587ms/step - loss: 0.6854 - accuracy: 0.9200 - val_loss: 1.4036 - val_accuracy: 0.4466\n",
      "Epoch 64/200\n",
      "2/2 [==============================] - 1s 586ms/step - loss: 0.6718 - accuracy: 0.9200 - val_loss: 1.3982 - val_accuracy: 0.4458\n",
      "Epoch 65/200\n",
      "2/2 [==============================] - 1s 604ms/step - loss: 0.6630 - accuracy: 0.9200 - val_loss: 1.3841 - val_accuracy: 0.4574\n",
      "Epoch 66/200\n",
      "2/2 [==============================] - 1s 633ms/step - loss: 0.6531 - accuracy: 0.9400 - val_loss: 1.3810 - val_accuracy: 0.4626\n",
      "Epoch 67/200\n",
      "2/2 [==============================] - 1s 689ms/step - loss: 0.6465 - accuracy: 0.9600 - val_loss: 1.3670 - val_accuracy: 0.4694\n",
      "Epoch 68/200\n",
      "2/2 [==============================] - 1s 600ms/step - loss: 0.6343 - accuracy: 0.9600 - val_loss: 1.3617 - val_accuracy: 0.4792\n",
      "Epoch 69/200\n",
      "2/2 [==============================] - 1s 588ms/step - loss: 0.6283 - accuracy: 0.9800 - val_loss: 1.3692 - val_accuracy: 0.4612\n",
      "Epoch 70/200\n",
      "2/2 [==============================] - 1s 616ms/step - loss: 0.6190 - accuracy: 0.9400 - val_loss: 1.3510 - val_accuracy: 0.4834\n",
      "Epoch 71/200\n",
      "2/2 [==============================] - 1s 585ms/step - loss: 0.6086 - accuracy: 0.9600 - val_loss: 1.3489 - val_accuracy: 0.4912\n",
      "Epoch 72/200\n",
      "2/2 [==============================] - 1s 589ms/step - loss: 0.6030 - accuracy: 0.9600 - val_loss: 1.3415 - val_accuracy: 0.4882\n",
      "Epoch 73/200\n",
      "2/2 [==============================] - 1s 590ms/step - loss: 0.5911 - accuracy: 0.9800 - val_loss: 1.3432 - val_accuracy: 0.4860\n",
      "Epoch 74/200\n",
      "2/2 [==============================] - 1s 588ms/step - loss: 0.5848 - accuracy: 0.9800 - val_loss: 1.3350 - val_accuracy: 0.4854\n",
      "Epoch 75/200\n",
      "2/2 [==============================] - 1s 587ms/step - loss: 0.5750 - accuracy: 0.9800 - val_loss: 1.3334 - val_accuracy: 0.4848\n",
      "Epoch 76/200\n",
      "2/2 [==============================] - 1s 585ms/step - loss: 0.5707 - accuracy: 0.9600 - val_loss: 1.3343 - val_accuracy: 0.4922\n",
      "Epoch 77/200\n",
      "2/2 [==============================] - 1s 679ms/step - loss: 0.5670 - accuracy: 0.9800 - val_loss: 1.3303 - val_accuracy: 0.4934\n",
      "Epoch 78/200\n",
      "2/2 [==============================] - 1s 640ms/step - loss: 0.5602 - accuracy: 0.9600 - val_loss: 1.3313 - val_accuracy: 0.4976\n",
      "Epoch 79/200\n",
      "2/2 [==============================] - 1s 632ms/step - loss: 0.5517 - accuracy: 0.9600 - val_loss: 1.3153 - val_accuracy: 0.5106\n",
      "Epoch 80/200\n",
      "2/2 [==============================] - 1s 623ms/step - loss: 0.5402 - accuracy: 0.9800 - val_loss: 1.3182 - val_accuracy: 0.5040\n",
      "Epoch 81/200\n",
      "2/2 [==============================] - 1s 579ms/step - loss: 0.5352 - accuracy: 0.9800 - val_loss: 1.3115 - val_accuracy: 0.5014\n",
      "Epoch 82/200\n",
      "2/2 [==============================] - 1s 578ms/step - loss: 0.5258 - accuracy: 0.9800 - val_loss: 1.3023 - val_accuracy: 0.5124\n",
      "Epoch 83/200\n",
      "2/2 [==============================] - 1s 586ms/step - loss: 0.5183 - accuracy: 0.9800 - val_loss: 1.3046 - val_accuracy: 0.5082\n",
      "Epoch 84/200\n",
      "2/2 [==============================] - 1s 584ms/step - loss: 0.5150 - accuracy: 0.9800 - val_loss: 1.3046 - val_accuracy: 0.5080\n",
      "Epoch 85/200\n",
      "2/2 [==============================] - 1s 584ms/step - loss: 0.5101 - accuracy: 0.9600 - val_loss: 1.3031 - val_accuracy: 0.5122\n",
      "Epoch 86/200\n",
      "2/2 [==============================] - 1s 584ms/step - loss: 0.5015 - accuracy: 0.9600 - val_loss: 1.2863 - val_accuracy: 0.5214\n",
      "Epoch 87/200\n",
      "2/2 [==============================] - 1s 594ms/step - loss: 0.4933 - accuracy: 0.9800 - val_loss: 1.2793 - val_accuracy: 0.5254\n",
      "Epoch 88/200\n",
      "2/2 [==============================] - 1s 652ms/step - loss: 0.4864 - accuracy: 0.9600 - val_loss: 1.2808 - val_accuracy: 0.5224\n",
      "Epoch 89/200\n",
      "2/2 [==============================] - 1s 624ms/step - loss: 0.4816 - accuracy: 0.9800 - val_loss: 1.2835 - val_accuracy: 0.5214\n",
      "Epoch 90/200\n",
      "2/2 [==============================] - 1s 596ms/step - loss: 0.4751 - accuracy: 0.9600 - val_loss: 1.2736 - val_accuracy: 0.5252\n",
      "Epoch 91/200\n",
      "2/2 [==============================] - 1s 588ms/step - loss: 0.4721 - accuracy: 0.9600 - val_loss: 1.2699 - val_accuracy: 0.5254\n",
      "Epoch 92/200\n",
      "2/2 [==============================] - 1s 728ms/step - loss: 0.4684 - accuracy: 0.9600 - val_loss: 1.2690 - val_accuracy: 0.5182\n",
      "Epoch 93/200\n",
      "2/2 [==============================] - 1s 662ms/step - loss: 0.4595 - accuracy: 0.9800 - val_loss: 1.2706 - val_accuracy: 0.5218\n",
      "Epoch 94/200\n",
      "2/2 [==============================] - 1s 604ms/step - loss: 0.4525 - accuracy: 0.9600 - val_loss: 1.2590 - val_accuracy: 0.5314\n",
      "Epoch 95/200\n",
      "2/2 [==============================] - 1s 596ms/step - loss: 0.4464 - accuracy: 0.9600 - val_loss: 1.2591 - val_accuracy: 0.5340\n",
      "Epoch 96/200\n",
      "2/2 [==============================] - 1s 599ms/step - loss: 0.4440 - accuracy: 0.9800 - val_loss: 1.2596 - val_accuracy: 0.5376\n",
      "Epoch 97/200\n",
      "2/2 [==============================] - 1s 614ms/step - loss: 0.4358 - accuracy: 1.0000 - val_loss: 1.2582 - val_accuracy: 0.5360\n",
      "Epoch 98/200\n",
      "2/2 [==============================] - 1s 623ms/step - loss: 0.4324 - accuracy: 0.9800 - val_loss: 1.2509 - val_accuracy: 0.5338\n",
      "Epoch 99/200\n",
      "2/2 [==============================] - 1s 614ms/step - loss: 0.4268 - accuracy: 1.0000 - val_loss: 1.2569 - val_accuracy: 0.5352\n",
      "Epoch 100/200\n",
      "2/2 [==============================] - 1s 654ms/step - loss: 0.4234 - accuracy: 1.0000 - val_loss: 1.2533 - val_accuracy: 0.5422\n",
      "Epoch 101/200\n",
      "2/2 [==============================] - 1s 601ms/step - loss: 0.4190 - accuracy: 1.0000 - val_loss: 1.2507 - val_accuracy: 0.5432\n",
      "Epoch 102/200\n",
      "2/2 [==============================] - 1s 606ms/step - loss: 0.4130 - accuracy: 0.9800 - val_loss: 1.2484 - val_accuracy: 0.5408\n",
      "Epoch 103/200\n",
      "2/2 [==============================] - 1s 652ms/step - loss: 0.4057 - accuracy: 1.0000 - val_loss: 1.2443 - val_accuracy: 0.5422\n",
      "Epoch 104/200\n",
      "2/2 [==============================] - 1s 617ms/step - loss: 0.4009 - accuracy: 1.0000 - val_loss: 1.2412 - val_accuracy: 0.5402\n",
      "Epoch 105/200\n",
      "2/2 [==============================] - 1s 682ms/step - loss: 0.3976 - accuracy: 1.0000 - val_loss: 1.2462 - val_accuracy: 0.5380\n",
      "Epoch 106/200\n",
      "2/2 [==============================] - 1s 614ms/step - loss: 0.3932 - accuracy: 1.0000 - val_loss: 1.2346 - val_accuracy: 0.5402\n",
      "Epoch 107/200\n",
      "2/2 [==============================] - 1s 598ms/step - loss: 0.3877 - accuracy: 1.0000 - val_loss: 1.2365 - val_accuracy: 0.5454\n",
      "Epoch 108/200\n",
      "2/2 [==============================] - 1s 601ms/step - loss: 0.3874 - accuracy: 1.0000 - val_loss: 1.2394 - val_accuracy: 0.5376\n",
      "Epoch 109/200\n",
      "2/2 [==============================] - 1s 600ms/step - loss: 0.3815 - accuracy: 1.0000 - val_loss: 1.2377 - val_accuracy: 0.5388\n",
      "Epoch 110/200\n",
      "2/2 [==============================] - 1s 607ms/step - loss: 0.3777 - accuracy: 1.0000 - val_loss: 1.2396 - val_accuracy: 0.5390\n",
      "Epoch 111/200\n",
      "2/2 [==============================] - 1s 602ms/step - loss: 0.3712 - accuracy: 1.0000 - val_loss: 1.2252 - val_accuracy: 0.5516\n",
      "Epoch 112/200\n",
      "2/2 [==============================] - 1s 602ms/step - loss: 0.3702 - accuracy: 1.0000 - val_loss: 1.2254 - val_accuracy: 0.5490\n",
      "Epoch 113/200\n",
      "2/2 [==============================] - 1s 601ms/step - loss: 0.3621 - accuracy: 1.0000 - val_loss: 1.2219 - val_accuracy: 0.5560\n",
      "Epoch 114/200\n",
      "2/2 [==============================] - 1s 608ms/step - loss: 0.3592 - accuracy: 1.0000 - val_loss: 1.2193 - val_accuracy: 0.5526\n",
      "Epoch 115/200\n",
      "2/2 [==============================] - 1s 602ms/step - loss: 0.3552 - accuracy: 1.0000 - val_loss: 1.2184 - val_accuracy: 0.5510\n",
      "Epoch 116/200\n",
      "2/2 [==============================] - 1s 604ms/step - loss: 0.3500 - accuracy: 1.0000 - val_loss: 1.2165 - val_accuracy: 0.5556\n",
      "Epoch 117/200\n",
      "2/2 [==============================] - 1s 603ms/step - loss: 0.3470 - accuracy: 1.0000 - val_loss: 1.2193 - val_accuracy: 0.5554\n",
      "Epoch 118/200\n",
      "2/2 [==============================] - 1s 584ms/step - loss: 0.3438 - accuracy: 1.0000 - val_loss: 1.2181 - val_accuracy: 0.5548\n",
      "Epoch 119/200\n",
      "2/2 [==============================] - 1s 595ms/step - loss: 0.3417 - accuracy: 1.0000 - val_loss: 1.2142 - val_accuracy: 0.5516\n",
      "Epoch 120/200\n",
      "2/2 [==============================] - 1s 632ms/step - loss: 0.3365 - accuracy: 1.0000 - val_loss: 1.2067 - val_accuracy: 0.5568\n",
      "Epoch 121/200\n",
      "2/2 [==============================] - 1s 599ms/step - loss: 0.3328 - accuracy: 1.0000 - val_loss: 1.2014 - val_accuracy: 0.5594\n",
      "Epoch 122/200\n",
      "2/2 [==============================] - 1s 599ms/step - loss: 0.3286 - accuracy: 1.0000 - val_loss: 1.2067 - val_accuracy: 0.5580\n",
      "Epoch 123/200\n",
      "2/2 [==============================] - 1s 605ms/step - loss: 0.3255 - accuracy: 1.0000 - val_loss: 1.2050 - val_accuracy: 0.5590\n",
      "Epoch 124/200\n",
      "2/2 [==============================] - 1s 602ms/step - loss: 0.3213 - accuracy: 1.0000 - val_loss: 1.2068 - val_accuracy: 0.5562\n",
      "Epoch 125/200\n",
      "2/2 [==============================] - 1s 605ms/step - loss: 0.3179 - accuracy: 1.0000 - val_loss: 1.2027 - val_accuracy: 0.5594\n",
      "Epoch 126/200\n",
      "2/2 [==============================] - 1s 615ms/step - loss: 0.3150 - accuracy: 1.0000 - val_loss: 1.1969 - val_accuracy: 0.5670\n",
      "Epoch 127/200\n",
      "2/2 [==============================] - 1s 600ms/step - loss: 0.3128 - accuracy: 1.0000 - val_loss: 1.2063 - val_accuracy: 0.5634\n",
      "Epoch 128/200\n",
      "2/2 [==============================] - 1s 606ms/step - loss: 0.3106 - accuracy: 1.0000 - val_loss: 1.1920 - val_accuracy: 0.5664\n",
      "Epoch 129/200\n",
      "2/2 [==============================] - 1s 609ms/step - loss: 0.3061 - accuracy: 1.0000 - val_loss: 1.1957 - val_accuracy: 0.5678\n",
      "Epoch 130/200\n",
      "2/2 [==============================] - 1s 641ms/step - loss: 0.3031 - accuracy: 1.0000 - val_loss: 1.1931 - val_accuracy: 0.5714\n",
      "Epoch 131/200\n",
      "2/2 [==============================] - 1s 603ms/step - loss: 0.3012 - accuracy: 1.0000 - val_loss: 1.1924 - val_accuracy: 0.5726\n",
      "Epoch 132/200\n",
      "2/2 [==============================] - 1s 603ms/step - loss: 0.2986 - accuracy: 1.0000 - val_loss: 1.1919 - val_accuracy: 0.5702\n",
      "Epoch 133/200\n",
      "2/2 [==============================] - 1s 605ms/step - loss: 0.2940 - accuracy: 1.0000 - val_loss: 1.1857 - val_accuracy: 0.5736\n",
      "Epoch 134/200\n",
      "2/2 [==============================] - 1s 595ms/step - loss: 0.2921 - accuracy: 1.0000 - val_loss: 1.1822 - val_accuracy: 0.5724\n",
      "Epoch 135/200\n",
      "2/2 [==============================] - 1s 621ms/step - loss: 0.2893 - accuracy: 1.0000 - val_loss: 1.1865 - val_accuracy: 0.5718\n",
      "Epoch 136/200\n",
      "2/2 [==============================] - 1s 628ms/step - loss: 0.2856 - accuracy: 1.0000 - val_loss: 1.1866 - val_accuracy: 0.5742\n",
      "Epoch 137/200\n",
      "2/2 [==============================] - 1s 636ms/step - loss: 0.2818 - accuracy: 1.0000 - val_loss: 1.1831 - val_accuracy: 0.5732\n",
      "Epoch 138/200\n",
      "2/2 [==============================] - 1s 674ms/step - loss: 0.2832 - accuracy: 1.0000 - val_loss: 1.1936 - val_accuracy: 0.5716\n",
      "Epoch 139/200\n",
      "2/2 [==============================] - 1s 642ms/step - loss: 0.2786 - accuracy: 1.0000 - val_loss: 1.1845 - val_accuracy: 0.5742\n",
      "Epoch 140/200\n",
      "2/2 [==============================] - 1s 587ms/step - loss: 0.2746 - accuracy: 1.0000 - val_loss: 1.1825 - val_accuracy: 0.5758\n",
      "Epoch 141/200\n",
      "2/2 [==============================] - 1s 596ms/step - loss: 0.2720 - accuracy: 1.0000 - val_loss: 1.1802 - val_accuracy: 0.5734\n",
      "Epoch 142/200\n",
      "2/2 [==============================] - 1s 585ms/step - loss: 0.2685 - accuracy: 1.0000 - val_loss: 1.1797 - val_accuracy: 0.5728\n",
      "Epoch 143/200\n",
      "2/2 [==============================] - 1s 589ms/step - loss: 0.2665 - accuracy: 1.0000 - val_loss: 1.1794 - val_accuracy: 0.5734\n",
      "Epoch 144/200\n",
      "2/2 [==============================] - 1s 595ms/step - loss: 0.2631 - accuracy: 1.0000 - val_loss: 1.1798 - val_accuracy: 0.5712\n",
      "Epoch 145/200\n",
      "2/2 [==============================] - 1s 594ms/step - loss: 0.2605 - accuracy: 1.0000 - val_loss: 1.1765 - val_accuracy: 0.5760\n",
      "Epoch 146/200\n",
      "2/2 [==============================] - 1s 599ms/step - loss: 0.2584 - accuracy: 1.0000 - val_loss: 1.1775 - val_accuracy: 0.5744\n",
      "Epoch 147/200\n",
      "2/2 [==============================] - 1s 589ms/step - loss: 0.2579 - accuracy: 1.0000 - val_loss: 1.1795 - val_accuracy: 0.5736\n",
      "Epoch 148/200\n",
      "2/2 [==============================] - 1s 590ms/step - loss: 0.2555 - accuracy: 1.0000 - val_loss: 1.1775 - val_accuracy: 0.5728\n",
      "Epoch 149/200\n",
      "2/2 [==============================] - 1s 586ms/step - loss: 0.2521 - accuracy: 1.0000 - val_loss: 1.1747 - val_accuracy: 0.5738\n",
      "Epoch 150/200\n",
      "2/2 [==============================] - 1s 587ms/step - loss: 0.2494 - accuracy: 1.0000 - val_loss: 1.1731 - val_accuracy: 0.5754\n",
      "Epoch 151/200\n",
      "2/2 [==============================] - 1s 590ms/step - loss: 0.2471 - accuracy: 1.0000 - val_loss: 1.1713 - val_accuracy: 0.5748\n",
      "Epoch 152/200\n",
      "2/2 [==============================] - 1s 590ms/step - loss: 0.2459 - accuracy: 1.0000 - val_loss: 1.1784 - val_accuracy: 0.5722\n",
      "Epoch 153/200\n",
      "2/2 [==============================] - 1s 589ms/step - loss: 0.2431 - accuracy: 1.0000 - val_loss: 1.1704 - val_accuracy: 0.5774\n",
      "Epoch 154/200\n",
      "2/2 [==============================] - 1s 588ms/step - loss: 0.2426 - accuracy: 1.0000 - val_loss: 1.1663 - val_accuracy: 0.5790\n",
      "Epoch 155/200\n",
      "2/2 [==============================] - 1s 585ms/step - loss: 0.2401 - accuracy: 1.0000 - val_loss: 1.1654 - val_accuracy: 0.5802\n",
      "Epoch 156/200\n",
      "2/2 [==============================] - 1s 588ms/step - loss: 0.2373 - accuracy: 1.0000 - val_loss: 1.1695 - val_accuracy: 0.5800\n",
      "Epoch 157/200\n",
      "2/2 [==============================] - 1s 587ms/step - loss: 0.2342 - accuracy: 1.0000 - val_loss: 1.1671 - val_accuracy: 0.5782\n",
      "Epoch 158/200\n",
      "2/2 [==============================] - 1s 589ms/step - loss: 0.2324 - accuracy: 1.0000 - val_loss: 1.1659 - val_accuracy: 0.5814\n",
      "Epoch 159/200\n",
      "2/2 [==============================] - 1s 613ms/step - loss: 0.2309 - accuracy: 1.0000 - val_loss: 1.1699 - val_accuracy: 0.5792\n",
      "Epoch 160/200\n",
      "2/2 [==============================] - 1s 584ms/step - loss: 0.2287 - accuracy: 1.0000 - val_loss: 1.1718 - val_accuracy: 0.5792\n",
      "Epoch 161/200\n",
      "2/2 [==============================] - 1s 584ms/step - loss: 0.2276 - accuracy: 1.0000 - val_loss: 1.1731 - val_accuracy: 0.5782\n",
      "Epoch 162/200\n",
      "2/2 [==============================] - 1s 586ms/step - loss: 0.2246 - accuracy: 1.0000 - val_loss: 1.1771 - val_accuracy: 0.5756\n",
      "Epoch 163/200\n",
      "2/2 [==============================] - 1s 587ms/step - loss: 0.2224 - accuracy: 1.0000 - val_loss: 1.1697 - val_accuracy: 0.5796\n",
      "Epoch 164/200\n",
      "2/2 [==============================] - 1s 584ms/step - loss: 0.2195 - accuracy: 1.0000 - val_loss: 1.1681 - val_accuracy: 0.5818\n",
      "Epoch 165/200\n",
      "2/2 [==============================] - 1s 587ms/step - loss: 0.2179 - accuracy: 1.0000 - val_loss: 1.1661 - val_accuracy: 0.5800\n",
      "Epoch 166/200\n",
      "2/2 [==============================] - 1s 591ms/step - loss: 0.2162 - accuracy: 1.0000 - val_loss: 1.1616 - val_accuracy: 0.5830\n",
      "Epoch 167/200\n",
      "2/2 [==============================] - 1s 588ms/step - loss: 0.2152 - accuracy: 1.0000 - val_loss: 1.1671 - val_accuracy: 0.5820\n",
      "Epoch 168/200\n",
      "2/2 [==============================] - 1s 591ms/step - loss: 0.2132 - accuracy: 1.0000 - val_loss: 1.1699 - val_accuracy: 0.5800\n",
      "Epoch 169/200\n",
      "2/2 [==============================] - 1s 589ms/step - loss: 0.2113 - accuracy: 1.0000 - val_loss: 1.1714 - val_accuracy: 0.5806\n",
      "Epoch 170/200\n",
      "2/2 [==============================] - 1s 591ms/step - loss: 0.2108 - accuracy: 1.0000 - val_loss: 1.1764 - val_accuracy: 0.5810\n",
      "Epoch 171/200\n",
      "2/2 [==============================] - 1s 589ms/step - loss: 0.2075 - accuracy: 1.0000 - val_loss: 1.1709 - val_accuracy: 0.5830\n",
      "Epoch 172/200\n",
      "2/2 [==============================] - 1s 597ms/step - loss: 0.2060 - accuracy: 1.0000 - val_loss: 1.1652 - val_accuracy: 0.5798\n",
      "Epoch 173/200\n",
      "2/2 [==============================] - 1s 588ms/step - loss: 0.2033 - accuracy: 1.0000 - val_loss: 1.1659 - val_accuracy: 0.5802\n",
      "Epoch 174/200\n",
      "2/2 [==============================] - 1s 593ms/step - loss: 0.2031 - accuracy: 1.0000 - val_loss: 1.1625 - val_accuracy: 0.5812\n",
      "Epoch 175/200\n",
      "2/2 [==============================] - 1s 590ms/step - loss: 0.2002 - accuracy: 1.0000 - val_loss: 1.1617 - val_accuracy: 0.5812\n",
      "Epoch 176/200\n",
      "2/2 [==============================] - 1s 592ms/step - loss: 0.1989 - accuracy: 1.0000 - val_loss: 1.1643 - val_accuracy: 0.5796\n",
      "Epoch 177/200\n",
      "2/2 [==============================] - 1s 595ms/step - loss: 0.1968 - accuracy: 1.0000 - val_loss: 1.1615 - val_accuracy: 0.5836\n",
      "Epoch 178/200\n",
      "2/2 [==============================] - 1s 586ms/step - loss: 0.1952 - accuracy: 1.0000 - val_loss: 1.1647 - val_accuracy: 0.5816\n",
      "Epoch 179/200\n",
      "2/2 [==============================] - 1s 592ms/step - loss: 0.1935 - accuracy: 1.0000 - val_loss: 1.1634 - val_accuracy: 0.5834\n",
      "Epoch 180/200\n",
      "2/2 [==============================] - 1s 653ms/step - loss: 0.1930 - accuracy: 1.0000 - val_loss: 1.1711 - val_accuracy: 0.5802\n",
      "Epoch 181/200\n",
      "2/2 [==============================] - 1s 675ms/step - loss: 0.1918 - accuracy: 1.0000 - val_loss: 1.1729 - val_accuracy: 0.5786\n",
      "Epoch 182/200\n",
      "2/2 [==============================] - 1s 586ms/step - loss: 0.1908 - accuracy: 1.0000 - val_loss: 1.1670 - val_accuracy: 0.5824\n",
      "Epoch 183/200\n",
      "2/2 [==============================] - 1s 585ms/step - loss: 0.1881 - accuracy: 1.0000 - val_loss: 1.1626 - val_accuracy: 0.5818\n",
      "Epoch 184/200\n",
      "2/2 [==============================] - 1s 592ms/step - loss: 0.1863 - accuracy: 1.0000 - val_loss: 1.1613 - val_accuracy: 0.5850\n",
      "Epoch 185/200\n",
      "2/2 [==============================] - 1s 633ms/step - loss: 0.1851 - accuracy: 1.0000 - val_loss: 1.1638 - val_accuracy: 0.5846\n",
      "Epoch 186/200\n",
      "2/2 [==============================] - 1s 589ms/step - loss: 0.1836 - accuracy: 1.0000 - val_loss: 1.1668 - val_accuracy: 0.5828\n",
      "Epoch 187/200\n",
      "2/2 [==============================] - 1s 590ms/step - loss: 0.1819 - accuracy: 1.0000 - val_loss: 1.1627 - val_accuracy: 0.5822\n",
      "Epoch 188/200\n",
      "2/2 [==============================] - 1s 585ms/step - loss: 0.1804 - accuracy: 1.0000 - val_loss: 1.1593 - val_accuracy: 0.5840\n",
      "Epoch 189/200\n",
      "2/2 [==============================] - 1s 588ms/step - loss: 0.1793 - accuracy: 1.0000 - val_loss: 1.1638 - val_accuracy: 0.5838\n",
      "Epoch 190/200\n",
      "2/2 [==============================] - 1s 593ms/step - loss: 0.1777 - accuracy: 1.0000 - val_loss: 1.1620 - val_accuracy: 0.5846\n",
      "Epoch 191/200\n",
      "2/2 [==============================] - 1s 588ms/step - loss: 0.1759 - accuracy: 1.0000 - val_loss: 1.1616 - val_accuracy: 0.5858\n",
      "Epoch 192/200\n",
      "2/2 [==============================] - 1s 586ms/step - loss: 0.1746 - accuracy: 1.0000 - val_loss: 1.1593 - val_accuracy: 0.5862\n",
      "Epoch 193/200\n",
      "2/2 [==============================] - 1s 585ms/step - loss: 0.1728 - accuracy: 1.0000 - val_loss: 1.1626 - val_accuracy: 0.5854\n",
      "Epoch 194/200\n",
      "2/2 [==============================] - 1s 591ms/step - loss: 0.1723 - accuracy: 1.0000 - val_loss: 1.1628 - val_accuracy: 0.5858\n",
      "Epoch 195/200\n",
      "2/2 [==============================] - 1s 603ms/step - loss: 0.1704 - accuracy: 1.0000 - val_loss: 1.1652 - val_accuracy: 0.5826\n",
      "Epoch 196/200\n",
      "2/2 [==============================] - 1s 590ms/step - loss: 0.1698 - accuracy: 1.0000 - val_loss: 1.1616 - val_accuracy: 0.5830\n",
      "Epoch 197/200\n",
      "2/2 [==============================] - 1s 589ms/step - loss: 0.1678 - accuracy: 1.0000 - val_loss: 1.1626 - val_accuracy: 0.5840\n",
      "Epoch 198/200\n",
      "2/2 [==============================] - 1s 588ms/step - loss: 0.1674 - accuracy: 1.0000 - val_loss: 1.1659 - val_accuracy: 0.5832\n",
      "Epoch 199/200\n",
      "2/2 [==============================] - 1s 592ms/step - loss: 0.1651 - accuracy: 1.0000 - val_loss: 1.1639 - val_accuracy: 0.5832\n",
      "Epoch 200/200\n",
      "2/2 [==============================] - 1s 589ms/step - loss: 0.1637 - accuracy: 1.0000 - val_loss: 1.1646 - val_accuracy: 0.5838\n"
     ]
    }
   ],
   "source": [
    "history = model.fit(X_train[:n_labels], y_train[:n_labels], epochs=200, validation_data=(X_valid, y_valid))"
   ]
  },
  {
   "cell_type": "code",
   "execution_count": 30,
   "metadata": {},
   "outputs": [
    {
     "data": {
      "text/plain": [
       "{'verbose': 1, 'epochs': 200, 'steps': 2}"
      ]
     },
     "execution_count": 30,
     "metadata": {},
     "output_type": "execute_result"
    }
   ],
   "source": [
    "history.params"
   ]
  },
  {
   "cell_type": "code",
   "execution_count": 33,
   "metadata": {},
   "outputs": [
    {
     "data": {
      "text/plain": [
       "dict_keys(['loss', 'accuracy', 'val_loss', 'val_accuracy'])"
      ]
     },
     "execution_count": 33,
     "metadata": {},
     "output_type": "execute_result"
    }
   ],
   "source": [
    "history.history.keys()"
   ]
  },
  {
   "cell_type": "markdown",
   "metadata": {},
   "source": [
    "Let's look at the learning curve."
   ]
  },
  {
   "cell_type": "code",
   "execution_count": 35,
   "metadata": {},
   "outputs": [
    {
     "data": {
      "image/png": "[encoded data removed]",
      "text/plain": [
       "<Figure size 576x432 with 1 Axes>"
      ]
     },
     "metadata": {
      "needs_background": "light"
     },
     "output_type": "display_data"
    }
   ],
   "source": [
    "pd.DataFrame(history.history).plot(figsize=(8,6))\n",
    "plt.grid(True)\n",
    "plt.show()"
   ]
  },
  {
   "cell_type": "markdown",
   "metadata": {},
   "source": [
    "From the diagram, it seems 100 epochs are enough to reach a satisfying model.\n",
    "\n",
    "Let's evaluate the model on the test set."
   ]
  },
  {
   "cell_type": "code",
   "execution_count": 37,
   "metadata": {},
   "outputs": [
    {
     "name": "stdout",
     "output_type": "stream",
     "text": [
      "Epoch 1/100\n",
      "1/2 [==============>...............] - ETA: 0s - loss: 2.5865 - accuracy: 0.0625"
     ]
    },
    {
     "name": "stderr",
     "output_type": "stream",
     "text": [
      "2022-05-20 10:10:48.310861: I tensorflow/core/grappler/optimizers/custom_graph_optimizer_registry.cc:112] Plugin optimizer for device_type GPU is enabled.\n",
      "2022-05-20 10:10:48.505537: I tensorflow/core/grappler/optimizers/custom_graph_optimizer_registry.cc:112] Plugin optimizer for device_type GPU is enabled.\n"
     ]
    },
    {
     "name": "stdout",
     "output_type": "stream",
     "text": [
      "2/2 [==============================] - 1s 776ms/step - loss: 2.5323 - accuracy: 0.0600 - val_loss: 2.3857 - val_accuracy: 0.0404\n",
      "Epoch 2/100\n",
      "2/2 [==============================] - 1s 646ms/step - loss: 2.3880 - accuracy: 0.0800 - val_loss: 2.3200 - val_accuracy: 0.0578\n",
      "Epoch 3/100\n",
      "2/2 [==============================] - 1s 585ms/step - loss: 2.2872 - accuracy: 0.1200 - val_loss: 2.2800 - val_accuracy: 0.0956\n",
      "Epoch 4/100\n",
      "2/2 [==============================] - 1s 585ms/step - loss: 2.2163 - accuracy: 0.1800 - val_loss: 2.2473 - val_accuracy: 0.1434\n",
      "Epoch 5/100\n",
      "2/2 [==============================] - 1s 587ms/step - loss: 2.1569 - accuracy: 0.2600 - val_loss: 2.2210 - val_accuracy: 0.1744\n",
      "Epoch 6/100\n",
      "2/2 [==============================] - 1s 587ms/step - loss: 2.0991 - accuracy: 0.3200 - val_loss: 2.1996 - val_accuracy: 0.2076\n",
      "Epoch 7/100\n",
      "2/2 [==============================] - 1s 589ms/step - loss: 2.0542 - accuracy: 0.3600 - val_loss: 2.1758 - val_accuracy: 0.2404\n",
      "Epoch 8/100\n",
      "2/2 [==============================] - 1s 589ms/step - loss: 2.0081 - accuracy: 0.4200 - val_loss: 2.1563 - val_accuracy: 0.2812\n",
      "Epoch 9/100\n",
      "2/2 [==============================] - 1s 592ms/step - loss: 1.9622 - accuracy: 0.4400 - val_loss: 2.1389 - val_accuracy: 0.2966\n",
      "Epoch 10/100\n",
      "2/2 [==============================] - 1s 581ms/step - loss: 1.9286 - accuracy: 0.5000 - val_loss: 2.1187 - val_accuracy: 0.3080\n",
      "Epoch 11/100\n",
      "2/2 [==============================] - 1s 584ms/step - loss: 1.8838 - accuracy: 0.5200 - val_loss: 2.1020 - val_accuracy: 0.3176\n",
      "Epoch 12/100\n",
      "2/2 [==============================] - 1s 587ms/step - loss: 1.8445 - accuracy: 0.5400 - val_loss: 2.0867 - val_accuracy: 0.3286\n",
      "Epoch 13/100\n",
      "2/2 [==============================] - 1s 585ms/step - loss: 1.8055 - accuracy: 0.5600 - val_loss: 2.0731 - val_accuracy: 0.3286\n",
      "Epoch 14/100\n",
      "2/2 [==============================] - 1s 613ms/step - loss: 1.7644 - accuracy: 0.5400 - val_loss: 2.0557 - val_accuracy: 0.3378\n",
      "Epoch 15/100\n",
      "2/2 [==============================] - 1s 763ms/step - loss: 1.7279 - accuracy: 0.5800 - val_loss: 2.0353 - val_accuracy: 0.3480\n",
      "Epoch 16/100\n",
      "2/2 [==============================] - 1s 832ms/step - loss: 1.6964 - accuracy: 0.6000 - val_loss: 2.0193 - val_accuracy: 0.3428\n",
      "Epoch 17/100\n",
      "2/2 [==============================] - 1s 745ms/step - loss: 1.6606 - accuracy: 0.6000 - val_loss: 2.0056 - val_accuracy: 0.3454\n",
      "Epoch 18/100\n",
      "2/2 [==============================] - 1s 689ms/step - loss: 1.6231 - accuracy: 0.6200 - val_loss: 1.9922 - val_accuracy: 0.3504\n",
      "Epoch 19/100\n",
      "2/2 [==============================] - 1s 801ms/step - loss: 1.5956 - accuracy: 0.6200 - val_loss: 1.9748 - val_accuracy: 0.3546\n",
      "Epoch 20/100\n",
      "2/2 [==============================] - 1s 670ms/step - loss: 1.5598 - accuracy: 0.6800 - val_loss: 1.9606 - val_accuracy: 0.3532\n",
      "Epoch 21/100\n",
      "2/2 [==============================] - 1s 677ms/step - loss: 1.5321 - accuracy: 0.6800 - val_loss: 1.9473 - val_accuracy: 0.3734\n",
      "Epoch 22/100\n",
      "2/2 [==============================] - 1s 619ms/step - loss: 1.5033 - accuracy: 0.6200 - val_loss: 1.9319 - val_accuracy: 0.3730\n",
      "Epoch 23/100\n",
      "2/2 [==============================] - 1s 613ms/step - loss: 1.4763 - accuracy: 0.6600 - val_loss: 1.9148 - val_accuracy: 0.3806\n",
      "Epoch 24/100\n",
      "2/2 [==============================] - 1s 678ms/step - loss: 1.4457 - accuracy: 0.6400 - val_loss: 1.9004 - val_accuracy: 0.3770\n",
      "Epoch 25/100\n",
      "2/2 [==============================] - 1s 626ms/step - loss: 1.4207 - accuracy: 0.6800 - val_loss: 1.8845 - val_accuracy: 0.3746\n",
      "Epoch 26/100\n",
      "2/2 [==============================] - 1s 632ms/step - loss: 1.3964 - accuracy: 0.6600 - val_loss: 1.8703 - val_accuracy: 0.3800\n",
      "Epoch 27/100\n",
      "2/2 [==============================] - 1s 603ms/step - loss: 1.3717 - accuracy: 0.6800 - val_loss: 1.8584 - val_accuracy: 0.3848\n",
      "Epoch 28/100\n",
      "2/2 [==============================] - 1s 579ms/step - loss: 1.3500 - accuracy: 0.6600 - val_loss: 1.8497 - val_accuracy: 0.3802\n",
      "Epoch 29/100\n",
      "2/2 [==============================] - 1s 587ms/step - loss: 1.3294 - accuracy: 0.6600 - val_loss: 1.8433 - val_accuracy: 0.3870\n",
      "Epoch 30/100\n",
      "2/2 [==============================] - 1s 674ms/step - loss: 1.3085 - accuracy: 0.6600 - val_loss: 1.8297 - val_accuracy: 0.3834\n",
      "Epoch 31/100\n",
      "2/2 [==============================] - 1s 933ms/step - loss: 1.2876 - accuracy: 0.6800 - val_loss: 1.8221 - val_accuracy: 0.3818\n",
      "Epoch 32/100\n",
      "2/2 [==============================] - 1s 712ms/step - loss: 1.2634 - accuracy: 0.6800 - val_loss: 1.8069 - val_accuracy: 0.3818\n",
      "Epoch 33/100\n",
      "2/2 [==============================] - 1s 661ms/step - loss: 1.2439 - accuracy: 0.6800 - val_loss: 1.7931 - val_accuracy: 0.3838\n",
      "Epoch 34/100\n",
      "2/2 [==============================] - 1s 778ms/step - loss: 1.2200 - accuracy: 0.7000 - val_loss: 1.7766 - val_accuracy: 0.3866\n",
      "Epoch 35/100\n",
      "2/2 [==============================] - 1s 698ms/step - loss: 1.1993 - accuracy: 0.6800 - val_loss: 1.7648 - val_accuracy: 0.3916\n",
      "Epoch 36/100\n",
      "2/2 [==============================] - 1s 605ms/step - loss: 1.1800 - accuracy: 0.6800 - val_loss: 1.7516 - val_accuracy: 0.3932\n",
      "Epoch 37/100\n",
      "2/2 [==============================] - 1s 684ms/step - loss: 1.1642 - accuracy: 0.7000 - val_loss: 1.7316 - val_accuracy: 0.3920\n",
      "Epoch 38/100\n",
      "2/2 [==============================] - 1s 737ms/step - loss: 1.1428 - accuracy: 0.7400 - val_loss: 1.7200 - val_accuracy: 0.3944\n",
      "Epoch 39/100\n",
      "2/2 [==============================] - 1s 713ms/step - loss: 1.1257 - accuracy: 0.7600 - val_loss: 1.7090 - val_accuracy: 0.3960\n",
      "Epoch 40/100\n",
      "2/2 [==============================] - 1s 674ms/step - loss: 1.1065 - accuracy: 0.7600 - val_loss: 1.7016 - val_accuracy: 0.3974\n",
      "Epoch 41/100\n",
      "2/2 [==============================] - 1s 607ms/step - loss: 1.0927 - accuracy: 0.7200 - val_loss: 1.6908 - val_accuracy: 0.4016\n",
      "Epoch 42/100\n",
      "2/2 [==============================] - 1s 658ms/step - loss: 1.0759 - accuracy: 0.7200 - val_loss: 1.6856 - val_accuracy: 0.4010\n",
      "Epoch 43/100\n",
      "2/2 [==============================] - 1s 683ms/step - loss: 1.0627 - accuracy: 0.7200 - val_loss: 1.6657 - val_accuracy: 0.4006\n",
      "Epoch 44/100\n",
      "2/2 [==============================] - 1s 591ms/step - loss: 1.0406 - accuracy: 0.7800 - val_loss: 1.6591 - val_accuracy: 0.4012\n",
      "Epoch 45/100\n",
      "2/2 [==============================] - 1s 583ms/step - loss: 1.0274 - accuracy: 0.7800 - val_loss: 1.6593 - val_accuracy: 0.3996\n",
      "Epoch 46/100\n",
      "2/2 [==============================] - 1s 587ms/step - loss: 1.0091 - accuracy: 0.7800 - val_loss: 1.6464 - val_accuracy: 0.4002\n",
      "Epoch 47/100\n",
      "2/2 [==============================] - 1s 590ms/step - loss: 0.9914 - accuracy: 0.7800 - val_loss: 1.6316 - val_accuracy: 0.4048\n",
      "Epoch 48/100\n",
      "2/2 [==============================] - 1s 588ms/step - loss: 0.9821 - accuracy: 0.7800 - val_loss: 1.6150 - val_accuracy: 0.4112\n",
      "Epoch 49/100\n",
      "2/2 [==============================] - 1s 587ms/step - loss: 0.9688 - accuracy: 0.7800 - val_loss: 1.6027 - val_accuracy: 0.4210\n",
      "Epoch 50/100\n",
      "2/2 [==============================] - 1s 580ms/step - loss: 0.9527 - accuracy: 0.8000 - val_loss: 1.5914 - val_accuracy: 0.4256\n",
      "Epoch 51/100\n",
      "2/2 [==============================] - 1s 591ms/step - loss: 0.9382 - accuracy: 0.8000 - val_loss: 1.5890 - val_accuracy: 0.4288\n",
      "Epoch 52/100\n",
      "2/2 [==============================] - 1s 587ms/step - loss: 0.9211 - accuracy: 0.8000 - val_loss: 1.5725 - val_accuracy: 0.4328\n",
      "Epoch 53/100\n",
      "2/2 [==============================] - 1s 583ms/step - loss: 0.9081 - accuracy: 0.8400 - val_loss: 1.5711 - val_accuracy: 0.4256\n",
      "Epoch 54/100\n",
      "2/2 [==============================] - 1s 584ms/step - loss: 0.8962 - accuracy: 0.8400 - val_loss: 1.5638 - val_accuracy: 0.4268\n",
      "Epoch 55/100\n",
      "2/2 [==============================] - 1s 584ms/step - loss: 0.8854 - accuracy: 0.8600 - val_loss: 1.5552 - val_accuracy: 0.4326\n",
      "Epoch 56/100\n",
      "2/2 [==============================] - 1s 628ms/step - loss: 0.8672 - accuracy: 0.8600 - val_loss: 1.5448 - val_accuracy: 0.4386\n",
      "Epoch 57/100\n",
      "2/2 [==============================] - 1s 627ms/step - loss: 0.8571 - accuracy: 0.8600 - val_loss: 1.5266 - val_accuracy: 0.4510\n",
      "Epoch 58/100\n",
      "2/2 [==============================] - 1s 621ms/step - loss: 0.8387 - accuracy: 0.9000 - val_loss: 1.5244 - val_accuracy: 0.4478\n",
      "Epoch 59/100\n",
      "2/2 [==============================] - 1s 596ms/step - loss: 0.8251 - accuracy: 0.8600 - val_loss: 1.5231 - val_accuracy: 0.4442\n",
      "Epoch 60/100\n",
      "2/2 [==============================] - 1s 587ms/step - loss: 0.8134 - accuracy: 0.8600 - val_loss: 1.5094 - val_accuracy: 0.4524\n",
      "Epoch 61/100\n",
      "2/2 [==============================] - 1s 608ms/step - loss: 0.8044 - accuracy: 0.8800 - val_loss: 1.4978 - val_accuracy: 0.4544\n",
      "Epoch 62/100\n",
      "2/2 [==============================] - 1s 595ms/step - loss: 0.7942 - accuracy: 0.9000 - val_loss: 1.4910 - val_accuracy: 0.4546\n",
      "Epoch 63/100\n",
      "2/2 [==============================] - 1s 595ms/step - loss: 0.7814 - accuracy: 0.8800 - val_loss: 1.4862 - val_accuracy: 0.4550\n",
      "Epoch 64/100\n",
      "2/2 [==============================] - 1s 584ms/step - loss: 0.7669 - accuracy: 0.8800 - val_loss: 1.4825 - val_accuracy: 0.4560\n",
      "Epoch 65/100\n",
      "2/2 [==============================] - 1s 587ms/step - loss: 0.7560 - accuracy: 0.8600 - val_loss: 1.4687 - val_accuracy: 0.4646\n",
      "Epoch 66/100\n",
      "2/2 [==============================] - 1s 594ms/step - loss: 0.7451 - accuracy: 0.9200 - val_loss: 1.4657 - val_accuracy: 0.4648\n",
      "Epoch 67/100\n",
      "2/2 [==============================] - 1s 592ms/step - loss: 0.7356 - accuracy: 0.9400 - val_loss: 1.4474 - val_accuracy: 0.4766\n",
      "Epoch 68/100\n",
      "2/2 [==============================] - 1s 585ms/step - loss: 0.7216 - accuracy: 0.9400 - val_loss: 1.4395 - val_accuracy: 0.4802\n",
      "Epoch 69/100\n",
      "2/2 [==============================] - 1s 592ms/step - loss: 0.7139 - accuracy: 0.9400 - val_loss: 1.4462 - val_accuracy: 0.4726\n",
      "Epoch 70/100\n",
      "2/2 [==============================] - 1s 591ms/step - loss: 0.7024 - accuracy: 0.9400 - val_loss: 1.4304 - val_accuracy: 0.4830\n",
      "Epoch 71/100\n",
      "2/2 [==============================] - 1s 584ms/step - loss: 0.6908 - accuracy: 0.9400 - val_loss: 1.4232 - val_accuracy: 0.4866\n",
      "Epoch 72/100\n",
      "2/2 [==============================] - 1s 586ms/step - loss: 0.6832 - accuracy: 0.9400 - val_loss: 1.4125 - val_accuracy: 0.4886\n",
      "Epoch 73/100\n",
      "2/2 [==============================] - 1s 623ms/step - loss: 0.6697 - accuracy: 0.9600 - val_loss: 1.4131 - val_accuracy: 0.4880\n",
      "Epoch 74/100\n",
      "2/2 [==============================] - 1s 580ms/step - loss: 0.6636 - accuracy: 0.9400 - val_loss: 1.4008 - val_accuracy: 0.4906\n",
      "Epoch 75/100\n",
      "2/2 [==============================] - 1s 587ms/step - loss: 0.6515 - accuracy: 0.9600 - val_loss: 1.3996 - val_accuracy: 0.4902\n",
      "Epoch 76/100\n",
      "2/2 [==============================] - 1s 588ms/step - loss: 0.6465 - accuracy: 0.9600 - val_loss: 1.4041 - val_accuracy: 0.4916\n",
      "Epoch 77/100\n",
      "2/2 [==============================] - 1s 589ms/step - loss: 0.6370 - accuracy: 0.9400 - val_loss: 1.3890 - val_accuracy: 0.4970\n",
      "Epoch 78/100\n",
      "2/2 [==============================] - 1s 590ms/step - loss: 0.6301 - accuracy: 0.9400 - val_loss: 1.3882 - val_accuracy: 0.4988\n",
      "Epoch 79/100\n",
      "2/2 [==============================] - 1s 593ms/step - loss: 0.6209 - accuracy: 0.9400 - val_loss: 1.3770 - val_accuracy: 0.5048\n",
      "Epoch 80/100\n",
      "2/2 [==============================] - 1s 587ms/step - loss: 0.6092 - accuracy: 0.9400 - val_loss: 1.3796 - val_accuracy: 0.5012\n",
      "Epoch 81/100\n",
      "2/2 [==============================] - 1s 621ms/step - loss: 0.6025 - accuracy: 0.9400 - val_loss: 1.3727 - val_accuracy: 0.5034\n",
      "Epoch 82/100\n",
      "2/2 [==============================] - 1s 582ms/step - loss: 0.5924 - accuracy: 0.9400 - val_loss: 1.3655 - val_accuracy: 0.5086\n",
      "Epoch 83/100\n",
      "2/2 [==============================] - 1s 583ms/step - loss: 0.5825 - accuracy: 0.9600 - val_loss: 1.3638 - val_accuracy: 0.5066\n",
      "Epoch 84/100\n",
      "2/2 [==============================] - 1s 587ms/step - loss: 0.5775 - accuracy: 0.9400 - val_loss: 1.3600 - val_accuracy: 0.5106\n",
      "Epoch 85/100\n",
      "2/2 [==============================] - 1s 588ms/step - loss: 0.5701 - accuracy: 0.9400 - val_loss: 1.3559 - val_accuracy: 0.5112\n",
      "Epoch 86/100\n",
      "2/2 [==============================] - 1s 583ms/step - loss: 0.5612 - accuracy: 0.9400 - val_loss: 1.3383 - val_accuracy: 0.5172\n",
      "Epoch 87/100\n",
      "2/2 [==============================] - 1s 582ms/step - loss: 0.5528 - accuracy: 0.9600 - val_loss: 1.3361 - val_accuracy: 0.5192\n",
      "Epoch 88/100\n",
      "2/2 [==============================] - 1s 580ms/step - loss: 0.5450 - accuracy: 0.9600 - val_loss: 1.3401 - val_accuracy: 0.5190\n",
      "Epoch 89/100\n",
      "2/2 [==============================] - 1s 600ms/step - loss: 0.5376 - accuracy: 0.9600 - val_loss: 1.3387 - val_accuracy: 0.5156\n",
      "Epoch 90/100\n",
      "2/2 [==============================] - 1s 584ms/step - loss: 0.5305 - accuracy: 0.9400 - val_loss: 1.3287 - val_accuracy: 0.5218\n",
      "Epoch 91/100\n",
      "2/2 [==============================] - 1s 594ms/step - loss: 0.5272 - accuracy: 0.9800 - val_loss: 1.3231 - val_accuracy: 0.5220\n",
      "Epoch 92/100\n",
      "2/2 [==============================] - 1s 590ms/step - loss: 0.5219 - accuracy: 0.9600 - val_loss: 1.3222 - val_accuracy: 0.5184\n",
      "Epoch 93/100\n",
      "2/2 [==============================] - 1s 602ms/step - loss: 0.5123 - accuracy: 0.9600 - val_loss: 1.3216 - val_accuracy: 0.5192\n",
      "Epoch 94/100\n",
      "2/2 [==============================] - 1s 587ms/step - loss: 0.5048 - accuracy: 0.9600 - val_loss: 1.3084 - val_accuracy: 0.5272\n",
      "Epoch 95/100\n",
      "2/2 [==============================] - 1s 582ms/step - loss: 0.4977 - accuracy: 0.9600 - val_loss: 1.3071 - val_accuracy: 0.5292\n",
      "Epoch 96/100\n",
      "2/2 [==============================] - 1s 585ms/step - loss: 0.4953 - accuracy: 0.9600 - val_loss: 1.3088 - val_accuracy: 0.5266\n",
      "Epoch 97/100\n",
      "2/2 [==============================] - 1s 585ms/step - loss: 0.4854 - accuracy: 0.9800 - val_loss: 1.3084 - val_accuracy: 0.5290\n",
      "Epoch 98/100\n",
      "2/2 [==============================] - 1s 586ms/step - loss: 0.4800 - accuracy: 0.9600 - val_loss: 1.3001 - val_accuracy: 0.5314\n",
      "Epoch 99/100\n",
      "2/2 [==============================] - 1s 589ms/step - loss: 0.4737 - accuracy: 1.0000 - val_loss: 1.2991 - val_accuracy: 0.5288\n",
      "Epoch 100/100\n",
      "2/2 [==============================] - 1s 587ms/step - loss: 0.4701 - accuracy: 0.9800 - val_loss: 1.2995 - val_accuracy: 0.5330\n"
     ]
    }
   ],
   "source": [
    "keras.backend.clear_session()\n",
    "\n",
    "model = keras.models.Sequential([\n",
    "    keras.layers.Flatten(input_shape=[28, 28]),\n",
    "    keras.layers.Dense(300, activation=\"relu\"),\n",
    "    keras.layers.Dense(100, activation=\"relu\"),\n",
    "    keras.layers.Dense(10, activation=\"softmax\")\n",
    "])\n",
    "\n",
    "model.compile(loss=\"sparse_categorical_crossentropy\",\n",
    "              optimizer=\"sgd\",\n",
    "              metrics=[\"accuracy\"])\n",
    "\n",
    "n_labels = 50\n",
    "\n",
    "history = model.fit(X_train[:n_labels], y_train[:n_labels], epochs=100, validation_data=(X_valid, y_valid))"
   ]
  },
  {
   "cell_type": "code",
   "execution_count": 43,
   "metadata": {},
   "outputs": [],
   "source": [
    "y_test_prob = model.predict(X_test)"
   ]
  },
  {
   "cell_type": "code",
   "execution_count": 46,
   "metadata": {},
   "outputs": [
    {
     "data": {
      "text/plain": [
       "array([9, 2, 1, ..., 3, 3, 9])"
      ]
     },
     "execution_count": 46,
     "metadata": {},
     "output_type": "execute_result"
    }
   ],
   "source": [
    "y_test_hat = np.argmax(y_test_prob, axis=1)\n",
    "y_test_hat"
   ]
  },
  {
   "cell_type": "code",
   "execution_count": 49,
   "metadata": {},
   "outputs": [
    {
     "name": "stdout",
     "output_type": "stream",
     "text": [
      "              precision    recall  f1-score   support\n",
      "\n",
      "           0       0.72      0.66      0.69      1000\n",
      "           1       1.00      0.48      0.65      1000\n",
      "           2       0.51      0.64      0.56      1000\n",
      "           3       0.47      0.73      0.57      1000\n",
      "           4       0.31      0.60      0.41      1000\n",
      "           5       0.51      0.35      0.41      1000\n",
      "           6       0.28      0.05      0.08      1000\n",
      "           7       0.35      0.11      0.16      1000\n",
      "           8       0.75      0.64      0.69      1000\n",
      "           9       0.52      0.95      0.67      1000\n",
      "\n",
      "    accuracy                           0.52     10000\n",
      "   macro avg       0.54      0.52      0.49     10000\n",
      "weighted avg       0.54      0.52      0.49     10000\n",
      "\n"
     ]
    }
   ],
   "source": [
    "print(classification_report(y_test, y_test_hat))"
   ]
  },
  {
   "cell_type": "markdown",
   "metadata": {},
   "source": [
    "We obtain a meagre accuracy of `0.52` by training the model on $50$ examples. Let's proceed to the next strategy."
   ]
  },
  {
   "cell_type": "markdown",
   "metadata": {},
   "source": [
    "## Semi-Supervised Strategy 2\n",
    "\n",
    "As the next strategy, we use clustering strategy to create newer labels for learning. This strategy will enable us to label the majority of the unlabelled datas in the training dataset to be usable for training purposes."
   ]
  },
  {
   "cell_type": "markdown",
   "metadata": {},
   "source": [
    "### Strategy 2.1\n",
    "\n",
    "First, let's cluster the training set into $50$ clusters and see if we can do better. For each cluster, we find the image closest to the centroid. We will call these images the representative images.\n",
    "\n",
    "Next, we plot these representative images and label them manually.\n",
    "(Instead of labelling them myself, I will make use of the original labelled dataset to label them, assuming I would have labelled the data with a $100\\%$ accuracy).\n",
    "\n",
    "This will give us $50$ labelled instances again, but instead of being completely random instances, each of them would be a representative image of its cluster. Let's see if it results in any better performance."
   ]
  },
  {
   "cell_type": "markdown",
   "metadata": {},
   "source": [
    "Before we start clustering, we need to flatten the $28 \\times 28$ matrices into vectors of length $784$."
   ]
  },
  {
   "cell_type": "code",
   "execution_count": 22,
   "metadata": {},
   "outputs": [
    {
     "data": {
      "text/plain": [
       "(55000, 784)"
      ]
     },
     "execution_count": 22,
     "metadata": {},
     "output_type": "execute_result"
    }
   ],
   "source": [
    "X_train_flat = np.array([x.ravel() for x in X_train])\n",
    "X_train_flat.shape"
   ]
  },
  {
   "cell_type": "markdown",
   "metadata": {},
   "source": [
    "We can now cluster on `X_train_flat`."
   ]
  },
  {
   "cell_type": "code",
   "execution_count": 1,
   "metadata": {},
   "outputs": [],
   "source": [
    "k = 50"
   ]
  },
  {
   "cell_type": "code",
   "execution_count": 23,
   "metadata": {},
   "outputs": [],
   "source": [
    "kmeans = KMeans(n_clusters=k, random_state=42)\n",
    "X_train_dist = kmeans.fit_transform(X_train_flat)\n",
    "representative_idx = np.argmin(X_train_dist, axis=0)\n",
    "\n",
    "X_train_rep = X_train[representative_idx]\n",
    "y_train_rep = y_train[representative_idx]"
   ]
  },
  {
   "cell_type": "markdown",
   "metadata": {},
   "source": [
    "Let's train our model on this dataset."
   ]
  },
  {
   "cell_type": "code",
   "execution_count": 27,
   "metadata": {},
   "outputs": [
    {
     "name": "stdout",
     "output_type": "stream",
     "text": [
      "Epoch 1/150\n",
      "1/2 [==============>...............] - ETA: 0s - loss: 2.2033 - accuracy: 0.1562"
     ]
    },
    {
     "name": "stderr",
     "output_type": "stream",
     "text": [
      "2022-05-20 18:55:44.446722: I tensorflow/core/grappler/optimizers/custom_graph_optimizer_registry.cc:112] Plugin optimizer for device_type GPU is enabled.\n",
      "2022-05-20 18:55:44.767988: I tensorflow/core/grappler/optimizers/custom_graph_optimizer_registry.cc:112] Plugin optimizer for device_type GPU is enabled.\n"
     ]
    },
    {
     "name": "stdout",
     "output_type": "stream",
     "text": [
      "2/2 [==============================] - 1s 867ms/step - loss: 2.2362 - accuracy: 0.1200 - val_loss: 2.2983 - val_accuracy: 0.1246\n",
      "Epoch 2/150\n",
      "2/2 [==============================] - 1s 608ms/step - loss: 2.1329 - accuracy: 0.1800 - val_loss: 2.2380 - val_accuracy: 0.1696\n",
      "Epoch 3/150\n",
      "2/2 [==============================] - 1s 592ms/step - loss: 2.0541 - accuracy: 0.3000 - val_loss: 2.1898 - val_accuracy: 0.2122\n",
      "Epoch 4/150\n",
      "2/2 [==============================] - 1s 658ms/step - loss: 1.9876 - accuracy: 0.3000 - val_loss: 2.1587 - val_accuracy: 0.2268\n",
      "Epoch 5/150\n",
      "2/2 [==============================] - 1s 627ms/step - loss: 1.9212 - accuracy: 0.3600 - val_loss: 2.1262 - val_accuracy: 0.2548\n",
      "Epoch 6/150\n",
      "2/2 [==============================] - 1s 659ms/step - loss: 1.8670 - accuracy: 0.3800 - val_loss: 2.0859 - val_accuracy: 0.2888\n",
      "Epoch 7/150\n",
      "2/2 [==============================] - 1s 672ms/step - loss: 1.8227 - accuracy: 0.4600 - val_loss: 2.0585 - val_accuracy: 0.3032\n",
      "Epoch 8/150\n",
      "2/2 [==============================] - 1s 614ms/step - loss: 1.7764 - accuracy: 0.5000 - val_loss: 2.0298 - val_accuracy: 0.3292\n",
      "Epoch 9/150\n",
      "2/2 [==============================] - 1s 596ms/step - loss: 1.7365 - accuracy: 0.5200 - val_loss: 2.0035 - val_accuracy: 0.3428\n",
      "Epoch 10/150\n",
      "2/2 [==============================] - 1s 600ms/step - loss: 1.7034 - accuracy: 0.5400 - val_loss: 1.9765 - val_accuracy: 0.3694\n",
      "Epoch 11/150\n",
      "2/2 [==============================] - 1s 589ms/step - loss: 1.6651 - accuracy: 0.5800 - val_loss: 1.9551 - val_accuracy: 0.3828\n",
      "Epoch 12/150\n",
      "2/2 [==============================] - 1s 582ms/step - loss: 1.6356 - accuracy: 0.5800 - val_loss: 1.9374 - val_accuracy: 0.3918\n",
      "Epoch 13/150\n",
      "2/2 [==============================] - 1s 584ms/step - loss: 1.6000 - accuracy: 0.6000 - val_loss: 1.9167 - val_accuracy: 0.4138\n",
      "Epoch 14/150\n",
      "2/2 [==============================] - 1s 589ms/step - loss: 1.5724 - accuracy: 0.6200 - val_loss: 1.9022 - val_accuracy: 0.4134\n",
      "Epoch 15/150\n",
      "2/2 [==============================] - 1s 598ms/step - loss: 1.5392 - accuracy: 0.6200 - val_loss: 1.8779 - val_accuracy: 0.4300\n",
      "Epoch 16/150\n",
      "2/2 [==============================] - 1s 594ms/step - loss: 1.5076 - accuracy: 0.6200 - val_loss: 1.8552 - val_accuracy: 0.4432\n",
      "Epoch 17/150\n",
      "2/2 [==============================] - 1s 580ms/step - loss: 1.4802 - accuracy: 0.6400 - val_loss: 1.8318 - val_accuracy: 0.4670\n",
      "Epoch 18/150\n",
      "2/2 [==============================] - 1s 589ms/step - loss: 1.4532 - accuracy: 0.7000 - val_loss: 1.8141 - val_accuracy: 0.4674\n",
      "Epoch 19/150\n",
      "2/2 [==============================] - 1s 582ms/step - loss: 1.4265 - accuracy: 0.7000 - val_loss: 1.7938 - val_accuracy: 0.4714\n",
      "Epoch 20/150\n",
      "2/2 [==============================] - 1s 609ms/step - loss: 1.3992 - accuracy: 0.7000 - val_loss: 1.7742 - val_accuracy: 0.4836\n",
      "Epoch 21/150\n",
      "2/2 [==============================] - 1s 578ms/step - loss: 1.3744 - accuracy: 0.7000 - val_loss: 1.7590 - val_accuracy: 0.4876\n",
      "Epoch 22/150\n",
      "2/2 [==============================] - 1s 585ms/step - loss: 1.3499 - accuracy: 0.6800 - val_loss: 1.7383 - val_accuracy: 0.5130\n",
      "Epoch 23/150\n",
      "2/2 [==============================] - 1s 580ms/step - loss: 1.3223 - accuracy: 0.7400 - val_loss: 1.7188 - val_accuracy: 0.5124\n",
      "Epoch 24/150\n",
      "2/2 [==============================] - 1s 580ms/step - loss: 1.3020 - accuracy: 0.7400 - val_loss: 1.7091 - val_accuracy: 0.5076\n",
      "Epoch 25/150\n",
      "2/2 [==============================] - 1s 587ms/step - loss: 1.2727 - accuracy: 0.7200 - val_loss: 1.6916 - val_accuracy: 0.5116\n",
      "Epoch 26/150\n",
      "2/2 [==============================] - 1s 588ms/step - loss: 1.2502 - accuracy: 0.7200 - val_loss: 1.6706 - val_accuracy: 0.5172\n",
      "Epoch 27/150\n",
      "2/2 [==============================] - 1s 598ms/step - loss: 1.2257 - accuracy: 0.7200 - val_loss: 1.6508 - val_accuracy: 0.5280\n",
      "Epoch 28/150\n",
      "2/2 [==============================] - 1s 600ms/step - loss: 1.2100 - accuracy: 0.7400 - val_loss: 1.6419 - val_accuracy: 0.5362\n",
      "Epoch 29/150\n",
      "2/2 [==============================] - 1s 599ms/step - loss: 1.1848 - accuracy: 0.7600 - val_loss: 1.6207 - val_accuracy: 0.5506\n",
      "Epoch 30/150\n",
      "2/2 [==============================] - 1s 597ms/step - loss: 1.1639 - accuracy: 0.7600 - val_loss: 1.5976 - val_accuracy: 0.5568\n",
      "Epoch 31/150\n",
      "2/2 [==============================] - 1s 603ms/step - loss: 1.1408 - accuracy: 0.7600 - val_loss: 1.5853 - val_accuracy: 0.5616\n",
      "Epoch 32/150\n",
      "2/2 [==============================] - 1s 589ms/step - loss: 1.1204 - accuracy: 0.7600 - val_loss: 1.5734 - val_accuracy: 0.5646\n",
      "Epoch 33/150\n",
      "2/2 [==============================] - 1s 628ms/step - loss: 1.1045 - accuracy: 0.7600 - val_loss: 1.5506 - val_accuracy: 0.5706\n",
      "Epoch 34/150\n",
      "2/2 [==============================] - 1s 631ms/step - loss: 1.0828 - accuracy: 0.7600 - val_loss: 1.5382 - val_accuracy: 0.5722\n",
      "Epoch 35/150\n",
      "2/2 [==============================] - 1s 631ms/step - loss: 1.0707 - accuracy: 0.7800 - val_loss: 1.5406 - val_accuracy: 0.5714\n",
      "Epoch 36/150\n",
      "2/2 [==============================] - 1s 602ms/step - loss: 1.0504 - accuracy: 0.7800 - val_loss: 1.5274 - val_accuracy: 0.5830\n",
      "Epoch 37/150\n",
      "2/2 [==============================] - 1s 600ms/step - loss: 1.0304 - accuracy: 0.7800 - val_loss: 1.4980 - val_accuracy: 0.5882\n",
      "Epoch 38/150\n",
      "2/2 [==============================] - 1s 630ms/step - loss: 1.0108 - accuracy: 0.7800 - val_loss: 1.4815 - val_accuracy: 0.5924\n",
      "Epoch 39/150\n",
      "2/2 [==============================] - 1s 688ms/step - loss: 0.9949 - accuracy: 0.7800 - val_loss: 1.4763 - val_accuracy: 0.5918\n",
      "Epoch 40/150\n",
      "2/2 [==============================] - 1s 629ms/step - loss: 0.9810 - accuracy: 0.7800 - val_loss: 1.4555 - val_accuracy: 0.6032\n",
      "Epoch 41/150\n",
      "2/2 [==============================] - 1s 720ms/step - loss: 0.9617 - accuracy: 0.7800 - val_loss: 1.4396 - val_accuracy: 0.6112\n",
      "Epoch 42/150\n",
      "2/2 [==============================] - 1s 626ms/step - loss: 0.9428 - accuracy: 0.8000 - val_loss: 1.4243 - val_accuracy: 0.6162\n",
      "Epoch 43/150\n",
      "2/2 [==============================] - 1s 644ms/step - loss: 0.9300 - accuracy: 0.8000 - val_loss: 1.4208 - val_accuracy: 0.6094\n",
      "Epoch 44/150\n",
      "2/2 [==============================] - 1s 681ms/step - loss: 0.9131 - accuracy: 0.7800 - val_loss: 1.4143 - val_accuracy: 0.6110\n",
      "Epoch 45/150\n",
      "2/2 [==============================] - 1s 596ms/step - loss: 0.8980 - accuracy: 0.7800 - val_loss: 1.4051 - val_accuracy: 0.6114\n",
      "Epoch 46/150\n",
      "2/2 [==============================] - 1s 586ms/step - loss: 0.8842 - accuracy: 0.7800 - val_loss: 1.3850 - val_accuracy: 0.6190\n",
      "Epoch 47/150\n",
      "2/2 [==============================] - 1s 577ms/step - loss: 0.8710 - accuracy: 0.8000 - val_loss: 1.3841 - val_accuracy: 0.6136\n",
      "Epoch 48/150\n",
      "2/2 [==============================] - 1s 596ms/step - loss: 0.8552 - accuracy: 0.8000 - val_loss: 1.3696 - val_accuracy: 0.6214\n",
      "Epoch 49/150\n",
      "2/2 [==============================] - 1s 590ms/step - loss: 0.8487 - accuracy: 0.7800 - val_loss: 1.3437 - val_accuracy: 0.6340\n",
      "Epoch 50/150\n",
      "2/2 [==============================] - 1s 601ms/step - loss: 0.8308 - accuracy: 0.8200 - val_loss: 1.3423 - val_accuracy: 0.6318\n",
      "Epoch 51/150\n",
      "2/2 [==============================] - 1s 586ms/step - loss: 0.8178 - accuracy: 0.8200 - val_loss: 1.3331 - val_accuracy: 0.6330\n",
      "Epoch 52/150\n",
      "2/2 [==============================] - 1s 598ms/step - loss: 0.8054 - accuracy: 0.8000 - val_loss: 1.3271 - val_accuracy: 0.6326\n",
      "Epoch 53/150\n",
      "2/2 [==============================] - 1s 589ms/step - loss: 0.7937 - accuracy: 0.8400 - val_loss: 1.3250 - val_accuracy: 0.6264\n",
      "Epoch 54/150\n",
      "2/2 [==============================] - 1s 597ms/step - loss: 0.7795 - accuracy: 0.8200 - val_loss: 1.3189 - val_accuracy: 0.6254\n",
      "Epoch 55/150\n",
      "2/2 [==============================] - 1s 596ms/step - loss: 0.7676 - accuracy: 0.8400 - val_loss: 1.3060 - val_accuracy: 0.6306\n",
      "Epoch 56/150\n",
      "2/2 [==============================] - 1s 595ms/step - loss: 0.7551 - accuracy: 0.8000 - val_loss: 1.2926 - val_accuracy: 0.6362\n",
      "Epoch 57/150\n",
      "2/2 [==============================] - 1s 597ms/step - loss: 0.7461 - accuracy: 0.8400 - val_loss: 1.2815 - val_accuracy: 0.6386\n",
      "Epoch 58/150\n",
      "2/2 [==============================] - 1s 606ms/step - loss: 0.7368 - accuracy: 0.8600 - val_loss: 1.2748 - val_accuracy: 0.6402\n",
      "Epoch 59/150\n",
      "2/2 [==============================] - 1s 597ms/step - loss: 0.7243 - accuracy: 0.8200 - val_loss: 1.2690 - val_accuracy: 0.6408\n",
      "Epoch 60/150\n",
      "2/2 [==============================] - 1s 607ms/step - loss: 0.7148 - accuracy: 0.8200 - val_loss: 1.2689 - val_accuracy: 0.6368\n",
      "Epoch 61/150\n",
      "2/2 [==============================] - 1s 594ms/step - loss: 0.7053 - accuracy: 0.8400 - val_loss: 1.2540 - val_accuracy: 0.6464\n",
      "Epoch 62/150\n",
      "2/2 [==============================] - 1s 589ms/step - loss: 0.6939 - accuracy: 0.8400 - val_loss: 1.2446 - val_accuracy: 0.6488\n",
      "Epoch 63/150\n",
      "2/2 [==============================] - 1s 591ms/step - loss: 0.6877 - accuracy: 0.8400 - val_loss: 1.2460 - val_accuracy: 0.6434\n",
      "Epoch 64/150\n",
      "2/2 [==============================] - 1s 593ms/step - loss: 0.6766 - accuracy: 0.8600 - val_loss: 1.2417 - val_accuracy: 0.6432\n",
      "Epoch 65/150\n",
      "2/2 [==============================] - 1s 594ms/step - loss: 0.6723 - accuracy: 0.8200 - val_loss: 1.2408 - val_accuracy: 0.6422\n",
      "Epoch 66/150\n",
      "2/2 [==============================] - 1s 595ms/step - loss: 0.6596 - accuracy: 0.8400 - val_loss: 1.2215 - val_accuracy: 0.6492\n",
      "Epoch 67/150\n",
      "2/2 [==============================] - 1s 594ms/step - loss: 0.6526 - accuracy: 0.8400 - val_loss: 1.2256 - val_accuracy: 0.6460\n",
      "Epoch 68/150\n",
      "2/2 [==============================] - 1s 594ms/step - loss: 0.6456 - accuracy: 0.8600 - val_loss: 1.2074 - val_accuracy: 0.6512\n",
      "Epoch 69/150\n",
      "2/2 [==============================] - 1s 613ms/step - loss: 0.6392 - accuracy: 0.8600 - val_loss: 1.2154 - val_accuracy: 0.6470\n",
      "Epoch 70/150\n",
      "2/2 [==============================] - 1s 583ms/step - loss: 0.6278 - accuracy: 0.8400 - val_loss: 1.1977 - val_accuracy: 0.6510\n",
      "Epoch 71/150\n",
      "2/2 [==============================] - 1s 591ms/step - loss: 0.6245 - accuracy: 0.9000 - val_loss: 1.1874 - val_accuracy: 0.6568\n",
      "Epoch 72/150\n",
      "2/2 [==============================] - 1s 588ms/step - loss: 0.6115 - accuracy: 0.9000 - val_loss: 1.1912 - val_accuracy: 0.6524\n",
      "Epoch 73/150\n",
      "2/2 [==============================] - 1s 586ms/step - loss: 0.6062 - accuracy: 0.8800 - val_loss: 1.1935 - val_accuracy: 0.6496\n",
      "Epoch 74/150\n",
      "2/2 [==============================] - 1s 588ms/step - loss: 0.5960 - accuracy: 0.8600 - val_loss: 1.1838 - val_accuracy: 0.6526\n",
      "Epoch 75/150\n",
      "2/2 [==============================] - 1s 588ms/step - loss: 0.5923 - accuracy: 0.9000 - val_loss: 1.1737 - val_accuracy: 0.6542\n",
      "Epoch 76/150\n",
      "2/2 [==============================] - 1s 600ms/step - loss: 0.5866 - accuracy: 0.8800 - val_loss: 1.1647 - val_accuracy: 0.6580\n",
      "Epoch 77/150\n",
      "2/2 [==============================] - 1s 586ms/step - loss: 0.5799 - accuracy: 0.9200 - val_loss: 1.1762 - val_accuracy: 0.6492\n",
      "Epoch 78/150\n",
      "2/2 [==============================] - 1s 596ms/step - loss: 0.5738 - accuracy: 0.9000 - val_loss: 1.1674 - val_accuracy: 0.6496\n",
      "Epoch 79/150\n",
      "2/2 [==============================] - 1s 595ms/step - loss: 0.5644 - accuracy: 0.9000 - val_loss: 1.1567 - val_accuracy: 0.6542\n",
      "Epoch 80/150\n",
      "2/2 [==============================] - 1s 590ms/step - loss: 0.5568 - accuracy: 0.9000 - val_loss: 1.1516 - val_accuracy: 0.6558\n",
      "Epoch 81/150\n",
      "2/2 [==============================] - 1s 587ms/step - loss: 0.5499 - accuracy: 0.9200 - val_loss: 1.1524 - val_accuracy: 0.6538\n",
      "Epoch 82/150\n",
      "2/2 [==============================] - 1s 593ms/step - loss: 0.5440 - accuracy: 0.9000 - val_loss: 1.1457 - val_accuracy: 0.6594\n",
      "Epoch 83/150\n",
      "2/2 [==============================] - 1s 597ms/step - loss: 0.5390 - accuracy: 0.9200 - val_loss: 1.1493 - val_accuracy: 0.6548\n",
      "Epoch 84/150\n",
      "2/2 [==============================] - 1s 589ms/step - loss: 0.5352 - accuracy: 0.9000 - val_loss: 1.1444 - val_accuracy: 0.6590\n",
      "Epoch 85/150\n",
      "2/2 [==============================] - 1s 594ms/step - loss: 0.5298 - accuracy: 0.9200 - val_loss: 1.1436 - val_accuracy: 0.6544\n",
      "Epoch 86/150\n",
      "2/2 [==============================] - 1s 593ms/step - loss: 0.5222 - accuracy: 0.9000 - val_loss: 1.1354 - val_accuracy: 0.6574\n",
      "Epoch 87/150\n",
      "2/2 [==============================] - 1s 605ms/step - loss: 0.5152 - accuracy: 0.9200 - val_loss: 1.1266 - val_accuracy: 0.6644\n",
      "Epoch 88/150\n",
      "2/2 [==============================] - 1s 604ms/step - loss: 0.5165 - accuracy: 0.9000 - val_loss: 1.1159 - val_accuracy: 0.6646\n",
      "Epoch 89/150\n",
      "2/2 [==============================] - 1s 610ms/step - loss: 0.5057 - accuracy: 0.9200 - val_loss: 1.1161 - val_accuracy: 0.6624\n",
      "Epoch 90/150\n",
      "2/2 [==============================] - 1s 599ms/step - loss: 0.5005 - accuracy: 0.9200 - val_loss: 1.1223 - val_accuracy: 0.6604\n",
      "Epoch 91/150\n",
      "2/2 [==============================] - 1s 595ms/step - loss: 0.4957 - accuracy: 0.9200 - val_loss: 1.1073 - val_accuracy: 0.6646\n",
      "Epoch 92/150\n",
      "2/2 [==============================] - 1s 594ms/step - loss: 0.4930 - accuracy: 0.9200 - val_loss: 1.1161 - val_accuracy: 0.6610\n",
      "Epoch 93/150\n",
      "2/2 [==============================] - 1s 588ms/step - loss: 0.4889 - accuracy: 0.9200 - val_loss: 1.1144 - val_accuracy: 0.6606\n",
      "Epoch 94/150\n",
      "2/2 [==============================] - 1s 594ms/step - loss: 0.4831 - accuracy: 0.9200 - val_loss: 1.1006 - val_accuracy: 0.6662\n",
      "Epoch 95/150\n",
      "2/2 [==============================] - 1s 584ms/step - loss: 0.4789 - accuracy: 0.9200 - val_loss: 1.0904 - val_accuracy: 0.6684\n",
      "Epoch 96/150\n",
      "2/2 [==============================] - 1s 584ms/step - loss: 0.4747 - accuracy: 0.9200 - val_loss: 1.0831 - val_accuracy: 0.6668\n",
      "Epoch 97/150\n",
      "2/2 [==============================] - 1s 587ms/step - loss: 0.4672 - accuracy: 0.9200 - val_loss: 1.0842 - val_accuracy: 0.6684\n",
      "Epoch 98/150\n",
      "2/2 [==============================] - 1s 594ms/step - loss: 0.4661 - accuracy: 0.9200 - val_loss: 1.1025 - val_accuracy: 0.6610\n",
      "Epoch 99/150\n",
      "2/2 [==============================] - 1s 595ms/step - loss: 0.4592 - accuracy: 0.9200 - val_loss: 1.0824 - val_accuracy: 0.6678\n",
      "Epoch 100/150\n",
      "2/2 [==============================] - 1s 597ms/step - loss: 0.4549 - accuracy: 0.9200 - val_loss: 1.0772 - val_accuracy: 0.6684\n",
      "Epoch 101/150\n",
      "2/2 [==============================] - 1s 594ms/step - loss: 0.4498 - accuracy: 0.9200 - val_loss: 1.0728 - val_accuracy: 0.6676\n",
      "Epoch 102/150\n",
      "2/2 [==============================] - 1s 580ms/step - loss: 0.4488 - accuracy: 0.9200 - val_loss: 1.0821 - val_accuracy: 0.6642\n",
      "Epoch 103/150\n",
      "2/2 [==============================] - 1s 590ms/step - loss: 0.4440 - accuracy: 0.9200 - val_loss: 1.0852 - val_accuracy: 0.6618\n",
      "Epoch 104/150\n",
      "2/2 [==============================] - 1s 579ms/step - loss: 0.4395 - accuracy: 0.9200 - val_loss: 1.0729 - val_accuracy: 0.6670\n",
      "Epoch 105/150\n",
      "2/2 [==============================] - 1s 590ms/step - loss: 0.4359 - accuracy: 0.9200 - val_loss: 1.0856 - val_accuracy: 0.6640\n",
      "Epoch 106/150\n",
      "2/2 [==============================] - 1s 592ms/step - loss: 0.4295 - accuracy: 0.9200 - val_loss: 1.0680 - val_accuracy: 0.6692\n",
      "Epoch 107/150\n",
      "2/2 [==============================] - 1s 595ms/step - loss: 0.4247 - accuracy: 0.9200 - val_loss: 1.0676 - val_accuracy: 0.6678\n",
      "Epoch 108/150\n",
      "2/2 [==============================] - 1s 590ms/step - loss: 0.4210 - accuracy: 0.9200 - val_loss: 1.0649 - val_accuracy: 0.6684\n",
      "Epoch 109/150\n",
      "2/2 [==============================] - 1s 611ms/step - loss: 0.4163 - accuracy: 0.9400 - val_loss: 1.0626 - val_accuracy: 0.6670\n",
      "Epoch 110/150\n",
      "2/2 [==============================] - 1s 588ms/step - loss: 0.4146 - accuracy: 0.9400 - val_loss: 1.0667 - val_accuracy: 0.6670\n",
      "Epoch 111/150\n",
      "2/2 [==============================] - 1s 596ms/step - loss: 0.4111 - accuracy: 0.9200 - val_loss: 1.0575 - val_accuracy: 0.6664\n",
      "Epoch 112/150\n",
      "2/2 [==============================] - 1s 587ms/step - loss: 0.4046 - accuracy: 0.9400 - val_loss: 1.0581 - val_accuracy: 0.6676\n",
      "Epoch 113/150\n",
      "2/2 [==============================] - 1s 586ms/step - loss: 0.4021 - accuracy: 0.9400 - val_loss: 1.0512 - val_accuracy: 0.6690\n",
      "Epoch 114/150\n",
      "2/2 [==============================] - 1s 592ms/step - loss: 0.3986 - accuracy: 0.9400 - val_loss: 1.0566 - val_accuracy: 0.6686\n",
      "Epoch 115/150\n",
      "2/2 [==============================] - 1s 595ms/step - loss: 0.3998 - accuracy: 0.9400 - val_loss: 1.0692 - val_accuracy: 0.6646\n",
      "Epoch 116/150\n",
      "2/2 [==============================] - 1s 592ms/step - loss: 0.3935 - accuracy: 0.9400 - val_loss: 1.0576 - val_accuracy: 0.6666\n",
      "Epoch 117/150\n",
      "2/2 [==============================] - 1s 593ms/step - loss: 0.3903 - accuracy: 0.9400 - val_loss: 1.0610 - val_accuracy: 0.6654\n",
      "Epoch 118/150\n",
      "2/2 [==============================] - 1s 588ms/step - loss: 0.3874 - accuracy: 0.9600 - val_loss: 1.0592 - val_accuracy: 0.6654\n",
      "Epoch 119/150\n",
      "2/2 [==============================] - 1s 590ms/step - loss: 0.3852 - accuracy: 0.9600 - val_loss: 1.0555 - val_accuracy: 0.6646\n",
      "Epoch 120/150\n",
      "2/2 [==============================] - 1s 595ms/step - loss: 0.3821 - accuracy: 0.9600 - val_loss: 1.0396 - val_accuracy: 0.6682\n",
      "Epoch 121/150\n",
      "2/2 [==============================] - 1s 582ms/step - loss: 0.3796 - accuracy: 0.9600 - val_loss: 1.0291 - val_accuracy: 0.6706\n",
      "Epoch 122/150\n",
      "2/2 [==============================] - 1s 593ms/step - loss: 0.3742 - accuracy: 0.9600 - val_loss: 1.0356 - val_accuracy: 0.6688\n",
      "Epoch 123/150\n",
      "2/2 [==============================] - 1s 588ms/step - loss: 0.3703 - accuracy: 0.9600 - val_loss: 1.0387 - val_accuracy: 0.6686\n",
      "Epoch 124/150\n",
      "2/2 [==============================] - 1s 595ms/step - loss: 0.3676 - accuracy: 0.9600 - val_loss: 1.0374 - val_accuracy: 0.6688\n",
      "Epoch 125/150\n",
      "2/2 [==============================] - 1s 594ms/step - loss: 0.3659 - accuracy: 0.9600 - val_loss: 1.0378 - val_accuracy: 0.6680\n",
      "Epoch 126/150\n",
      "2/2 [==============================] - 1s 590ms/step - loss: 0.3626 - accuracy: 0.9600 - val_loss: 1.0378 - val_accuracy: 0.6668\n",
      "Epoch 127/150\n",
      "2/2 [==============================] - 1s 590ms/step - loss: 0.3596 - accuracy: 0.9600 - val_loss: 1.0387 - val_accuracy: 0.6660\n",
      "Epoch 128/150\n",
      "2/2 [==============================] - 1s 590ms/step - loss: 0.3569 - accuracy: 0.9600 - val_loss: 1.0288 - val_accuracy: 0.6680\n",
      "Epoch 129/150\n",
      "2/2 [==============================] - 1s 613ms/step - loss: 0.3523 - accuracy: 0.9600 - val_loss: 1.0272 - val_accuracy: 0.6700\n",
      "Epoch 130/150\n",
      "2/2 [==============================] - 1s 585ms/step - loss: 0.3498 - accuracy: 0.9600 - val_loss: 1.0219 - val_accuracy: 0.6708\n",
      "Epoch 131/150\n",
      "2/2 [==============================] - 1s 601ms/step - loss: 0.3467 - accuracy: 0.9600 - val_loss: 1.0215 - val_accuracy: 0.6710\n",
      "Epoch 132/150\n",
      "2/2 [==============================] - 1s 590ms/step - loss: 0.3451 - accuracy: 0.9600 - val_loss: 1.0191 - val_accuracy: 0.6720\n",
      "Epoch 133/150\n",
      "2/2 [==============================] - 1s 593ms/step - loss: 0.3413 - accuracy: 0.9600 - val_loss: 1.0198 - val_accuracy: 0.6710\n",
      "Epoch 134/150\n",
      "2/2 [==============================] - 1s 587ms/step - loss: 0.3383 - accuracy: 0.9600 - val_loss: 1.0184 - val_accuracy: 0.6718\n",
      "Epoch 135/150\n",
      "2/2 [==============================] - 1s 598ms/step - loss: 0.3366 - accuracy: 0.9600 - val_loss: 1.0204 - val_accuracy: 0.6714\n",
      "Epoch 136/150\n",
      "2/2 [==============================] - 1s 587ms/step - loss: 0.3352 - accuracy: 0.9600 - val_loss: 1.0218 - val_accuracy: 0.6696\n",
      "Epoch 137/150\n",
      "2/2 [==============================] - 1s 594ms/step - loss: 0.3323 - accuracy: 0.9600 - val_loss: 1.0195 - val_accuracy: 0.6712\n",
      "Epoch 138/150\n",
      "2/2 [==============================] - 1s 588ms/step - loss: 0.3305 - accuracy: 0.9600 - val_loss: 1.0294 - val_accuracy: 0.6694\n",
      "Epoch 139/150\n",
      "2/2 [==============================] - 1s 588ms/step - loss: 0.3302 - accuracy: 0.9600 - val_loss: 1.0210 - val_accuracy: 0.6706\n",
      "Epoch 140/150\n",
      "2/2 [==============================] - 1s 584ms/step - loss: 0.3248 - accuracy: 0.9600 - val_loss: 1.0190 - val_accuracy: 0.6712\n",
      "Epoch 141/150\n",
      "2/2 [==============================] - 1s 592ms/step - loss: 0.3215 - accuracy: 0.9600 - val_loss: 1.0120 - val_accuracy: 0.6730\n",
      "Epoch 142/150\n",
      "2/2 [==============================] - 1s 592ms/step - loss: 0.3196 - accuracy: 0.9600 - val_loss: 1.0072 - val_accuracy: 0.6726\n",
      "Epoch 143/150\n",
      "2/2 [==============================] - 1s 594ms/step - loss: 0.3171 - accuracy: 0.9600 - val_loss: 1.0115 - val_accuracy: 0.6716\n",
      "Epoch 144/150\n",
      "2/2 [==============================] - 1s 603ms/step - loss: 0.3162 - accuracy: 0.9600 - val_loss: 1.0131 - val_accuracy: 0.6716\n",
      "Epoch 145/150\n",
      "2/2 [==============================] - 1s 594ms/step - loss: 0.3146 - accuracy: 0.9600 - val_loss: 1.0025 - val_accuracy: 0.6720\n",
      "Epoch 146/150\n",
      "2/2 [==============================] - 1s 602ms/step - loss: 0.3107 - accuracy: 0.9600 - val_loss: 1.0052 - val_accuracy: 0.6734\n",
      "Epoch 147/150\n",
      "2/2 [==============================] - 1s 597ms/step - loss: 0.3111 - accuracy: 0.9600 - val_loss: 1.0184 - val_accuracy: 0.6710\n",
      "Epoch 148/150\n",
      "2/2 [==============================] - 1s 606ms/step - loss: 0.3084 - accuracy: 0.9600 - val_loss: 1.0233 - val_accuracy: 0.6700\n",
      "Epoch 149/150\n",
      "2/2 [==============================] - 1s 626ms/step - loss: 0.3055 - accuracy: 0.9600 - val_loss: 1.0142 - val_accuracy: 0.6718\n",
      "Epoch 150/150\n",
      "2/2 [==============================] - 1s 597ms/step - loss: 0.3018 - accuracy: 0.9600 - val_loss: 1.0113 - val_accuracy: 0.6726\n"
     ]
    }
   ],
   "source": [
    "keras.backend.clear_session()\n",
    "\n",
    "model = keras.models.Sequential([\n",
    "    keras.layers.Flatten(input_shape=[28, 28]),\n",
    "    keras.layers.Dense(300, activation=\"relu\"),\n",
    "    keras.layers.Dense(100, activation=\"relu\"),\n",
    "    keras.layers.Dense(10, activation=\"softmax\")\n",
    "])\n",
    "\n",
    "model.compile(loss=\"sparse_categorical_crossentropy\",\n",
    "              optimizer=\"sgd\",\n",
    "              metrics=[\"accuracy\"])\n",
    "\n",
    "\n",
    "history = model.fit(X_train_rep, y_train_rep, epochs=150, validation_data=(X_valid, y_valid))"
   ]
  },
  {
   "cell_type": "markdown",
   "metadata": {},
   "source": [
    "Let's plot the learning curve."
   ]
  },
  {
   "cell_type": "code",
   "execution_count": 28,
   "metadata": {},
   "outputs": [
    {
     "data": {
      "image/png": "[encoded data removed]",
      "text/plain": [
       "<Figure size 576x432 with 1 Axes>"
      ]
     },
     "metadata": {
      "needs_background": "light"
     },
     "output_type": "display_data"
    }
   ],
   "source": [
    "pd.DataFrame(history.history).plot(figsize=(8,6))\n",
    "plt.grid(True)\n",
    "plt.show()"
   ]
  },
  {
   "cell_type": "markdown",
   "metadata": {},
   "source": [
    "The values seems to have stabilized around $125$ epochs.\n",
    "\n",
    "Let's evaluate the model on the test set."
   ]
  },
  {
   "cell_type": "code",
   "execution_count": 29,
   "metadata": {},
   "outputs": [
    {
     "name": "stdout",
     "output_type": "stream",
     "text": [
      "Epoch 1/125\n",
      "1/2 [==============>...............] - ETA: 0s - loss: 2.4052 - accuracy: 0.0000e+00"
     ]
    },
    {
     "name": "stderr",
     "output_type": "stream",
     "text": [
      "2022-05-20 18:58:17.884695: I tensorflow/core/grappler/optimizers/custom_graph_optimizer_registry.cc:112] Plugin optimizer for device_type GPU is enabled.\n",
      "2022-05-20 18:58:18.072417: I tensorflow/core/grappler/optimizers/custom_graph_optimizer_registry.cc:112] Plugin optimizer for device_type GPU is enabled.\n"
     ]
    },
    {
     "name": "stdout",
     "output_type": "stream",
     "text": [
      "2/2 [==============================] - 1s 737ms/step - loss: 2.3670 - accuracy: 0.0000e+00 - val_loss: 2.4061 - val_accuracy: 0.0698\n",
      "Epoch 2/125\n",
      "2/2 [==============================] - 1s 680ms/step - loss: 2.2704 - accuracy: 0.0800 - val_loss: 2.3477 - val_accuracy: 0.0890\n",
      "Epoch 3/125\n",
      "2/2 [==============================] - 1s 597ms/step - loss: 2.1920 - accuracy: 0.1000 - val_loss: 2.2965 - val_accuracy: 0.1370\n",
      "Epoch 4/125\n",
      "2/2 [==============================] - 1s 603ms/step - loss: 2.1286 - accuracy: 0.2200 - val_loss: 2.2639 - val_accuracy: 0.1852\n",
      "Epoch 5/125\n",
      "2/2 [==============================] - 1s 592ms/step - loss: 2.0608 - accuracy: 0.3400 - val_loss: 2.2267 - val_accuracy: 0.2526\n",
      "Epoch 6/125\n",
      "2/2 [==============================] - 1s 608ms/step - loss: 2.0056 - accuracy: 0.4600 - val_loss: 2.1908 - val_accuracy: 0.2922\n",
      "Epoch 7/125\n",
      "2/2 [==============================] - 1s 634ms/step - loss: 1.9650 - accuracy: 0.4800 - val_loss: 2.1645 - val_accuracy: 0.3078\n",
      "Epoch 8/125\n",
      "2/2 [==============================] - 1s 661ms/step - loss: 1.9160 - accuracy: 0.5000 - val_loss: 2.1363 - val_accuracy: 0.3298\n",
      "Epoch 9/125\n",
      "2/2 [==============================] - 1s 606ms/step - loss: 1.8766 - accuracy: 0.5200 - val_loss: 2.1091 - val_accuracy: 0.3502\n",
      "Epoch 10/125\n",
      "2/2 [==============================] - 1s 687ms/step - loss: 1.8427 - accuracy: 0.5600 - val_loss: 2.0853 - val_accuracy: 0.3714\n",
      "Epoch 11/125\n",
      "2/2 [==============================] - 1s 732ms/step - loss: 1.8021 - accuracy: 0.5600 - val_loss: 2.0628 - val_accuracy: 0.3918\n",
      "Epoch 12/125\n",
      "2/2 [==============================] - 1s 677ms/step - loss: 1.7708 - accuracy: 0.5800 - val_loss: 2.0430 - val_accuracy: 0.4070\n",
      "Epoch 13/125\n",
      "2/2 [==============================] - 1s 650ms/step - loss: 1.7306 - accuracy: 0.6000 - val_loss: 2.0214 - val_accuracy: 0.4212\n",
      "Epoch 14/125\n",
      "2/2 [==============================] - 1s 591ms/step - loss: 1.6988 - accuracy: 0.6000 - val_loss: 2.0027 - val_accuracy: 0.4294\n",
      "Epoch 15/125\n",
      "2/2 [==============================] - 1s 630ms/step - loss: 1.6640 - accuracy: 0.6200 - val_loss: 1.9788 - val_accuracy: 0.4402\n",
      "Epoch 16/125\n",
      "2/2 [==============================] - 1s 590ms/step - loss: 1.6309 - accuracy: 0.6200 - val_loss: 1.9575 - val_accuracy: 0.4470\n",
      "Epoch 17/125\n",
      "2/2 [==============================] - 1s 597ms/step - loss: 1.6019 - accuracy: 0.6200 - val_loss: 1.9359 - val_accuracy: 0.4562\n",
      "Epoch 18/125\n",
      "2/2 [==============================] - 1s 595ms/step - loss: 1.5727 - accuracy: 0.6200 - val_loss: 1.9166 - val_accuracy: 0.4666\n",
      "Epoch 19/125\n",
      "2/2 [==============================] - 1s 646ms/step - loss: 1.5451 - accuracy: 0.6600 - val_loss: 1.8973 - val_accuracy: 0.4710\n",
      "Epoch 20/125\n",
      "2/2 [==============================] - 1s 653ms/step - loss: 1.5191 - accuracy: 0.6600 - val_loss: 1.8782 - val_accuracy: 0.4816\n",
      "Epoch 21/125\n",
      "2/2 [==============================] - 1s 592ms/step - loss: 1.4906 - accuracy: 0.6600 - val_loss: 1.8579 - val_accuracy: 0.4956\n",
      "Epoch 22/125\n",
      "2/2 [==============================] - 1s 580ms/step - loss: 1.4641 - accuracy: 0.6600 - val_loss: 1.8372 - val_accuracy: 0.4980\n",
      "Epoch 23/125\n",
      "2/2 [==============================] - 1s 585ms/step - loss: 1.4360 - accuracy: 0.7000 - val_loss: 1.8186 - val_accuracy: 0.5034\n",
      "Epoch 24/125\n",
      "2/2 [==============================] - 1s 590ms/step - loss: 1.4129 - accuracy: 0.7000 - val_loss: 1.8032 - val_accuracy: 0.5150\n",
      "Epoch 25/125\n",
      "2/2 [==============================] - 1s 605ms/step - loss: 1.3800 - accuracy: 0.7200 - val_loss: 1.7861 - val_accuracy: 0.5204\n",
      "Epoch 26/125\n",
      "2/2 [==============================] - 1s 599ms/step - loss: 1.3556 - accuracy: 0.7200 - val_loss: 1.7652 - val_accuracy: 0.5300\n",
      "Epoch 27/125\n",
      "2/2 [==============================] - 1s 600ms/step - loss: 1.3294 - accuracy: 0.7800 - val_loss: 1.7441 - val_accuracy: 0.5370\n",
      "Epoch 28/125\n",
      "2/2 [==============================] - 1s 580ms/step - loss: 1.3100 - accuracy: 0.7800 - val_loss: 1.7297 - val_accuracy: 0.5494\n",
      "Epoch 29/125\n",
      "2/2 [==============================] - 1s 588ms/step - loss: 1.2828 - accuracy: 0.7800 - val_loss: 1.7083 - val_accuracy: 0.5562\n",
      "Epoch 30/125\n",
      "2/2 [==============================] - 1s 610ms/step - loss: 1.2592 - accuracy: 0.8000 - val_loss: 1.6887 - val_accuracy: 0.5548\n",
      "Epoch 31/125\n",
      "2/2 [==============================] - 1s 610ms/step - loss: 1.2361 - accuracy: 0.8000 - val_loss: 1.6713 - val_accuracy: 0.5642\n",
      "Epoch 32/125\n",
      "2/2 [==============================] - 1s 601ms/step - loss: 1.2136 - accuracy: 0.8000 - val_loss: 1.6572 - val_accuracy: 0.5652\n",
      "Epoch 33/125\n",
      "2/2 [==============================] - 1s 650ms/step - loss: 1.1949 - accuracy: 0.8000 - val_loss: 1.6369 - val_accuracy: 0.5666\n",
      "Epoch 34/125\n",
      "2/2 [==============================] - 1s 667ms/step - loss: 1.1728 - accuracy: 0.8000 - val_loss: 1.6193 - val_accuracy: 0.5710\n",
      "Epoch 35/125\n",
      "2/2 [==============================] - 1s 593ms/step - loss: 1.1564 - accuracy: 0.8000 - val_loss: 1.6142 - val_accuracy: 0.5742\n",
      "Epoch 36/125\n",
      "2/2 [==============================] - 1s 596ms/step - loss: 1.1348 - accuracy: 0.8000 - val_loss: 1.6018 - val_accuracy: 0.5750\n",
      "Epoch 37/125\n",
      "2/2 [==============================] - 1s 649ms/step - loss: 1.1156 - accuracy: 0.8000 - val_loss: 1.5741 - val_accuracy: 0.5824\n",
      "Epoch 38/125\n",
      "2/2 [==============================] - 1s 658ms/step - loss: 1.0950 - accuracy: 0.8000 - val_loss: 1.5570 - val_accuracy: 0.5874\n",
      "Epoch 39/125\n",
      "2/2 [==============================] - 1s 624ms/step - loss: 1.0766 - accuracy: 0.8000 - val_loss: 1.5508 - val_accuracy: 0.5860\n",
      "Epoch 40/125\n",
      "2/2 [==============================] - 1s 587ms/step - loss: 1.0630 - accuracy: 0.8000 - val_loss: 1.5315 - val_accuracy: 0.5888\n",
      "Epoch 41/125\n",
      "2/2 [==============================] - 1s 679ms/step - loss: 1.0425 - accuracy: 0.8000 - val_loss: 1.5113 - val_accuracy: 0.5942\n",
      "Epoch 42/125\n",
      "2/2 [==============================] - 1s 609ms/step - loss: 1.0222 - accuracy: 0.8000 - val_loss: 1.4946 - val_accuracy: 0.6002\n",
      "Epoch 43/125\n",
      "2/2 [==============================] - 1s 623ms/step - loss: 1.0088 - accuracy: 0.8000 - val_loss: 1.4888 - val_accuracy: 0.6006\n",
      "Epoch 44/125\n",
      "2/2 [==============================] - 1s 612ms/step - loss: 0.9902 - accuracy: 0.8000 - val_loss: 1.4797 - val_accuracy: 0.6032\n",
      "Epoch 45/125\n",
      "2/2 [==============================] - 1s 603ms/step - loss: 0.9744 - accuracy: 0.8000 - val_loss: 1.4682 - val_accuracy: 0.6062\n",
      "Epoch 46/125\n",
      "2/2 [==============================] - 1s 602ms/step - loss: 0.9607 - accuracy: 0.8000 - val_loss: 1.4516 - val_accuracy: 0.6044\n",
      "Epoch 47/125\n",
      "2/2 [==============================] - 1s 597ms/step - loss: 0.9453 - accuracy: 0.8000 - val_loss: 1.4450 - val_accuracy: 0.6044\n",
      "Epoch 48/125\n",
      "2/2 [==============================] - 1s 601ms/step - loss: 0.9283 - accuracy: 0.8000 - val_loss: 1.4322 - val_accuracy: 0.6066\n",
      "Epoch 49/125\n",
      "2/2 [==============================] - 1s 606ms/step - loss: 0.9189 - accuracy: 0.8000 - val_loss: 1.4065 - val_accuracy: 0.6124\n",
      "Epoch 50/125\n",
      "2/2 [==============================] - 1s 679ms/step - loss: 0.8996 - accuracy: 0.8000 - val_loss: 1.4031 - val_accuracy: 0.6080\n",
      "Epoch 51/125\n",
      "2/2 [==============================] - 1s 665ms/step - loss: 0.8883 - accuracy: 0.8000 - val_loss: 1.3892 - val_accuracy: 0.6134\n",
      "Epoch 52/125\n",
      "2/2 [==============================] - 1s 705ms/step - loss: 0.8742 - accuracy: 0.8000 - val_loss: 1.3825 - val_accuracy: 0.6134\n",
      "Epoch 53/125\n",
      "2/2 [==============================] - 1s 652ms/step - loss: 0.8606 - accuracy: 0.8000 - val_loss: 1.3760 - val_accuracy: 0.6114\n",
      "Epoch 54/125\n",
      "2/2 [==============================] - 1s 619ms/step - loss: 0.8439 - accuracy: 0.8000 - val_loss: 1.3694 - val_accuracy: 0.6094\n",
      "Epoch 55/125\n",
      "2/2 [==============================] - 1s 648ms/step - loss: 0.8320 - accuracy: 0.8000 - val_loss: 1.3563 - val_accuracy: 0.6132\n",
      "Epoch 56/125\n",
      "2/2 [==============================] - 1s 605ms/step - loss: 0.8188 - accuracy: 0.8000 - val_loss: 1.3419 - val_accuracy: 0.6126\n",
      "Epoch 57/125\n",
      "2/2 [==============================] - 1s 603ms/step - loss: 0.8070 - accuracy: 0.8000 - val_loss: 1.3317 - val_accuracy: 0.6138\n",
      "Epoch 58/125\n",
      "2/2 [==============================] - 1s 626ms/step - loss: 0.7965 - accuracy: 0.8000 - val_loss: 1.3197 - val_accuracy: 0.6154\n",
      "Epoch 59/125\n",
      "2/2 [==============================] - 1s 608ms/step - loss: 0.7845 - accuracy: 0.8000 - val_loss: 1.3119 - val_accuracy: 0.6154\n",
      "Epoch 60/125\n",
      "2/2 [==============================] - 1s 595ms/step - loss: 0.7733 - accuracy: 0.8000 - val_loss: 1.3097 - val_accuracy: 0.6152\n",
      "Epoch 61/125\n",
      "2/2 [==============================] - 1s 611ms/step - loss: 0.7628 - accuracy: 0.8000 - val_loss: 1.2953 - val_accuracy: 0.6204\n",
      "Epoch 62/125\n",
      "2/2 [==============================] - 1s 639ms/step - loss: 0.7506 - accuracy: 0.8000 - val_loss: 1.2822 - val_accuracy: 0.6232\n",
      "Epoch 63/125\n",
      "2/2 [==============================] - 1s 604ms/step - loss: 0.7434 - accuracy: 0.8000 - val_loss: 1.2819 - val_accuracy: 0.6192\n",
      "Epoch 64/125\n",
      "2/2 [==============================] - 1s 614ms/step - loss: 0.7312 - accuracy: 0.8000 - val_loss: 1.2741 - val_accuracy: 0.6202\n",
      "Epoch 65/125\n",
      "2/2 [==============================] - 1s 617ms/step - loss: 0.7260 - accuracy: 0.8000 - val_loss: 1.2759 - val_accuracy: 0.6172\n",
      "Epoch 66/125\n",
      "2/2 [==============================] - 1s 621ms/step - loss: 0.7138 - accuracy: 0.8000 - val_loss: 1.2549 - val_accuracy: 0.6280\n",
      "Epoch 67/125\n",
      "2/2 [==============================] - 1s 632ms/step - loss: 0.7054 - accuracy: 0.8000 - val_loss: 1.2560 - val_accuracy: 0.6240\n",
      "Epoch 68/125\n",
      "2/2 [==============================] - 1s 622ms/step - loss: 0.6984 - accuracy: 0.8000 - val_loss: 1.2400 - val_accuracy: 0.6308\n",
      "Epoch 69/125\n",
      "2/2 [==============================] - 1s 608ms/step - loss: 0.6902 - accuracy: 0.8400 - val_loss: 1.2434 - val_accuracy: 0.6246\n",
      "Epoch 70/125\n",
      "2/2 [==============================] - 1s 605ms/step - loss: 0.6793 - accuracy: 0.8000 - val_loss: 1.2280 - val_accuracy: 0.6316\n",
      "Epoch 71/125\n",
      "2/2 [==============================] - 1s 620ms/step - loss: 0.6774 - accuracy: 0.8400 - val_loss: 1.2162 - val_accuracy: 0.6376\n",
      "Epoch 72/125\n",
      "2/2 [==============================] - 1s 697ms/step - loss: 0.6621 - accuracy: 0.8600 - val_loss: 1.2154 - val_accuracy: 0.6336\n",
      "Epoch 73/125\n",
      "2/2 [==============================] - 1s 636ms/step - loss: 0.6549 - accuracy: 0.8400 - val_loss: 1.2149 - val_accuracy: 0.6308\n",
      "Epoch 74/125\n",
      "2/2 [==============================] - 1s 645ms/step - loss: 0.6450 - accuracy: 0.8600 - val_loss: 1.2070 - val_accuracy: 0.6340\n",
      "Epoch 75/125\n",
      "2/2 [==============================] - 1s 623ms/step - loss: 0.6411 - accuracy: 0.8600 - val_loss: 1.1981 - val_accuracy: 0.6388\n",
      "Epoch 76/125\n",
      "2/2 [==============================] - 1s 629ms/step - loss: 0.6343 - accuracy: 0.8400 - val_loss: 1.1914 - val_accuracy: 0.6408\n",
      "Epoch 77/125\n",
      "2/2 [==============================] - 1s 711ms/step - loss: 0.6260 - accuracy: 0.8800 - val_loss: 1.1966 - val_accuracy: 0.6342\n",
      "Epoch 78/125\n",
      "2/2 [==============================] - 1s 738ms/step - loss: 0.6206 - accuracy: 0.8600 - val_loss: 1.1881 - val_accuracy: 0.6334\n",
      "Epoch 79/125\n",
      "2/2 [==============================] - 1s 660ms/step - loss: 0.6112 - accuracy: 0.8400 - val_loss: 1.1792 - val_accuracy: 0.6396\n",
      "Epoch 80/125\n",
      "2/2 [==============================] - 1s 654ms/step - loss: 0.6031 - accuracy: 0.8600 - val_loss: 1.1742 - val_accuracy: 0.6402\n",
      "Epoch 81/125\n",
      "2/2 [==============================] - 1s 586ms/step - loss: 0.5964 - accuracy: 0.8800 - val_loss: 1.1731 - val_accuracy: 0.6376\n",
      "Epoch 82/125\n",
      "2/2 [==============================] - 1s 644ms/step - loss: 0.5902 - accuracy: 0.8600 - val_loss: 1.1680 - val_accuracy: 0.6414\n",
      "Epoch 83/125\n",
      "2/2 [==============================] - 1s 591ms/step - loss: 0.5841 - accuracy: 0.8800 - val_loss: 1.1668 - val_accuracy: 0.6396\n",
      "Epoch 84/125\n",
      "2/2 [==============================] - 1s 632ms/step - loss: 0.5802 - accuracy: 0.8600 - val_loss: 1.1604 - val_accuracy: 0.6412\n",
      "Epoch 85/125\n",
      "2/2 [==============================] - 1s 589ms/step - loss: 0.5743 - accuracy: 0.9000 - val_loss: 1.1617 - val_accuracy: 0.6370\n",
      "Epoch 86/125\n",
      "2/2 [==============================] - 1s 595ms/step - loss: 0.5678 - accuracy: 0.8800 - val_loss: 1.1533 - val_accuracy: 0.6406\n",
      "Epoch 87/125\n",
      "2/2 [==============================] - 1s 593ms/step - loss: 0.5599 - accuracy: 0.8800 - val_loss: 1.1446 - val_accuracy: 0.6468\n",
      "Epoch 88/125\n",
      "2/2 [==============================] - 1s 632ms/step - loss: 0.5624 - accuracy: 0.9000 - val_loss: 1.1378 - val_accuracy: 0.6472\n",
      "Epoch 89/125\n",
      "2/2 [==============================] - 1s 619ms/step - loss: 0.5493 - accuracy: 0.9000 - val_loss: 1.1352 - val_accuracy: 0.6468\n",
      "Epoch 90/125\n",
      "2/2 [==============================] - 1s 671ms/step - loss: 0.5453 - accuracy: 0.9000 - val_loss: 1.1403 - val_accuracy: 0.6436\n",
      "Epoch 91/125\n",
      "2/2 [==============================] - 1s 604ms/step - loss: 0.5391 - accuracy: 0.9000 - val_loss: 1.1258 - val_accuracy: 0.6510\n",
      "Epoch 92/125\n",
      "2/2 [==============================] - 1s 586ms/step - loss: 0.5360 - accuracy: 0.9000 - val_loss: 1.1290 - val_accuracy: 0.6494\n",
      "Epoch 93/125\n",
      "2/2 [==============================] - 1s 604ms/step - loss: 0.5314 - accuracy: 0.9000 - val_loss: 1.1299 - val_accuracy: 0.6488\n",
      "Epoch 94/125\n",
      "2/2 [==============================] - 1s 628ms/step - loss: 0.5255 - accuracy: 0.9000 - val_loss: 1.1160 - val_accuracy: 0.6546\n",
      "Epoch 95/125\n",
      "2/2 [==============================] - 1s 604ms/step - loss: 0.5202 - accuracy: 0.9000 - val_loss: 1.1045 - val_accuracy: 0.6592\n",
      "Epoch 96/125\n",
      "2/2 [==============================] - 1s 611ms/step - loss: 0.5162 - accuracy: 0.9000 - val_loss: 1.0957 - val_accuracy: 0.6608\n",
      "Epoch 97/125\n",
      "2/2 [==============================] - 1s 615ms/step - loss: 0.5076 - accuracy: 0.9000 - val_loss: 1.0971 - val_accuracy: 0.6590\n",
      "Epoch 98/125\n",
      "2/2 [==============================] - 1s 603ms/step - loss: 0.5066 - accuracy: 0.9000 - val_loss: 1.1096 - val_accuracy: 0.6502\n",
      "Epoch 99/125\n",
      "2/2 [==============================] - 1s 627ms/step - loss: 0.4999 - accuracy: 0.9000 - val_loss: 1.0916 - val_accuracy: 0.6578\n",
      "Epoch 100/125\n",
      "2/2 [==============================] - 1s 598ms/step - loss: 0.4957 - accuracy: 0.9000 - val_loss: 1.0885 - val_accuracy: 0.6596\n",
      "Epoch 101/125\n",
      "2/2 [==============================] - 1s 605ms/step - loss: 0.4894 - accuracy: 0.9000 - val_loss: 1.0833 - val_accuracy: 0.6600\n",
      "Epoch 102/125\n",
      "2/2 [==============================] - 1s 595ms/step - loss: 0.4893 - accuracy: 0.9000 - val_loss: 1.0888 - val_accuracy: 0.6548\n",
      "Epoch 103/125\n",
      "2/2 [==============================] - 1s 615ms/step - loss: 0.4828 - accuracy: 0.9000 - val_loss: 1.0906 - val_accuracy: 0.6538\n",
      "Epoch 104/125\n",
      "2/2 [==============================] - 1s 596ms/step - loss: 0.4794 - accuracy: 0.9000 - val_loss: 1.0819 - val_accuracy: 0.6568\n",
      "Epoch 105/125\n",
      "2/2 [==============================] - 1s 597ms/step - loss: 0.4735 - accuracy: 0.9000 - val_loss: 1.0909 - val_accuracy: 0.6546\n",
      "Epoch 106/125\n",
      "2/2 [==============================] - 1s 625ms/step - loss: 0.4683 - accuracy: 0.9000 - val_loss: 1.0742 - val_accuracy: 0.6616\n",
      "Epoch 107/125\n",
      "2/2 [==============================] - 1s 626ms/step - loss: 0.4627 - accuracy: 0.9000 - val_loss: 1.0739 - val_accuracy: 0.6600\n",
      "Epoch 108/125\n",
      "2/2 [==============================] - 1s 666ms/step - loss: 0.4586 - accuracy: 0.9000 - val_loss: 1.0714 - val_accuracy: 0.6598\n",
      "Epoch 109/125\n",
      "2/2 [==============================] - 1s 672ms/step - loss: 0.4539 - accuracy: 0.9000 - val_loss: 1.0693 - val_accuracy: 0.6612\n",
      "Epoch 110/125\n",
      "2/2 [==============================] - 1s 623ms/step - loss: 0.4514 - accuracy: 0.9000 - val_loss: 1.0701 - val_accuracy: 0.6596\n",
      "Epoch 111/125\n",
      "2/2 [==============================] - 1s 586ms/step - loss: 0.4475 - accuracy: 0.9000 - val_loss: 1.0646 - val_accuracy: 0.6590\n",
      "Epoch 112/125\n",
      "2/2 [==============================] - 1s 590ms/step - loss: 0.4412 - accuracy: 0.9000 - val_loss: 1.0638 - val_accuracy: 0.6598\n",
      "Epoch 113/125\n",
      "2/2 [==============================] - 1s 645ms/step - loss: 0.4381 - accuracy: 0.9000 - val_loss: 1.0575 - val_accuracy: 0.6616\n",
      "Epoch 114/125\n",
      "2/2 [==============================] - 1s 730ms/step - loss: 0.4346 - accuracy: 0.9000 - val_loss: 1.0596 - val_accuracy: 0.6624\n",
      "Epoch 115/125\n",
      "2/2 [==============================] - 1s 685ms/step - loss: 0.4343 - accuracy: 0.9000 - val_loss: 1.0691 - val_accuracy: 0.6580\n",
      "Epoch 116/125\n",
      "2/2 [==============================] - 1s 664ms/step - loss: 0.4289 - accuracy: 0.9000 - val_loss: 1.0623 - val_accuracy: 0.6602\n",
      "Epoch 117/125\n",
      "2/2 [==============================] - 1s 670ms/step - loss: 0.4263 - accuracy: 0.9000 - val_loss: 1.0652 - val_accuracy: 0.6596\n",
      "Epoch 118/125\n",
      "2/2 [==============================] - 1s 614ms/step - loss: 0.4219 - accuracy: 0.9000 - val_loss: 1.0614 - val_accuracy: 0.6594\n",
      "Epoch 119/125\n",
      "2/2 [==============================] - 1s 600ms/step - loss: 0.4205 - accuracy: 0.9000 - val_loss: 1.0560 - val_accuracy: 0.6612\n",
      "Epoch 120/125\n",
      "2/2 [==============================] - 1s 599ms/step - loss: 0.4168 - accuracy: 0.9000 - val_loss: 1.0457 - val_accuracy: 0.6618\n",
      "Epoch 121/125\n",
      "2/2 [==============================] - 1s 595ms/step - loss: 0.4145 - accuracy: 0.9000 - val_loss: 1.0331 - val_accuracy: 0.6614\n",
      "Epoch 122/125\n",
      "2/2 [==============================] - 1s 590ms/step - loss: 0.4087 - accuracy: 0.9200 - val_loss: 1.0365 - val_accuracy: 0.6624\n",
      "Epoch 123/125\n",
      "2/2 [==============================] - 1s 595ms/step - loss: 0.4052 - accuracy: 0.9200 - val_loss: 1.0405 - val_accuracy: 0.6614\n",
      "Epoch 124/125\n",
      "2/2 [==============================] - 1s 597ms/step - loss: 0.4017 - accuracy: 0.9000 - val_loss: 1.0412 - val_accuracy: 0.6622\n",
      "Epoch 125/125\n",
      "2/2 [==============================] - 1s 586ms/step - loss: 0.3996 - accuracy: 0.9200 - val_loss: 1.0375 - val_accuracy: 0.6626\n"
     ]
    }
   ],
   "source": [
    "keras.backend.clear_session()\n",
    "\n",
    "model = keras.models.Sequential([\n",
    "    keras.layers.Flatten(input_shape=[28, 28]),\n",
    "    keras.layers.Dense(300, activation=\"relu\"),\n",
    "    keras.layers.Dense(100, activation=\"relu\"),\n",
    "    keras.layers.Dense(10, activation=\"softmax\")\n",
    "])\n",
    "\n",
    "model.compile(loss=\"sparse_categorical_crossentropy\",\n",
    "              optimizer=\"sgd\",\n",
    "              metrics=[\"accuracy\"])\n",
    "\n",
    "\n",
    "history = model.fit(X_train_rep, y_train_rep, epochs=125, validation_data=(X_valid, y_valid))"
   ]
  },
  {
   "cell_type": "code",
   "execution_count": 30,
   "metadata": {},
   "outputs": [
    {
     "name": "stderr",
     "output_type": "stream",
     "text": [
      "2022-05-20 19:00:48.549202: I tensorflow/core/grappler/optimizers/custom_graph_optimizer_registry.cc:112] Plugin optimizer for device_type GPU is enabled.\n"
     ]
    }
   ],
   "source": [
    "y_test_prob = model.predict(X_test)"
   ]
  },
  {
   "cell_type": "code",
   "execution_count": 31,
   "metadata": {},
   "outputs": [
    {
     "data": {
      "text/plain": [
       "array([9, 2, 1, ..., 8, 3, 7])"
      ]
     },
     "execution_count": 31,
     "metadata": {},
     "output_type": "execute_result"
    }
   ],
   "source": [
    "y_test_hat = np.argmax(y_test_prob, axis=1)\n",
    "y_test_hat"
   ]
  },
  {
   "cell_type": "code",
   "execution_count": 32,
   "metadata": {},
   "outputs": [
    {
     "name": "stdout",
     "output_type": "stream",
     "text": [
      "              precision    recall  f1-score   support\n",
      "\n",
      "           0       0.61      0.85      0.71      1000\n",
      "           1       0.98      0.84      0.90      1000\n",
      "           2       0.45      0.80      0.58      1000\n",
      "           3       0.72      0.73      0.73      1000\n",
      "           4       0.51      0.30      0.38      1000\n",
      "           5       1.00      0.00      0.00      1000\n",
      "           6       0.64      0.28      0.39      1000\n",
      "           7       0.60      0.82      0.69      1000\n",
      "           8       0.91      0.89      0.90      1000\n",
      "           9       0.59      0.96      0.73      1000\n",
      "\n",
      "    accuracy                           0.65     10000\n",
      "   macro avg       0.70      0.65      0.60     10000\n",
      "weighted avg       0.70      0.65      0.60     10000\n",
      "\n"
     ]
    }
   ],
   "source": [
    "print(classification_report(y_test, y_test_hat))"
   ]
  },
  {
   "cell_type": "markdown",
   "metadata": {},
   "source": [
    "Voila! The accuracy jumped from `0.52` to `0.65`!"
   ]
  },
  {
   "cell_type": "markdown",
   "metadata": {},
   "source": [
    "### Strategy 2.2\n",
    "\n",
    "Now, we go one step further, we propagate the labels of the representative example to all the points in its cluster and then use the whole labelled set as the training data of the neural network."
   ]
  },
  {
   "cell_type": "code",
   "execution_count": 33,
   "metadata": {},
   "outputs": [],
   "source": [
    "y_train_propagated = np.empty(len(y_train), dtype=np.int)\n",
    "# k = 50\n",
    "for i in range(k):\n",
    "    y_train_propagated[kmeans.labels_==i] = y_train_rep[i]"
   ]
  },
  {
   "cell_type": "markdown",
   "metadata": {},
   "source": [
    "Let's train our model on the propagated dataset."
   ]
  },
  {
   "cell_type": "code",
   "execution_count": 37,
   "metadata": {},
   "outputs": [
    {
     "name": "stdout",
     "output_type": "stream",
     "text": [
      "Epoch 1/50\n",
      "  22/1719 [..............................] - ETA: 8s - loss: 2.0568 - accuracy: 0.2585"
     ]
    },
    {
     "name": "stderr",
     "output_type": "stream",
     "text": [
      "2022-05-20 19:18:59.935415: I tensorflow/core/grappler/optimizers/custom_graph_optimizer_registry.cc:112] Plugin optimizer for device_type GPU is enabled.\n"
     ]
    },
    {
     "name": "stdout",
     "output_type": "stream",
     "text": [
      "1714/1719 [============================>.] - ETA: 0s - loss: 0.5367 - accuracy: 0.8166"
     ]
    },
    {
     "name": "stderr",
     "output_type": "stream",
     "text": [
      "2022-05-20 19:19:07.719831: I tensorflow/core/grappler/optimizers/custom_graph_optimizer_registry.cc:112] Plugin optimizer for device_type GPU is enabled.\n"
     ]
    },
    {
     "name": "stdout",
     "output_type": "stream",
     "text": [
      "1719/1719 [==============================] - 8s 5ms/step - loss: 0.5363 - accuracy: 0.8166 - val_loss: 1.1164 - val_accuracy: 0.6998\n",
      "Epoch 2/50\n",
      "1719/1719 [==============================] - 8s 5ms/step - loss: 0.3312 - accuracy: 0.8713 - val_loss: 1.2418 - val_accuracy: 0.6996\n",
      "Epoch 3/50\n",
      "1719/1719 [==============================] - 8s 5ms/step - loss: 0.2956 - accuracy: 0.8844 - val_loss: 1.3534 - val_accuracy: 0.6894\n",
      "Epoch 4/50\n",
      "1719/1719 [==============================] - 8s 5ms/step - loss: 0.2715 - accuracy: 0.8936 - val_loss: 1.4000 - val_accuracy: 0.6974\n",
      "Epoch 5/50\n",
      "1719/1719 [==============================] - 8s 5ms/step - loss: 0.2509 - accuracy: 0.9008 - val_loss: 1.4553 - val_accuracy: 0.7018\n",
      "Epoch 6/50\n",
      "1719/1719 [==============================] - 8s 5ms/step - loss: 0.2340 - accuracy: 0.9077 - val_loss: 1.4955 - val_accuracy: 0.7002\n",
      "Epoch 7/50\n",
      "1719/1719 [==============================] - 8s 5ms/step - loss: 0.2180 - accuracy: 0.9133 - val_loss: 1.5998 - val_accuracy: 0.6906\n",
      "Epoch 8/50\n",
      "1719/1719 [==============================] - 8s 5ms/step - loss: 0.2052 - accuracy: 0.9183 - val_loss: 1.6969 - val_accuracy: 0.6896\n",
      "Epoch 9/50\n",
      "1719/1719 [==============================] - 8s 5ms/step - loss: 0.1942 - accuracy: 0.9238 - val_loss: 1.6880 - val_accuracy: 0.6898\n",
      "Epoch 10/50\n",
      "1719/1719 [==============================] - 8s 5ms/step - loss: 0.1832 - accuracy: 0.9277 - val_loss: 1.8113 - val_accuracy: 0.6828\n",
      "Epoch 11/50\n",
      "1719/1719 [==============================] - 8s 5ms/step - loss: 0.1742 - accuracy: 0.9299 - val_loss: 1.8499 - val_accuracy: 0.6920\n",
      "Epoch 12/50\n",
      "1719/1719 [==============================] - 8s 5ms/step - loss: 0.1649 - accuracy: 0.9348 - val_loss: 1.9014 - val_accuracy: 0.6928\n",
      "Epoch 13/50\n",
      "1719/1719 [==============================] - 8s 5ms/step - loss: 0.1579 - accuracy: 0.9373 - val_loss: 2.0000 - val_accuracy: 0.6864\n",
      "Epoch 14/50\n",
      "1719/1719 [==============================] - 8s 5ms/step - loss: 0.1517 - accuracy: 0.9401 - val_loss: 2.0854 - val_accuracy: 0.6854\n",
      "Epoch 15/50\n",
      "1719/1719 [==============================] - 8s 5ms/step - loss: 0.1452 - accuracy: 0.9428 - val_loss: 2.1267 - val_accuracy: 0.6884\n",
      "Epoch 16/50\n",
      "1719/1719 [==============================] - 8s 5ms/step - loss: 0.1403 - accuracy: 0.9444 - val_loss: 2.1465 - val_accuracy: 0.6904\n",
      "Epoch 17/50\n",
      "1719/1719 [==============================] - 8s 5ms/step - loss: 0.1349 - accuracy: 0.9472 - val_loss: 2.2912 - val_accuracy: 0.6882\n",
      "Epoch 18/50\n",
      "1719/1719 [==============================] - 8s 5ms/step - loss: 0.1292 - accuracy: 0.9501 - val_loss: 2.2875 - val_accuracy: 0.6852\n",
      "Epoch 19/50\n",
      "1719/1719 [==============================] - 8s 5ms/step - loss: 0.1254 - accuracy: 0.9503 - val_loss: 2.3594 - val_accuracy: 0.6866\n",
      "Epoch 20/50\n",
      "1719/1719 [==============================] - 8s 5ms/step - loss: 0.1211 - accuracy: 0.9519 - val_loss: 2.5358 - val_accuracy: 0.6852\n",
      "Epoch 21/50\n",
      "1719/1719 [==============================] - 8s 5ms/step - loss: 0.1170 - accuracy: 0.9548 - val_loss: 2.4614 - val_accuracy: 0.6820\n",
      "Epoch 22/50\n",
      "1719/1719 [==============================] - 8s 5ms/step - loss: 0.1138 - accuracy: 0.9559 - val_loss: 2.6186 - val_accuracy: 0.6830\n",
      "Epoch 23/50\n",
      "1719/1719 [==============================] - 8s 5ms/step - loss: 0.1100 - accuracy: 0.9582 - val_loss: 2.5561 - val_accuracy: 0.6858\n",
      "Epoch 24/50\n",
      "1719/1719 [==============================] - 8s 5ms/step - loss: 0.1075 - accuracy: 0.9583 - val_loss: 2.6697 - val_accuracy: 0.6886\n",
      "Epoch 25/50\n",
      "1719/1719 [==============================] - 8s 5ms/step - loss: 0.1041 - accuracy: 0.9597 - val_loss: 2.7779 - val_accuracy: 0.6834\n",
      "Epoch 26/50\n",
      "1719/1719 [==============================] - 8s 5ms/step - loss: 0.1008 - accuracy: 0.9616 - val_loss: 2.8362 - val_accuracy: 0.6836\n",
      "Epoch 27/50\n",
      "1719/1719 [==============================] - 8s 5ms/step - loss: 0.0984 - accuracy: 0.9627 - val_loss: 2.7943 - val_accuracy: 0.6856\n",
      "Epoch 28/50\n",
      "1719/1719 [==============================] - 8s 5ms/step - loss: 0.0958 - accuracy: 0.9641 - val_loss: 2.8449 - val_accuracy: 0.6888\n",
      "Epoch 29/50\n",
      "1719/1719 [==============================] - 8s 5ms/step - loss: 0.0930 - accuracy: 0.9650 - val_loss: 2.9710 - val_accuracy: 0.6802\n",
      "Epoch 30/50\n",
      "1719/1719 [==============================] - 8s 5ms/step - loss: 0.0912 - accuracy: 0.9653 - val_loss: 3.0221 - val_accuracy: 0.6814\n",
      "Epoch 31/50\n",
      "1719/1719 [==============================] - 8s 5ms/step - loss: 0.0876 - accuracy: 0.9672 - val_loss: 3.0299 - val_accuracy: 0.6788\n",
      "Epoch 32/50\n",
      "1719/1719 [==============================] - 8s 5ms/step - loss: 0.0864 - accuracy: 0.9673 - val_loss: 3.0634 - val_accuracy: 0.6836\n",
      "Epoch 33/50\n",
      "1719/1719 [==============================] - 8s 5ms/step - loss: 0.0837 - accuracy: 0.9678 - val_loss: 3.1204 - val_accuracy: 0.6824\n",
      "Epoch 34/50\n",
      "1719/1719 [==============================] - 8s 5ms/step - loss: 0.0829 - accuracy: 0.9685 - val_loss: 3.1414 - val_accuracy: 0.6806\n",
      "Epoch 35/50\n",
      "1719/1719 [==============================] - 8s 5ms/step - loss: 0.0805 - accuracy: 0.9701 - val_loss: 3.2186 - val_accuracy: 0.6792\n",
      "Epoch 36/50\n",
      "1719/1719 [==============================] - 8s 5ms/step - loss: 0.0783 - accuracy: 0.9712 - val_loss: 3.2472 - val_accuracy: 0.6808\n",
      "Epoch 37/50\n",
      "1719/1719 [==============================] - 8s 5ms/step - loss: 0.0760 - accuracy: 0.9723 - val_loss: 3.2420 - val_accuracy: 0.6842\n",
      "Epoch 38/50\n",
      "1719/1719 [==============================] - 8s 5ms/step - loss: 0.0748 - accuracy: 0.9717 - val_loss: 3.3014 - val_accuracy: 0.6834\n",
      "Epoch 39/50\n",
      "1719/1719 [==============================] - 8s 5ms/step - loss: 0.0728 - accuracy: 0.9730 - val_loss: 3.3853 - val_accuracy: 0.6828\n",
      "Epoch 40/50\n",
      "1719/1719 [==============================] - 8s 5ms/step - loss: 0.0715 - accuracy: 0.9746 - val_loss: 3.4600 - val_accuracy: 0.6824\n",
      "Epoch 41/50\n",
      "1719/1719 [==============================] - 8s 5ms/step - loss: 0.0696 - accuracy: 0.9747 - val_loss: 3.4611 - val_accuracy: 0.6816\n",
      "Epoch 42/50\n",
      "1719/1719 [==============================] - 8s 5ms/step - loss: 0.0685 - accuracy: 0.9752 - val_loss: 3.5560 - val_accuracy: 0.6802\n",
      "Epoch 43/50\n",
      "1719/1719 [==============================] - 8s 5ms/step - loss: 0.0665 - accuracy: 0.9753 - val_loss: 3.5723 - val_accuracy: 0.6804\n",
      "Epoch 44/50\n",
      "1719/1719 [==============================] - 8s 5ms/step - loss: 0.0652 - accuracy: 0.9765 - val_loss: 3.6358 - val_accuracy: 0.6792\n",
      "Epoch 45/50\n",
      "1719/1719 [==============================] - 8s 5ms/step - loss: 0.0637 - accuracy: 0.9766 - val_loss: 3.7735 - val_accuracy: 0.6816\n",
      "Epoch 46/50\n",
      "1719/1719 [==============================] - 8s 5ms/step - loss: 0.0619 - accuracy: 0.9780 - val_loss: 3.7972 - val_accuracy: 0.6842\n",
      "Epoch 47/50\n",
      "1719/1719 [==============================] - 9s 5ms/step - loss: 0.0612 - accuracy: 0.9780 - val_loss: 3.7872 - val_accuracy: 0.6824\n",
      "Epoch 48/50\n",
      "1719/1719 [==============================] - 9s 5ms/step - loss: 0.0590 - accuracy: 0.9792 - val_loss: 3.8240 - val_accuracy: 0.6832\n",
      "Epoch 49/50\n",
      "1719/1719 [==============================] - 8s 5ms/step - loss: 0.0580 - accuracy: 0.9793 - val_loss: 3.8156 - val_accuracy: 0.6816\n",
      "Epoch 50/50\n",
      "1719/1719 [==============================] - 8s 5ms/step - loss: 0.0567 - accuracy: 0.9795 - val_loss: 3.8644 - val_accuracy: 0.6806\n"
     ]
    }
   ],
   "source": [
    "keras.backend.clear_session()\n",
    "\n",
    "model = keras.models.Sequential([\n",
    "    keras.layers.Flatten(input_shape=[28, 28]),\n",
    "    keras.layers.Dense(300, activation=\"relu\"),\n",
    "    keras.layers.Dense(100, activation=\"relu\"),\n",
    "    keras.layers.Dense(10, activation=\"softmax\")\n",
    "])\n",
    "\n",
    "model.compile(loss=\"sparse_categorical_crossentropy\",\n",
    "              optimizer=\"sgd\",\n",
    "              metrics=[\"accuracy\"])\n",
    "\n",
    "\n",
    "history = model.fit(X_train, y_train_propagated, epochs=50, validation_data=(X_valid, y_valid))"
   ]
  },
  {
   "cell_type": "markdown",
   "metadata": {},
   "source": [
    "Let's plot the learning curve."
   ]
  },
  {
   "cell_type": "code",
   "execution_count": 38,
   "metadata": {},
   "outputs": [
    {
     "data": {
      "image/png": "[encoded data removed]",
      "text/plain": [
       "<Figure size 576x432 with 1 Axes>"
      ]
     },
     "metadata": {
      "needs_background": "light"
     },
     "output_type": "display_data"
    }
   ],
   "source": [
    "pd.DataFrame(history.history).plot(figsize=(8,6))\n",
    "plt.grid(True)\n",
    "plt.show()"
   ]
  },
  {
   "cell_type": "markdown",
   "metadata": {},
   "source": [
    "Around $20$ iterations seem enough.\n",
    "\n",
    "Let's evaluate the model on the test set."
   ]
  },
  {
   "cell_type": "code",
   "execution_count": 39,
   "metadata": {},
   "outputs": [
    {
     "name": "stdout",
     "output_type": "stream",
     "text": [
      "Epoch 1/20\n",
      "  20/1719 [..............................] - ETA: 9s - loss: 2.1695 - accuracy: 0.2766"
     ]
    },
    {
     "name": "stderr",
     "output_type": "stream",
     "text": [
      "2022-05-20 19:28:57.238266: I tensorflow/core/grappler/optimizers/custom_graph_optimizer_registry.cc:112] Plugin optimizer for device_type GPU is enabled.\n"
     ]
    },
    {
     "name": "stdout",
     "output_type": "stream",
     "text": [
      "1719/1719 [==============================] - ETA: 0s - loss: 0.5421 - accuracy: 0.8152"
     ]
    },
    {
     "name": "stderr",
     "output_type": "stream",
     "text": [
      "2022-05-20 19:29:05.905611: I tensorflow/core/grappler/optimizers/custom_graph_optimizer_registry.cc:112] Plugin optimizer for device_type GPU is enabled.\n"
     ]
    },
    {
     "name": "stdout",
     "output_type": "stream",
     "text": [
      "1719/1719 [==============================] - 9s 5ms/step - loss: 0.5421 - accuracy: 0.8152 - val_loss: 1.1225 - val_accuracy: 0.6984\n",
      "Epoch 2/20\n",
      "1719/1719 [==============================] - 8s 5ms/step - loss: 0.3381 - accuracy: 0.8669 - val_loss: 1.2465 - val_accuracy: 0.6992\n",
      "Epoch 3/20\n",
      "1719/1719 [==============================] - 9s 5ms/step - loss: 0.2984 - accuracy: 0.8830 - val_loss: 1.3463 - val_accuracy: 0.6902\n",
      "Epoch 4/20\n",
      "1719/1719 [==============================] - 8s 5ms/step - loss: 0.2710 - accuracy: 0.8931 - val_loss: 1.3923 - val_accuracy: 0.6970\n",
      "Epoch 5/20\n",
      "1719/1719 [==============================] - 8s 5ms/step - loss: 0.2481 - accuracy: 0.9024 - val_loss: 1.4741 - val_accuracy: 0.7000\n",
      "Epoch 6/20\n",
      "1719/1719 [==============================] - 8s 5ms/step - loss: 0.2292 - accuracy: 0.9093 - val_loss: 1.5206 - val_accuracy: 0.6976\n",
      "Epoch 7/20\n",
      "1719/1719 [==============================] - 8s 5ms/step - loss: 0.2128 - accuracy: 0.9160 - val_loss: 1.5939 - val_accuracy: 0.6928\n",
      "Epoch 8/20\n",
      "1719/1719 [==============================] - 8s 5ms/step - loss: 0.1990 - accuracy: 0.9205 - val_loss: 1.7152 - val_accuracy: 0.6918\n",
      "Epoch 9/20\n",
      "1719/1719 [==============================] - 8s 5ms/step - loss: 0.1871 - accuracy: 0.9262 - val_loss: 1.7117 - val_accuracy: 0.6868\n",
      "Epoch 10/20\n",
      "1719/1719 [==============================] - 9s 5ms/step - loss: 0.1756 - accuracy: 0.9307 - val_loss: 1.8439 - val_accuracy: 0.6818\n",
      "Epoch 11/20\n",
      "1719/1719 [==============================] - 8s 5ms/step - loss: 0.1665 - accuracy: 0.9347 - val_loss: 1.8798 - val_accuracy: 0.6880\n",
      "Epoch 12/20\n",
      "1719/1719 [==============================] - 8s 5ms/step - loss: 0.1570 - accuracy: 0.9375 - val_loss: 1.9459 - val_accuracy: 0.6894\n",
      "Epoch 13/20\n",
      "1719/1719 [==============================] - 8s 5ms/step - loss: 0.1504 - accuracy: 0.9404 - val_loss: 2.0102 - val_accuracy: 0.6850\n",
      "Epoch 14/20\n",
      "1719/1719 [==============================] - 8s 5ms/step - loss: 0.1437 - accuracy: 0.9434 - val_loss: 2.1204 - val_accuracy: 0.6836\n",
      "Epoch 15/20\n",
      "1719/1719 [==============================] - 8s 5ms/step - loss: 0.1373 - accuracy: 0.9464 - val_loss: 2.1741 - val_accuracy: 0.6864\n",
      "Epoch 16/20\n",
      "1719/1719 [==============================] - 8s 5ms/step - loss: 0.1322 - accuracy: 0.9483 - val_loss: 2.2064 - val_accuracy: 0.6858\n",
      "Epoch 17/20\n",
      "1719/1719 [==============================] - 8s 5ms/step - loss: 0.1274 - accuracy: 0.9504 - val_loss: 2.3239 - val_accuracy: 0.6882\n",
      "Epoch 18/20\n",
      "1719/1719 [==============================] - 13s 7ms/step - loss: 0.1219 - accuracy: 0.9526 - val_loss: 2.3370 - val_accuracy: 0.6850\n",
      "Epoch 19/20\n",
      "1719/1719 [==============================] - 8s 5ms/step - loss: 0.1180 - accuracy: 0.9540 - val_loss: 2.4088 - val_accuracy: 0.6844\n",
      "Epoch 20/20\n",
      "1719/1719 [==============================] - 8s 5ms/step - loss: 0.1139 - accuracy: 0.9550 - val_loss: 2.6028 - val_accuracy: 0.6832\n"
     ]
    }
   ],
   "source": [
    "keras.backend.clear_session()\n",
    "\n",
    "model = keras.models.Sequential([\n",
    "    keras.layers.Flatten(input_shape=[28, 28]),\n",
    "    keras.layers.Dense(300, activation=\"relu\"),\n",
    "    keras.layers.Dense(100, activation=\"relu\"),\n",
    "    keras.layers.Dense(10, activation=\"softmax\")\n",
    "])\n",
    "\n",
    "model.compile(loss=\"sparse_categorical_crossentropy\",\n",
    "              optimizer=\"sgd\",\n",
    "              metrics=[\"accuracy\"])\n",
    "\n",
    "\n",
    "history = model.fit(X_train, y_train_propagated, epochs=20, validation_data=(X_valid, y_valid))"
   ]
  },
  {
   "cell_type": "code",
   "execution_count": 40,
   "metadata": {},
   "outputs": [
    {
     "name": "stderr",
     "output_type": "stream",
     "text": [
      "2022-05-20 19:31:53.609672: I tensorflow/core/grappler/optimizers/custom_graph_optimizer_registry.cc:112] Plugin optimizer for device_type GPU is enabled.\n"
     ]
    }
   ],
   "source": [
    "y_test_prob = model.predict(X_test)"
   ]
  },
  {
   "cell_type": "code",
   "execution_count": 41,
   "metadata": {},
   "outputs": [
    {
     "data": {
      "text/plain": [
       "array([9, 2, 1, ..., 8, 1, 7])"
      ]
     },
     "execution_count": 41,
     "metadata": {},
     "output_type": "execute_result"
    }
   ],
   "source": [
    "y_test_hat = np.argmax(y_test_prob, axis=1)\n",
    "y_test_hat"
   ]
  },
  {
   "cell_type": "code",
   "execution_count": 42,
   "metadata": {},
   "outputs": [
    {
     "name": "stdout",
     "output_type": "stream",
     "text": [
      "              precision    recall  f1-score   support\n",
      "\n",
      "           0       0.65      0.79      0.72      1000\n",
      "           1       0.99      0.87      0.93      1000\n",
      "           2       0.46      0.59      0.51      1000\n",
      "           3       0.73      0.72      0.73      1000\n",
      "           4       0.49      0.26      0.34      1000\n",
      "           5       0.87      0.44      0.58      1000\n",
      "           6       0.35      0.40      0.37      1000\n",
      "           7       0.65      0.77      0.70      1000\n",
      "           8       0.93      0.85      0.89      1000\n",
      "           9       0.72      0.96      0.82      1000\n",
      "\n",
      "    accuracy                           0.67     10000\n",
      "   macro avg       0.68      0.67      0.66     10000\n",
      "weighted avg       0.68      0.67      0.66     10000\n",
      "\n"
     ]
    }
   ],
   "source": [
    "print(classification_report(y_test, y_test_hat))"
   ]
  },
  {
   "cell_type": "markdown",
   "metadata": {},
   "source": [
    "We got a tiny accuracy boost from `0.65` to `0.67`."
   ]
  },
  {
   "cell_type": "markdown",
   "metadata": {},
   "source": [
    "### Strategy 2.3\n",
    "\n",
    "Instead of propagating the labels to all the points in the cluster, we should probably propagate the labels only to the instances closest to the centroid. This should help us avoid the outliers.\n",
    "\n",
    "Let's only propagate the labels to the `75`th percentile closest to the centroid."
   ]
  },
  {
   "cell_type": "code",
   "execution_count": 43,
   "metadata": {},
   "outputs": [],
   "source": [
    "percentile_closest = 75\n",
    "\n",
    "X_cluster_dist = X_train_dist[np.arange(len(y_train)), kmeans.labels_]\n",
    "\n",
    "# k = 50\n",
    "for i in range(k):\n",
    "    in_cluster = (kmeans.labels_ == i)\n",
    "    cluster_dist = X_cluster_dist[in_cluster]\n",
    "    cutoff_distance = np.percentile(cluster_dist, percentile_closest)\n",
    "    above_cutoff = (X_cluster_dist > cutoff_distance)\n",
    "    X_cluster_dist[in_cluster & above_cutoff] = -1"
   ]
  },
  {
   "cell_type": "code",
   "execution_count": 44,
   "metadata": {},
   "outputs": [],
   "source": [
    "partially_propagated_idx = (X_cluster_dist != -1)\n",
    "X_train_part_prop  = X_train[partially_propagated_idx]\n",
    "y_train_part_prop = y_train[partially_propagated_idx]"
   ]
  },
  {
   "cell_type": "markdown",
   "metadata": {},
   "source": [
    "Let's train our model on this dataset."
   ]
  },
  {
   "cell_type": "code",
   "execution_count": 45,
   "metadata": {},
   "outputs": [
    {
     "name": "stdout",
     "output_type": "stream",
     "text": [
      "Epoch 1/75\n",
      "  20/1289 [..............................] - ETA: 6s - loss: 2.1937 - accuracy: 0.2438    "
     ]
    },
    {
     "name": "stderr",
     "output_type": "stream",
     "text": [
      "2022-05-20 19:43:50.755050: I tensorflow/core/grappler/optimizers/custom_graph_optimizer_registry.cc:112] Plugin optimizer for device_type GPU is enabled.\n"
     ]
    },
    {
     "name": "stdout",
     "output_type": "stream",
     "text": [
      "1289/1289 [==============================] - ETA: 0s - loss: 0.7191 - accuracy: 0.7660"
     ]
    },
    {
     "name": "stderr",
     "output_type": "stream",
     "text": [
      "2022-05-20 19:43:57.257508: I tensorflow/core/grappler/optimizers/custom_graph_optimizer_registry.cc:112] Plugin optimizer for device_type GPU is enabled.\n"
     ]
    },
    {
     "name": "stdout",
     "output_type": "stream",
     "text": [
      "1289/1289 [==============================] - 7s 5ms/step - loss: 0.7191 - accuracy: 0.7660 - val_loss: 0.5546 - val_accuracy: 0.8216\n",
      "Epoch 2/75\n",
      "1289/1289 [==============================] - 7s 5ms/step - loss: 0.4517 - accuracy: 0.8436 - val_loss: 0.5073 - val_accuracy: 0.8304\n",
      "Epoch 3/75\n",
      "1289/1289 [==============================] - 7s 5ms/step - loss: 0.4027 - accuracy: 0.8574 - val_loss: 0.4727 - val_accuracy: 0.8386\n",
      "Epoch 4/75\n",
      "1289/1289 [==============================] - 7s 5ms/step - loss: 0.3778 - accuracy: 0.8675 - val_loss: 0.4569 - val_accuracy: 0.8460\n",
      "Epoch 5/75\n",
      "1289/1289 [==============================] - 7s 5ms/step - loss: 0.3591 - accuracy: 0.8732 - val_loss: 0.4403 - val_accuracy: 0.8510\n",
      "Epoch 6/75\n",
      "1289/1289 [==============================] - 7s 5ms/step - loss: 0.3463 - accuracy: 0.8794 - val_loss: 0.4336 - val_accuracy: 0.8528\n",
      "Epoch 7/75\n",
      "1289/1289 [==============================] - 7s 5ms/step - loss: 0.3343 - accuracy: 0.8835 - val_loss: 0.4373 - val_accuracy: 0.8556\n",
      "Epoch 8/75\n",
      "1289/1289 [==============================] - 7s 5ms/step - loss: 0.3236 - accuracy: 0.8864 - val_loss: 0.4606 - val_accuracy: 0.8398\n",
      "Epoch 9/75\n",
      "1289/1289 [==============================] - 7s 5ms/step - loss: 0.3137 - accuracy: 0.8902 - val_loss: 0.4067 - val_accuracy: 0.8628\n",
      "Epoch 10/75\n",
      "1289/1289 [==============================] - 7s 5ms/step - loss: 0.3066 - accuracy: 0.8923 - val_loss: 0.4180 - val_accuracy: 0.8518\n",
      "Epoch 11/75\n",
      "1289/1289 [==============================] - 7s 5ms/step - loss: 0.2987 - accuracy: 0.8941 - val_loss: 0.3943 - val_accuracy: 0.8644\n",
      "Epoch 12/75\n",
      "1289/1289 [==============================] - 7s 5ms/step - loss: 0.2934 - accuracy: 0.8965 - val_loss: 0.3936 - val_accuracy: 0.8632\n",
      "Epoch 13/75\n",
      "1289/1289 [==============================] - 7s 5ms/step - loss: 0.2864 - accuracy: 0.8980 - val_loss: 0.4002 - val_accuracy: 0.8598\n",
      "Epoch 14/75\n",
      "1289/1289 [==============================] - 7s 5ms/step - loss: 0.2811 - accuracy: 0.9007 - val_loss: 0.3908 - val_accuracy: 0.8660\n",
      "Epoch 15/75\n",
      "1289/1289 [==============================] - 7s 5ms/step - loss: 0.2761 - accuracy: 0.9018 - val_loss: 0.3790 - val_accuracy: 0.8700\n",
      "Epoch 16/75\n",
      "1289/1289 [==============================] - 7s 5ms/step - loss: 0.2706 - accuracy: 0.9043 - val_loss: 0.3821 - val_accuracy: 0.8672\n",
      "Epoch 17/75\n",
      "1289/1289 [==============================] - 7s 5ms/step - loss: 0.2669 - accuracy: 0.9049 - val_loss: 0.3929 - val_accuracy: 0.8608\n",
      "Epoch 18/75\n",
      "1289/1289 [==============================] - 7s 5ms/step - loss: 0.2622 - accuracy: 0.9065 - val_loss: 0.3770 - val_accuracy: 0.8676\n",
      "Epoch 19/75\n",
      "1289/1289 [==============================] - 7s 5ms/step - loss: 0.2578 - accuracy: 0.9078 - val_loss: 0.3757 - val_accuracy: 0.8674\n",
      "Epoch 20/75\n",
      "1289/1289 [==============================] - 7s 5ms/step - loss: 0.2532 - accuracy: 0.9098 - val_loss: 0.3747 - val_accuracy: 0.8664\n",
      "Epoch 21/75\n",
      "1289/1289 [==============================] - 7s 5ms/step - loss: 0.2505 - accuracy: 0.9105 - val_loss: 0.3668 - val_accuracy: 0.8742\n",
      "Epoch 22/75\n",
      "1289/1289 [==============================] - 7s 5ms/step - loss: 0.2453 - accuracy: 0.9126 - val_loss: 0.3824 - val_accuracy: 0.8686\n",
      "Epoch 23/75\n",
      "1289/1289 [==============================] - 7s 5ms/step - loss: 0.2437 - accuracy: 0.9123 - val_loss: 0.3857 - val_accuracy: 0.8668\n",
      "Epoch 24/75\n",
      "1289/1289 [==============================] - 7s 5ms/step - loss: 0.2393 - accuracy: 0.9143 - val_loss: 0.3631 - val_accuracy: 0.8766\n",
      "Epoch 25/75\n",
      "1289/1289 [==============================] - 7s 5ms/step - loss: 0.2357 - accuracy: 0.9157 - val_loss: 0.3972 - val_accuracy: 0.8648\n",
      "Epoch 26/75\n",
      "1289/1289 [==============================] - 7s 5ms/step - loss: 0.2322 - accuracy: 0.9160 - val_loss: 0.3799 - val_accuracy: 0.8712\n",
      "Epoch 27/75\n",
      "1289/1289 [==============================] - 7s 5ms/step - loss: 0.2293 - accuracy: 0.9174 - val_loss: 0.3557 - val_accuracy: 0.8822\n",
      "Epoch 28/75\n",
      "1289/1289 [==============================] - 7s 5ms/step - loss: 0.2263 - accuracy: 0.9185 - val_loss: 0.3638 - val_accuracy: 0.8746\n",
      "Epoch 29/75\n",
      "1289/1289 [==============================] - 7s 5ms/step - loss: 0.2236 - accuracy: 0.9189 - val_loss: 0.3529 - val_accuracy: 0.8796\n",
      "Epoch 30/75\n",
      "1289/1289 [==============================] - 7s 5ms/step - loss: 0.2212 - accuracy: 0.9203 - val_loss: 0.3629 - val_accuracy: 0.8786\n",
      "Epoch 31/75\n",
      "1289/1289 [==============================] - 7s 5ms/step - loss: 0.2181 - accuracy: 0.9218 - val_loss: 0.3668 - val_accuracy: 0.8756\n",
      "Epoch 32/75\n",
      "1289/1289 [==============================] - 7s 5ms/step - loss: 0.2159 - accuracy: 0.9213 - val_loss: 0.3735 - val_accuracy: 0.8712\n",
      "Epoch 33/75\n",
      "1289/1289 [==============================] - 7s 5ms/step - loss: 0.2125 - accuracy: 0.9229 - val_loss: 0.3795 - val_accuracy: 0.8704\n",
      "Epoch 34/75\n",
      "1289/1289 [==============================] - 7s 5ms/step - loss: 0.2097 - accuracy: 0.9241 - val_loss: 0.3551 - val_accuracy: 0.8784\n",
      "Epoch 35/75\n",
      "1289/1289 [==============================] - 7s 5ms/step - loss: 0.2083 - accuracy: 0.9235 - val_loss: 0.3753 - val_accuracy: 0.8728\n",
      "Epoch 36/75\n",
      "1289/1289 [==============================] - 7s 5ms/step - loss: 0.2045 - accuracy: 0.9252 - val_loss: 0.3515 - val_accuracy: 0.8832\n",
      "Epoch 37/75\n",
      "1289/1289 [==============================] - 7s 5ms/step - loss: 0.2012 - accuracy: 0.9268 - val_loss: 0.3478 - val_accuracy: 0.8814\n",
      "Epoch 38/75\n",
      "1289/1289 [==============================] - 7s 6ms/step - loss: 0.1985 - accuracy: 0.9288 - val_loss: 0.3631 - val_accuracy: 0.8760\n",
      "Epoch 39/75\n",
      "1289/1289 [==============================] - 7s 5ms/step - loss: 0.1967 - accuracy: 0.9288 - val_loss: 0.3555 - val_accuracy: 0.8782\n",
      "Epoch 40/75\n",
      "1289/1289 [==============================] - 7s 5ms/step - loss: 0.1939 - accuracy: 0.9294 - val_loss: 0.3636 - val_accuracy: 0.8748\n",
      "Epoch 41/75\n",
      "1289/1289 [==============================] - 7s 5ms/step - loss: 0.1925 - accuracy: 0.9304 - val_loss: 0.3517 - val_accuracy: 0.8804\n",
      "Epoch 42/75\n",
      "1289/1289 [==============================] - 7s 5ms/step - loss: 0.1897 - accuracy: 0.9304 - val_loss: 0.3630 - val_accuracy: 0.8812\n",
      "Epoch 43/75\n",
      "1289/1289 [==============================] - 7s 5ms/step - loss: 0.1863 - accuracy: 0.9318 - val_loss: 0.3723 - val_accuracy: 0.8752\n",
      "Epoch 44/75\n",
      "1289/1289 [==============================] - 7s 5ms/step - loss: 0.1845 - accuracy: 0.9329 - val_loss: 0.3584 - val_accuracy: 0.8796\n",
      "Epoch 45/75\n",
      "1289/1289 [==============================] - 7s 5ms/step - loss: 0.1822 - accuracy: 0.9353 - val_loss: 0.3735 - val_accuracy: 0.8794\n",
      "Epoch 46/75\n",
      "1289/1289 [==============================] - 7s 5ms/step - loss: 0.1812 - accuracy: 0.9345 - val_loss: 0.3728 - val_accuracy: 0.8770\n",
      "Epoch 47/75\n",
      "1289/1289 [==============================] - 7s 5ms/step - loss: 0.1772 - accuracy: 0.9363 - val_loss: 0.3470 - val_accuracy: 0.8838\n",
      "Epoch 48/75\n",
      "1289/1289 [==============================] - 7s 5ms/step - loss: 0.1751 - accuracy: 0.9368 - val_loss: 0.3623 - val_accuracy: 0.8798\n",
      "Epoch 49/75\n",
      "1289/1289 [==============================] - 7s 5ms/step - loss: 0.1739 - accuracy: 0.9371 - val_loss: 0.3685 - val_accuracy: 0.8792\n",
      "Epoch 50/75\n",
      "1289/1289 [==============================] - 7s 5ms/step - loss: 0.1700 - accuracy: 0.9391 - val_loss: 0.3650 - val_accuracy: 0.8828\n",
      "Epoch 51/75\n",
      "1289/1289 [==============================] - 7s 5ms/step - loss: 0.1697 - accuracy: 0.9373 - val_loss: 0.3633 - val_accuracy: 0.8794\n",
      "Epoch 52/75\n",
      "1289/1289 [==============================] - 7s 5ms/step - loss: 0.1664 - accuracy: 0.9414 - val_loss: 0.3535 - val_accuracy: 0.8848\n",
      "Epoch 53/75\n",
      "1289/1289 [==============================] - 7s 5ms/step - loss: 0.1650 - accuracy: 0.9402 - val_loss: 0.3612 - val_accuracy: 0.8838\n",
      "Epoch 54/75\n",
      "1289/1289 [==============================] - 7s 5ms/step - loss: 0.1620 - accuracy: 0.9424 - val_loss: 0.3530 - val_accuracy: 0.8842\n",
      "Epoch 55/75\n",
      "1289/1289 [==============================] - 7s 5ms/step - loss: 0.1613 - accuracy: 0.9415 - val_loss: 0.3621 - val_accuracy: 0.8836\n",
      "Epoch 56/75\n",
      "1289/1289 [==============================] - 7s 5ms/step - loss: 0.1582 - accuracy: 0.9435 - val_loss: 0.3771 - val_accuracy: 0.8796\n",
      "Epoch 57/75\n",
      "1289/1289 [==============================] - 7s 5ms/step - loss: 0.1569 - accuracy: 0.9433 - val_loss: 0.3682 - val_accuracy: 0.8798\n",
      "Epoch 58/75\n",
      "1289/1289 [==============================] - 7s 5ms/step - loss: 0.1554 - accuracy: 0.9440 - val_loss: 0.3811 - val_accuracy: 0.8764\n",
      "Epoch 59/75\n",
      "1289/1289 [==============================] - 7s 5ms/step - loss: 0.1535 - accuracy: 0.9443 - val_loss: 0.3670 - val_accuracy: 0.8816\n",
      "Epoch 60/75\n",
      "1289/1289 [==============================] - 7s 5ms/step - loss: 0.1508 - accuracy: 0.9455 - val_loss: 0.3869 - val_accuracy: 0.8714\n",
      "Epoch 61/75\n",
      "1289/1289 [==============================] - 7s 5ms/step - loss: 0.1493 - accuracy: 0.9458 - val_loss: 0.3611 - val_accuracy: 0.8832\n",
      "Epoch 62/75\n",
      "1289/1289 [==============================] - 7s 5ms/step - loss: 0.1469 - accuracy: 0.9472 - val_loss: 0.3714 - val_accuracy: 0.8806\n",
      "Epoch 63/75\n",
      "1289/1289 [==============================] - 7s 5ms/step - loss: 0.1445 - accuracy: 0.9484 - val_loss: 0.3743 - val_accuracy: 0.8800\n",
      "Epoch 64/75\n",
      "1289/1289 [==============================] - 7s 5ms/step - loss: 0.1444 - accuracy: 0.9479 - val_loss: 0.3753 - val_accuracy: 0.8824\n",
      "Epoch 65/75\n",
      "1289/1289 [==============================] - 7s 5ms/step - loss: 0.1420 - accuracy: 0.9489 - val_loss: 0.3715 - val_accuracy: 0.8794\n",
      "Epoch 66/75\n",
      "1289/1289 [==============================] - 7s 5ms/step - loss: 0.1385 - accuracy: 0.9496 - val_loss: 0.3996 - val_accuracy: 0.8760\n",
      "Epoch 67/75\n",
      "1289/1289 [==============================] - 7s 5ms/step - loss: 0.1379 - accuracy: 0.9510 - val_loss: 0.3899 - val_accuracy: 0.8822\n",
      "Epoch 68/75\n",
      "1289/1289 [==============================] - 7s 5ms/step - loss: 0.1368 - accuracy: 0.9515 - val_loss: 0.3899 - val_accuracy: 0.8804\n",
      "Epoch 69/75\n",
      "1289/1289 [==============================] - 7s 5ms/step - loss: 0.1343 - accuracy: 0.9522 - val_loss: 0.3899 - val_accuracy: 0.8796\n",
      "Epoch 70/75\n",
      "1289/1289 [==============================] - 7s 5ms/step - loss: 0.1318 - accuracy: 0.9520 - val_loss: 0.3930 - val_accuracy: 0.8804\n",
      "Epoch 71/75\n",
      "1289/1289 [==============================] - 7s 5ms/step - loss: 0.1321 - accuracy: 0.9533 - val_loss: 0.3812 - val_accuracy: 0.8804\n",
      "Epoch 72/75\n",
      "1289/1289 [==============================] - 7s 5ms/step - loss: 0.1285 - accuracy: 0.9545 - val_loss: 0.3778 - val_accuracy: 0.8794\n",
      "Epoch 73/75\n",
      "1289/1289 [==============================] - 7s 5ms/step - loss: 0.1272 - accuracy: 0.9542 - val_loss: 0.3791 - val_accuracy: 0.8836\n",
      "Epoch 74/75\n",
      "1289/1289 [==============================] - 7s 5ms/step - loss: 0.1259 - accuracy: 0.9546 - val_loss: 0.3822 - val_accuracy: 0.8826\n",
      "Epoch 75/75\n",
      "1289/1289 [==============================] - 7s 5ms/step - loss: 0.1229 - accuracy: 0.9572 - val_loss: 0.3802 - val_accuracy: 0.8832\n"
     ]
    }
   ],
   "source": [
    "keras.backend.clear_session()\n",
    "\n",
    "model = keras.models.Sequential([\n",
    "    keras.layers.Flatten(input_shape=[28, 28]),\n",
    "    keras.layers.Dense(300, activation=\"relu\"),\n",
    "    keras.layers.Dense(100, activation=\"relu\"),\n",
    "    keras.layers.Dense(10, activation=\"softmax\")\n",
    "])\n",
    "\n",
    "model.compile(loss=\"sparse_categorical_crossentropy\",\n",
    "              optimizer=\"sgd\",\n",
    "              metrics=[\"accuracy\"])\n",
    "\n",
    "\n",
    "history = model.fit(X_train_part_prop, y_train_part_prop, epochs=75, validation_data=(X_valid, y_valid))"
   ]
  },
  {
   "cell_type": "markdown",
   "metadata": {},
   "source": [
    "Let's look at the learning curves."
   ]
  },
  {
   "cell_type": "code",
   "execution_count": 47,
   "metadata": {},
   "outputs": [
    {
     "data": {
      "image/png": "[encoded data removed]",
      "text/plain": [
       "<Figure size 576x432 with 1 Axes>"
      ]
     },
     "metadata": {
      "needs_background": "light"
     },
     "output_type": "display_data"
    }
   ],
   "source": [
    "pd.DataFrame(history.history).plot(figsize=(8,6))\n",
    "plt.grid(True)\n",
    "plt.ylim(0,1)\n",
    "plt.show()"
   ]
  },
  {
   "cell_type": "markdown",
   "metadata": {},
   "source": [
    "This seems good enough.\n",
    "\n",
    "Let's evaluate this on the test set."
   ]
  },
  {
   "cell_type": "code",
   "execution_count": 48,
   "metadata": {},
   "outputs": [
    {
     "name": "stderr",
     "output_type": "stream",
     "text": [
      "2022-05-20 19:54:05.451200: I tensorflow/core/grappler/optimizers/custom_graph_optimizer_registry.cc:112] Plugin optimizer for device_type GPU is enabled.\n"
     ]
    }
   ],
   "source": [
    "y_test_prob = model.predict(X_test)"
   ]
  },
  {
   "cell_type": "code",
   "execution_count": 49,
   "metadata": {},
   "outputs": [
    {
     "data": {
      "text/plain": [
       "array([9, 2, 1, ..., 8, 1, 5])"
      ]
     },
     "execution_count": 49,
     "metadata": {},
     "output_type": "execute_result"
    }
   ],
   "source": [
    "y_test_hat = np.argmax(y_test_prob, axis=1)\n",
    "y_test_hat"
   ]
  },
  {
   "cell_type": "code",
   "execution_count": 50,
   "metadata": {},
   "outputs": [
    {
     "name": "stdout",
     "output_type": "stream",
     "text": [
      "              precision    recall  f1-score   support\n",
      "\n",
      "           0       0.78      0.86      0.82      1000\n",
      "           1       0.98      0.95      0.97      1000\n",
      "           2       0.79      0.81      0.80      1000\n",
      "           3       0.88      0.86      0.87      1000\n",
      "           4       0.81      0.81      0.81      1000\n",
      "           5       0.96      0.95      0.96      1000\n",
      "           6       0.75      0.66      0.70      1000\n",
      "           7       0.93      0.95      0.94      1000\n",
      "           8       0.94      0.96      0.95      1000\n",
      "           9       0.95      0.95      0.95      1000\n",
      "\n",
      "    accuracy                           0.88     10000\n",
      "   macro avg       0.88      0.88      0.88     10000\n",
      "weighted avg       0.88      0.88      0.88     10000\n",
      "\n"
     ]
    }
   ],
   "source": [
    "print(classification_report(y_test, y_test_hat))"
   ]
  },
  {
   "cell_type": "markdown",
   "metadata": {},
   "source": [
    "The accuracy jumps from `0.67` to `0.88`!"
   ]
  },
  {
   "cell_type": "markdown",
   "metadata": {},
   "source": [
    "Let's try comparing this to a model trained on the full training dataset and see how our stragies fared."
   ]
  },
  {
   "cell_type": "markdown",
   "metadata": {},
   "source": [
    "## Supervised Learning"
   ]
  },
  {
   "cell_type": "code",
   "execution_count": 52,
   "metadata": {},
   "outputs": [
    {
     "name": "stdout",
     "output_type": "stream",
     "text": [
      "Epoch 1/50\n",
      "  21/1719 [..............................] - ETA: 9s - loss: 2.2009 - accuracy: 0.2068"
     ]
    },
    {
     "name": "stderr",
     "output_type": "stream",
     "text": [
      "2022-05-20 19:57:44.616072: I tensorflow/core/grappler/optimizers/custom_graph_optimizer_registry.cc:112] Plugin optimizer for device_type GPU is enabled.\n"
     ]
    },
    {
     "name": "stdout",
     "output_type": "stream",
     "text": [
      "1714/1719 [============================>.] - ETA: 0s - loss: 0.7362 - accuracy: 0.7568"
     ]
    },
    {
     "name": "stderr",
     "output_type": "stream",
     "text": [
      "2022-05-20 19:57:53.145273: I tensorflow/core/grappler/optimizers/custom_graph_optimizer_registry.cc:112] Plugin optimizer for device_type GPU is enabled.\n"
     ]
    },
    {
     "name": "stdout",
     "output_type": "stream",
     "text": [
      "1719/1719 [==============================] - 9s 5ms/step - loss: 0.7356 - accuracy: 0.7571 - val_loss: 0.5244 - val_accuracy: 0.8270\n",
      "Epoch 2/50\n",
      "1719/1719 [==============================] - 9s 5ms/step - loss: 0.4915 - accuracy: 0.8286 - val_loss: 0.4367 - val_accuracy: 0.8524\n",
      "Epoch 3/50\n",
      "1719/1719 [==============================] - 9s 5ms/step - loss: 0.4453 - accuracy: 0.8438 - val_loss: 0.5309 - val_accuracy: 0.8004\n",
      "Epoch 4/50\n",
      "1719/1719 [==============================] - 9s 5ms/step - loss: 0.4189 - accuracy: 0.8539 - val_loss: 0.3968 - val_accuracy: 0.8664\n",
      "Epoch 5/50\n",
      "1719/1719 [==============================] - 9s 5ms/step - loss: 0.4006 - accuracy: 0.8612 - val_loss: 0.3823 - val_accuracy: 0.8678\n",
      "Epoch 6/50\n",
      "1719/1719 [==============================] - 9s 5ms/step - loss: 0.3823 - accuracy: 0.8657 - val_loss: 0.3741 - val_accuracy: 0.8746\n",
      "Epoch 7/50\n",
      "1719/1719 [==============================] - 9s 5ms/step - loss: 0.3699 - accuracy: 0.8693 - val_loss: 0.3693 - val_accuracy: 0.8754\n",
      "Epoch 8/50\n",
      "1719/1719 [==============================] - 9s 5ms/step - loss: 0.3588 - accuracy: 0.8730 - val_loss: 0.3903 - val_accuracy: 0.8638\n",
      "Epoch 9/50\n",
      "1719/1719 [==============================] - 9s 5ms/step - loss: 0.3484 - accuracy: 0.8781 - val_loss: 0.3592 - val_accuracy: 0.8730\n",
      "Epoch 10/50\n",
      "1719/1719 [==============================] - 9s 5ms/step - loss: 0.3387 - accuracy: 0.8794 - val_loss: 0.3548 - val_accuracy: 0.8778\n",
      "Epoch 11/50\n",
      "1719/1719 [==============================] - 9s 5ms/step - loss: 0.3304 - accuracy: 0.8825 - val_loss: 0.3501 - val_accuracy: 0.8790\n",
      "Epoch 12/50\n",
      "1719/1719 [==============================] - 9s 5ms/step - loss: 0.3212 - accuracy: 0.8848 - val_loss: 0.3356 - val_accuracy: 0.8816\n",
      "Epoch 13/50\n",
      "1719/1719 [==============================] - 9s 5ms/step - loss: 0.3142 - accuracy: 0.8883 - val_loss: 0.3360 - val_accuracy: 0.8840\n",
      "Epoch 14/50\n",
      "1719/1719 [==============================] - 9s 5ms/step - loss: 0.3081 - accuracy: 0.8893 - val_loss: 0.3550 - val_accuracy: 0.8690\n",
      "Epoch 15/50\n",
      "1719/1719 [==============================] - 9s 5ms/step - loss: 0.3004 - accuracy: 0.8928 - val_loss: 0.3327 - val_accuracy: 0.8834\n",
      "Epoch 16/50\n",
      "1719/1719 [==============================] - 9s 5ms/step - loss: 0.2954 - accuracy: 0.8949 - val_loss: 0.3179 - val_accuracy: 0.8838\n",
      "Epoch 17/50\n",
      "1719/1719 [==============================] - 9s 5ms/step - loss: 0.2896 - accuracy: 0.8967 - val_loss: 0.3679 - val_accuracy: 0.8728\n",
      "Epoch 18/50\n",
      "1719/1719 [==============================] - 9s 5ms/step - loss: 0.2838 - accuracy: 0.8980 - val_loss: 0.3179 - val_accuracy: 0.8872\n",
      "Epoch 19/50\n",
      "1719/1719 [==============================] - 9s 5ms/step - loss: 0.2786 - accuracy: 0.9003 - val_loss: 0.3112 - val_accuracy: 0.8870\n",
      "Epoch 20/50\n",
      "1719/1719 [==============================] - 9s 5ms/step - loss: 0.2727 - accuracy: 0.9023 - val_loss: 0.3348 - val_accuracy: 0.8786\n",
      "Epoch 21/50\n",
      "1719/1719 [==============================] - 9s 5ms/step - loss: 0.2680 - accuracy: 0.9038 - val_loss: 0.3095 - val_accuracy: 0.8892\n",
      "Epoch 22/50\n",
      "1719/1719 [==============================] - 9s 5ms/step - loss: 0.2627 - accuracy: 0.9053 - val_loss: 0.3001 - val_accuracy: 0.8936\n",
      "Epoch 23/50\n",
      "1719/1719 [==============================] - 9s 5ms/step - loss: 0.2587 - accuracy: 0.9065 - val_loss: 0.3121 - val_accuracy: 0.8892\n",
      "Epoch 24/50\n",
      "1719/1719 [==============================] - 9s 5ms/step - loss: 0.2539 - accuracy: 0.9086 - val_loss: 0.3089 - val_accuracy: 0.8876\n",
      "Epoch 25/50\n",
      "1719/1719 [==============================] - 9s 5ms/step - loss: 0.2496 - accuracy: 0.9106 - val_loss: 0.3017 - val_accuracy: 0.8952\n",
      "Epoch 26/50\n",
      "1719/1719 [==============================] - 9s 5ms/step - loss: 0.2451 - accuracy: 0.9129 - val_loss: 0.3123 - val_accuracy: 0.8884\n",
      "Epoch 27/50\n",
      "1719/1719 [==============================] - 9s 5ms/step - loss: 0.2416 - accuracy: 0.9138 - val_loss: 0.3086 - val_accuracy: 0.8904\n",
      "Epoch 28/50\n",
      "1719/1719 [==============================] - 9s 5ms/step - loss: 0.2381 - accuracy: 0.9143 - val_loss: 0.3070 - val_accuracy: 0.8886\n",
      "Epoch 29/50\n",
      "1719/1719 [==============================] - 9s 5ms/step - loss: 0.2334 - accuracy: 0.9170 - val_loss: 0.3134 - val_accuracy: 0.8888\n",
      "Epoch 30/50\n",
      "1719/1719 [==============================] - 9s 5ms/step - loss: 0.2299 - accuracy: 0.9184 - val_loss: 0.3117 - val_accuracy: 0.8904\n",
      "Epoch 31/50\n",
      "1719/1719 [==============================] - 9s 5ms/step - loss: 0.2262 - accuracy: 0.9181 - val_loss: 0.3016 - val_accuracy: 0.8936\n",
      "Epoch 32/50\n",
      "1719/1719 [==============================] - 9s 5ms/step - loss: 0.2230 - accuracy: 0.9193 - val_loss: 0.3111 - val_accuracy: 0.8906\n",
      "Epoch 33/50\n",
      "1719/1719 [==============================] - 9s 5ms/step - loss: 0.2187 - accuracy: 0.9215 - val_loss: 0.2995 - val_accuracy: 0.8962\n",
      "Epoch 34/50\n",
      "1719/1719 [==============================] - 9s 5ms/step - loss: 0.2150 - accuracy: 0.9230 - val_loss: 0.3078 - val_accuracy: 0.8908\n",
      "Epoch 35/50\n",
      "1719/1719 [==============================] - 9s 5ms/step - loss: 0.2117 - accuracy: 0.9247 - val_loss: 0.2925 - val_accuracy: 0.8956\n",
      "Epoch 36/50\n",
      "1719/1719 [==============================] - 9s 5ms/step - loss: 0.2092 - accuracy: 0.9247 - val_loss: 0.2987 - val_accuracy: 0.8950\n",
      "Epoch 37/50\n",
      "1719/1719 [==============================] - 9s 5ms/step - loss: 0.2056 - accuracy: 0.9264 - val_loss: 0.2984 - val_accuracy: 0.8944\n",
      "Epoch 38/50\n",
      "1719/1719 [==============================] - 9s 5ms/step - loss: 0.2007 - accuracy: 0.9293 - val_loss: 0.2968 - val_accuracy: 0.8950\n",
      "Epoch 39/50\n",
      "1719/1719 [==============================] - 9s 5ms/step - loss: 0.2002 - accuracy: 0.9283 - val_loss: 0.2963 - val_accuracy: 0.8970\n",
      "Epoch 40/50\n",
      "1719/1719 [==============================] - 9s 5ms/step - loss: 0.1960 - accuracy: 0.9301 - val_loss: 0.2955 - val_accuracy: 0.8958\n",
      "Epoch 41/50\n",
      "1719/1719 [==============================] - 9s 5ms/step - loss: 0.1932 - accuracy: 0.9310 - val_loss: 0.2899 - val_accuracy: 0.8988\n",
      "Epoch 42/50\n",
      "1719/1719 [==============================] - 9s 5ms/step - loss: 0.1904 - accuracy: 0.9327 - val_loss: 0.2955 - val_accuracy: 0.8998\n",
      "Epoch 43/50\n",
      "1719/1719 [==============================] - 9s 5ms/step - loss: 0.1862 - accuracy: 0.9336 - val_loss: 0.3355 - val_accuracy: 0.8812\n",
      "Epoch 44/50\n",
      "1719/1719 [==============================] - 9s 5ms/step - loss: 0.1838 - accuracy: 0.9347 - val_loss: 0.3123 - val_accuracy: 0.8878\n",
      "Epoch 45/50\n",
      "1719/1719 [==============================] - 14s 8ms/step - loss: 0.1813 - accuracy: 0.9353 - val_loss: 0.3143 - val_accuracy: 0.8902\n",
      "Epoch 46/50\n",
      "1719/1719 [==============================] - 9s 5ms/step - loss: 0.1782 - accuracy: 0.9364 - val_loss: 0.3115 - val_accuracy: 0.8920\n",
      "Epoch 47/50\n",
      "1719/1719 [==============================] - 9s 5ms/step - loss: 0.1746 - accuracy: 0.9370 - val_loss: 0.3032 - val_accuracy: 0.8924\n",
      "Epoch 48/50\n",
      "1719/1719 [==============================] - 9s 5ms/step - loss: 0.1725 - accuracy: 0.9395 - val_loss: 0.3260 - val_accuracy: 0.8860\n",
      "Epoch 49/50\n",
      "1719/1719 [==============================] - 9s 5ms/step - loss: 0.1690 - accuracy: 0.9408 - val_loss: 0.2951 - val_accuracy: 0.8948\n",
      "Epoch 50/50\n",
      "1719/1719 [==============================] - 9s 5ms/step - loss: 0.1676 - accuracy: 0.9406 - val_loss: 0.3148 - val_accuracy: 0.8940\n"
     ]
    }
   ],
   "source": [
    "keras.backend.clear_session()\n",
    "\n",
    "model = keras.models.Sequential([\n",
    "    keras.layers.Flatten(input_shape=[28, 28]),\n",
    "    keras.layers.Dense(300, activation=\"relu\"),\n",
    "    keras.layers.Dense(100, activation=\"relu\"),\n",
    "    keras.layers.Dense(10, activation=\"softmax\")\n",
    "])\n",
    "\n",
    "model.compile(loss=\"sparse_categorical_crossentropy\",\n",
    "              optimizer=\"sgd\",\n",
    "              metrics=[\"accuracy\"])\n",
    "\n",
    "\n",
    "history = model.fit(X_train, y_train, epochs=50, validation_data=(X_valid, y_valid))"
   ]
  },
  {
   "cell_type": "markdown",
   "metadata": {},
   "source": [
    "Let's plot the learning curves."
   ]
  },
  {
   "cell_type": "code",
   "execution_count": 53,
   "metadata": {},
   "outputs": [
    {
     "data": {
      "image/png": "[encoded data removed]",
      "text/plain": [
       "<Figure size 576x432 with 1 Axes>"
      ]
     },
     "metadata": {
      "needs_background": "light"
     },
     "output_type": "display_data"
    }
   ],
   "source": [
    "pd.DataFrame(history.history).plot(figsize=(8,6))\n",
    "plt.grid(True)\n",
    "plt.ylim(0,1)\n",
    "plt.show()"
   ]
  },
  {
   "cell_type": "markdown",
   "metadata": {},
   "source": [
    "Around $35$ epochs seem good enough.\n",
    "\n",
    "Let's evaluate this on the test set."
   ]
  },
  {
   "cell_type": "code",
   "execution_count": 58,
   "metadata": {},
   "outputs": [
    {
     "name": "stdout",
     "output_type": "stream",
     "text": [
      "Epoch 1/35\n",
      "  20/1719 [..............................] - ETA: 9s - loss: 2.1103 - accuracy: 0.2328 "
     ]
    },
    {
     "name": "stderr",
     "output_type": "stream",
     "text": [
      "2022-05-20 20:12:17.941282: I tensorflow/core/grappler/optimizers/custom_graph_optimizer_registry.cc:112] Plugin optimizer for device_type GPU is enabled.\n"
     ]
    },
    {
     "name": "stdout",
     "output_type": "stream",
     "text": [
      "1719/1719 [==============================] - ETA: 0s - loss: 0.7093 - accuracy: 0.7601"
     ]
    },
    {
     "name": "stderr",
     "output_type": "stream",
     "text": [
      "2022-05-20 20:12:26.409541: I tensorflow/core/grappler/optimizers/custom_graph_optimizer_registry.cc:112] Plugin optimizer for device_type GPU is enabled.\n"
     ]
    },
    {
     "name": "stdout",
     "output_type": "stream",
     "text": [
      "1719/1719 [==============================] - 9s 5ms/step - loss: 0.7093 - accuracy: 0.7601 - val_loss: 0.5255 - val_accuracy: 0.8170\n",
      "Epoch 2/35\n",
      "1719/1719 [==============================] - 9s 5ms/step - loss: 0.4848 - accuracy: 0.8295 - val_loss: 0.4374 - val_accuracy: 0.8520\n",
      "Epoch 3/35\n",
      "1719/1719 [==============================] - 9s 5ms/step - loss: 0.4397 - accuracy: 0.8443 - val_loss: 0.5209 - val_accuracy: 0.8050\n",
      "Epoch 4/35\n",
      "1719/1719 [==============================] - 9s 5ms/step - loss: 0.4131 - accuracy: 0.8553 - val_loss: 0.3939 - val_accuracy: 0.8668\n",
      "Epoch 5/35\n",
      "1719/1719 [==============================] - 9s 5ms/step - loss: 0.3944 - accuracy: 0.8626 - val_loss: 0.3759 - val_accuracy: 0.8730\n",
      "Epoch 6/35\n",
      "1719/1719 [==============================] - 9s 5ms/step - loss: 0.3759 - accuracy: 0.8664 - val_loss: 0.3744 - val_accuracy: 0.8690\n",
      "Epoch 7/35\n",
      "1719/1719 [==============================] - 9s 5ms/step - loss: 0.3644 - accuracy: 0.8711 - val_loss: 0.3639 - val_accuracy: 0.8716\n",
      "Epoch 8/35\n",
      "1719/1719 [==============================] - 9s 5ms/step - loss: 0.3530 - accuracy: 0.8746 - val_loss: 0.3846 - val_accuracy: 0.8606\n",
      "Epoch 9/35\n",
      "1719/1719 [==============================] - 9s 5ms/step - loss: 0.3425 - accuracy: 0.8789 - val_loss: 0.3497 - val_accuracy: 0.8748\n",
      "Epoch 10/35\n",
      "1719/1719 [==============================] - 9s 5ms/step - loss: 0.3335 - accuracy: 0.8799 - val_loss: 0.3532 - val_accuracy: 0.8708\n",
      "Epoch 11/35\n",
      "1719/1719 [==============================] - 9s 5ms/step - loss: 0.3255 - accuracy: 0.8831 - val_loss: 0.3447 - val_accuracy: 0.8762\n",
      "Epoch 12/35\n",
      "1719/1719 [==============================] - 9s 5ms/step - loss: 0.3166 - accuracy: 0.8866 - val_loss: 0.3342 - val_accuracy: 0.8816\n",
      "Epoch 13/35\n",
      "1719/1719 [==============================] - 9s 5ms/step - loss: 0.3097 - accuracy: 0.8886 - val_loss: 0.3326 - val_accuracy: 0.8822\n",
      "Epoch 14/35\n",
      "1719/1719 [==============================] - 9s 5ms/step - loss: 0.3038 - accuracy: 0.8904 - val_loss: 0.3577 - val_accuracy: 0.8688\n",
      "Epoch 15/35\n",
      "1719/1719 [==============================] - 9s 5ms/step - loss: 0.2964 - accuracy: 0.8936 - val_loss: 0.3284 - val_accuracy: 0.8816\n",
      "Epoch 16/35\n",
      "1719/1719 [==============================] - 9s 5ms/step - loss: 0.2911 - accuracy: 0.8959 - val_loss: 0.3142 - val_accuracy: 0.8864\n",
      "Epoch 17/35\n",
      "1719/1719 [==============================] - 9s 5ms/step - loss: 0.2854 - accuracy: 0.8967 - val_loss: 0.3514 - val_accuracy: 0.8722\n",
      "Epoch 18/35\n",
      "1719/1719 [==============================] - 9s 5ms/step - loss: 0.2795 - accuracy: 0.8994 - val_loss: 0.3147 - val_accuracy: 0.8858\n",
      "Epoch 19/35\n",
      "1719/1719 [==============================] - 9s 5ms/step - loss: 0.2748 - accuracy: 0.9009 - val_loss: 0.3189 - val_accuracy: 0.8876\n",
      "Epoch 20/35\n",
      "1719/1719 [==============================] - 9s 5ms/step - loss: 0.2690 - accuracy: 0.9041 - val_loss: 0.3326 - val_accuracy: 0.8818\n",
      "Epoch 21/35\n",
      "1719/1719 [==============================] - 9s 5ms/step - loss: 0.2640 - accuracy: 0.9055 - val_loss: 0.3069 - val_accuracy: 0.8928\n",
      "Epoch 22/35\n",
      "1719/1719 [==============================] - 9s 5ms/step - loss: 0.2593 - accuracy: 0.9062 - val_loss: 0.3037 - val_accuracy: 0.8892\n",
      "Epoch 23/35\n",
      "1719/1719 [==============================] - 9s 5ms/step - loss: 0.2550 - accuracy: 0.9082 - val_loss: 0.3061 - val_accuracy: 0.8892\n",
      "Epoch 24/35\n",
      "1719/1719 [==============================] - 9s 5ms/step - loss: 0.2508 - accuracy: 0.9088 - val_loss: 0.3122 - val_accuracy: 0.8834\n",
      "Epoch 25/35\n",
      "1719/1719 [==============================] - 9s 5ms/step - loss: 0.2463 - accuracy: 0.9110 - val_loss: 0.3072 - val_accuracy: 0.8912\n",
      "Epoch 26/35\n",
      "1719/1719 [==============================] - 9s 5ms/step - loss: 0.2418 - accuracy: 0.9137 - val_loss: 0.3075 - val_accuracy: 0.8900\n",
      "Epoch 27/35\n",
      "1719/1719 [==============================] - 9s 5ms/step - loss: 0.2383 - accuracy: 0.9141 - val_loss: 0.2973 - val_accuracy: 0.8936\n",
      "Epoch 28/35\n",
      "1719/1719 [==============================] - 9s 5ms/step - loss: 0.2346 - accuracy: 0.9159 - val_loss: 0.3041 - val_accuracy: 0.8900\n",
      "Epoch 29/35\n",
      "1719/1719 [==============================] - 9s 5ms/step - loss: 0.2299 - accuracy: 0.9175 - val_loss: 0.3131 - val_accuracy: 0.8854\n",
      "Epoch 30/35\n",
      "1719/1719 [==============================] - 9s 5ms/step - loss: 0.2266 - accuracy: 0.9185 - val_loss: 0.3137 - val_accuracy: 0.8860\n",
      "Epoch 31/35\n",
      "1719/1719 [==============================] - 9s 5ms/step - loss: 0.2226 - accuracy: 0.9188 - val_loss: 0.2971 - val_accuracy: 0.8950\n",
      "Epoch 32/35\n",
      "1719/1719 [==============================] - 9s 5ms/step - loss: 0.2195 - accuracy: 0.9209 - val_loss: 0.2932 - val_accuracy: 0.8948\n",
      "Epoch 33/35\n",
      "1719/1719 [==============================] - 9s 5ms/step - loss: 0.2152 - accuracy: 0.9230 - val_loss: 0.3098 - val_accuracy: 0.8892\n",
      "Epoch 34/35\n",
      "1719/1719 [==============================] - 9s 5ms/step - loss: 0.2120 - accuracy: 0.9236 - val_loss: 0.3021 - val_accuracy: 0.8922\n",
      "Epoch 35/35\n",
      "1719/1719 [==============================] - 9s 5ms/step - loss: 0.2077 - accuracy: 0.9246 - val_loss: 0.2883 - val_accuracy: 0.8924\n"
     ]
    }
   ],
   "source": [
    "keras.backend.clear_session()\n",
    "\n",
    "model = keras.models.Sequential([\n",
    "    keras.layers.Flatten(input_shape=[28, 28]),\n",
    "    keras.layers.Dense(300, activation=\"relu\"),\n",
    "    keras.layers.Dense(100, activation=\"relu\"),\n",
    "    keras.layers.Dense(10, activation=\"softmax\")\n",
    "])\n",
    "\n",
    "model.compile(loss=\"sparse_categorical_crossentropy\",\n",
    "              optimizer=\"sgd\",\n",
    "              metrics=[\"accuracy\"])\n",
    "\n",
    "\n",
    "history = model.fit(X_train, y_train, epochs=35, validation_data=(X_valid, y_valid))"
   ]
  },
  {
   "cell_type": "code",
   "execution_count": 59,
   "metadata": {},
   "outputs": [
    {
     "name": "stderr",
     "output_type": "stream",
     "text": [
      "2022-05-20 20:17:28.468449: I tensorflow/core/grappler/optimizers/custom_graph_optimizer_registry.cc:112] Plugin optimizer for device_type GPU is enabled.\n"
     ]
    }
   ],
   "source": [
    "y_test_prob = model.predict(X_test)"
   ]
  },
  {
   "cell_type": "code",
   "execution_count": 60,
   "metadata": {},
   "outputs": [
    {
     "data": {
      "text/plain": [
       "array([9, 2, 1, ..., 8, 1, 5])"
      ]
     },
     "execution_count": 60,
     "metadata": {},
     "output_type": "execute_result"
    }
   ],
   "source": [
    "y_test_hat = np.argmax(y_test_prob, axis=1)\n",
    "y_test_hat"
   ]
  },
  {
   "cell_type": "code",
   "execution_count": 61,
   "metadata": {},
   "outputs": [
    {
     "name": "stdout",
     "output_type": "stream",
     "text": [
      "              precision    recall  f1-score   support\n",
      "\n",
      "           0       0.85      0.83      0.84      1000\n",
      "           1       0.98      0.98      0.98      1000\n",
      "           2       0.81      0.81      0.81      1000\n",
      "           3       0.94      0.85      0.89      1000\n",
      "           4       0.81      0.82      0.82      1000\n",
      "           5       0.96      0.97      0.97      1000\n",
      "           6       0.67      0.75      0.71      1000\n",
      "           7       0.96      0.93      0.94      1000\n",
      "           8       0.98      0.96      0.97      1000\n",
      "           9       0.95      0.97      0.96      1000\n",
      "\n",
      "    accuracy                           0.89     10000\n",
      "   macro avg       0.89      0.89      0.89     10000\n",
      "weighted avg       0.89      0.89      0.89     10000\n",
      "\n"
     ]
    }
   ],
   "source": [
    "print(classification_report(y_test, y_test_hat))"
   ]
  },
  {
   "cell_type": "markdown",
   "metadata": {},
   "source": [
    "The fully labelled training set scores `0.89`, which is merely `0.01` better than our semi-supervised model via **Strategy 2.3**!"
   ]
  },
  {
   "cell_type": "markdown",
   "metadata": {},
   "source": [
    "# Summary\n",
    "\n",
    "- We use semi-supervised learning to learn a fairly accurate neural network based on the fashion MNIST dataset.\n",
    "- We employed the following strategies of semi-supervised learning:\n",
    "    - **Strategy 1:** We train our model on just $50$ randomly labelled instances. We obtain an accuracy of $52\\%$.\n",
    "    - **Strategy 2:** We use clustering strategy to create newer labels for learning. This enables us to label the majority of unlabelled data with just a few labels. We did that in the following ways:\n",
    "        - **Strategy 2.1:** We first cluster the training set into $50$ clusters and for each cluster we select the image closest to the centroid point and choose it as the representative image of the cluster. Then we collect these $50$ images and manually label them and train the model on these. This gives us an accuracy of $65\\%$.\n",
    "        - **Strategy 2.2:** We go one step further from **Strategy 2.1** and propagate the labels of the representative example to all the points in its cluster and then use the whole labelled set as the training data. This gives an accuracy of $67\\%$.\n",
    "        - **Strategy 2.3:** Instead of propagating the label of representative to all of the points in the cluster as in **Strategy 2.2**, we instead propagate the labels to the `75`th percentile closest to the centroid. This gives us a huge improvement and takes the accuracy to $88\\%$.\n",
    "- We also employ supervised learning and use the original training set to train the model. We achieve a meagre improvement of $1\\%$ over **Strategy 2.3**. This demonstrates the advantage and powers of semi-supervised learning in the machine learning paradigm."
   ]
  }
 ],
 "metadata": {
  "interpreter": {
   "hash": "3d35c4af646a1c162ceb1f0379f2d94135e1bc6e12b57c32983ecb05606330ae"
  },
  "kernelspec": {
   "display_name": "Python 3.9.10 ('skk-tensorflow-env')",
   "language": "python",
   "name": "python3"
  },
  "language_info": {
   "codemirror_mode": {
    "name": "ipython",
    "version": 3
   },
   "file_extension": ".py",
   "mimetype": "text/x-python",
   "name": "python",
   "nbconvert_exporter": "python",
   "pygments_lexer": "ipython3",
   "version": "3.9.10"
  },
  "orig_nbformat": 4
 },
 "nbformat": 4,
 "nbformat_minor": 2
}
