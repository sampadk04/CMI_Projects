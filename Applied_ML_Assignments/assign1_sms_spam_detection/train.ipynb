{
 "cells": [
  {
   "cell_type": "markdown",
   "metadata": {},
   "source": [
    "# 0. Imports"
   ]
  },
  {
   "cell_type": "code",
   "execution_count": 1,
   "metadata": {},
   "outputs": [],
   "source": [
    "import os\n",
    "\n",
    "# for data handling\n",
    "import pandas as pd\n",
    "import numpy as np\n",
    "\n",
    "# for plotting\n",
    "import matplotlib.pyplot as plt\n",
    "\n",
    "# for classifiers\n",
    "from sklearn.linear_model import LogisticRegression\n",
    "from sklearn.ensemble import RandomForestClassifier, GradientBoostingClassifier, AdaBoostClassifier\n",
    "from sklearn.tree import DecisionTreeClassifier\n",
    "\n",
    "# for evaluation purposes\n",
    "from sklearn.metrics import confusion_matrix, precision_recall_curve, precision_score, recall_score, classification_report, ConfusionMatrixDisplay, make_scorer\n",
    "\n",
    "# for custom gridsearch\n",
    "from itertools import product\n",
    "\n",
    "# for handling loops\n",
    "from tqdm import tqdm\n",
    "\n",
    "# for oversampling\n",
    "from imblearn.over_sampling import SMOTE, RandomOverSampler\n",
    "\n",
    "# for saving the models\n",
    "import joblib"
   ]
  },
  {
   "cell_type": "markdown",
   "metadata": {},
   "source": [
    "# 1. Load Train, Val, Test Data"
   ]
  },
  {
   "cell_type": "code",
   "execution_count": 2,
   "metadata": {},
   "outputs": [
    {
     "data": {
      "text/plain": [
       "['data/train.csv', 'data/val.csv', 'data/test.csv']"
      ]
     },
     "execution_count": 2,
     "metadata": {},
     "output_type": "execute_result"
    }
   ],
   "source": [
    "# train, val, test save_paths\n",
    "\n",
    "data_train_save_path = os.path.join('data','train.csv')\n",
    "data_val_save_path = os.path.join('data','val.csv')\n",
    "data_test_save_path = os.path.join('data','test.csv')\n",
    "\n",
    "train_val_test_save_paths = [data_train_save_path, data_val_save_path, data_test_save_path]\n",
    "\n",
    "train_val_test_save_paths"
   ]
  },
  {
   "cell_type": "code",
   "execution_count": 3,
   "metadata": {},
   "outputs": [],
   "source": [
    "def load_train_val_test(train_val_test_save_paths, oversampler=None):\n",
    "    # extract the dataframes\n",
    "    train_data = pd.read_csv(train_val_test_save_paths[0])\n",
    "    val_data = pd.read_csv(train_val_test_save_paths[1])\n",
    "    test_data = pd.read_csv(train_val_test_save_paths[2])\n",
    "    \n",
    "    # split the data into features, labels\n",
    "    y_train = train_data['label']\n",
    "    X_train = train_data.drop('label', axis=1)\n",
    "\n",
    "    # oversample the training data\n",
    "    if oversampler:\n",
    "        X_train, y_train = oversampler.fit_resample(X_train, y_train)\n",
    "\n",
    "\n",
    "    y_val = val_data['label']\n",
    "    X_val = val_data.drop('label', axis=1)\n",
    "\n",
    "    y_test = test_data['label']\n",
    "    X_test = test_data.drop('label', axis=1)\n",
    "\n",
    "    return X_train, X_val, X_test, y_train, y_val ,y_test"
   ]
  },
  {
   "cell_type": "code",
   "execution_count": 4,
   "metadata": {},
   "outputs": [
    {
     "name": "stdout",
     "output_type": "stream",
     "text": [
      "Training Data Shape: (6530, 8444)\n",
      "Validation Data Shape: (948, 8444)\n",
      "Test Data Shape: (836, 8444)\n"
     ]
    }
   ],
   "source": [
    "# define an oversampler\n",
    "smote = SMOTE(random_state=42)\n",
    "\n",
    "X_train, X_val, X_test, y_train, y_val ,y_test = load_train_val_test(train_val_test_save_paths, oversampler=smote)\n",
    "\n",
    "print(\"Training Data Shape:\", X_train.shape)\n",
    "print(\"Validation Data Shape:\", X_val.shape)\n",
    "print(\"Test Data Shape:\", X_test.shape)"
   ]
  },
  {
   "cell_type": "markdown",
   "metadata": {},
   "source": [
    "# 2. Model Fit and Validation\n",
    "\n",
    "While fitting the model to the training data, we go over various hyper-parameters and select the model which has the best `precision_score` amongst all the models.\n",
    "\n",
    "We choose to give importance to `precision_score` because reducing **False Positives** should be our first priority, as we wouldn't want important (or any) `non-spam` text to be flagged as `spam`."
   ]
  },
  {
   "cell_type": "code",
   "execution_count": 31,
   "metadata": {},
   "outputs": [],
   "source": [
    "def train_model(X_train, X_val, y_train, y_val, classifier, param_grid):\n",
    "    \n",
    "    # init best model\n",
    "    best_model = classifier\n",
    "    \n",
    "    # best precision\n",
    "    best_precision = 0.0\n",
    "\n",
    "    # make param_list by considering set products of params\n",
    "    param_list = list(product(*param_grid.values()))\n",
    "\n",
    "    for param in param_list:\n",
    "        param_dict = dict(zip(param_grid.keys(), param))\n",
    "        \n",
    "        # init model with these params\n",
    "        model = classifier.set_params(**param_dict)\n",
    "        # fit the model on train data\n",
    "        model.fit(X_train, y_train)\n",
    "\n",
    "        # evaluate the model on val data\n",
    "        y_val_hat = model.predict(X_val)\n",
    "        # calculate precision\n",
    "        current_precision = precision_score(y_val, y_val_hat, average='micro')\n",
    "\n",
    "        # update model, score based on val precision\n",
    "        if current_precision > best_precision:\n",
    "            best_precision = current_precision\n",
    "            best_model = model\n",
    "            \n",
    "            print(\"Current Best Precision on Val: %.3f\" % best_precision)\n",
    "    \n",
    "    # print the best classifier\n",
    "    print(\"Overall Best Model:\", best_model)\n",
    "    print(\"Overall Best Precision on Val: %.3f\" % best_precision)\n",
    "\n",
    "    return best_model"
   ]
  },
  {
   "cell_type": "markdown",
   "metadata": {},
   "source": [
    "## 2.1 `LogisticRegression`"
   ]
  },
  {
   "cell_type": "code",
   "execution_count": 32,
   "metadata": {},
   "outputs": [
    {
     "name": "stdout",
     "output_type": "stream",
     "text": [
      "Current Best Precision on Val: 0.877\n",
      "Current Best Precision on Val: 0.935\n",
      "Current Best Precision on Val: 0.978\n",
      "Current Best Precision on Val: 0.983\n",
      "Current Best Precision on Val: 0.984\n",
      "Overall Best Model: LogisticRegression(C=10, max_iter=500, solver='liblinear')\n",
      "Overall Best Precision on Val: 0.984\n"
     ]
    }
   ],
   "source": [
    "classifier = LogisticRegression()\n",
    "\n",
    "# define the parameter search space for gridsearch\n",
    "\n",
    "param_grid = {'penalty': ['l1', 'l2'],\n",
    "              'C': [0.001, 0.01, 0.1, 1, 10],\n",
    "              'solver': ['liblinear'],\n",
    "              'max_iter': [100, 200, 500]}\n",
    "\n",
    "best_logit = train_model(\n",
    "                            X_train=X_train,\n",
    "                            X_val=X_val,\n",
    "                            y_train=y_train,\n",
    "                            y_val=y_val,\n",
    "                            classifier=classifier,\n",
    "                            param_grid=param_grid\n",
    "                            )"
   ]
  },
  {
   "cell_type": "markdown",
   "metadata": {},
   "source": [
    "Best model: `LogisticRegression(C=10, max_iter=500, solver='liblinear')`"
   ]
  },
  {
   "cell_type": "markdown",
   "metadata": {},
   "source": [
    "## 2.2 `RandomForestClassifier`"
   ]
  },
  {
   "cell_type": "code",
   "execution_count": 35,
   "metadata": {},
   "outputs": [
    {
     "name": "stdout",
     "output_type": "stream",
     "text": [
      "Current Best Precision on Val: 0.955\n",
      "Current Best Precision on Val: 0.961\n",
      "Current Best Precision on Val: 0.967\n",
      "Current Best Precision on Val: 0.970\n",
      "Current Best Precision on Val: 0.972\n",
      "Current Best Precision on Val: 0.974\n",
      "Overall Best Model: RandomForestClassifier(max_depth=15, max_features='log2', min_samples_leaf=4,\n",
      "                       min_samples_split=10, n_estimators=200)\n",
      "Overall Best Precision on Val: 0.974\n"
     ]
    }
   ],
   "source": [
    "classifier = RandomForestClassifier()\n",
    "\n",
    "# define the parameter search space for gridsearch\n",
    "\n",
    "param_grid = {\n",
    "    'n_estimators': [50, 100, 200],\n",
    "    'max_depth': [5, 10, 15],\n",
    "    'min_samples_split': [2, 5, 10],\n",
    "    'min_samples_leaf': [1, 2, 4],\n",
    "    'max_features': ['sqrt', 'log2']\n",
    "}\n",
    "\n",
    "best_rfc = train_model(\n",
    "                            X_train=X_train,\n",
    "                            X_val=X_val,\n",
    "                            y_train=y_train,\n",
    "                            y_val=y_val,\n",
    "                            classifier=classifier,\n",
    "                            param_grid=param_grid\n",
    "                            )"
   ]
  },
  {
   "cell_type": "markdown",
   "metadata": {},
   "source": [
    "Best model: `RandomForestClassifier(max_depth=15, max_features='log2', min_samples_leaf=4, min_samples_split=10, n_estimators=200)`"
   ]
  },
  {
   "cell_type": "markdown",
   "metadata": {},
   "source": [
    "## 2.3 `GradientBoostingClassifier`"
   ]
  },
  {
   "cell_type": "code",
   "execution_count": 36,
   "metadata": {},
   "outputs": [
    {
     "name": "stdout",
     "output_type": "stream",
     "text": [
      "Current Best Precision on Val: 0.965\n",
      "Current Best Precision on Val: 0.968\n",
      "Current Best Precision on Val: 0.970\n",
      "Current Best Precision on Val: 0.976\n",
      "Current Best Precision on Val: 0.978\n",
      "Current Best Precision on Val: 0.979\n",
      "Current Best Precision on Val: 0.980\n",
      "Current Best Precision on Val: 0.981\n",
      "Current Best Precision on Val: 0.982\n",
      "Overall Best Model: GradientBoostingClassifier(learning_rate=0.01, loss='exponential', max_depth=5,\n",
      "                           max_features='log2', min_samples_leaf=4,\n",
      "                           min_samples_split=6, n_estimators=500)\n",
      "Overall Best Precision on Val: 0.982\n"
     ]
    }
   ],
   "source": [
    "classifier = GradientBoostingClassifier()\n",
    "\n",
    "# define the parameter search space for gridsearch\n",
    "\n",
    "param_grid = {\n",
    "    'loss': ['log_loss', 'exponential'],\n",
    "    'learning_rate': [0.01, 0.05, 0.1],\n",
    "    'n_estimators': [100, 200, 500],\n",
    "    'max_depth': [3, 4, 5],\n",
    "    'min_samples_split': [2, 4, 6],\n",
    "    'min_samples_leaf': [1, 2, 4],\n",
    "    'max_features': ['sqrt', 'log2']\n",
    "}\n",
    "\n",
    "best_gbc = train_model(\n",
    "                            X_train=X_train,\n",
    "                            X_val=X_val,\n",
    "                            y_train=y_train,\n",
    "                            y_val=y_val,\n",
    "                            classifier=classifier,\n",
    "                            param_grid=param_grid\n",
    "                            )"
   ]
  },
  {
   "cell_type": "markdown",
   "metadata": {},
   "source": [
    "Best model: `GradientBoostingClassifier(learning_rate=0.01, loss='exponential', max_depth=5, max_features='log2', min_samples_leaf=4, min_samples_split=6, n_estimators=500)`"
   ]
  },
  {
   "cell_type": "markdown",
   "metadata": {},
   "source": [
    "## 2.4 `AdaBoostClassifier()`"
   ]
  },
  {
   "cell_type": "code",
   "execution_count": 41,
   "metadata": {},
   "outputs": [
    {
     "name": "stdout",
     "output_type": "stream",
     "text": [
      "Current Best Precision on Val: 0.900\n",
      "Current Best Precision on Val: 0.949\n",
      "Current Best Precision on Val: 0.975\n",
      "Current Best Precision on Val: 0.978\n",
      "Current Best Precision on Val: 0.981\n",
      "Current Best Precision on Val: 0.983\n",
      "Overall Best Model: AdaBoostClassifier(base_estimator=DecisionTreeClassifier(max_depth=3),\n",
      "                   n_estimators=200)\n",
      "Overall Best Precision on Val: 0.983\n"
     ]
    }
   ],
   "source": [
    "# to suppress warnings\n",
    "import warnings\n",
    "warnings.filterwarnings(\"ignore\")\n",
    "\n",
    "classifier = AdaBoostClassifier()\n",
    "\n",
    "# define the parameter search space for gridsearch\n",
    "\n",
    "param_grid = {'base_estimator': [DecisionTreeClassifier(max_depth=1), DecisionTreeClassifier(max_depth=2), DecisionTreeClassifier(max_depth=3)],\n",
    "              'n_estimators': [50, 100, 200],\n",
    "              'learning_rate': [0.1, 0.5, 1.0],\n",
    "              'algorithm': ['SAMME', 'SAMME.R']\n",
    "             }\n",
    "\n",
    "best_abc = train_model(\n",
    "                            X_train=X_train,\n",
    "                            X_val=X_val,\n",
    "                            y_train=y_train,\n",
    "                            y_val=y_val,\n",
    "                            classifier=classifier,\n",
    "                            param_grid=param_grid\n",
    "                            )"
   ]
  },
  {
   "cell_type": "markdown",
   "metadata": {},
   "source": [
    "Best model: `AdaBoostClassifier(base_estimator=DecisionTreeClassifier(max_depth=3), n_estimators=200)`"
   ]
  },
  {
   "cell_type": "markdown",
   "metadata": {},
   "source": [
    "# 3. Model Evaluation\n",
    "\n",
    "We check the performance of our models on Test Data."
   ]
  },
  {
   "cell_type": "markdown",
   "metadata": {},
   "source": [
    "## 3.1 `LogisticRegression`"
   ]
  },
  {
   "cell_type": "code",
   "execution_count": 51,
   "metadata": {},
   "outputs": [
    {
     "data": {
      "image/png": "[encoded data removed]",
      "text/plain": [
       "<Figure size 640x480 with 2 Axes>"
      ]
     },
     "metadata": {},
     "output_type": "display_data"
    },
    {
     "name": "stdout",
     "output_type": "stream",
     "text": [
      "              precision    recall  f1-score   support\n",
      "\n",
      "           0       0.98      1.00      0.99       729\n",
      "           1       0.97      0.89      0.93       107\n",
      "\n",
      "    accuracy                           0.98       836\n",
      "   macro avg       0.98      0.94      0.96       836\n",
      "weighted avg       0.98      0.98      0.98       836\n",
      "\n"
     ]
    }
   ],
   "source": [
    "y_test_hat = best_logit.predict(X_test)\n",
    "\n",
    "# show confusion matrix\n",
    "cm_display = ConfusionMatrixDisplay.from_predictions(y_test, y_test_hat, values_format='.5g')\n",
    "plt.title(\"Logistic Regression\")\n",
    "plt.show()\n",
    "\n",
    "# print the classification report\n",
    "print(classification_report(y_test, y_test_hat))"
   ]
  },
  {
   "cell_type": "markdown",
   "metadata": {},
   "source": [
    "## 2.2 `RandomForestClassifier`"
   ]
  },
  {
   "cell_type": "code",
   "execution_count": 53,
   "metadata": {},
   "outputs": [
    {
     "data": {
      "image/png": "[encoded data removed]",
      "text/plain": [
       "<Figure size 640x480 with 2 Axes>"
      ]
     },
     "metadata": {},
     "output_type": "display_data"
    },
    {
     "name": "stdout",
     "output_type": "stream",
     "text": [
      "              precision    recall  f1-score   support\n",
      "\n",
      "           0       0.94      1.00      0.97       729\n",
      "           1       1.00      0.57      0.73       107\n",
      "\n",
      "    accuracy                           0.94       836\n",
      "   macro avg       0.97      0.79      0.85       836\n",
      "weighted avg       0.95      0.94      0.94       836\n",
      "\n"
     ]
    }
   ],
   "source": [
    "y_test_hat = best_rfc.predict(X_test)\n",
    "\n",
    "# show confusion matrix\n",
    "cm_display = ConfusionMatrixDisplay.from_predictions(y_test, y_test_hat, values_format='.5g')\n",
    "plt.title(\"Random Forest Classifier\")\n",
    "plt.show()\n",
    "\n",
    "# print the classification report\n",
    "print(classification_report(y_test, y_test_hat))"
   ]
  },
  {
   "cell_type": "markdown",
   "metadata": {},
   "source": [
    "## 3.3 `GradientBoostingClassifier`"
   ]
  },
  {
   "cell_type": "code",
   "execution_count": 56,
   "metadata": {},
   "outputs": [
    {
     "data": {
      "image/png": "[encoded data removed]",
      "text/plain": [
       "<Figure size 640x480 with 2 Axes>"
      ]
     },
     "metadata": {},
     "output_type": "display_data"
    },
    {
     "name": "stdout",
     "output_type": "stream",
     "text": [
      "              precision    recall  f1-score   support\n",
      "\n",
      "           0       0.95      1.00      0.98       729\n",
      "           1       1.00      0.66      0.80       107\n",
      "\n",
      "    accuracy                           0.96       836\n",
      "   macro avg       0.98      0.83      0.89       836\n",
      "weighted avg       0.96      0.96      0.95       836\n",
      "\n"
     ]
    }
   ],
   "source": [
    "y_test_hat = best_gbc.predict(X_test)\n",
    "\n",
    "# show confusion matrix\n",
    "cm_display = ConfusionMatrixDisplay.from_predictions(y_test, y_test_hat, values_format='.5g')\n",
    "plt.title(\"Gradient Boosting Classifier\")\n",
    "plt.show()\n",
    "\n",
    "# print the classification report\n",
    "print(classification_report(y_test, y_test_hat))"
   ]
  },
  {
   "cell_type": "markdown",
   "metadata": {},
   "source": [
    "## 3.4 `AdaBoostClassifier()`"
   ]
  },
  {
   "cell_type": "code",
   "execution_count": 57,
   "metadata": {},
   "outputs": [
    {
     "data": {
      "image/png": "[encoded data removed]",
      "text/plain": [
       "<Figure size 640x480 with 2 Axes>"
      ]
     },
     "metadata": {},
     "output_type": "display_data"
    },
    {
     "name": "stdout",
     "output_type": "stream",
     "text": [
      "              precision    recall  f1-score   support\n",
      "\n",
      "           0       0.99      0.99      0.99       729\n",
      "           1       0.93      0.93      0.93       107\n",
      "\n",
      "    accuracy                           0.98       836\n",
      "   macro avg       0.96      0.96      0.96       836\n",
      "weighted avg       0.98      0.98      0.98       836\n",
      "\n"
     ]
    }
   ],
   "source": [
    "y_test_hat = best_abc.predict(X_test)\n",
    "\n",
    "# show confusion matrix\n",
    "cm_display = ConfusionMatrixDisplay.from_predictions(y_test, y_test_hat, values_format='.5g')\n",
    "plt.title(\"Adaptive Boosting Classifier\")\n",
    "plt.show()\n",
    "\n",
    "# print the classification report\n",
    "print(classification_report(y_test, y_test_hat))"
   ]
  },
  {
   "cell_type": "markdown",
   "metadata": {},
   "source": [
    "# 4. Conclusion\n",
    "\n",
    "Amongst all the classifier, `LogisticRegression` model seems to perform the best, with the second best `precision` score (pretty close to the best precision, with less trade-offs) and offers the highest accuracy. \n",
    "\n",
    "The next best classifier seems to be `GradientBoostingClassifier` for its high `precision` score, although `AdaBoostClassfier` has way better accuracy, although slightly lesser `precision` score.\n",
    "\n",
    "\n",
    "Best Overall Model:\n",
    "```Python\n",
    "LogisticRegression(\n",
    "                   C=10,\n",
    "                   max_iter=500,\n",
    "                   solver='liblinear'\n",
    "                  )\n",
    "```"
   ]
  },
  {
   "cell_type": "code",
   "execution_count": 7,
   "metadata": {},
   "outputs": [
    {
     "data": {
      "text/html": [
       "<style>#sk-container-id-2 {color: black;background-color: white;}#sk-container-id-2 pre{padding: 0;}#sk-container-id-2 div.sk-toggleable {background-color: white;}#sk-container-id-2 label.sk-toggleable__label {cursor: pointer;display: block;width: 100%;margin-bottom: 0;padding: 0.3em;box-sizing: border-box;text-align: center;}#sk-container-id-2 label.sk-toggleable__label-arrow:before {content: \"▸\";float: left;margin-right: 0.25em;color: #696969;}#sk-container-id-2 label.sk-toggleable__label-arrow:hover:before {color: black;}#sk-container-id-2 div.sk-estimator:hover label.sk-toggleable__label-arrow:before {color: black;}#sk-container-id-2 div.sk-toggleable__content {max-height: 0;max-width: 0;overflow: hidden;text-align: left;background-color: #f0f8ff;}#sk-container-id-2 div.sk-toggleable__content pre {margin: 0.2em;color: black;border-radius: 0.25em;background-color: #f0f8ff;}#sk-container-id-2 input.sk-toggleable__control:checked~div.sk-toggleable__content {max-height: 200px;max-width: 100%;overflow: auto;}#sk-container-id-2 input.sk-toggleable__control:checked~label.sk-toggleable__label-arrow:before {content: \"▾\";}#sk-container-id-2 div.sk-estimator input.sk-toggleable__control:checked~label.sk-toggleable__label {background-color: #d4ebff;}#sk-container-id-2 div.sk-label input.sk-toggleable__control:checked~label.sk-toggleable__label {background-color: #d4ebff;}#sk-container-id-2 input.sk-hidden--visually {border: 0;clip: rect(1px 1px 1px 1px);clip: rect(1px, 1px, 1px, 1px);height: 1px;margin: -1px;overflow: hidden;padding: 0;position: absolute;width: 1px;}#sk-container-id-2 div.sk-estimator {font-family: monospace;background-color: #f0f8ff;border: 1px dotted black;border-radius: 0.25em;box-sizing: border-box;margin-bottom: 0.5em;}#sk-container-id-2 div.sk-estimator:hover {background-color: #d4ebff;}#sk-container-id-2 div.sk-parallel-item::after {content: \"\";width: 100%;border-bottom: 1px solid gray;flex-grow: 1;}#sk-container-id-2 div.sk-label:hover label.sk-toggleable__label {background-color: #d4ebff;}#sk-container-id-2 div.sk-serial::before {content: \"\";position: absolute;border-left: 1px solid gray;box-sizing: border-box;top: 0;bottom: 0;left: 50%;z-index: 0;}#sk-container-id-2 div.sk-serial {display: flex;flex-direction: column;align-items: center;background-color: white;padding-right: 0.2em;padding-left: 0.2em;position: relative;}#sk-container-id-2 div.sk-item {position: relative;z-index: 1;}#sk-container-id-2 div.sk-parallel {display: flex;align-items: stretch;justify-content: center;background-color: white;position: relative;}#sk-container-id-2 div.sk-item::before, #sk-container-id-2 div.sk-parallel-item::before {content: \"\";position: absolute;border-left: 1px solid gray;box-sizing: border-box;top: 0;bottom: 0;left: 50%;z-index: -1;}#sk-container-id-2 div.sk-parallel-item {display: flex;flex-direction: column;z-index: 1;position: relative;background-color: white;}#sk-container-id-2 div.sk-parallel-item:first-child::after {align-self: flex-end;width: 50%;}#sk-container-id-2 div.sk-parallel-item:last-child::after {align-self: flex-start;width: 50%;}#sk-container-id-2 div.sk-parallel-item:only-child::after {width: 0;}#sk-container-id-2 div.sk-dashed-wrapped {border: 1px dashed gray;margin: 0 0.4em 0.5em 0.4em;box-sizing: border-box;padding-bottom: 0.4em;background-color: white;}#sk-container-id-2 div.sk-label label {font-family: monospace;font-weight: bold;display: inline-block;line-height: 1.2em;}#sk-container-id-2 div.sk-label-container {text-align: center;}#sk-container-id-2 div.sk-container {/* jupyter's `normalize.less` sets `[hidden] { display: none; }` but bootstrap.min.css set `[hidden] { display: none !important; }` so we also need the `!important` here to be able to override the default hidden behavior on the sphinx rendered scikit-learn.org. See: https://github.com/scikit-learn/scikit-learn/issues/21755 */display: inline-block !important;position: relative;}#sk-container-id-2 div.sk-text-repr-fallback {display: none;}</style><div id=\"sk-container-id-2\" class=\"sk-top-container\"><div class=\"sk-text-repr-fallback\"><pre>LogisticRegression(C=10, max_iter=500, solver=&#x27;liblinear&#x27;)</pre><b>In a Jupyter environment, please rerun this cell to show the HTML representation or trust the notebook. <br />On GitHub, the HTML representation is unable to render, please try loading this page with nbviewer.org.</b></div><div class=\"sk-container\" hidden><div class=\"sk-item\"><div class=\"sk-estimator sk-toggleable\"><input class=\"sk-toggleable__control sk-hidden--visually\" id=\"sk-estimator-id-2\" type=\"checkbox\" checked><label for=\"sk-estimator-id-2\" class=\"sk-toggleable__label sk-toggleable__label-arrow\">LogisticRegression</label><div class=\"sk-toggleable__content\"><pre>LogisticRegression(C=10, max_iter=500, solver=&#x27;liblinear&#x27;)</pre></div></div></div></div></div>"
      ],
      "text/plain": [
       "LogisticRegression(C=10, max_iter=500, solver='liblinear')"
      ]
     },
     "execution_count": 7,
     "metadata": {},
     "output_type": "execute_result"
    }
   ],
   "source": [
    "# initialize the best classifier\n",
    "best_clf = LogisticRegression(\n",
    "    C=10,\n",
    "    max_iter=500,\n",
    "    solver='liblinear'\n",
    ")\n",
    "\n",
    "# fit the model\n",
    "best_clf.fit(X_train, y_train)\n"
   ]
  },
  {
   "cell_type": "code",
   "execution_count": 11,
   "metadata": {},
   "outputs": [
    {
     "data": {
      "text/plain": [
       "'models/best_clf.joblib'"
      ]
     },
     "execution_count": 11,
     "metadata": {},
     "output_type": "execute_result"
    }
   ],
   "source": [
    "best_clf_savepath = os.path.join('models', 'best_clf.joblib')\n",
    "best_clf_savepath"
   ]
  },
  {
   "cell_type": "code",
   "execution_count": 10,
   "metadata": {},
   "outputs": [
    {
     "data": {
      "text/plain": [
       "['models/best_clf.joblib']"
      ]
     },
     "execution_count": 10,
     "metadata": {},
     "output_type": "execute_result"
    }
   ],
   "source": [
    "# save the model to the path\n",
    "'''\n",
    "joblib.dump(best_clf, best_clf_savepath)\n",
    "'''"
   ]
  },
  {
   "cell_type": "code",
   "execution_count": 12,
   "metadata": {},
   "outputs": [],
   "source": [
    "# load the saved model\n",
    "best_clf = joblib.load(best_clf_savepath)"
   ]
  }
 ],
 "metadata": {
  "kernelspec": {
   "display_name": "Python 3.9.15 ('mlenv')",
   "language": "python",
   "name": "python3"
  },
  "language_info": {
   "codemirror_mode": {
    "name": "ipython",
    "version": 3
   },
   "file_extension": ".py",
   "mimetype": "text/x-python",
   "name": "python",
   "nbconvert_exporter": "python",
   "pygments_lexer": "ipython3",
   "version": "3.9.6"
  },
  "orig_nbformat": 4,
  "vscode": {
   "interpreter": {
    "hash": "40924fa2106280d40699e6c83945076296c5ea7479ac09c70297abf04386ebf0"
   }
  }
 },
 "nbformat": 4,
 "nbformat_minor": 2
}
